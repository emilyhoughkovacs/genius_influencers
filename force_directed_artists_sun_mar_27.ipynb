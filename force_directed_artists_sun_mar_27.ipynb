{
 "cells": [
  {
   "cell_type": "code",
   "execution_count": 116,
   "metadata": {
    "collapsed": true
   },
   "outputs": [],
   "source": [
    "from pymongo import MongoClient\n",
    "import pickle\n",
    "import pandas as pd\n",
    "import numpy as np\n",
    "import cnfg\n",
    "import requests\n",
    "import json\n",
    "from urlparse import urlparse"
   ]
  },
  {
   "cell_type": "code",
   "execution_count": 2,
   "metadata": {
    "collapsed": true
   },
   "outputs": [],
   "source": [
    "client = MongoClient()\n",
    "db = client.music\n",
    "s = db.songs\n",
    "# counter\n",
    "c = s.find()"
   ]
  },
  {
   "cell_type": "code",
   "execution_count": 111,
   "metadata": {
    "collapsed": true
   },
   "outputs": [],
   "source": [
    "config = cnfg.load(\".genius_config\")\n",
    "client_key = config[\"client_key\"]\n",
    "client_secret = config[\"client_secret\"]\n",
    "access_token = 'uK247ank6jF7DY_E7TEMIdbuhT2IBVsVeFXh6AluxswFUfrlFNfXNu2pUFPrGv2c'\n",
    "auth = 'Bearer '+access_token\n",
    "req_start = 'https://api.genius.com'"
   ]
  },
  {
   "cell_type": "code",
   "execution_count": 3,
   "metadata": {
    "collapsed": true
   },
   "outputs": [],
   "source": [
    "def pickleLoad(filename):\n",
    "    with open(filename, 'rb') as f:\n",
    "        data = pickle.load(f) \n",
    "    return data\n",
    "\n",
    "def pickleDump(data, filename):\n",
    "    with open(filename, 'wb') as f:\n",
    "        pickle.dump(data, f)"
   ]
  },
  {
   "cell_type": "code",
   "execution_count": 113,
   "metadata": {
    "collapsed": true
   },
   "outputs": [],
   "source": [
    "def api_call(validurl):\n",
    "    call = validurl\n",
    "    r = requests.get(call, headers={'Authorization':auth})\n",
    "    if r.status_code==200:\n",
    "        return json.loads(r.content)\n",
    "    else:\n",
    "        print r.content\n",
    "        return r.content"
   ]
  },
  {
   "cell_type": "markdown",
   "metadata": {},
   "source": [
    "### Get artist to influencer dataframe"
   ]
  },
  {
   "cell_type": "code",
   "execution_count": 6,
   "metadata": {
    "collapsed": false
   },
   "outputs": [],
   "source": [
    "df = pickleLoad('./matrices/artist_to_influencer_1305x421.pkl')"
   ]
  },
  {
   "cell_type": "code",
   "execution_count": 34,
   "metadata": {
    "collapsed": true
   },
   "outputs": [],
   "source": [
    "sorted_related = pd.DataFrame(columns=df.columns)\n",
    "sorted_neighbors = pd.DataFrame(columns=df.columns)"
   ]
  },
  {
   "cell_type": "code",
   "execution_count": 39,
   "metadata": {
    "collapsed": false
   },
   "outputs": [],
   "source": [
    "for artist in df:\n",
    "    related = df[artist].sort_values(ascending=False, inplace=False)\n",
    "    del related[artist]\n",
    "    related = pd.DataFrame(related).reset_index()\n",
    "    sorted_neighbors[artist] = related['index']\n",
    "    sorted_related[artist] = related[artist]"
   ]
  },
  {
   "cell_type": "code",
   "execution_count": 42,
   "metadata": {
    "collapsed": false
   },
   "outputs": [],
   "source": [
    "best_neighbors = sorted_related.ix[0].sort_values(ascending=False, inplace=False)"
   ]
  },
  {
   "cell_type": "code",
   "execution_count": 54,
   "metadata": {
    "collapsed": true
   },
   "outputs": [],
   "source": [
    "num_neighbors = []\n",
    "for a in sorted_related:\n",
    "    num_neighbors.append((a, len([x for x in sorted_related[a] if x!=0])))\n",
    "num_neighbors = sorted(num_neighbors, key=lambda x: -1*x[1])"
   ]
  },
  {
   "cell_type": "code",
   "execution_count": 71,
   "metadata": {
    "collapsed": false
   },
   "outputs": [],
   "source": [
    "nodes = [x[0] for x in num_neighbors[0:50]]\n",
    "neighbors = [sorted_neighbors[x][0] for x in nodes]\n",
    "total = list(set(nodes+neighbors))"
   ]
  },
  {
   "cell_type": "code",
   "execution_count": 77,
   "metadata": {
    "collapsed": false
   },
   "outputs": [
    {
     "data": {
      "text/plain": [
       "93"
      ]
     },
     "execution_count": 77,
     "metadata": {},
     "output_type": "execute_result"
    }
   ],
   "source": [
    "len(total)"
   ]
  },
  {
   "cell_type": "code",
   "execution_count": 100,
   "metadata": {
    "collapsed": true
   },
   "outputs": [],
   "source": [
    "drake = 130"
   ]
  },
  {
   "cell_type": "code",
   "execution_count": 108,
   "metadata": {
    "collapsed": false
   },
   "outputs": [],
   "source": [
    "names = {\"nodes\":[]}"
   ]
  },
  {
   "cell_type": "code",
   "execution_count": 153,
   "metadata": {
    "collapsed": true
   },
   "outputs": [],
   "source": [
    "def format_artists(nodes, namedict):\n",
    "    for artistid in nodes:\n",
    "        if s.find({'artist_id':artistid}, {'artist':1}).count() >= 1:\n",
    "            name = s.find({'artist_id':artistid}, {'artist':1}).next()\n",
    "            namedict['nodes'].append({'name':name['artist'].encode('ascii', 'ignore')})\n",
    "        else:\n",
    "            url = req_start+'/artists/'+str(artistid)\n",
    "            name = api_call(url)\n",
    "            namedict['nodes'].append({'name':name['response']['artist']['name'].encode('ascii', 'ignore')})"
   ]
  },
  {
   "cell_type": "code",
   "execution_count": 154,
   "metadata": {
    "collapsed": true
   },
   "outputs": [],
   "source": [
    "format_artists(total, names)"
   ]
  },
  {
   "cell_type": "code",
   "execution_count": 155,
   "metadata": {
    "collapsed": false,
    "scrolled": true
   },
   "outputs": [],
   "source": [
    "names"
   ]
  },
  {
   "cell_type": "code",
   "execution_count": 151,
   "metadata": {
    "collapsed": true
   },
   "outputs": [],
   "source": [
    "id_to_name = {}"
   ]
  },
  {
   "cell_type": "code",
   "execution_count": 157,
   "metadata": {
    "collapsed": false
   },
   "outputs": [],
   "source": [
    "for artistid in total:\n",
    "    if s.find({'artist_id':artistid}, {'artist':1}).count() >= 1:\n",
    "        name = s.find({'artist_id':artistid}, {'artist':1}).next()\n",
    "        name = name['artist'].encode('ascii', 'ignore')\n",
    "        id_to_name[artistid] = name\n",
    "    else:\n",
    "        url = req_start+'/artists/'+str(artistid)\n",
    "        r = api_call(url)\n",
    "        name = r['response']['artist']['name'].encode('ascii', 'ignore')\n",
    "        id_to_name[artistid] = name"
   ]
  },
  {
   "cell_type": "code",
   "execution_count": 160,
   "metadata": {
    "collapsed": false
   },
   "outputs": [],
   "source": [
    "info = names"
   ]
  },
  {
   "cell_type": "code",
   "execution_count": 171,
   "metadata": {
    "collapsed": true
   },
   "outputs": [],
   "source": [
    "links = []"
   ]
  },
  {
   "cell_type": "code",
   "execution_count": 179,
   "metadata": {
    "collapsed": false
   },
   "outputs": [],
   "source": [
    "indices = {}\n",
    "for i, x in enumerate(names['nodes']):\n",
    "    indicies[x['name']] = i"
   ]
  },
  {
   "cell_type": "code",
   "execution_count": 172,
   "metadata": {
    "collapsed": false
   },
   "outputs": [],
   "source": [
    "for i, x in enumerate(neighbors):\n",
    "    links.append({'source':indices[id_to_name[x]],'target':indices[id_to_name[nodes[i]]],'value':1})"
   ]
  },
  {
   "cell_type": "code",
   "execution_count": 174,
   "metadata": {
    "collapsed": true
   },
   "outputs": [],
   "source": [
    "info['links'] = links"
   ]
  },
  {
   "cell_type": "code",
   "execution_count": 191,
   "metadata": {
    "collapsed": false
   },
   "outputs": [
    {
     "data": {
      "text/plain": [
       "[{'source': 0, 'target': 18, 'value': 1},\n",
       " {'source': 1, 'target': 80, 'value': 1},\n",
       " {'source': 3, 'target': 21, 'value': 1},\n",
       " {'source': 5, 'target': 20, 'value': 1},\n",
       " {'source': 7, 'target': 2, 'value': 1},\n",
       " {'source': 8, 'target': 62, 'value': 1},\n",
       " {'source': 12, 'target': 26, 'value': 1},\n",
       " {'source': 16, 'target': 30, 'value': 1},\n",
       " {'source': 17, 'target': 15, 'value': 1},\n",
       " {'source': 24, 'target': 22, 'value': 1},\n",
       " {'source': 29, 'target': 10, 'value': 1},\n",
       " {'source': 33, 'target': 65, 'value': 1},\n",
       " {'source': 34, 'target': 23, 'value': 1},\n",
       " {'source': 34, 'target': 24, 'value': 1},\n",
       " {'source': 37, 'target': 9, 'value': 1},\n",
       " {'source': 39, 'target': 72, 'value': 1},\n",
       " {'source': 39, 'target': 77, 'value': 1},\n",
       " {'source': 41, 'target': 31, 'value': 1},\n",
       " {'source': 42, 'target': 11, 'value': 1},\n",
       " {'source': 44, 'target': 6, 'value': 1},\n",
       " {'source': 45, 'target': 84, 'value': 1},\n",
       " {'source': 46, 'target': 66, 'value': 1},\n",
       " {'source': 46, 'target': 79, 'value': 1},\n",
       " {'source': 47, 'target': 0, 'value': 1},\n",
       " {'source': 48, 'target': 36, 'value': 1},\n",
       " {'source': 49, 'target': 13, 'value': 1},\n",
       " {'source': 50, 'target': 53, 'value': 1},\n",
       " {'source': 52, 'target': 58, 'value': 1},\n",
       " {'source': 54, 'target': 4, 'value': 1},\n",
       " {'source': 55, 'target': 90, 'value': 1},\n",
       " {'source': 59, 'target': 27, 'value': 1},\n",
       " {'source': 60, 'target': 75, 'value': 1},\n",
       " {'source': 61, 'target': 39, 'value': 1},\n",
       " {'source': 63, 'target': 89, 'value': 1},\n",
       " {'source': 67, 'target': 14, 'value': 1},\n",
       " {'source': 68, 'target': 64, 'value': 1},\n",
       " {'source': 69, 'target': 35, 'value': 1},\n",
       " {'source': 70, 'target': 86, 'value': 1},\n",
       " {'source': 71, 'target': 25, 'value': 1},\n",
       " {'source': 74, 'target': 56, 'value': 1},\n",
       " {'source': 76, 'target': 57, 'value': 1},\n",
       " {'source': 78, 'target': 51, 'value': 1},\n",
       " {'source': 81, 'target': 43, 'value': 1},\n",
       " {'source': 82, 'target': 32, 'value': 1},\n",
       " {'source': 83, 'target': 40, 'value': 1},\n",
       " {'source': 85, 'target': 19, 'value': 1},\n",
       " {'source': 87, 'target': 34, 'value': 1},\n",
       " {'source': 88, 'target': 73, 'value': 1},\n",
       " {'source': 91, 'target': 28, 'value': 1},\n",
       " {'source': 92, 'target': 38, 'value': 1}]"
      ]
     },
     "execution_count": 191,
     "metadata": {},
     "output_type": "execute_result"
    }
   ],
   "source": [
    "sorted(links)"
   ]
  }
 ],
 "metadata": {
  "kernelspec": {
   "display_name": "Python 2",
   "language": "python",
   "name": "python2"
  },
  "language_info": {
   "codemirror_mode": {
    "name": "ipython",
    "version": 2
   },
   "file_extension": ".py",
   "mimetype": "text/x-python",
   "name": "python",
   "nbconvert_exporter": "python",
   "pygments_lexer": "ipython2",
   "version": "2.7.11"
  }
 },
 "nbformat": 4,
 "nbformat_minor": 0
}
