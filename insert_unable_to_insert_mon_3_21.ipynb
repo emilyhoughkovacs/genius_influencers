{
 "cells": [
  {
   "cell_type": "code",
   "execution_count": 1,
   "metadata": {
    "collapsed": true
   },
   "outputs": [],
   "source": [
    "import requests\n",
    "import cnfg\n",
    "import json\n",
    "import pickle\n",
    "import time\n",
    "from datetime import datetime\n",
    "from collections import defaultdict\n",
    "from urlparse import urlparse\n",
    "from pymongo import MongoClient"
   ]
  },
  {
   "cell_type": "code",
   "execution_count": 2,
   "metadata": {
    "collapsed": true
   },
   "outputs": [],
   "source": [
    "config = cnfg.load(\".genius_config\")\n",
    "client_key = config[\"client_key\"]\n",
    "client_secret = config[\"client_secret\"]\n",
    "access_token = 'uK247ank6jF7DY_E7TEMIdbuhT2IBVsVeFXh6AluxswFUfrlFNfXNu2pUFPrGv2c'\n",
    "auth = 'Bearer '+access_token\n",
    "req_start = 'https://api.genius.com'"
   ]
  },
  {
   "cell_type": "code",
   "execution_count": 11,
   "metadata": {
    "collapsed": true
   },
   "outputs": [],
   "source": [
    "client = MongoClient()\n",
    "db = client.music\n",
    "s = db.songs\n",
    "# counter\n",
    "c = s.find()"
   ]
  },
  {
   "cell_type": "code",
   "execution_count": 3,
   "metadata": {
    "collapsed": true
   },
   "outputs": [],
   "source": [
    "def pickleLoad(filename):\n",
    "    with open(filename, 'rb') as f:\n",
    "        data = pickle.load(f) \n",
    "    return data\n",
    "\n",
    "def pickleDump(data, filename):\n",
    "    with open(filename, 'wb') as f:\n",
    "        pickle.dump(data, f)"
   ]
  },
  {
   "cell_type": "code",
   "execution_count": 4,
   "metadata": {
    "collapsed": true
   },
   "outputs": [],
   "source": [
    "def api_call(validurl):\n",
    "    call = validurl\n",
    "    r = requests.get(call, headers={'Authorization':auth})\n",
    "    if r.status_code==200:\n",
    "        return json.loads(r.content)\n",
    "    else:\n",
    "        print r.content\n",
    "        return r.content"
   ]
  },
  {
   "cell_type": "code",
   "execution_count": 64,
   "metadata": {
    "collapsed": true
   },
   "outputs": [],
   "source": [
    "def get_annotations(song):\n",
    "    referenced = defaultdict(list)\n",
    "    if type(song)==int:\n",
    "        myrequest = req_start+'/referents?song_id='+str(song)\n",
    "        r = requests.get(myrequest, headers={'Authorization':auth})\n",
    "        refs_json = json.loads(r.content)\n",
    "    elif type(song)==dict:\n",
    "        refs_json = song\n",
    "    for ref in refs_json['response']['referents']:\n",
    "        for note in ref['annotations']:\n",
    "            for child in note['body']['dom']['children']:\n",
    "                if 'children' in child:\n",
    "                    for element in child['children']:\n",
    "                        if 'attributes' in element:\n",
    "                            if 'href' in element['attributes']:\n",
    "                                parsed = urlparse(element['attributes']['href'])\n",
    "                                if parsed.netloc==\"genius.com\":\n",
    "                                    try:\n",
    "                                        apiurl = req_start+element['data']['api_path']\n",
    "                                        annotype = urlparse(apiurl).path.split('/')[1]\n",
    "                                        if annotype == 'albums':\n",
    "                                            referenced['albums'].append(apiurl.encode('utf-8'))\n",
    "                                        elif annotype == 'artists':\n",
    "                                            referenced['artists'].append(apiurl.encode('utf-8'))\n",
    "                                        elif annotype == 'songs':\n",
    "                                            if urlparse(element['attributes']['href']).path.split('/')[-1][-6:] == 'lyrics':\n",
    "                                                referenced['songs'].append(apiurl.encode('utf-8'))\n",
    "                                            else:\n",
    "                                                referenced['other'].append(apiurl.encode('utf-8'))\n",
    "                                    except:\n",
    "                                        continue\n",
    "                                            \n",
    "    return dict(referenced)"
   ]
  },
  {
   "cell_type": "code",
   "execution_count": 46,
   "metadata": {
    "collapsed": true
   },
   "outputs": [],
   "source": [
    "def description_refs(song):\n",
    "    description = defaultdict(list)\n",
    "    if type(song)==int:\n",
    "        myrequest = req_start+'/songs/'+str(song)\n",
    "        r = requests.get(myrequest, headers={'Authorization':auth})\n",
    "        refs_json = json.loads(r.content)\n",
    "    elif type(song)==dict:\n",
    "        refs_json = song\n",
    "    for paragraph in refs_json['response']['song']['description']['dom']['children']:\n",
    "        if 'children' in paragraph:\n",
    "            for child in paragraph['children']:\n",
    "                if 'attributes' in child:\n",
    "                    if 'href' in child['attributes']:\n",
    "                        url = child['attributes']['href']\n",
    "                        if urlparse(url).netloc=='genius.com':\n",
    "                            try:\n",
    "                                apiurl = req_start+child['data']['api_path']\n",
    "                                annotype = urlparse(apiurl).path.split('/')[1]\n",
    "                                if annotype == 'albums':\n",
    "                                    description['albums'].append(apiurl.encode('utf-8'))\n",
    "                                elif annotype == 'artists':\n",
    "                                    description['artists'].append(apiurl.encode('utf-8'))\n",
    "                                elif annotype == 'songs':\n",
    "                                    if urlparse(child['attributes']['href']).path.split('/')[-1][-6:] == 'lyrics':\n",
    "                                        description['songs'].append(apiurl.encode('utf-8'))\n",
    "                                    else:\n",
    "                                        description['other'].append(apiurl.encode('utf-8'))\n",
    "                            except:\n",
    "                                continue\n",
    "    return dict(description)"
   ]
  },
  {
   "cell_type": "code",
   "execution_count": 47,
   "metadata": {
    "collapsed": true
   },
   "outputs": [],
   "source": [
    "# pass one of the two following:\n",
    "# song['references'] for referents or\n",
    "# song['description_refs'] for references in description\n",
    "\n",
    "def get_neighbors(song):\n",
    "    neighbors = defaultdict(list)\n",
    "    for item, vals in song.iteritems():\n",
    "        if item=='artists':\n",
    "            for artist in vals:\n",
    "                artistid = artist.rpartition('/')[2]\n",
    "                if s.find({'featured_artists': {'$elemMatch':{'id':int(artistid)}}}).count():\n",
    "                    name = s.find({'featured_artists': {'$elemMatch':{'id':int(artistid)}}}, \n",
    "                                  {'featured_artists': {'$elemMatch':{'id':int(artistid)}}}).next()\n",
    "                    artistname = name['featured_artists'][0]['artist']\n",
    "                    neighbors['artist'].append({'name': artistname, 'id': artistid})\n",
    "                elif s.find({'writers': {'$elemMatch':{'id':int(artistid)}}}).count():\n",
    "                    name = s.find({'writers': {'$elemMatch':{'id':int(artistid)}}}, \n",
    "                                  {'writers': {'$elemMatch':{'id':int(artistid)}}}).next()\n",
    "                    artistname = name['writers'][0]['artist']\n",
    "                    neighbors['artist'].append({'name': artistname, 'id': artistid})\n",
    "                elif s.find({'producers': {'$elemMatch':{'id':int(artistid)}}}).count():\n",
    "                    name = s.find({'producers': {'$elemMatch':{'id':int(artistid)}}}, \n",
    "                                  {'producers': {'$elemMatch':{'id':int(artistid)}}}).next()\n",
    "                    artistname = name['producers'][0]['artist']\n",
    "                    neighbors['artist'].append({'name': artistname, 'id': artistid})\n",
    "                elif s.find({'artist_id': int(artistid)}, {'artist':1}).count():\n",
    "                    name = s.find({'artist_id': int(artistid)}, {'artist': 1}).next()\n",
    "                    neighbors['artist'].append({'name': name['artist'], 'id': artistid})\n",
    "                else:\n",
    "                    print \"calling artistid: \", artistid\n",
    "                    time.sleep(7)\n",
    "                    name = api_call(artist)['response']['artist']['name']\n",
    "                    print \"successful request!\"\n",
    "                    print \"artist name: \", name\n",
    "                    neighbors['artist'].append({'name': name, 'id': artistid})\n",
    "        elif item == 'albums':\n",
    "            for album in vals:\n",
    "                albumid = album.rpartition('/')[2]\n",
    "                if s.find({'album.id': int(albumid)}).count():\n",
    "                    name = s.find({'album.id': int(albumid)}, {'album.name': 1}).next()\n",
    "                    albumname = name['album']['name']\n",
    "                    neighbors['album'].append({'name': albumname, 'id': albumid})\n",
    "                else:\n",
    "                    print \"calling albumid: \", albumid\n",
    "                    time.sleep(7)\n",
    "                    name = api_call(album)['response']['album']['name']\n",
    "                    print \"successful request!\"\n",
    "                    print \"album name: \", name\n",
    "                    neighbors['album'].append({'name': name, 'id': albumid})\n",
    "        elif item == 'songs':\n",
    "            for song in vals:\n",
    "                songid = song.rpartition('/')[2]\n",
    "                if s.find({'id': int(songid)}).count(): \n",
    "                    data = s.find({'id': int(songid)}, {'title':1, 'artist':1}).next()\n",
    "                    title = data['title']\n",
    "                    artist = data['artist']\n",
    "                    neighbors['song'].append({'title':title, 'artist':artist, 'id':songid})\n",
    "                else:\n",
    "                    neighbors['song_unannotated'].append({'id':songid})\n",
    "        elif item == 'other':\n",
    "            for other in vals:\n",
    "                otherid = other.rpartition('/')[2]\n",
    "                print \"calling other: \", other\n",
    "                name = api_call(other)['response']['song']['title']\n",
    "                neighbors['other'].append({'title':name, 'id':otherid})\n",
    "                \n",
    "    return neighbors"
   ]
  },
  {
   "cell_type": "code",
   "execution_count": 57,
   "metadata": {
    "collapsed": true
   },
   "outputs": [],
   "source": [
    "def annotate_song(songid):\n",
    "    if s.find({'id':songid}).count() > 0:\n",
    "        print \"already in Mongo... returning Mongo query\"\n",
    "        return s.find({'id':songid}).next()\n",
    "    else:\n",
    "        song_info = {}\n",
    "        myrequest = req_start+'/songs/'+str(songid)\n",
    "        r = requests.get(myrequest, headers={'Authorization':auth})\n",
    "        song_json = json.loads(r.content)\n",
    "        song_info['title'] = str(song_json['response']['song']['title'])\n",
    "        song_info['artist'] = str(song_json['response']['song']['primary_artist']['name'])\n",
    "        song_info['artist_id'] = song_json['response']['song']['primary_artist']['id']\n",
    "        pickle_title = '_'.join(song_info['title'].split())+\"_\"+'_'.join(song_info['artist'].split())+\".pkl\"\n",
    "        pickleDump(song_json, pickle_title)\n",
    "        if song_json['response']['song']['album'] != None:\n",
    "            song_info['album'] = {'name': str(song_json['response']['song']['album']['name']), \n",
    "                              'id': song_json['response']['song']['album']['id']}\n",
    "        song_info['id'] = song_json['response']['song']['id']\n",
    "\n",
    "        # may or may not exist\n",
    "        song_info['featured_artists'] = []\n",
    "        song_info['writers'] = []\n",
    "        song_info['producers'] = []\n",
    "        \n",
    "        if song_json['response']['song']['sampled_songs']:\n",
    "            song_info['sampled_songs'] = song_json['response']['song']['sampled_songs']\n",
    "        if song_json['response']['song']['sampling_songs']:\n",
    "            song_info['sampling_songs'] = song_json['response']['song']['sampling_songs']\n",
    "\n",
    "        for artist in song_json['response']['song']['featured_artists']:\n",
    "            if artist['name']!=song_info['artist']:\n",
    "                song_info['featured_artists'].append({'artist':artist['name'], 'id':artist['id']})\n",
    "        for artist in song_json['response']['song']['producer_artists']:\n",
    "            if artist['name']!=song_info['artist']:\n",
    "                song_info['producers'].append({'artist':artist['name'], 'id':artist['id']})\n",
    "        for artist in song_json['response']['song']['writer_artists']:\n",
    "            if artist['name']!=song_info['artist']:\n",
    "                song_info['writers'].append({'artist':artist['name'], 'id':artist['id']})\n",
    "\n",
    "        if not song_info['featured_artists']:\n",
    "            del song_info['featured_artists']\n",
    "        if not song_info['writers']:\n",
    "            del song_info['writers']\n",
    "        if not song_info['producers']:\n",
    "            del song_info['producers']\n",
    "\n",
    "        # references!!\n",
    "        time.sleep(7)\n",
    "        song_info['references'] = dict(get_neighbors(get_annotations(songid)))\n",
    "        time.sleep(7)\n",
    "        song_info['description_refs'] = dict(get_neighbors(description_refs(song_json)))\n",
    "        \n",
    "        pickled_annotation = pickle_title[0:-4]+\"_annotated.pkl\"\n",
    "        pickleDump(song_info, pickled_annotation)\n",
    "        return song_info"
   ]
  },
  {
   "cell_type": "code",
   "execution_count": 65,
   "metadata": {
    "collapsed": true
   },
   "outputs": [],
   "source": [
    "def annotate_info(picklename):\n",
    "    try: \n",
    "        song_info = {}\n",
    "        song_json = pickleLoad(picklename)\n",
    "        song_info['title'] = str(song_json['response']['song']['title'])\n",
    "        song_info['artist'] = str(song_json['response']['song']['primary_artist']['name'])\n",
    "        song_info['artist_id'] = song_json['response']['song']['primary_artist']['id']\n",
    "        pickle_title = '_'.join(song_info['title'].split())+\"_\"+'_'.join(song_info['artist'].split())+\".pkl\"\n",
    "        pickleDump(song_json, pickle_title)\n",
    "        if song_json['response']['song']['album'] != None:\n",
    "            song_info['album'] = {'name': str(song_json['response']['song']['album']['name']), \n",
    "                              'id': song_json['response']['song']['album']['id']}\n",
    "        song_info['id'] = song_json['response']['song']['id']\n",
    "\n",
    "        # may or may not exist\n",
    "        song_info['featured_artists'] = []\n",
    "        song_info['writers'] = []\n",
    "        song_info['producers'] = []\n",
    "\n",
    "        if song_json['response']['song']['sampled_songs']:\n",
    "            song_info['sampled_songs'] = song_json['response']['song']['sampled_songs']\n",
    "        if song_json['response']['song']['sampling_songs']:\n",
    "            song_info['sampling_songs'] = song_json['response']['song']['sampling_songs']\n",
    "\n",
    "        for artist in song_json['response']['song']['featured_artists']:\n",
    "            if artist['name']!=song_info['artist']:\n",
    "                song_info['featured_artists'].append({'artist':artist['name'], 'id':artist['id']})\n",
    "        for artist in song_json['response']['song']['producer_artists']:\n",
    "            if artist['name']!=song_info['artist']:\n",
    "                song_info['producers'].append({'artist':artist['name'], 'id':artist['id']})\n",
    "        for artist in song_json['response']['song']['writer_artists']:\n",
    "            if artist['name']!=song_info['artist']:\n",
    "                song_info['writers'].append({'artist':artist['name'], 'id':artist['id']})\n",
    "\n",
    "        if not song_info['featured_artists']:\n",
    "            del song_info['featured_artists']\n",
    "        if not song_info['writers']:\n",
    "            del song_info['writers']\n",
    "        if not song_info['producers']:\n",
    "            del song_info['producers']\n",
    "\n",
    "        songid = song_info['id']\n",
    "\n",
    "        # references!!\n",
    "        time.sleep(7)\n",
    "        song_info['references'] = dict(get_neighbors(get_annotations(songid)))\n",
    "        time.sleep(7)\n",
    "        song_info['description_refs'] = dict(get_neighbors(description_refs(song_json)))\n",
    "\n",
    "        pickled_annotation = pickle_title[0:-4]+\"_annotated.pkl\"\n",
    "        pickleDump(song_info, pickled_annotation)\n",
    "        print \"inserted song: \", song_info['title'], \" by \", song_info['artist']\n",
    "        return song_info\n",
    "    except:\n",
    "        print \"unable to insert song: \", song_json['response']['song']['title'], \" by \", song_json['response']['song']['primary_artist']['name']"
   ]
  },
  {
   "cell_type": "code",
   "execution_count": 9,
   "metadata": {
    "collapsed": true
   },
   "outputs": [],
   "source": [
    "unable_to_insert = [2400811, 2342860, 2439141, 2339761, 2347642, 332635, 2347598, 2399225, \\\n",
    "                    2386805, 639247, 2432858, 2403555, 2163216, 2213105, 2312325, 2414510, 2426159, 2421937]"
   ]
  },
  {
   "cell_type": "code",
   "execution_count": 12,
   "metadata": {
    "collapsed": false
   },
   "outputs": [
    {
     "name": "stdout",
     "output_type": "stream",
     "text": [
      "!!!unable to insert:  2400811\n",
      "calling artistid:  346237\n",
      "artist name:  Madeintyo\n",
      "calling artistid:  9972\n",
      "artist name:  Notch\n",
      "calling artistid:  288690\n",
      "artist name:  Royce Rizzy\n",
      "!!!inserted  2342860  to Mongo!!!!\n",
      "!!!inserted  2439141  to Mongo!!!!\n",
      "!!!unable to insert:  2339761\n",
      "!!!unable to insert:  2347642\n",
      "!!!unable to insert:  332635\n",
      "calling artistid:  2197\n",
      "artist name:  Future\n",
      "calling artistid:  1630\n",
      "artist name:  Ciara\n",
      "!!!inserted  2347598  to Mongo!!!!\n",
      "calling albumid:  118695\n",
      "album name:  Rodeo\n",
      "calling artistid:  27359\n",
      "artist name:  Trinidad James\n",
      "calling artistid:  130\n",
      "artist name:  Drake\n",
      "!!!inserted  2399225  to Mongo!!!!\n",
      "!!!unable to insert:  2386805\n",
      "!!!unable to insert:  639247\n",
      "!!!inserted  2432858  to Mongo!!!!\n",
      "!!!inserted  2403555  to Mongo!!!!\n",
      "!!!unable to insert:  2163216\n",
      "!!!inserted  2213105  to Mongo!!!!\n",
      "!!!inserted  2312325  to Mongo!!!!\n",
      "!!!inserted  2414510  to Mongo!!!!\n",
      "!!!inserted  2426159  to Mongo!!!!\n",
      "!!!unable to insert:  2421937\n"
     ]
    }
   ],
   "source": [
    "for songid in unable_to_insert:\n",
    "    if s.find({'id':songid}).count()>0:\n",
    "        print \"song id \", songid, \" in Mongo already\"\n",
    "        continue\n",
    "    else:\n",
    "        try:\n",
    "            annotated = annotate_song(songid)\n",
    "            s.insert_one(annotated)\n",
    "            print \"!!!inserted \", songid, \" to Mongo!!!!\"\n",
    "            time.sleep(7)\n",
    "        except:\n",
    "            print \"!!!unable to insert: \", songid\n",
    "            continue"
   ]
  },
  {
   "cell_type": "code",
   "execution_count": 49,
   "metadata": {
    "collapsed": true
   },
   "outputs": [],
   "source": [
    "still_not_inserted = [2400811, 2339761, 2347642, 332635, 2386805, 2163216, 2421937]"
   ]
  },
  {
   "cell_type": "code",
   "execution_count": 48,
   "metadata": {
    "collapsed": true
   },
   "outputs": [],
   "source": [
    "kendrick = 639247"
   ]
  },
  {
   "cell_type": "code",
   "execution_count": 16,
   "metadata": {
    "collapsed": true
   },
   "outputs": [],
   "source": [
    "songpickles = ['Panda_Desiigner.pkl', 'Order_More_G-Eazy.pkl', 'Jimmy_Choo_Fetty_Wap.pkl', \\\n",
    "               'Or_Nah_Ty_Dolla_$ign.pkl', 'Housewives_Bas.pkl', 'Back_Up_DeJ_Loaf.pkl', \"Slappin'_E-40.pkl\"]"
   ]
  },
  {
   "cell_type": "code",
   "execution_count": 66,
   "metadata": {
    "collapsed": true
   },
   "outputs": [],
   "source": [
    "are_these_inserted = ['Order_More_G-Eazy_annotated.pkl', 'Jimmy_Choo_Fetty_Wap_annotated.pkl', \\\n",
    "               'Or_Nah_Ty_Dolla_$ign_annotated.pkl', 'Housewives_Bas_annotated.pkl', 'Back_Up_DeJ_Loaf_annotated.pkl']"
   ]
  },
  {
   "cell_type": "code",
   "execution_count": 67,
   "metadata": {
    "collapsed": true
   },
   "outputs": [],
   "source": [
    "order_more = pickleLoad(are_these_inserted[0])"
   ]
  },
  {
   "cell_type": "code",
   "execution_count": 69,
   "metadata": {
    "collapsed": false
   },
   "outputs": [
    {
     "name": "stdout",
     "output_type": "stream",
     "text": [
      "!!!inserted  2339761  to Mongo!!!!\n",
      "!!!inserted  2347642  to Mongo!!!!\n",
      "!!!inserted  332635  to Mongo!!!!\n",
      "!!!inserted  2386805  to Mongo!!!!\n",
      "!!!inserted  2163216  to Mongo!!!!\n"
     ]
    }
   ],
   "source": [
    "for song in are_these_inserted:\n",
    "    annotated = pickleLoad(song)\n",
    "    songid = annotated['id']\n",
    "    if s.find({'id':songid}).count()>0:\n",
    "        print \"song id \", songid, \" in Mongo already\"\n",
    "        continue\n",
    "    else:\n",
    "        try:\n",
    "            s.insert_one(annotated)\n",
    "            print \"!!!inserted \", songid, \" to Mongo!!!!\"\n",
    "            time.sleep(7)\n",
    "        except:\n",
    "            print \"!!!unable to insert: \", songid\n",
    "            continue"
   ]
  },
  {
   "cell_type": "code",
   "execution_count": 68,
   "metadata": {
    "collapsed": false
   },
   "outputs": [
    {
     "data": {
      "text/plain": [
       "{'album': {'id': 133170, 'name': \"When It's Dark Out\"},\n",
       " 'artist': 'G-Eazy',\n",
       " 'artist_id': 11395,\n",
       " 'description_refs': {'artist': [{'id': '162702', 'name': u'Starrah'}],\n",
       "  'song_unannotated': [{'id': '2159541'},\n",
       "   {'id': '2329765'},\n",
       "   {'id': '2293108'}]},\n",
       " 'featured_artists': [{'artist': u'Starrah', 'id': 162702}],\n",
       " 'id': 2339761,\n",
       " 'producers': [{'artist': u'DJ Spinz', 'id': 27511}],\n",
       " 'references': {'other': [{'id': '2329765', 'title': u'Me, Myself & I'}],\n",
       "  'song_unannotated': [{'id': '2159541'}, {'id': '88378'}, {'id': '88378'}]},\n",
       " 'title': 'Order More',\n",
       " 'writers': [{'artist': u'DJ Spinz', 'id': 27511},\n",
       "  {'artist': u'Starrah', 'id': 162702}]}"
      ]
     },
     "execution_count": 68,
     "metadata": {},
     "output_type": "execute_result"
    }
   ],
   "source": [
    "order_more"
   ]
  },
  {
   "cell_type": "code",
   "execution_count": 63,
   "metadata": {
    "collapsed": false
   },
   "outputs": [
    {
     "name": "stdout",
     "output_type": "stream",
     "text": [
      "unable to insert song:  Panda  by  Desiigner\n",
      "{u'attributes': {u'href': u'http://genius.com/77147020'}, u'tag': u'a', u'children': [u'young, rich and handsome']}\n",
      "calling other:  https://api.genius.com/songs/2329765\n",
      "{u'attributes': {u'href': u'http://genius.com/rapstats?q=Prada%2C%20Louboutin%2C%20Jimmy%20Choo'}, u'tag': u'a', u'children': [u'Rap Stats,']}\n",
      "{u'attributes': {u'href': u'http://genius.com/tags/dreamville'}, u'tag': u'a', u'children': [u'Dreamville']}\n",
      "calling artistid:  166608\n",
      "successful request!\n",
      "artist name:  Eleanor Roosevelt\n",
      "{u'attributes': {u'href': u'http://genius.com/48878940'}, u'tag': u'a', u'children': [u'not the only rapper using this cold tactic.']}\n",
      "calling other:  https://api.genius.com/songs/80573\n",
      "calling artistid:  16720\n",
      "successful request!\n",
      "artist name:  Dusty McFly\n",
      "calling artistid:  99318\n",
      "successful request!\n",
      "artist name:  Naya Rivera\n",
      "unable to insert song:  Slappin'  by  E-40\n"
     ]
    }
   ],
   "source": [
    "for sp in songpickles:\n",
    "    annotate_info(sp)"
   ]
  },
  {
   "cell_type": "code",
   "execution_count": 17,
   "metadata": {
    "collapsed": true
   },
   "outputs": [],
   "source": [
    "panda = pickleLoad(songpickles[0])"
   ]
  },
  {
   "cell_type": "code",
   "execution_count": 22,
   "metadata": {
    "collapsed": false
   },
   "outputs": [
    {
     "name": "stdout",
     "output_type": "stream",
     "text": [
      "title:  Panda\n",
      "artist:  Desiigner\n",
      "artist id:  626678\n",
      "song id:  2400811\n"
     ]
    }
   ],
   "source": [
    "print \"title: \", str(panda['response']['song']['title'])\n",
    "print \"artist: \", str(panda['response']['song']['primary_artist']['name'])\n",
    "print \"artist id: \", panda['response']['song']['primary_artist']['id']\n",
    "if panda['response']['song']['album'] != None:\n",
    "    print 'album name: ', str(panda['response']['song']['album']['name'])\n",
    "    print 'albumid: ', panda['response']['song']['album']['id']\n",
    "print \"song id: \", panda['response']['song']['id']"
   ]
  },
  {
   "cell_type": "code",
   "execution_count": 23,
   "metadata": {
    "collapsed": false
   },
   "outputs": [
    {
     "name": "stdout",
     "output_type": "stream",
     "text": [
      "sampling songs:  [{u'title': u'Father Stretch My Hands, Pt. 2', u'url': u'http://genius.com/Kanye-west-father-stretch-my-hands-pt-2-lyrics', u'pyongs_count': 19, u'full_title': u'Father Stretch My Hands, Pt. 2 by\\xa0Kanye\\xa0West (Ft.\\xa0Desiigner)', u'header_image_thumbnail_url': u'https://images.rapgenius.com/6c141681d5e9a57407ae2f752c7e1adc.300x300x1.jpg', u'path': u'/Kanye-west-father-stretch-my-hands-pt-2-lyrics', u'primary_artist': {u'url': u'http://genius.com/artists/Kanye-west', u'image_url': u'https://images.rapgenius.com/138bc31038c9b9d92ff6d5b35338000d.1000x667x1.jpg', u'is_verified': False, u'id': 72, u'name': u'Kanye West'}, u'header_image_url': u'https://images.rapgenius.com/6c141681d5e9a57407ae2f752c7e1adc.600x600x1.jpg', u'id': 2421998, u'annotation_count': 1}]\n",
      "producer:  Menace (UK)   639900\n"
     ]
    }
   ],
   "source": [
    "if panda['response']['song']['sampled_songs']:\n",
    "    print \"sampled songs: \", panda['response']['song']['sampled_songs']\n",
    "if panda['response']['song']['sampling_songs']:\n",
    "    print \"sampling songs: \", panda['response']['song']['sampling_songs']\n",
    "\n",
    "for artist in panda['response']['song']['featured_artists']:\n",
    "    if artist['name']!='Desiigner':\n",
    "        print \"featured artist: \", artist['name'], \" \", artist['id']\n",
    "for artist in panda['response']['song']['producer_artists']:\n",
    "    if artist['name']!='Desiigner':\n",
    "        print \"producer: \", artist['name'], \" \", artist['id']\n",
    "for artist in panda['response']['song']['writer_artists']:\n",
    "    if artist['name']!='Desiigner':\n",
    "        print \"writer: \", artist['name'], \" \", artist['id']"
   ]
  },
  {
   "cell_type": "code",
   "execution_count": 24,
   "metadata": {
    "collapsed": false
   },
   "outputs": [
    {
     "name": "stdout",
     "output_type": "stream",
     "text": [
      "calling artistid:  405\n",
      "artist name:  E-40\n",
      "calling artistid:  241761\n",
      "artist name:  D.R.A.M.\n",
      "calling artistid:  30963\n",
      "artist name:  Rick Rock\n",
      "calling artistid:  148908\n",
      "artist name:  Marc E. Bassy\n",
      "calling artistid:  2231\n",
      "artist name:  The Click\n",
      "calling artistid:  5681\n",
      "artist name:  Suga-T\n"
     ]
    }
   ],
   "source": [
    "panda_refs = dict(get_neighbors(get_annotations(songid)))"
   ]
  },
  {
   "cell_type": "code",
   "execution_count": 45,
   "metadata": {
    "collapsed": false
   },
   "outputs": [
    {
     "name": "stdout",
     "output_type": "stream",
     "text": [
      "{u'attributes': {u'href': u'http://genius.com/8667019'}, u'tag': u'a', u'data': {u'api_path': u'/referents/8667019'}, u'children': [u'\\u201cFather Stretch My Hands Pt. 2,\\u201d']}\n",
      "{u'attributes': {u'href': u'http://genius.com/albums/Kanye-west/The-life-of-pablo'}, u'tag': u'a', u'data': {u'api_path': u'/albums/120604'}, u'children': [{u'tag': u'em', u'children': [u'The Life of Pablo']}]}\n",
      "{u'attributes': {u'href': u'http://genius.com/a/how-desiigners-panda-ended-up-on-kanye-wests-the-life-of-pablo'}, u'tag': u'a', u'children': [u'He was inspired by DC Comics character The Joker']}\n"
     ]
    },
    {
     "ename": "KeyError",
     "evalue": "'data'",
     "output_type": "error",
     "traceback": [
      "\u001b[0;31m---------------------------------------------------------------------------\u001b[0m",
      "\u001b[0;31mKeyError\u001b[0m                                  Traceback (most recent call last)",
      "\u001b[0;32m<ipython-input-45-445d1ac0a3e7>\u001b[0m in \u001b[0;36m<module>\u001b[0;34m()\u001b[0m\n\u001b[0;32m----> 1\u001b[0;31m \u001b[0mpanda_desc_refs\u001b[0m \u001b[0;34m=\u001b[0m \u001b[0mdescription_refs\u001b[0m\u001b[0;34m(\u001b[0m\u001b[0mpanda\u001b[0m\u001b[0;34m)\u001b[0m\u001b[0;34m\u001b[0m\u001b[0m\n\u001b[0m",
      "\u001b[0;32m<ipython-input-44-d76176b680b1>\u001b[0m in \u001b[0;36mdescription_refs\u001b[0;34m(song)\u001b[0m\n\u001b[1;32m     16\u001b[0m \u001b[0;31m#                             try:\u001b[0m\u001b[0;34m\u001b[0m\u001b[0;34m\u001b[0m\u001b[0m\n\u001b[1;32m     17\u001b[0m                             \u001b[0;32mprint\u001b[0m \u001b[0mchild\u001b[0m\u001b[0;34m\u001b[0m\u001b[0m\n\u001b[0;32m---> 18\u001b[0;31m                             \u001b[0mapiurl\u001b[0m \u001b[0;34m=\u001b[0m \u001b[0mreq_start\u001b[0m\u001b[0;34m+\u001b[0m\u001b[0mchild\u001b[0m\u001b[0;34m[\u001b[0m\u001b[0;34m'data'\u001b[0m\u001b[0;34m]\u001b[0m\u001b[0;34m[\u001b[0m\u001b[0;34m'api_path'\u001b[0m\u001b[0;34m]\u001b[0m\u001b[0;34m\u001b[0m\u001b[0m\n\u001b[0m\u001b[1;32m     19\u001b[0m                             \u001b[0mannotype\u001b[0m \u001b[0;34m=\u001b[0m \u001b[0murlparse\u001b[0m\u001b[0;34m(\u001b[0m\u001b[0mapiurl\u001b[0m\u001b[0;34m)\u001b[0m\u001b[0;34m.\u001b[0m\u001b[0mpath\u001b[0m\u001b[0;34m.\u001b[0m\u001b[0msplit\u001b[0m\u001b[0;34m(\u001b[0m\u001b[0;34m'/'\u001b[0m\u001b[0;34m)\u001b[0m\u001b[0;34m[\u001b[0m\u001b[0;36m1\u001b[0m\u001b[0;34m]\u001b[0m\u001b[0;34m\u001b[0m\u001b[0m\n\u001b[1;32m     20\u001b[0m                             \u001b[0;32mif\u001b[0m \u001b[0mannotype\u001b[0m \u001b[0;34m==\u001b[0m \u001b[0;34m'albums'\u001b[0m\u001b[0;34m:\u001b[0m\u001b[0;34m\u001b[0m\u001b[0m\n",
      "\u001b[0;31mKeyError\u001b[0m: 'data'"
     ]
    }
   ],
   "source": [
    "panda_desc_refs = description_refs(panda)"
   ]
  },
  {
   "cell_type": "code",
   "execution_count": 43,
   "metadata": {
    "collapsed": false
   },
   "outputs": [
    {
     "data": {
      "text/plain": [
       "{'albums': ['https://api.genius.com/albums/120604']}"
      ]
     },
     "execution_count": 43,
     "metadata": {},
     "output_type": "execute_result"
    }
   ],
   "source": [
    "panda_desc_refs"
   ]
  },
  {
   "cell_type": "code",
   "execution_count": 25,
   "metadata": {
    "collapsed": false
   },
   "outputs": [
    {
     "ename": "KeyError",
     "evalue": "'data'",
     "output_type": "error",
     "traceback": [
      "\u001b[0;31m---------------------------------------------------------------------------\u001b[0m",
      "\u001b[0;31mKeyError\u001b[0m                                  Traceback (most recent call last)",
      "\u001b[0;32m<ipython-input-25-9a67e491b41b>\u001b[0m in \u001b[0;36m<module>\u001b[0;34m()\u001b[0m\n\u001b[0;32m----> 1\u001b[0;31m \u001b[0mpanda_desc\u001b[0m \u001b[0;34m=\u001b[0m \u001b[0mdict\u001b[0m\u001b[0;34m(\u001b[0m\u001b[0mget_neighbors\u001b[0m\u001b[0;34m(\u001b[0m\u001b[0mdescription_refs\u001b[0m\u001b[0;34m(\u001b[0m\u001b[0mpanda\u001b[0m\u001b[0;34m)\u001b[0m\u001b[0;34m)\u001b[0m\u001b[0;34m)\u001b[0m\u001b[0;34m\u001b[0m\u001b[0m\n\u001b[0m",
      "\u001b[0;32m<ipython-input-6-0e755fa56b37>\u001b[0m in \u001b[0;36mdescription_refs\u001b[0;34m(song)\u001b[0m\n\u001b[1;32m     14\u001b[0m                         \u001b[0murl\u001b[0m \u001b[0;34m=\u001b[0m \u001b[0mchild\u001b[0m\u001b[0;34m[\u001b[0m\u001b[0;34m'attributes'\u001b[0m\u001b[0;34m]\u001b[0m\u001b[0;34m[\u001b[0m\u001b[0;34m'href'\u001b[0m\u001b[0;34m]\u001b[0m\u001b[0;34m\u001b[0m\u001b[0m\n\u001b[1;32m     15\u001b[0m                         \u001b[0;32mif\u001b[0m \u001b[0murlparse\u001b[0m\u001b[0;34m(\u001b[0m\u001b[0murl\u001b[0m\u001b[0;34m)\u001b[0m\u001b[0;34m.\u001b[0m\u001b[0mnetloc\u001b[0m\u001b[0;34m==\u001b[0m\u001b[0;34m'genius.com'\u001b[0m\u001b[0;34m:\u001b[0m\u001b[0;34m\u001b[0m\u001b[0m\n\u001b[0;32m---> 16\u001b[0;31m                             \u001b[0mapiurl\u001b[0m \u001b[0;34m=\u001b[0m \u001b[0mreq_start\u001b[0m\u001b[0;34m+\u001b[0m\u001b[0mchild\u001b[0m\u001b[0;34m[\u001b[0m\u001b[0;34m'data'\u001b[0m\u001b[0;34m]\u001b[0m\u001b[0;34m[\u001b[0m\u001b[0;34m'api_path'\u001b[0m\u001b[0;34m]\u001b[0m\u001b[0;34m\u001b[0m\u001b[0m\n\u001b[0m\u001b[1;32m     17\u001b[0m                             \u001b[0mannotype\u001b[0m \u001b[0;34m=\u001b[0m \u001b[0murlparse\u001b[0m\u001b[0;34m(\u001b[0m\u001b[0mapiurl\u001b[0m\u001b[0;34m)\u001b[0m\u001b[0;34m.\u001b[0m\u001b[0mpath\u001b[0m\u001b[0;34m.\u001b[0m\u001b[0msplit\u001b[0m\u001b[0;34m(\u001b[0m\u001b[0;34m'/'\u001b[0m\u001b[0;34m)\u001b[0m\u001b[0;34m[\u001b[0m\u001b[0;36m1\u001b[0m\u001b[0;34m]\u001b[0m\u001b[0;34m\u001b[0m\u001b[0m\n\u001b[1;32m     18\u001b[0m                             \u001b[0;32mif\u001b[0m \u001b[0mannotype\u001b[0m \u001b[0;34m==\u001b[0m \u001b[0;34m'albums'\u001b[0m\u001b[0;34m:\u001b[0m\u001b[0;34m\u001b[0m\u001b[0m\n",
      "\u001b[0;31mKeyError\u001b[0m: 'data'"
     ]
    }
   ],
   "source": [
    "panda_desc = dict(get_neighbors(description_refs(panda)))"
   ]
  },
  {
   "cell_type": "code",
   "execution_count": 35,
   "metadata": {
    "collapsed": true
   },
   "outputs": [],
   "source": [
    "description = defaultdict(list)"
   ]
  },
  {
   "cell_type": "code",
   "execution_count": 36,
   "metadata": {
    "collapsed": false
   },
   "outputs": [],
   "source": [
    "for paragraph in panda['response']['song']['description']['dom']['children']:\n",
    "    if 'children' in paragraph:\n",
    "        for child in paragraph['children']:\n",
    "            if 'attributes' in child:\n",
    "                if 'href' in child['attributes']:\n",
    "                    url = child['attributes']['href']\n",
    "                    if urlparse(url).netloc=='genius.com':\n",
    "                        try:\n",
    "                            apiurl = req_start+child['data']['api_path']\n",
    "                            annotype = urlparse(apiurl).path.split('/')[1]\n",
    "                            if annotype == 'albums':\n",
    "                                description['albums'].append(apiurl.encode('utf-8'))\n",
    "                            elif annotype == 'artists':\n",
    "                                description['artists'].append(apiurl.encode('utf-8'))\n",
    "                            elif annotype == 'songs':\n",
    "                                if urlparse(child['attributes']['href']).path.split('/')[-1][-6:] == 'lyrics':\n",
    "                                    description['songs'].append(apiurl.encode('utf-8'))\n",
    "                                else:\n",
    "                                    description['other'].append(apiurl.encode('utf-8'))         \n",
    "                        except:\n",
    "                            continue"
   ]
  },
  {
   "cell_type": "code",
   "execution_count": 38,
   "metadata": {
    "collapsed": false
   },
   "outputs": [
    {
     "data": {
      "text/plain": [
       "{'albums': ['https://api.genius.com/albums/120604']}"
      ]
     },
     "execution_count": 38,
     "metadata": {},
     "output_type": "execute_result"
    }
   ],
   "source": [
    "dict(description)"
   ]
  },
  {
   "cell_type": "code",
   "execution_count": null,
   "metadata": {
    "collapsed": true
   },
   "outputs": [],
   "source": []
  }
 ],
 "metadata": {
  "kernelspec": {
   "display_name": "Python 2",
   "language": "python",
   "name": "python2"
  },
  "language_info": {
   "codemirror_mode": {
    "name": "ipython",
    "version": 2
   },
   "file_extension": ".py",
   "mimetype": "text/x-python",
   "name": "python",
   "nbconvert_exporter": "python",
   "pygments_lexer": "ipython2",
   "version": "2.7.11"
  }
 },
 "nbformat": 4,
 "nbformat_minor": 0
}
