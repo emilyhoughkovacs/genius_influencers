{
 "cells": [
  {
   "cell_type": "code",
   "execution_count": 4,
   "metadata": {
    "collapsed": true
   },
   "outputs": [],
   "source": [
    "import requests\n",
    "import cnfg\n",
    "import json\n",
    "import pickle\n",
    "import time\n",
    "from datetime import datetime\n",
    "from collections import defaultdict\n",
    "from urlparse import urlparse\n",
    "from pymongo import MongoClient"
   ]
  },
  {
   "cell_type": "code",
   "execution_count": 5,
   "metadata": {
    "collapsed": true
   },
   "outputs": [],
   "source": [
    "config = cnfg.load(\".genius_config\")\n",
    "client_key = config[\"client_key\"]\n",
    "client_secret = config[\"client_secret\"]\n",
    "access_token = 'uK247ank6jF7DY_E7TEMIdbuhT2IBVsVeFXh6AluxswFUfrlFNfXNu2pUFPrGv2c'\n",
    "auth = 'Bearer '+access_token\n",
    "req_start = 'https://api.genius.com'"
   ]
  },
  {
   "cell_type": "code",
   "execution_count": 6,
   "metadata": {
    "collapsed": true
   },
   "outputs": [],
   "source": [
    "client = MongoClient()\n",
    "db = client.music\n",
    "s = db.songs\n",
    "# counter\n",
    "c = s.find()"
   ]
  },
  {
   "cell_type": "code",
   "execution_count": 7,
   "metadata": {
    "collapsed": true
   },
   "outputs": [],
   "source": [
    "def pickleLoad(filename):\n",
    "    with open(filename, 'rb') as f:\n",
    "        data = pickle.load(f) \n",
    "    return data\n",
    "\n",
    "def pickleDump(data, filename):\n",
    "    with open(filename, 'wb') as f:\n",
    "        pickle.dump(data, f)"
   ]
  },
  {
   "cell_type": "code",
   "execution_count": 8,
   "metadata": {
    "collapsed": true
   },
   "outputs": [],
   "source": [
    "def api_call(validurl):\n",
    "    call = validurl\n",
    "    r = requests.get(call, headers={'Authorization':auth})\n",
    "    if r.status_code==200:\n",
    "        return json.loads(r.content)\n",
    "    else:\n",
    "        print r.content\n",
    "        return r.content"
   ]
  },
  {
   "cell_type": "code",
   "execution_count": 9,
   "metadata": {
    "collapsed": true
   },
   "outputs": [],
   "source": [
    "def get_annotations(song):\n",
    "    referenced = defaultdict(list)\n",
    "    if type(song)==int:\n",
    "        myrequest = req_start+'/referents?song_id='+str(song)\n",
    "        r = requests.get(myrequest, headers={'Authorization':auth})\n",
    "        refs_json = json.loads(r.content)\n",
    "    elif type(song)==dict:\n",
    "        refs_json = song\n",
    "    for ref in refs_json['response']['referents']:\n",
    "        for note in ref['annotations']:\n",
    "            for child in note['body']['dom']['children']:\n",
    "                if 'children' in child:\n",
    "                    for element in child['children']:\n",
    "                        if 'attributes' in element:\n",
    "                            if 'href' in element['attributes']:\n",
    "                                parsed = urlparse(element['attributes']['href'])\n",
    "                                if parsed.netloc==\"genius.com\":\n",
    "                                    try:\n",
    "                                        apiurl = req_start+element['data']['api_path']\n",
    "                                        annotype = urlparse(apiurl).path.split('/')[1]\n",
    "                                        if annotype == 'albums':\n",
    "                                            referenced['albums'].append(apiurl.encode('utf-8'))\n",
    "                                        elif annotype == 'artists':\n",
    "                                            referenced['artists'].append(apiurl.encode('utf-8'))\n",
    "                                        elif annotype == 'songs':\n",
    "                                            if urlparse(element['attributes']['href']).path.split('/')[-1][-6:] == 'lyrics':\n",
    "                                                referenced['songs'].append(apiurl.encode('utf-8'))\n",
    "                                            else:\n",
    "                                                referenced['other'].append(apiurl.encode('utf-8'))\n",
    "                                    except:\n",
    "                                        continue\n",
    "                                            \n",
    "    return dict(referenced)"
   ]
  },
  {
   "cell_type": "code",
   "execution_count": 10,
   "metadata": {
    "collapsed": true
   },
   "outputs": [],
   "source": [
    "def description_refs(song):\n",
    "    description = defaultdict(list)\n",
    "    if type(song)==int:\n",
    "        myrequest = req_start+'/songs/'+str(song)\n",
    "        r = requests.get(myrequest, headers={'Authorization':auth})\n",
    "        refs_json = json.loads(r.content)\n",
    "    elif type(song)==dict:\n",
    "        refs_json = song\n",
    "    for paragraph in refs_json['response']['song']['description']['dom']['children']:\n",
    "        if 'children' in paragraph:\n",
    "            for child in paragraph['children']:\n",
    "                if 'attributes' in child:\n",
    "                    if 'href' in child['attributes']:\n",
    "                        url = child['attributes']['href']\n",
    "                        if urlparse(url).netloc=='genius.com':\n",
    "                            try:\n",
    "                                apiurl = req_start+child['data']['api_path']\n",
    "                                annotype = urlparse(apiurl).path.split('/')[1]\n",
    "                                if annotype == 'albums':\n",
    "                                    description['albums'].append(apiurl.encode('utf-8'))\n",
    "                                elif annotype == 'artists':\n",
    "                                    description['artists'].append(apiurl.encode('utf-8'))\n",
    "                                elif annotype == 'songs':\n",
    "                                    if urlparse(child['attributes']['href']).path.split('/')[-1][-6:] == 'lyrics':\n",
    "                                        description['songs'].append(apiurl.encode('utf-8'))\n",
    "                                    else:\n",
    "                                        description['other'].append(apiurl.encode('utf-8'))\n",
    "                            except:\n",
    "                                continue\n",
    "    return dict(description)"
   ]
  },
  {
   "cell_type": "code",
   "execution_count": 11,
   "metadata": {
    "collapsed": false
   },
   "outputs": [],
   "source": [
    "# pass one of the two following:\n",
    "# song['references'] for referents or\n",
    "# song['description_refs'] for references in description\n",
    "\n",
    "def get_neighbors(song):\n",
    "    neighbors = defaultdict(list)\n",
    "    for item, vals in song.iteritems():\n",
    "        if item=='artists':\n",
    "            for artist in vals:\n",
    "                artistid = artist.rpartition('/')[2]\n",
    "                if s.find({'featured_artists': {'$elemMatch':{'id':int(artistid)}}}).count():\n",
    "                    name = s.find({'featured_artists': {'$elemMatch':{'id':int(artistid)}}}, \n",
    "                                  {'featured_artists': {'$elemMatch':{'id':int(artistid)}}}).next()\n",
    "                    artistname = name['featured_artists'][0]['artist']\n",
    "                    neighbors['artist'].append({'name': artistname, 'id': artistid})\n",
    "                elif s.find({'writers': {'$elemMatch':{'id':int(artistid)}}}).count():\n",
    "                    name = s.find({'writers': {'$elemMatch':{'id':int(artistid)}}}, \n",
    "                                  {'writers': {'$elemMatch':{'id':int(artistid)}}}).next()\n",
    "                    artistname = name['writers'][0]['artist']\n",
    "                    neighbors['artist'].append({'name': artistname, 'id': artistid})\n",
    "                elif s.find({'producers': {'$elemMatch':{'id':int(artistid)}}}).count():\n",
    "                    name = s.find({'producers': {'$elemMatch':{'id':int(artistid)}}}, \n",
    "                                  {'producers': {'$elemMatch':{'id':int(artistid)}}}).next()\n",
    "                    artistname = name['producers'][0]['artist']\n",
    "                    neighbors['artist'].append({'name': artistname, 'id': artistid})\n",
    "                elif s.find({'artist_id': int(artistid)}, {'artist':1}).count():\n",
    "                    name = s.find({'artist_id': int(artistid)}, {'artist': 1}).next()\n",
    "                    neighbors['artist'].append({'name': name['artist'], 'id': artistid})\n",
    "                else:\n",
    "                    print \"calling artistid: \", artistid\n",
    "                    time.sleep(7)\n",
    "                    name = api_call(artist)['response']['artist']['name']\n",
    "                    print \"successful request!\"\n",
    "                    print \"artist name: \", name\n",
    "                    neighbors['artist'].append({'name': name, 'id': artistid})\n",
    "        elif item == 'albums':\n",
    "            for album in vals:\n",
    "                albumid = album.rpartition('/')[2]\n",
    "                if s.find({'album.id': int(albumid)}).count():\n",
    "                    name = s.find({'album.id': int(albumid)}, {'album.name': 1}).next()\n",
    "                    albumname = name['album']['name']\n",
    "                    neighbors['album'].append({'name': albumname, 'id': albumid})\n",
    "                else:\n",
    "                    print \"calling albumid: \", albumid\n",
    "                    time.sleep(7)\n",
    "                    name = api_call(album)['response']['album']['name']\n",
    "                    print \"successful request!\"\n",
    "                    print \"album name: \", name\n",
    "                    neighbors['album'].append({'name': name, 'id': albumid})\n",
    "        elif item == 'songs':\n",
    "            for song in vals:\n",
    "                songid = song.rpartition('/')[2]\n",
    "                if s.find({'id': int(songid)}).count(): \n",
    "                    data = s.find({'id': int(songid)}, {'title':1, 'artist':1}).next()\n",
    "                    title = data['title']\n",
    "                    artist = data['artist']\n",
    "                    neighbors['song'].append({'title':title, 'artist':artist, 'id':songid})\n",
    "                else:\n",
    "                    neighbors['song_unannotated'].append({'id':songid})\n",
    "        elif item == 'other':\n",
    "            for other in vals:\n",
    "                otherid = other.rpartition('/')[2]\n",
    "                print \"calling other: \", other\n",
    "                name = api_call(other)['response']['song']['title']\n",
    "                neighbors['other'].append({'title':name, 'id':otherid})\n",
    "                \n",
    "    return neighbors"
   ]
  },
  {
   "cell_type": "code",
   "execution_count": 12,
   "metadata": {
    "collapsed": true
   },
   "outputs": [],
   "source": [
    "def annotate_song(songid):\n",
    "    if s.find({'id':songid}).count() > 0:\n",
    "        print \"already in Mongo... returning Mongo query\"\n",
    "        return s.find({'id':songid}).next()\n",
    "    else:\n",
    "        song_info = {}\n",
    "        myrequest = req_start+'/songs/'+str(songid)\n",
    "        r = requests.get(myrequest, headers={'Authorization':auth})\n",
    "        song_json = json.loads(r.content)\n",
    "        song_info['title'] = str(song_json['response']['song']['title'])\n",
    "        song_info['artist'] = str(song_json['response']['song']['primary_artist']['name'])\n",
    "        song_info['artist_id'] = song_json['response']['song']['primary_artist']['id']\n",
    "        pickle_title = '_'.join(song_info['title'].split())+\"_\"+'_'.join(song_info['artist'].split())+\".pkl\"\n",
    "        pickleDump(song_json, pickle_title)\n",
    "        if song_json['response']['song']['album'] != None:\n",
    "            song_info['album'] = {'name': str(song_json['response']['song']['album']['name']), \n",
    "                              'id': song_json['response']['song']['album']['id']}\n",
    "        song_info['id'] = song_json['response']['song']['id']\n",
    "\n",
    "        # may or may not exist\n",
    "        song_info['featured_artists'] = []\n",
    "        song_info['writers'] = []\n",
    "        song_info['producers'] = []\n",
    "        \n",
    "        if song_json['response']['song']['sampled_songs']:\n",
    "            song_info['sampled_songs'] = song_json['response']['song']['sampled_songs']\n",
    "        if song_json['response']['song']['sampling_songs']:\n",
    "            song_info['sampling_songs'] = song_json['response']['song']['sampling_songs']\n",
    "\n",
    "        for artist in song_json['response']['song']['featured_artists']:\n",
    "            if artist['name']!=song_info['artist']:\n",
    "                song_info['featured_artists'].append({'artist':artist['name'], 'id':artist['id']})\n",
    "        for artist in song_json['response']['song']['producer_artists']:\n",
    "            if artist['name']!=song_info['artist']:\n",
    "                song_info['producers'].append({'artist':artist['name'], 'id':artist['id']})\n",
    "        for artist in song_json['response']['song']['writer_artists']:\n",
    "            if artist['name']!=song_info['artist']:\n",
    "                song_info['writers'].append({'artist':artist['name'], 'id':artist['id']})\n",
    "\n",
    "        if not song_info['featured_artists']:\n",
    "            del song_info['featured_artists']\n",
    "        if not song_info['writers']:\n",
    "            del song_info['writers']\n",
    "        if not song_info['producers']:\n",
    "            del song_info['producers']\n",
    "\n",
    "        # references!!\n",
    "        time.sleep(7)\n",
    "        song_info['references'] = dict(get_neighbors(get_annotations(songid)))\n",
    "        time.sleep(7)\n",
    "        song_info['description_refs'] = dict(get_neighbors(description_refs(song_json)))\n",
    "        \n",
    "        pickled_annotation = pickle_title[0:-4]+\"_annotated.pkl\"\n",
    "        pickleDump(song_info, pickled_annotation)\n",
    "        return song_info"
   ]
  },
  {
   "cell_type": "code",
   "execution_count": 2,
   "metadata": {
    "collapsed": true
   },
   "outputs": [],
   "source": [
    "songs_for_friends = [107655, 493169]"
   ]
  },
  {
   "cell_type": "code",
   "execution_count": 8,
   "metadata": {
    "collapsed": true
   },
   "outputs": [],
   "source": [
    "unable_to_insert = [2400811, 2342860, 2439141, 2339761, 2347642, 332635, 2347598, 2399225, \\\n",
    "                    2386805, 639247, 2432858, 2403555, 2163216, 2213105, 2312325, 2414510, 2426159, 2421937]"
   ]
  },
  {
   "cell_type": "code",
   "execution_count": 13,
   "metadata": {
    "collapsed": false
   },
   "outputs": [
    {
     "name": "stdout",
     "output_type": "stream",
     "text": [
      "calling artistid:  18047\n",
      "successful request!\n",
      "artist name:  Joey BADA$$\n",
      "!!!inserted  107655  to Mongo!!!!\n",
      "!!!inserted  493169  to Mongo!!!!\n"
     ]
    }
   ],
   "source": [
    "for songid in songs_for_friends:\n",
    "    if s.find({'id':songid}).count()>0:\n",
    "        print \"song id \", songid, \" in Mongo already\"\n",
    "        continue\n",
    "    else:\n",
    "        try:\n",
    "            annotated = annotate_song(songid)\n",
    "            s.insert_one(annotated)\n",
    "            print \"!!!inserted \", songid, \" to Mongo!!!!\"\n",
    "        except:\n",
    "            print \"!!!unable to insert: \", songid\n",
    "            continue"
   ]
  },
  {
   "cell_type": "code",
   "execution_count": 10,
   "metadata": {
    "collapsed": true
   },
   "outputs": [],
   "source": [
    "rap_caviar = [2400811, 2415289, 2342860, 2369079, 2411389, 2304247, 2396302, 599451, \\\n",
    "              2398213, 2433137, 2330692, 2392485, 2348651, 2295548, 2372618, 2425602, \\\n",
    "              2439141, 2165110, 2375319, 2312297, 2339761, 2394578, 2305085, 2422646, \\\n",
    "              2347642, 2396122, 2307164, 332635, 2347598, 1783676, 2399225, 2386805, 639247, \\\n",
    "              2432858, 709256, 2403555, 2163216, 2417517, 2401700, 2213105, 2312325, 2414510, \\\n",
    "              2426159, 2426609, 2424059, 2344225, 2440578, 2433471, 2421937, 2413367]"
   ]
  },
  {
   "cell_type": "code",
   "execution_count": 12,
   "metadata": {
    "collapsed": false
   },
   "outputs": [],
   "source": [
    "inserted = [x for x in rap_caviar if x not in unable_to_insert]"
   ]
  },
  {
   "cell_type": "code",
   "execution_count": 16,
   "metadata": {
    "collapsed": false
   },
   "outputs": [],
   "source": [
    "# add fetty wap's \"my way\"\n",
    "inserted.append(653082)"
   ]
  },
  {
   "cell_type": "code",
   "execution_count": 32,
   "metadata": {
    "collapsed": false
   },
   "outputs": [],
   "source": [
    "myway_song = pickleLoad('my_way_fetty_wap.pkl')\n",
    "myway_info = pickleLoad('my_way_fetty_wap_info.pkl')"
   ]
  },
  {
   "cell_type": "code",
   "execution_count": 30,
   "metadata": {
    "collapsed": false
   },
   "outputs": [
    {
     "data": {
      "text/plain": [
       "{u'_id': ObjectId('56ef3685895742130ba296f8'),\n",
       " u'album': {u'id': 129747, u'name': u'Fetty Wap '},\n",
       " u'artist': u'Fetty Wap',\n",
       " u'artist_id': 216609.0,\n",
       " u'description_refs': {u'song_unannotated': [{u'id': u'496445'}]},\n",
       " u'featured_artists': [{u'artist': u'Monty', u'id': 19635}],\n",
       " u'id': 653082,\n",
       " u'producers': [{u'artist': u'JayFrance', u'id': 557945},\n",
       "  {u'artist': u'Nick EBeats', u'id': 72396}],\n",
       " u'references': {u'artist': [{u'id': u'7031', u'name': u'Luther Vandross'}],\n",
       "  u'song_unannotated': [{u'id': u'496445'}]},\n",
       " u'title': u'My Way',\n",
       " u'writers': [{u'artist': u'Remy Boyz', u'id': 211094}]}"
      ]
     },
     "execution_count": 30,
     "metadata": {},
     "output_type": "execute_result"
    }
   ],
   "source": [
    "s.find({'id':myway_info['id']}).next()"
   ]
  },
  {
   "cell_type": "code",
   "execution_count": 33,
   "metadata": {
    "collapsed": false
   },
   "outputs": [
    {
     "data": {
      "text/plain": [
       "{'_id': ObjectId('56ef3685895742130ba296f8'),\n",
       " 'album': {'id': 129747, 'name': 'Fetty Wap '},\n",
       " 'artist': 'Fetty Wap',\n",
       " 'artist_id': 216609,\n",
       " 'description_refs': {'song_unannotated': [{'id': '496445'}]},\n",
       " 'featured_artists': [{'artist': u'Monty', 'id': 19635}],\n",
       " 'id': 653082,\n",
       " 'producers': [{'artist': u'JayFrance', 'id': 557945},\n",
       "  {'artist': u'Nick EBeats', 'id': 72396}],\n",
       " 'references': {'artist': [{'id': '7031', 'name': u'Luther Vandross'}],\n",
       "  'song_unannotated': [{'id': '496445'}]},\n",
       " 'title': 'My Way',\n",
       " 'writers': [{'artist': u'Remy Boyz', 'id': 211094}]}"
      ]
     },
     "execution_count": 33,
     "metadata": {},
     "output_type": "execute_result"
    }
   ],
   "source": [
    "myway_info"
   ]
  },
  {
   "cell_type": "code",
   "execution_count": 28,
   "metadata": {
    "collapsed": false
   },
   "outputs": [
    {
     "data": {
      "text/plain": [
       "653082"
      ]
     },
     "execution_count": 28,
     "metadata": {},
     "output_type": "execute_result"
    }
   ],
   "source": [
    "myway_info['id']"
   ]
  },
  {
   "cell_type": "code",
   "execution_count": 23,
   "metadata": {
    "collapsed": false
   },
   "outputs": [
    {
     "name": "stdout",
     "output_type": "stream",
     "text": [
      "9\n",
      "9\n"
     ]
    }
   ],
   "source": [
    "print len(myway_song['response']['song']['primary_artist']['name'])\n",
    "print len(myway_song['response']['song']['album']['artist']['name'])"
   ]
  },
  {
   "cell_type": "code",
   "execution_count": 24,
   "metadata": {
    "collapsed": false
   },
   "outputs": [
    {
     "name": "stdout",
     "output_type": "stream",
     "text": [
      "[]\n",
      "[]\n"
     ]
    }
   ],
   "source": [
    "print myway_song['response']['song']['sampled_songs']\n",
    "print myway_song['response']['song']['sampling_songs']"
   ]
  },
  {
   "cell_type": "code",
   "execution_count": 26,
   "metadata": {
    "collapsed": false
   },
   "outputs": [
    {
     "data": {
      "text/plain": [
       "31"
      ]
     },
     "execution_count": 26,
     "metadata": {},
     "output_type": "execute_result"
    }
   ],
   "source": [
    "len(inserted)-2"
   ]
  },
  {
   "cell_type": "code",
   "execution_count": 27,
   "metadata": {
    "collapsed": true
   },
   "outputs": [],
   "source": [
    "to_be_updated = [('Summer_Sixteen_Drake.pkl', 'Summer_Sixteen_Drake_annotated.pkl'), \n",
    "('Hercules_Young_Thug.pkl', 'Hercules_Young_Thug_annotated.pkl'),\n",
    "('Solo_ILoveMakonnen.pkl', 'Solo_ILoveMakonnen_annotated.pkl'),\n",
    "('Bake_Sale_Wiz_Khalifa.pkl', 'Bake_Sale_Wiz_Khalifa_annotated.pkl'),\n",
    "('Low_Life_Future.pkl', 'Low_Life_Future_annotated.pkl'),\n",
    "('Love_Yourz_J._Cole.pkl', 'Love_Yourz_J._Cole_annotated.pkl'),\n",
    "('Work_Rihanna.pkl', 'Work_Rihanna_annotated.pkl'),\n",
    "('Gotta_Lotta_2_Chainz_&_Lil_Wayne.pkl', 'Gotta_Lotta_2_Chainz_&_Lil_Wayne_annotated.pkl'),\n",
    "('Saved_Ty_Dolla_$ign.pkl', 'Saved_Ty_Dolla_$ign_annotated.pkl'),\n",
    "('New_Level_A$AP_Ferg.pkl', 'New_Level_A$AP_Ferg_annotated.pkl'),\n",
    "('2_Phones_Kevin_Gates.pkl', '2_Phones_Kevin_Gates_annotated.pkl'),\n",
    "('Cut_It_O.T._Genasis.pkl', 'Cut_It_O.T._Genasis_annotated.pkl'),\n",
    "('Plug_Rich_The_Kid.pkl', 'Plug_Rich_The_Kid_annotated.pkl'),\n",
    "('Law_Yo_Gotti.pkl', 'Law_Yo_Gotti_annotated.pkl'),\n",
    "('Best_Friend_Young_Thug.pkl', 'Best_Friend_Young_Thug_annotated.pkl'),\n",
    "('Pass_Dat_Jeremih.pkl', 'Pass_Dat_Jeremih_annotated.pkl'),\n",
    "('Exchange_Bryson_Tiller.pkl', 'Exchange_Bryson_Tiller_annotated.pkl'),\n",
    "('Ready_Chaz_French.pkl', 'Ready_Chaz_French_annotated.pkl'),\n",
    "('Weekend_Mac_Miller.pkl', 'Weekend_Mac_Miller_annotated.pkl'),\n",
    "('Ladies_Hit_Squad_Skepta.pkl', 'Ladies_Hit_Squad_Skepta_annotated.pkl'),\n",
    "('Moolah_Young_Greatness.pkl', 'Moolah_Young_Greatness_annotated.pkl'),\n",
    "('Walked_In_Bankroll_Fresh.pkl', 'Walked_In_Bankroll_Fresh_annotated.pkl'),\n",
    "('Sorry_Not_Sorry_Bryson_Tiller.pkl', 'Sorry_Not_Sorry_Bryson_Tiller_annotated.pkl'),\n",
    "('Photo_Copied_Future.pkl', 'Photo_Copied_Future_annotated.pkl'),\n",
    "('By_Chance_Mike_WiLL_Made_It.pkl', 'By_Chance_Mike_WiLL_Made_It_annotated.pkl'),\n",
    "('Key_To_The_Streets_YFN_Lucci.pkl', 'Key_To_The_Streets_YFN_Lucci_annotated.pkl'),\n",
    "('Money_Talk_T.I..pkl', 'Money_Talk_T.I._annotated.pkl'),\n",
    "('Top_Lil_Uzi_Vert.pkl', 'Top_Lil_Uzi_Vert_annotated.pkl'),\n",
    "(\"Pushin'_ILoveMakonnen.pkl\", \"Pushin'_ILoveMakonnen_annotated.pkl\"),\n",
    "('Bounce_2_Chainz_&_Lil_Wayne.pkl', 'Bounce_2_Chainz_&_Lil_Wayne_annotated.pkl'),\n",
    "('Slugs_Trae_tha_Truth.pkl', 'Slugs_Trae_tha_Truth_annotated.pkl')]"
   ]
  },
  {
   "cell_type": "code",
   "execution_count": 36,
   "metadata": {
    "collapsed": true
   },
   "outputs": [],
   "source": [
    "def update_annotation(song):\n",
    "    song_json = pickleLoad(song[0])\n",
    "    song_info = pickleLoad(song[1])\n",
    "    \n",
    "    if song_json['response']['song']['sampled_songs']:\n",
    "        song_info['sampled_songs'] = song_json['response']['song']['sampled_songs']\n",
    "    if song_json['response']['song']['sampling_songs']:\n",
    "        song_info['sampling_songs'] = song_json['response']['song']['sampling_songs']\n",
    "        \n",
    "    song_info['artist'] = str(song_json['response']['song']['primary_artist']['name'])\n",
    "    song_info['artist_id'] = song_json['response']['song']['primary_artist']['id']\n",
    "    \n",
    "    return song_info"
   ]
  },
  {
   "cell_type": "code",
   "execution_count": 37,
   "metadata": {
    "collapsed": false
   },
   "outputs": [],
   "source": [
    "summersixteen = update_annotation(to_be_updated[0])"
   ]
  },
  {
   "cell_type": "code",
   "execution_count": 42,
   "metadata": {
    "collapsed": false
   },
   "outputs": [
    {
     "data": {
      "text/plain": [
       "2415289"
      ]
     },
     "execution_count": 42,
     "metadata": {},
     "output_type": "execute_result"
    }
   ],
   "source": [
    "summersixteen['id']"
   ]
  },
  {
   "cell_type": "code",
   "execution_count": 40,
   "metadata": {
    "collapsed": false
   },
   "outputs": [
    {
     "name": "stderr",
     "output_type": "stream",
     "text": [
      "/anaconda/lib/python2.7/site-packages/ipykernel/__main__.py:1: DeprecationWarning: update is deprecated. Use replace_one, update_one or update_many instead.\n",
      "  if __name__ == '__main__':\n"
     ]
    },
    {
     "data": {
      "text/plain": [
       "{u'n': 1, u'nModified': 1, u'ok': 1, 'updatedExisting': True}"
      ]
     },
     "execution_count": 40,
     "metadata": {},
     "output_type": "execute_result"
    }
   ],
   "source": [
    "s.update_one({'id':2415289}, summersixteen)"
   ]
  },
  {
   "cell_type": "code",
   "execution_count": 41,
   "metadata": {
    "collapsed": false
   },
   "outputs": [
    {
     "data": {
      "text/plain": [
       "{u'_id': ObjectId('56ef4e178957421b672a9613'),\n",
       " u'album': {u'id': 132506, u'name': u'Views From The 6'},\n",
       " u'artist': u'Drake',\n",
       " u'artist_id': 130,\n",
       " u'description_refs': {u'album': [{u'id': u'132506',\n",
       "    u'name': u'Views From The 6'}],\n",
       "  u'other': [{u'id': u'2415314', u'title': u'War Pain'}],\n",
       "  u'song_unannotated': [{u'id': u'2413886'}]},\n",
       " u'id': 2415289,\n",
       " u'producers': [{u'artist': u'Noah \\u201c40\\u201d Shebib', u'id': 27612},\n",
       "  {u'artist': u'Boi-1da', u'id': 662},\n",
       "  {u'artist': u'Brian Bennett', u'id': 634949},\n",
       "  {u'artist': u'Cubeatz', u'id': 32429}],\n",
       " u'references': {u'album': [{u'id': u'120604', u'name': u'The Life of Pablo'}],\n",
       "  u'artist': [{u'id': u'1632', u'name': u'Tory Lanez'},\n",
       "   {u'id': u'1632', u'name': u'Tory Lanez'},\n",
       "   {u'id': u'27638', u'name': u'KeY Wane'},\n",
       "   {u'id': u'1319', u'name': u'Meek Mill'}],\n",
       "  u'other': [{u'id': u'1791', u'title': u'Gorgeous'}],\n",
       "  u'song_unannotated': [{u'id': u'2310122'},\n",
       "   {u'id': u'140752'},\n",
       "   {u'id': u'217266'},\n",
       "   {u'id': u'2396836'},\n",
       "   {u'id': u'156640'},\n",
       "   {u'id': u'73301'},\n",
       "   {u'id': u'196551'},\n",
       "   {u'id': u'51360'},\n",
       "   {u'id': u'703742'},\n",
       "   {u'id': u'2266961'}]},\n",
       " u'sampled_songs': [{u'annotation_count': 1,\n",
       "   u'full_title': u'The Question Is by\\xa0The\\xa0Winans',\n",
       "   u'header_image_thumbnail_url': u'https://images.rapgenius.com/13359c33af1a893ebbdbd2486be6e4c9.300x300x1.jpg',\n",
       "   u'header_image_url': u'https://images.rapgenius.com/13359c33af1a893ebbdbd2486be6e4c9.600x600x1.jpg',\n",
       "   u'id': 1366283,\n",
       "   u'path': u'/The-winans-the-question-is-lyrics',\n",
       "   u'primary_artist': {u'id': 372361,\n",
       "    u'image_url': u'https://images.rapgenius.com/6b8da21c48d301d854d60d05738c6b50.500x333x1.jpg',\n",
       "    u'is_verified': False,\n",
       "    u'name': u'The Winans',\n",
       "    u'url': u'http://genius.com/artists/The-winans'},\n",
       "   u'pyongs_count': None,\n",
       "   u'title': u'The Question Is',\n",
       "   u'url': u'http://genius.com/The-winans-the-question-is-lyrics'}],\n",
       " u'title': u'Summer Sixteen'}"
      ]
     },
     "execution_count": 41,
     "metadata": {},
     "output_type": "execute_result"
    }
   ],
   "source": [
    "s.find({'id':2415289}).next()"
   ]
  },
  {
   "cell_type": "code",
   "execution_count": 43,
   "metadata": {
    "collapsed": false
   },
   "outputs": [
    {
     "data": {
      "text/plain": [
       "43"
      ]
     },
     "execution_count": 43,
     "metadata": {},
     "output_type": "execute_result"
    }
   ],
   "source": [
    "s.count()"
   ]
  },
  {
   "cell_type": "code",
   "execution_count": 44,
   "metadata": {
    "collapsed": true
   },
   "outputs": [],
   "source": [
    "for thesong in to_be_updated:\n",
    "    try:\n",
    "        newanno = update_annotation(thesong)\n",
    "        songid = newanno['id']\n",
    "        s.update_one({'id':songid}, newanno)\n",
    "    except:\n",
    "        \"unable to update song: \", thesong[0]"
   ]
  },
  {
   "cell_type": "code",
   "execution_count": 45,
   "metadata": {
    "collapsed": false
   },
   "outputs": [
    {
     "data": {
      "text/plain": [
       "43"
      ]
     },
     "execution_count": 45,
     "metadata": {},
     "output_type": "execute_result"
    }
   ],
   "source": [
    "s.count()"
   ]
  },
  {
   "cell_type": "code",
   "execution_count": 46,
   "metadata": {
    "collapsed": false
   },
   "outputs": [
    {
     "data": {
      "text/plain": [
       "{u'_id': ObjectId('56ef3685895742130ba296f8'),\n",
       " u'album': {u'id': 129747, u'name': u'Fetty Wap '},\n",
       " u'artist': u'Fetty Wap',\n",
       " u'artist_id': 216609.0,\n",
       " u'description_refs': {u'song_unannotated': [{u'id': u'496445'}]},\n",
       " u'featured_artists': [{u'artist': u'Monty', u'id': 19635}],\n",
       " u'id': 653082,\n",
       " u'producers': [{u'artist': u'JayFrance', u'id': 557945},\n",
       "  {u'artist': u'Nick EBeats', u'id': 72396}],\n",
       " u'references': {u'artist': [{u'id': u'7031', u'name': u'Luther Vandross'}],\n",
       "  u'song_unannotated': [{u'id': u'496445'}]},\n",
       " u'title': u'My Way',\n",
       " u'writers': [{u'artist': u'Remy Boyz', u'id': 211094}]}"
      ]
     },
     "execution_count": 46,
     "metadata": {},
     "output_type": "execute_result"
    }
   ],
   "source": [
    "s.find({'description_refs.song_unnannotated': {'$exists': true}},\n",
    "        {'description_refs.song_unannotated'})"
   ]
  },
  {
   "cell_type": "code",
   "execution_count": 95,
   "metadata": {
    "collapsed": false
   },
   "outputs": [
    {
     "data": {
      "text/plain": [
       "{u'_id': ObjectId('56ef3685895742130ba296f8'),\n",
       " u'album': {u'id': 129747, u'name': u'Fetty Wap '},\n",
       " u'artist': u'Fetty Wap',\n",
       " u'artist_id': 216609.0,\n",
       " u'description_refs': {u'song_unannotated': [{u'id': u'496445'}]},\n",
       " u'featured_artists': [{u'artist': u'Monty', u'id': 19635}],\n",
       " u'id': 653082,\n",
       " u'producers': [{u'artist': u'JayFrance', u'id': 557945},\n",
       "  {u'artist': u'Nick EBeats', u'id': 72396}],\n",
       " u'references': {u'artist': [{u'id': u'7031', u'name': u'Luther Vandross'}],\n",
       "  u'song_unannotated': [{u'id': u'496445'}]},\n",
       " u'title': u'My Way',\n",
       " u'writers': [{u'artist': u'Remy Boyz', u'id': 211094}]}"
      ]
     },
     "execution_count": 95,
     "metadata": {},
     "output_type": "execute_result"
    }
   ],
   "source": [
    "s.find({'description_refs.song_unannotated': {'$eq':653082}}).next()"
   ]
  },
  {
   "cell_type": "code",
   "execution_count": 96,
   "metadata": {
    "collapsed": false
   },
   "outputs": [
    {
     "data": {
      "text/plain": [
       "{u'_id': ObjectId('56ef3685895742130ba296f8'),\n",
       " u'album': {u'id': 129747, u'name': u'Fetty Wap '},\n",
       " u'artist': u'Fetty Wap',\n",
       " u'artist_id': 216609.0,\n",
       " u'description_refs': {u'song_unannotated': [{u'id': u'496445'}]},\n",
       " u'featured_artists': [{u'artist': u'Monty', u'id': 19635}],\n",
       " u'id': 653082,\n",
       " u'producers': [{u'artist': u'JayFrance', u'id': 557945},\n",
       "  {u'artist': u'Nick EBeats', u'id': 72396}],\n",
       " u'references': {u'artist': [{u'id': u'7031', u'name': u'Luther Vandross'}],\n",
       "  u'song_unannotated': [{u'id': u'496445'}]},\n",
       " u'title': u'My Way',\n",
       " u'writers': [{u'artist': u'Remy Boyz', u'id': 211094}]}"
      ]
     },
     "execution_count": 96,
     "metadata": {},
     "output_type": "execute_result"
    }
   ],
   "source": [
    "s.find({'description_refs.song_unannotated': {'$elemMatch':{'id':'496445'}}}).next()"
   ]
  },
  {
   "cell_type": "code",
   "execution_count": 76,
   "metadata": {
    "collapsed": true
   },
   "outputs": [],
   "source": [
    "more_songs = []"
   ]
  },
  {
   "cell_type": "code",
   "execution_count": 407,
   "metadata": {
    "collapsed": false
   },
   "outputs": [],
   "source": [
    "c = s.find({'description_refs.song_unannotated': {'$exists': 'true'}},\n",
    "        {'description_refs.song_unannotated': 1, '_id':0})"
   ]
  },
  {
   "cell_type": "code",
   "execution_count": 406,
   "metadata": {
    "collapsed": true
   },
   "outputs": [],
   "source": [
    "r = s.find({'references.song_unannotated': {'$exists': 'true'}},\n",
    "        {'references.song_unannotated': 1, '_id':0})"
   ]
  },
  {
   "cell_type": "code",
   "execution_count": 400,
   "metadata": {
    "collapsed": true
   },
   "outputs": [],
   "source": [
    "supposedly_unannotated = []"
   ]
  },
  {
   "cell_type": "code",
   "execution_count": 408,
   "metadata": {
    "collapsed": true
   },
   "outputs": [],
   "source": [
    "for i in list(c):\n",
    "    for song in i['description_refs']['song_unannotated']:\n",
    "        supposedly_unannotated.append(int(song['id']))\n",
    "for i in list(r):\n",
    "    for song in i['references']['song_unannotated']:\n",
    "        supposedly_unannotated.append(int(song['id']))"
   ]
  },
  {
   "cell_type": "code",
   "execution_count": 81,
   "metadata": {
    "collapsed": false
   },
   "outputs": [],
   "source": [
    "for i in list(c):\n",
    "    for song in i['description_refs']['song_unannotated']:\n",
    "        more_songs.append(int(song['id']))\n",
    "for i in list(r):\n",
    "    for song in i['references']['song_unannotated']:\n",
    "        more_songs.append(int(song['id']))"
   ]
  },
  {
   "cell_type": "code",
   "execution_count": 82,
   "metadata": {
    "collapsed": false
   },
   "outputs": [
    {
     "data": {
      "text/plain": [
       "[496445,\n",
       " 2413886,\n",
       " 2339761,\n",
       " 2396309,\n",
       " 2417474,\n",
       " 599395,\n",
       " 1812,\n",
       " 58344,\n",
       " 525473,\n",
       " 2213836,\n",
       " 583542,\n",
       " 539654,\n",
       " 539654,\n",
       " 2274243,\n",
       " 2396309,\n",
       " 2422513,\n",
       " 2315263,\n",
       " 2172126,\n",
       " 2311370,\n",
       " 2213836,\n",
       " 2311366,\n",
       " 2399227,\n",
       " 558257,\n",
       " 2368510,\n",
       " 496445,\n",
       " 66225,\n",
       " 653082,\n",
       " 2310122,\n",
       " 140752,\n",
       " 217266,\n",
       " 2396836,\n",
       " 156640,\n",
       " 73301,\n",
       " 196551,\n",
       " 51360,\n",
       " 703742,\n",
       " 2266961,\n",
       " 386316,\n",
       " 42966,\n",
       " 499835,\n",
       " 460183,\n",
       " 729458,\n",
       " 729458,\n",
       " 2311369,\n",
       " 164344,\n",
       " 2373,\n",
       " 599433,\n",
       " 648314,\n",
       " 240199,\n",
       " 2322011,\n",
       " 1932,\n",
       " 55599,\n",
       " 2413931,\n",
       " 15961,\n",
       " 151327,\n",
       " 693724,\n",
       " 415574,\n",
       " 28749,\n",
       " 149774,\n",
       " 108547,\n",
       " 55662,\n",
       " 136893,\n",
       " 26798,\n",
       " 579968,\n",
       " 2440697,\n",
       " 4849,\n",
       " 454,\n",
       " 66,\n",
       " 497,\n",
       " 2315263,\n",
       " 579968,\n",
       " 579968,\n",
       " 507478,\n",
       " 423398,\n",
       " 602900,\n",
       " 2711,\n",
       " 2273460,\n",
       " 2342995,\n",
       " 101184,\n",
       " 569389,\n",
       " 2381771,\n",
       " 67051,\n",
       " 728784,\n",
       " 559442,\n",
       " 2214983,\n",
       " 499870,\n",
       " 2399227,\n",
       " 360730,\n",
       " 703732,\n",
       " 76654,\n",
       " 21902,\n",
       " 59024,\n",
       " 2426159]"
      ]
     },
     "execution_count": 82,
     "metadata": {},
     "output_type": "execute_result"
    }
   ],
   "source": [
    "more_songs"
   ]
  },
  {
   "cell_type": "code",
   "execution_count": 83,
   "metadata": {
    "collapsed": false
   },
   "outputs": [
    {
     "data": {
      "text/plain": [
       "[2400811,\n",
       " 2342860,\n",
       " 2439141,\n",
       " 2339761,\n",
       " 2347642,\n",
       " 332635,\n",
       " 2347598,\n",
       " 2399225,\n",
       " 2386805,\n",
       " 639247,\n",
       " 2432858,\n",
       " 2403555,\n",
       " 2163216,\n",
       " 2213105,\n",
       " 2312325,\n",
       " 2414510,\n",
       " 2426159,\n",
       " 2421937]"
      ]
     },
     "execution_count": 83,
     "metadata": {},
     "output_type": "execute_result"
    }
   ],
   "source": [
    "unable_to_insert"
   ]
  },
  {
   "cell_type": "code",
   "execution_count": 85,
   "metadata": {
    "collapsed": false
   },
   "outputs": [
    {
     "data": {
      "text/plain": [
       "33"
      ]
     },
     "execution_count": 85,
     "metadata": {},
     "output_type": "execute_result"
    }
   ],
   "source": [
    "len(inserted)"
   ]
  },
  {
   "cell_type": "code",
   "execution_count": 86,
   "metadata": {
    "collapsed": false
   },
   "outputs": [
    {
     "data": {
      "text/plain": [
       "93"
      ]
     },
     "execution_count": 86,
     "metadata": {},
     "output_type": "execute_result"
    }
   ],
   "source": [
    "len(more_songs)"
   ]
  },
  {
   "cell_type": "code",
   "execution_count": 99,
   "metadata": {
    "collapsed": true
   },
   "outputs": [],
   "source": [
    "myway_songid = 653082"
   ]
  },
  {
   "cell_type": "code",
   "execution_count": 101,
   "metadata": {
    "collapsed": false
   },
   "outputs": [],
   "source": [
    "ref = s.find({'id':653082}).next()"
   ]
  },
  {
   "cell_type": "code",
   "execution_count": 102,
   "metadata": {
    "collapsed": false
   },
   "outputs": [
    {
     "name": "stdout",
     "output_type": "stream",
     "text": [
      "My Way\n",
      "653082\n",
      "Fetty Wap\n"
     ]
    }
   ],
   "source": [
    "print ref['title']\n",
    "print ref['id']\n",
    "print ref['artist']"
   ]
  },
  {
   "cell_type": "code",
   "execution_count": 116,
   "metadata": {
    "collapsed": false
   },
   "outputs": [
    {
     "data": {
      "text/plain": [
       "[{u'_id': ObjectId('56ef4e178957421b672a9613'),\n",
       "  u'album': {u'id': 132506, u'name': u'Views From The 6'},\n",
       "  u'artist': u'Drake',\n",
       "  u'artist_id': 130,\n",
       "  u'description_refs': {u'album': [{u'id': u'132506',\n",
       "     u'name': u'Views From The 6'}],\n",
       "   u'other': [{u'id': u'2415314', u'title': u'War Pain'}],\n",
       "   u'song_unannotated': [{u'id': u'2413886'}]},\n",
       "  u'id': 2415289,\n",
       "  u'producers': [{u'artist': u'Noah \\u201c40\\u201d Shebib', u'id': 27612},\n",
       "   {u'artist': u'Boi-1da', u'id': 662},\n",
       "   {u'artist': u'Brian Bennett', u'id': 634949},\n",
       "   {u'artist': u'Cubeatz', u'id': 32429}],\n",
       "  u'references': {u'album': [{u'id': u'120604',\n",
       "     u'name': u'The Life of Pablo'}],\n",
       "   u'artist': [{u'id': u'1632', u'name': u'Tory Lanez'},\n",
       "    {u'id': u'1632', u'name': u'Tory Lanez'},\n",
       "    {u'id': u'27638', u'name': u'KeY Wane'},\n",
       "    {u'id': u'1319', u'name': u'Meek Mill'}],\n",
       "   u'other': [{u'id': u'1791', u'title': u'Gorgeous'}],\n",
       "   u'song_unannotated': [{u'id': u'2310122'},\n",
       "    {u'id': u'140752'},\n",
       "    {u'id': u'217266'},\n",
       "    {u'id': u'2396836'},\n",
       "    {u'id': u'156640'},\n",
       "    {u'id': u'73301'},\n",
       "    {u'id': u'196551'},\n",
       "    {u'id': u'51360'},\n",
       "    {u'id': u'703742'},\n",
       "    {u'id': u'2266961'}]},\n",
       "  u'sampled_songs': [{u'annotation_count': 1,\n",
       "    u'full_title': u'The Question Is by\\xa0The\\xa0Winans',\n",
       "    u'header_image_thumbnail_url': u'https://images.rapgenius.com/13359c33af1a893ebbdbd2486be6e4c9.300x300x1.jpg',\n",
       "    u'header_image_url': u'https://images.rapgenius.com/13359c33af1a893ebbdbd2486be6e4c9.600x600x1.jpg',\n",
       "    u'id': 1366283,\n",
       "    u'path': u'/The-winans-the-question-is-lyrics',\n",
       "    u'primary_artist': {u'id': 372361,\n",
       "     u'image_url': u'https://images.rapgenius.com/6b8da21c48d301d854d60d05738c6b50.500x333x1.jpg',\n",
       "     u'is_verified': False,\n",
       "     u'name': u'The Winans',\n",
       "     u'url': u'http://genius.com/artists/The-winans'},\n",
       "    u'pyongs_count': None,\n",
       "    u'title': u'The Question Is',\n",
       "    u'url': u'http://genius.com/The-winans-the-question-is-lyrics'}],\n",
       "  u'title': u'Summer Sixteen'}]"
      ]
     },
     "execution_count": 116,
     "metadata": {},
     "output_type": "execute_result"
    }
   ],
   "source": [
    "list(s.find({'description_refs.song_unannotated':{'$elemMatch':{'id':str(2413886)}}}))"
   ]
  },
  {
   "cell_type": "code",
   "execution_count": 115,
   "metadata": {
    "collapsed": false
   },
   "outputs": [
    {
     "data": {
      "text/plain": [
       "[]"
      ]
     },
     "execution_count": 115,
     "metadata": {},
     "output_type": "execute_result"
    }
   ],
   "source": [
    "list(s.find({'description_refs.song_unannotated':{'$elemMatch':{'id':str(myway_songid)}}}))"
   ]
  },
  {
   "cell_type": "code",
   "execution_count": 103,
   "metadata": {
    "collapsed": false
   },
   "outputs": [
    {
     "name": "stderr",
     "output_type": "stream",
     "text": [
      "/anaconda/lib/python2.7/site-packages/ipykernel/__main__.py:5: DeprecationWarning: update is deprecated. Use replace_one, update_one or update_many instead.\n"
     ]
    },
    {
     "data": {
      "text/plain": [
       "{u'n': 1, u'nModified': 1, u'ok': 1, 'updatedExisting': True}"
      ]
     },
     "execution_count": 103,
     "metadata": {},
     "output_type": "execute_result"
    }
   ],
   "source": [
    "s.update({'references.song_unannotated':{'$elemMatch':{'id':str(myway_songid)}}},\n",
    "         {'$set': {'references.song': \n",
    "                   {'id':str(myway_songid), 'title':ref['title'], 'artist':ref['artist']}\n",
    "                  },\n",
    "          '$unset': {'references.song_unannotated': {'$elemMatch':{'id':str(myway_songid)}}}\n",
    "         }\n",
    ")"
   ]
  },
  {
   "cell_type": "code",
   "execution_count": 111,
   "metadata": {
    "collapsed": false
   },
   "outputs": [
    {
     "name": "stderr",
     "output_type": "stream",
     "text": [
      "/anaconda/lib/python2.7/site-packages/ipykernel/__main__.py:2: DeprecationWarning: update is deprecated. Use replace_one, update_one or update_many instead.\n",
      "  from ipykernel import kernelapp as app\n"
     ]
    },
    {
     "data": {
      "text/plain": [
       "{u'n': 1, u'nModified': 1, u'ok': 1, 'updatedExisting': True}"
      ]
     },
     "execution_count": 111,
     "metadata": {},
     "output_type": "execute_result"
    }
   ],
   "source": [
    "s.update({'id':2396122},\n",
    "        {'$set': {'references.song': [{'id':str(myway_songid), 'title':ref['title'], 'artist':ref['artist']}]\n",
    "                }\n",
    "        })"
   ]
  },
  {
   "cell_type": "code",
   "execution_count": 112,
   "metadata": {
    "collapsed": false
   },
   "outputs": [
    {
     "data": {
      "text/plain": [
       "{u'_id': ObjectId('56ef38dd895742130ba296f9'),\n",
       " u'album': {u'id': 140468, u'name': u'Summer In The Winter'},\n",
       " u'artist': u'Kid Ink',\n",
       " u'artist_id': 1631.0,\n",
       " u'description_refs': {u'album': [{u'id': u'140468',\n",
       "    u'name': u'Summer In The Winter'}]},\n",
       " u'featured_artists': [{u'artist': u'Fetty Wap', u'id': 216609}],\n",
       " u'id': 2396122,\n",
       " u'producers': [{u'artist': u'DJ Mustard', u'id': 29780}],\n",
       " u'references': {u'album': [{u'id': u'10137',\n",
       "    u'name': u'The King of Crunk & BME Recordings Present Lil Scrappy & Trillville'}],\n",
       "  u'artist': [{u'id': u'17560', u'name': u'Ca$h Out'},\n",
       "   {u'id': u'29780', u'name': u'DJ Mustard'},\n",
       "   {u'id': u'134', u'name': u'Trillville'}],\n",
       "  u'other': [{u'id': u'583442', u'title': u'Kill Bill- Opening Scene'}],\n",
       "  u'song': [{u'artist': u'Fetty Wap', u'id': u'653082', u'title': u'My Way'}]},\n",
       " u'title': u'Promise'}"
      ]
     },
     "execution_count": 112,
     "metadata": {},
     "output_type": "execute_result"
    }
   ],
   "source": [
    "s.find({'id':2396122}).next()"
   ]
  },
  {
   "cell_type": "code",
   "execution_count": 121,
   "metadata": {
    "collapsed": true
   },
   "outputs": [],
   "source": [
    "def insert_neighbors(neighbors):\n",
    "    cant_insert = []\n",
    "    for songid in neighbors:\n",
    "        if s.find({'id':songid}).count()>0:\n",
    "            print \"song id \", songid, \" in Mongo already\"\n",
    "            continue\n",
    "        else:\n",
    "            try:\n",
    "                annotated = annotate_song(songid)\n",
    "                s.insert_one(annotated)\n",
    "                print \"inserted \", songid, \" to Mongo!!\"\n",
    "                to_insert = {'id':songid, 'title':annotated['title'], 'artist':annotated['artist']}\n",
    "                s.update({'references.song_unannotated':{'$elemMatch':{'id':str(songid)}}},\n",
    "                         {'$push': {'references.song': to_insert},\n",
    "                          '$unset': {'references.song_unannotated': {'$elemMatch':{'id':str(songid)}}}\n",
    "                         })\n",
    "                s.update({'description_refs.song_unannotated':{'$elemMatch':{'id':str(songid)}}},\n",
    "                 {'$push': {'description_refs.song': to_insert\n",
    "                            },\n",
    "                  '$unset': {'description_refs.song_unannotated': {'$elemMatch':{'id':str(songid)}}}\n",
    "                 })\n",
    "                time.sleep(7)\n",
    "            except:\n",
    "                cant_insert.append(songid)\n",
    "                continue"
   ]
  },
  {
   "cell_type": "code",
   "execution_count": 118,
   "metadata": {
    "collapsed": false
   },
   "outputs": [
    {
     "name": "stdout",
     "output_type": "stream",
     "text": [
      "calling artistid:  211094\n",
      "artist name:  Remy Boyz\n",
      "calling artistid:  216609\n",
      "artist name:  Fetty Wap\n",
      "calling artistid:  19635\n",
      "artist name:  Monty\n",
      "calling artistid:  324091\n",
      "artist name:  P-Dice\n",
      "inserted "
     ]
    },
    {
     "name": "stderr",
     "output_type": "stream",
     "text": [
      "/anaconda/lib/python2.7/site-packages/ipykernel/__main__.py:15: DeprecationWarning: update is deprecated. Use replace_one, update_one or update_many instead.\n",
      "/anaconda/lib/python2.7/site-packages/ipykernel/__main__.py:20: DeprecationWarning: update is deprecated. Use replace_one, update_one or update_many instead.\n"
     ]
    },
    {
     "name": "stdout",
     "output_type": "stream",
     "text": [
      " 496445  to Mongo!!\n",
      "calling albumid:  132506\n",
      "album name:  Views From The 6\n",
      "inserted  2413886  to Mongo!!\n",
      "calling other:  https://api.genius.com/songs/672\n",
      "inserted  1812  to Mongo!!\n",
      "inserted  58344  to Mongo!!\n",
      "inserted  525473  to Mongo!!\n",
      "calling artistid:  1630\n",
      "artist name:  Ciara\n",
      "inserted  2213836  to Mongo!!\n",
      "inserted  583542  to Mongo!!\n",
      "calling artistid:  338\n",
      "artist name:  Busta Rhymes\n",
      "calling artistid:  338\n",
      "artist name:  Busta Rhymes\n",
      "inserted  539654  to Mongo!!\n",
      "song id  539654  in Mongo already\n",
      "inserted  2274243  to Mongo!!\n",
      "calling albumid:  143267\n",
      "album name:  EVOL\n",
      "calling albumid:  120604\n",
      "album name:  The Life of Pablo\n",
      "calling artistid:  626678\n",
      "artist name:  Desiigner\n",
      "calling artistid:  19139\n",
      "artist name:  Shy Glizzy\n",
      "inserted  2422513  to Mongo!!\n",
      "calling albumid:  129455\n",
      "album name:  T R A P S O U L\n",
      "inserted  2315263  to Mongo!!\n",
      "calling artistid:  2197\n",
      "artist name:  Future\n",
      "inserted  2172126  to Mongo!!\n",
      "calling artistid:  59\n",
      "artist name:  2Pac\n",
      "inserted  2311370  to Mongo!!\n",
      "song id  2213836  in Mongo already\n",
      "calling albumid:  131405\n",
      "album name:  What a Time to Be Alive \n",
      "calling other:  https://api.genius.com/songs/261\n",
      "calling artistid:  2197\n",
      "artist name:  Future\n",
      "calling artistid:  2197\n",
      "artist name:  Future\n",
      "calling artistid:  27822\n",
      "artist name:  Zaytoven\n",
      "calling artistid:  29978\n",
      "artist name:  Mike WiLL Made It\n",
      "calling artistid:  130\n",
      "artist name:  Drake\n",
      "calling artistid:  2\n",
      "artist name:  Jay Z\n",
      "calling artistid:  2197\n",
      "artist name:  Future\n",
      "inserted  2311366  to Mongo!!\n",
      "calling albumid:  110261\n",
      "album name:  Aquarius \n",
      "calling albumid:  118695\n",
      "album name:  Rodeo\n",
      "calling artistid:  7161\n",
      "artist name:  Mike Dean\n",
      "calling artistid:  20185\n",
      "artist name:  Travis Scott\n",
      "calling artistid:  89\n",
      "artist name:  Rihanna\n",
      "calling artistid:  89\n",
      "artist name:  Rihanna\n",
      "calling artistid:  438\n",
      "artist name:  Chris Brown\n",
      "calling artistid:  20503\n",
      "artist name:  Young Thug\n",
      "calling artistid:  2358\n",
      "artist name:  The Weeknd\n",
      "calling albumid:  118695\n",
      "album name:  Rodeo\n",
      "inserted  2399227  to Mongo!!\n",
      "inserted  558257  to Mongo!!\n",
      "inserted  2368510  to Mongo!!\n",
      "song id  496445  in Mongo already\n",
      "inserted  66225  to Mongo!!\n",
      "song id  653082  in Mongo already\n",
      "inserted  2310122  to Mongo!!\n",
      "inserted  217266  to Mongo!!\n",
      "inserted  2396836  to Mongo!!\n",
      "inserted  73301  to Mongo!!\n",
      "calling artistid:  820\n",
      "artist name:  Mac Miller\n",
      "calling artistid:  27638\n",
      "artist name:  KeY Wane\n",
      "calling artistid:  27638\n",
      "artist name:  KeY Wane\n",
      "calling artistid:  936\n",
      "artist name:  Kardinal Offishall\n",
      "inserted  196551  to Mongo!!\n",
      "inserted  51360  to Mongo!!\n",
      "inserted  703742  to Mongo!!\n",
      "calling albumid:  97218\n",
      "album name:  The Pinkprint\n",
      "calling albumid:  2627\n",
      "album name:  So Far Gone\n",
      "calling other:  https://api.genius.com/songs/601816\n",
      "calling other:  https://api.genius.com/songs/486\n",
      "calling other:  https://api.genius.com/songs/2263716\n",
      "calling other:  https://api.genius.com/songs/2263716\n",
      "calling artistid:  177756\n",
      "artist name:  Rae Sremmurd\n",
      "calling artistid:  25561\n",
      "artist name:  Tinashe\n",
      "calling artistid:  222357\n",
      "artist name:  DeJ Loaf\n",
      "calling artistid:  643\n",
      "artist name:  Pusha T\n",
      "calling artistid:  223\n",
      "artist name:  Common\n",
      "calling artistid:  92\n",
      "artist name:  Nicki Minaj\n",
      "inserted  386316  to Mongo!!\n",
      "inserted  42966  to Mongo!!\n",
      "calling other:  https://api.genius.com/songs/217981\n",
      "calling artistid:  28480\n",
      "artist name:  Illangelo\n",
      "calling artistid:  12802\n",
      "artist name:  Mano\n",
      "calling artistid:  835\n",
      "artist name:  Michael Jackson\n",
      "calling artistid:  71193\n",
      "artist name:  Alphaville\n",
      "calling albumid:  11144\n",
      "album name:  House of Balloons\n",
      "calling albumid:  127525\n",
      "album name:  Beauty Behind the Madness\n",
      "calling artistid:  835\n",
      "artist name:  Michael Jackson\n",
      "calling artistid:  27835\n",
      "artist name:  Max Martin\n",
      "inserted  729458  to Mongo!!\n",
      "song id  729458  in Mongo already\n",
      "calling other:  https://api.genius.com/songs/2214150\n",
      "calling artistid:  2197\n",
      "artist name:  Future\n",
      "calling artistid:  130\n",
      "artist name:  Drake\n",
      "inserted  2311369  to Mongo!!\n",
      "inserted  2373  to Mongo!!\n",
      "calling artistid:  42\n",
      "artist name:  The Game\n",
      "inserted  599433  to Mongo!!\n",
      "inserted  648314  to Mongo!!\n",
      "calling albumid:  132506\n",
      "album name:  Views From The 6\n",
      "calling artistid:  438\n",
      "artist name:  Chris Brown\n",
      "calling artistid:  89\n",
      "artist name:  Rihanna\n",
      "calling albumid:  40475\n",
      "album name:  Nothing Was the Same\n",
      "calling artistid:  47131\n",
      "artist name:  PARTYNEXTDOOR\n",
      "inserted  240199  to Mongo!!\n",
      "calling artistid:  25005\n",
      "artist name:  Ty Dolla $ign\n",
      "calling artistid:  65109\n",
      "artist name:  Rich The Kid\n",
      "calling artistid:  14082\n",
      "artist name:  Toro Y Moi\n",
      "inserted  2322011  to Mongo!!\n",
      "calling artistid:  69\n",
      "artist name:  J. Cole\n",
      "inserted  1932  to Mongo!!\n",
      "calling albumid:  2630\n",
      "album name:  Thank Me Later\n",
      "calling artistid:  51628\n",
      "artist name:  Weekend\n",
      "calling artistid:  1557\n",
      "artist name:  Aaliyah\n",
      "inserted  55599  to Mongo!!\n",
      "inserted  15961  to Mongo!!\n",
      "calling artistid:  1421\n",
      "artist name:  Kendrick Lamar\n",
      "calling artistid:  15369\n",
      "artist name:  A$AP Ferg\n",
      "calling artistid:  47356\n",
      "artist name:  Danny Seth\n",
      "inserted  415574  to Mongo!!\n",
      "inserted  28749  to Mongo!!\n",
      "calling artistid:  50175\n",
      "artist name:  Hustle Gang\n",
      "inserted  149774  to Mongo!!\n",
      "calling albumid:  25090\n",
      "album name:  Wrath Of Caine\n",
      "inserted  108547  to Mongo!!\n",
      "calling artistid:  13568\n",
      "artist name:  Baby Bomb\n",
      "calling artistid:  506\n",
      "artist name:  Tech N9ne\n",
      "calling artistid:  974\n",
      "artist name:  N.W.A\n",
      "calling artistid:  1421\n",
      "artist name:  Kendrick Lamar\n",
      "inserted  55662  to Mongo!!\n",
      "calling artistid:  437\n",
      "artist name:  Bobby Brackins\n",
      "calling artistid:  72\n",
      "artist name:  Kanye West\n",
      "inserted  136893  to Mongo!!\n",
      "inserted  26798  to Mongo!!\n",
      "calling artistid:  130\n",
      "artist name:  Drake\n",
      "calling artistid:  4\n",
      "artist name:  Lil Wayne\n",
      "inserted  579968  to Mongo!!\n",
      "inserted  2440697  to Mongo!!\n",
      "inserted  4849  to Mongo!!\n",
      "calling artistid:  2438\n",
      "artist name:  Whodini\n",
      "inserted  454  to Mongo!!\n",
      "calling albumid:  1031\n",
      "album name:  Creepin On Ah Come Up\n",
      "calling artistid:  7250\n",
      "artist name:  Graveyard Shift\n",
      "calling artistid:  7321\n",
      "artist name:  Mo Thugs\n",
      "calling artistid:  496\n",
      "artist name:  Eazy-E\n",
      "inserted  66  to Mongo!!\n",
      "calling albumid:  3758\n",
      "album name:  Home Invasion\n",
      "calling artistid:  27794\n",
      "artist name:  Rick Rubin\n",
      "calling artistid:  1124\n",
      "artist name:  Run-D.M.C.\n",
      "calling artistid:  1393\n",
      "artist name:  Dizzee Rascal\n",
      "calling artistid:  1256\n",
      "artist name:  Ice-T\n",
      "calling artistid:  1255\n",
      "artist name:  Brother Marquis\n",
      "inserted  497  to Mongo!!\n",
      "song id  2315263  in Mongo already\n",
      "song id  579968  in Mongo already\n",
      "song id  579968  in Mongo already\n",
      "inserted  507478  to Mongo!!\n",
      "inserted  423398  to Mongo!!\n",
      "calling artistid:  177756\n",
      "artist name:  Rae Sremmurd\n",
      "calling artistid:  92\n",
      "artist name:  Nicki Minaj\n",
      "calling artistid:  20503\n",
      "artist name:  Young Thug\n",
      "inserted  602900  to Mongo!!\n",
      "calling artistid:  455\n",
      "artist name:  Lil B\n",
      "calling artistid:  455\n",
      "artist name:  Lil B\n",
      "calling artistid:  455\n",
      "artist name:  Lil B\n",
      "inserted  2273460  to Mongo!!\n",
      "inserted  2342995  to Mongo!!\n",
      "inserted  101184  to Mongo!!\n",
      "calling albumid:  38\n",
      "album name:  All Eyez on Me\n",
      "calling artistid:  148761\n",
      "artist name:  Takeoff\n",
      "calling artistid:  59\n",
      "artist name:  2Pac\n",
      "inserted  569389  to Mongo!!\n",
      "calling albumid:  132593\n",
      "album name:  Black Market\n",
      "calling albumid:  27316\n",
      "album name:  Mastermind\n",
      "calling artistid:  272\n",
      "artist name:  Plies\n",
      "calling artistid:  2286\n",
      "artist name:  Gunplay\n",
      "calling albumid:  132593\n",
      "album name:  Black Market\n",
      "inserted  2381771  to Mongo!!\n",
      "calling artistid:  2197\n",
      "artist name:  Future\n",
      "calling artistid:  2197\n",
      "artist name:  Future\n",
      "calling artistid:  2197\n",
      "artist name:  Future\n",
      "calling artistid:  2444\n",
      "artist name:  Pimp C\n",
      "calling artistid:  5367\n",
      "artist name:  DJ Screw\n",
      "calling artistid:  7472\n",
      "artist name:  Big Hawk\n",
      "calling artistid:  2197\n",
      "artist name:  Future\n",
      "inserted  67051  to Mongo!!\n",
      "calling albumid:  12192\n",
      "album name:  Dirty Sprite\n",
      "calling artistid:  2197\n",
      "artist name:  Future\n",
      "calling artistid:  12229\n",
      "artist name:  SpaceGhostPurrp\n",
      "inserted  728784  to Mongo!!\n",
      "calling artistid:  2197\n",
      "artist name:  Future\n",
      "calling artistid:  535\n",
      "artist name:  R. Kelly\n",
      "calling other:  https://api.genius.com/songs/85\n",
      "inserted  559442  to Mongo!!\n",
      "calling artistid:  554\n",
      "artist name:  Tyga\n",
      "inserted  2214983  to Mongo!!\n",
      "inserted  499870  to Mongo!!\n",
      "song id  2399227  in Mongo already\n",
      "inserted  360730  to Mongo!!\n",
      "calling artistid:  586\n",
      "artist name:  The Beatles\n",
      "calling albumid:  80251\n",
      "album name:  Stop The Clocks\n",
      "calling albumid:  122913\n",
      "album name:  Time Flies... 1994–2009\n",
      "calling artistid:  1601\n",
      "artist name:  Paul McCartney\n",
      "calling artistid:  33327\n",
      "artist name:  George Harrison\n",
      "inserted  76654  to Mongo!!\n",
      "calling albumid:  3516\n",
      "album name:  Hard to Kill\n",
      "calling artistid:  405\n",
      "artist name:  E-40\n",
      "calling artistid:  186\n",
      "artist name:  Ice Cube\n",
      "calling artistid:  72\n",
      "artist name:  Kanye West\n",
      "inserted  21902  to Mongo!!\n",
      "inserted  59024  to Mongo!!\n",
      "song id  2426159  in Mongo already\n"
     ]
    }
   ],
   "source": [
    "insert_neighbors(more_songs)"
   ]
  },
  {
   "cell_type": "code",
   "execution_count": 120,
   "metadata": {
    "collapsed": false
   },
   "outputs": [
    {
     "data": {
      "text/plain": [
       "{u'id': u'2426159'}"
      ]
     },
     "execution_count": 120,
     "metadata": {},
     "output_type": "execute_result"
    }
   ],
   "source": [
    "song"
   ]
  },
  {
   "cell_type": "code",
   "execution_count": 122,
   "metadata": {
    "collapsed": false
   },
   "outputs": [
    {
     "ename": "NameError",
     "evalue": "name 'cant_insert' is not defined",
     "output_type": "error",
     "traceback": [
      "\u001b[0;31m---------------------------------------------------------------------------\u001b[0m",
      "\u001b[0;31mNameError\u001b[0m                                 Traceback (most recent call last)",
      "\u001b[0;32m<ipython-input-122-ab3153ed3ac0>\u001b[0m in \u001b[0;36m<module>\u001b[0;34m()\u001b[0m\n\u001b[0;32m----> 1\u001b[0;31m \u001b[0mcant_insert\u001b[0m\u001b[0;34m\u001b[0m\u001b[0m\n\u001b[0m",
      "\u001b[0;31mNameError\u001b[0m: name 'cant_insert' is not defined"
     ]
    }
   ],
   "source": [
    "cant_insert"
   ]
  },
  {
   "cell_type": "code",
   "execution_count": 123,
   "metadata": {
    "collapsed": false
   },
   "outputs": [
    {
     "data": {
      "text/plain": [
       "False"
      ]
     },
     "execution_count": 123,
     "metadata": {},
     "output_type": "execute_result"
    }
   ],
   "source": [
    "len(more_songs) == len(set(more_songs))"
   ]
  },
  {
   "cell_type": "code",
   "execution_count": 124,
   "metadata": {
    "collapsed": true
   },
   "outputs": [],
   "source": [
    "more_inserted_songs = [496445, 2413886, 1812, 58344, 525473, 2213836, \\\n",
    "    583542, 539654, 539654, 2274243, 2422513, 2315263, 2172126, 2311370, \\\n",
    "    2213836, 2311366, 2399227, 558257, 2368510, 496445, 66225, 653082, \\\n",
    "    2310122, 217266, 2396836, 73301, 196551, 51360, 703742, 386316, \\\n",
    "    42966, 729458, 729458, 2311369, 2373, 599433, 648314, 240199, \\\n",
    "    2322011, 1932, 55599, 15961, 415574, 28749, 149774, 108547, 55662, \\\n",
    "    136893, 26798, 579968, 2440697, 4849, 454, 66, 497, 2315263, 579968, \\\n",
    "    579968, 507478, 423398, 602900, 2273460, 2342995, 101184, 569389, \\\n",
    "    2381771, 67051, 728784, 559442, 2214983, 499870, 2399227, 360730, \\\n",
    "    76654, 21902, 59024, 2426159]"
   ]
  },
  {
   "cell_type": "code",
   "execution_count": 361,
   "metadata": {
    "collapsed": true
   },
   "outputs": [],
   "source": [
    "updated_refs = [2396122, 2415289, 2369079, 2396302, 599451, 2398213, 2330692, 2392485, 2425602, 2165110, 2375319, 2312297, 2394578, 2305085, 2307164, 709256, 2401700, 2344225, 2413367, 2342860, 2439141, 2347598, 2399225, 2432858, 2312325, 507478]"
   ]
  },
  {
   "cell_type": "code",
   "execution_count": 360,
   "metadata": {
    "collapsed": true
   },
   "outputs": [],
   "source": [
    "updated_desc = [2415289, 2398213, 2392485, 2348651, 2295548, 2165110, 2422646, 709256, 2417517, 2399225, 2312325, 2426159, 507478]"
   ]
  },
  {
   "cell_type": "code",
   "execution_count": 127,
   "metadata": {
    "collapsed": false
   },
   "outputs": [
    {
     "data": {
      "text/plain": [
       "33"
      ]
     },
     "execution_count": 127,
     "metadata": {},
     "output_type": "execute_result"
    }
   ],
   "source": [
    "len(inserted)"
   ]
  },
  {
   "cell_type": "code",
   "execution_count": 363,
   "metadata": {
    "collapsed": false
   },
   "outputs": [],
   "source": [
    "refs_pickles = []\n",
    "desc_pickles = []\n",
    "for docid in updated_desc:\n",
    "    data = s.find({'id':docid}, {'title':1, 'artist':1, '_id':0}).next()\n",
    "    title = data['title']\n",
    "    artist = data['artist']\n",
    "    picklename = '_'.join(title.split())+\"_\"+'_'.join(artist.split())+\"_annotated.pkl\"\n",
    "    desc_pickles.append(picklename)\n",
    "for docid in updated_refs:\n",
    "    data = s.find({'id':docid}, {'title':1, 'artist':1, '_id':0}).next()\n",
    "    title = data['title']\n",
    "    artist = data['artist']\n",
    "    picklename = '_'.join(title.split())+\"_\"+'_'.join(artist.split())+\"_annotated.pkl\"\n",
    "    refs_pickles.append(picklename)"
   ]
  },
  {
   "cell_type": "code",
   "execution_count": 382,
   "metadata": {
    "collapsed": false
   },
   "outputs": [],
   "source": [
    "def fix_ref_annotations(picklesong):\n",
    "    try:\n",
    "        song_info = pickleLoad(picklesong)\n",
    "        ref_songs = []\n",
    "        failed_songs = []\n",
    "        for element in song_info['references']['song_unannotated']:\n",
    "            for k, v in element.iteritems():\n",
    "                if s.find({'id':int(v)}).count() > 0:\n",
    "                    vals = s.find({'id':int(v)}, {'artist':1, 'title':1, '_id':0}).next()\n",
    "                    to_insert = {'id':v, 'artist':vals['artist'], 'title':vals['title']}\n",
    "                    ref_songs.append(to_insert)\n",
    "                else:\n",
    "                    failed_songs.append({'id': v})     \n",
    "        songid = song_info['id']\n",
    "        if ref_songs and failed_songs:\n",
    "            s.update_one({'id':songid}, {'$unset': {'references.song': \"\"}})\n",
    "            s.update_one({'id':songid}, {'$unset': {'references.song_unannotated':\"\"}})\n",
    "            s.update_one({'id':songid}, {'$addToSet': {'references.song': {'$each': ref_songs}}}) \n",
    "            s.update_one({'id':songid}, {'$addToSet': {'references.song_unannotated': {'$each': failed_songs}}})\n",
    "            song_info['references']['song'] = ref_songs\n",
    "            song_info['references']['song_unannotated'] = failed_songs\n",
    "        elif ref_songs and not failed_songs:\n",
    "            s.update_one({'id':songid}, {'$unset': {'references.song': \"\"}})\n",
    "            s.update_one({'id':songid}, {'$unset': {'references.song_unannotated':\"\"}})\n",
    "            s.update_one({'id':songid}, {'$addToSet': {'references.song': {'$each': ref_songs}}})\n",
    "            song_info['references']['song'] = ref_songs\n",
    "            del song_info['references']['song_unannotated']\n",
    "        elif failed_songs and not ref_songs:\n",
    "            s.update_one({'id':songid}, {'$unset': {'references.song': \"\"}})\n",
    "            s.update_one({'id':songid}, {'$unset': {'references.song_unannotated':\"\"}})\n",
    "            s.update_one({'id':songid}, {'$addToSet': {'references.song_unannotated': {'$each': failed_songs}}})\n",
    "            del song_info['references']['song']\n",
    "            song_info['references']['song_unannotated'] = failed_songs\n",
    "        \n",
    "        pickleDump(song_info, picklesong)\n",
    "        return True\n",
    "    except:\n",
    "        print \"unable to update: \", picklesong\n",
    "        return False"
   ]
  },
  {
   "cell_type": "code",
   "execution_count": 354,
   "metadata": {
    "collapsed": false
   },
   "outputs": [],
   "source": [
    "def fix_desc_annotations(picklesong):\n",
    "    try: \n",
    "        song_info = pickleLoad(picklesong)\n",
    "        desc_songs = []\n",
    "        failed_songs = []\n",
    "        for element in song_info['description_refs']['song_unannotated']:\n",
    "            for k, v in element.iteritems():\n",
    "                if s.find({'id':int(v)}).count() > 0:\n",
    "                    vals = s.find({'id':int(v)}, {'artist':1, 'title':1, '_id':0}).next()\n",
    "                    to_insert = {'id':v, 'artist':vals['artist'], 'title':vals['title']}\n",
    "                    desc_songs.append(to_insert)\n",
    "                else:\n",
    "                    failed_songs.append({'id': v})\n",
    "        songid = song_info['id']\n",
    "        if desc_songs and failed_songs:\n",
    "            s.update_one({'id':songid}, {'$unset': {'description_refs.song': \"\"}})\n",
    "            s.update_one({'id':songid}, {'$unset': {'description_refs.song_unannotated':\"\"}})\n",
    "            s.update_one({'id':songid}, {'$addToSet': {'description_refs.song': {'$each': desc_songs}}})\n",
    "            s.update_one({'id':songid}, {'$addToSet': {'description_refs.song_unannotated': {'$each': failed_songs}}})\n",
    "            song_info['description_refs']['song'] = desc_songs\n",
    "            song_info['description_refs']['song_unannotated'] = failed_songs\n",
    "        elif desc_songs and not failed_songs:\n",
    "            s.update_one({'id':songid}, {'$unset': {'description_refs.song': \"\"}})\n",
    "            s.update_one({'id':songid}, {'$unset': {'description_refs.song_unannotated':\"\"}})\n",
    "            s.update_one({'id':songid}, {'$addToSet': {'description_refs.song': {'$each': desc_songs}}})\n",
    "            song_info['description_refs']['song'] = desc_songs\n",
    "            del song_info['description_refs']['song_unannotated']\n",
    "        elif failed_songs and not desc_songs:\n",
    "            s.update_one({'id':songid}, {'$unset': {'description_refs.song': \"\"}})\n",
    "            s.update_one({'id':songid}, {'$unset': {'description_refs.song_unannotated':\"\"}})\n",
    "            s.update_one({'id':songid}, {'$addToSet': {'description_refs.song_unannotated': {'$each': failed_songs}}})\n",
    "            del song_info['description_refs']['song']\n",
    "            song_info['description_refs']['song_unannotated'] = failed_songs\n",
    "        \n",
    "        pickleDump(song_info, picklesong)\n",
    "        return True\n",
    "    except:\n",
    "        print \"unable to update: \", picklesong\n",
    "        return False"
   ]
  },
  {
   "cell_type": "code",
   "execution_count": 374,
   "metadata": {
    "collapsed": false
   },
   "outputs": [
    {
     "data": {
      "text/plain": [
       "{u'_id': ObjectId('56ef38dd895742130ba296f9'),\n",
       " u'artist': u'Kid Ink',\n",
       " u'references': {u'album': [{u'id': u'10137',\n",
       "    u'name': u'The King of Crunk & BME Recordings Present Lil Scrappy & Trillville'}],\n",
       "  u'artist': [{u'id': u'17560', u'name': u'Ca$h Out'},\n",
       "   {u'id': u'29780', u'name': u'DJ Mustard'},\n",
       "   {u'id': u'134', u'name': u'Trillville'}],\n",
       "  u'other': [{u'id': u'583442', u'title': u'Kill Bill- Opening Scene'}],\n",
       "  u'song': [{u'artist': u'Ca$h Out', u'id': u'66225', u'title': u'Cashin Out'},\n",
       "   {u'artist': u'Fetty Wap', u'id': u'653082', u'title': u'My Way'}]},\n",
       " u'title': u'Promise'}"
      ]
     },
     "execution_count": 374,
     "metadata": {},
     "output_type": "execute_result"
    }
   ],
   "source": [
    "s.find({'id':2396122}, {'references':1, 'title':1, 'artist':1}).next()"
   ]
  },
  {
   "cell_type": "code",
   "execution_count": 367,
   "metadata": {
    "collapsed": false
   },
   "outputs": [
    {
     "data": {
      "text/plain": [
       "'promise_kid_ink_info.pkl'"
      ]
     },
     "execution_count": 367,
     "metadata": {},
     "output_type": "execute_result"
    }
   ],
   "source": [
    "refs_pickles[0]"
   ]
  },
  {
   "cell_type": "code",
   "execution_count": 377,
   "metadata": {
    "collapsed": true
   },
   "outputs": [],
   "source": [
    "promise_info = pickleLoad(refs_pickles[0])"
   ]
  },
  {
   "cell_type": "code",
   "execution_count": 378,
   "metadata": {
    "collapsed": false
   },
   "outputs": [
    {
     "data": {
      "text/plain": [
       "{'album': [{'id': '10137',\n",
       "   'name': u'The King of Crunk & BME Recordings Present Lil Scrappy & Trillville'}],\n",
       " 'artist': [{'id': '17560', 'name': u'Ca$h Out'},\n",
       "  {'id': '29780', 'name': u'DJ Mustard'},\n",
       "  {'id': '134', 'name': u'Trillville'}],\n",
       " 'other': [{'id': '583442', 'title': u'Kill Bill- Opening Scene'}],\n",
       " 'song': [{'artist': u'Ca$h Out', 'id': '66225', 'title': u'Cashin Out'},\n",
       "  {'artist': u'Fetty Wap', 'id': '653082', 'title': u'My Way'}]}"
      ]
     },
     "execution_count": 378,
     "metadata": {},
     "output_type": "execute_result"
    }
   ],
   "source": [
    "promise_info['references']"
   ]
  },
  {
   "cell_type": "code",
   "execution_count": 376,
   "metadata": {
    "collapsed": false
   },
   "outputs": [
    {
     "name": "stdout",
     "output_type": "stream",
     "text": [
      "unable to update:  promise_kid_ink_info.pkl\n"
     ]
    },
    {
     "data": {
      "text/plain": [
       "False"
      ]
     },
     "execution_count": 376,
     "metadata": {},
     "output_type": "execute_result"
    }
   ],
   "source": [
    "fix_ref_annotations(refs_pickles[0])"
   ]
  },
  {
   "cell_type": "code",
   "execution_count": 379,
   "metadata": {
    "collapsed": true
   },
   "outputs": [],
   "source": [
    "refs_pickles = refs_pickles[1:]"
   ]
  },
  {
   "cell_type": "code",
   "execution_count": 383,
   "metadata": {
    "collapsed": false
   },
   "outputs": [
    {
     "name": "stdout",
     "output_type": "stream",
     "text": [
      "True\n",
      "True\n",
      "True\n",
      "True\n",
      "True\n",
      "True\n",
      "True\n",
      "True\n",
      "True\n",
      "True\n",
      "True\n",
      "True\n",
      "True\n",
      "True\n",
      "True\n",
      "True\n",
      "True\n",
      "True\n",
      "True\n",
      "True\n",
      "True\n",
      "True\n",
      "True\n",
      "True\n",
      "True\n"
     ]
    }
   ],
   "source": [
    "for p in refs_pickles:\n",
    "    print fix_ref_annotations(p)"
   ]
  },
  {
   "cell_type": "code",
   "execution_count": 384,
   "metadata": {
    "collapsed": false
   },
   "outputs": [
    {
     "name": "stdout",
     "output_type": "stream",
     "text": [
      "True\n",
      "True\n",
      "True\n",
      "True\n",
      "True\n",
      "True\n",
      "True\n",
      "True\n",
      "True\n",
      "True\n",
      "True\n",
      "True\n",
      "True\n"
     ]
    }
   ],
   "source": [
    "for p in desc_pickles:\n",
    "    print fix_desc_annotations(p)"
   ]
  },
  {
   "cell_type": "code",
   "execution_count": 409,
   "metadata": {
    "collapsed": false
   },
   "outputs": [
    {
     "data": {
      "text/plain": [
       "[2339761,\n",
       " 2396309,\n",
       " 2417474,\n",
       " 599395,\n",
       " 2396309,\n",
       " 21929,\n",
       " 2415289,\n",
       " 1812,\n",
       " 437376,\n",
       " 2400811,\n",
       " 2291102,\n",
       " 2399225,\n",
       " 76103,\n",
       " 73198,\n",
       " 68615,\n",
       " 73850,\n",
       " 50025,\n",
       " 729457,\n",
       " 2273462,\n",
       " 1913178,\n",
       " 501510,\n",
       " 639914,\n",
       " 2322001,\n",
       " 2322003,\n",
       " 2322014,\n",
       " 2322004,\n",
       " 2322010,\n",
       " 2322009,\n",
       " 2322020,\n",
       " 106362,\n",
       " 949,\n",
       " 423398,\n",
       " 507478,\n",
       " 2159541,\n",
       " 2329765,\n",
       " 2293108,\n",
       " 2390938,\n",
       " 46329,\n",
       " 32795,\n",
       " 42265,\n",
       " 140752,\n",
       " 156640,\n",
       " 2266961,\n",
       " 499835,\n",
       " 460183,\n",
       " 164344,\n",
       " 2413931,\n",
       " 151327,\n",
       " 693724,\n",
       " 2711,\n",
       " 703732,\n",
       " 2426159,\n",
       " 168255,\n",
       " 1800164,\n",
       " 710897,\n",
       " 140800,\n",
       " 118141,\n",
       " 2149919,\n",
       " 57183,\n",
       " 69579,\n",
       " 555359,\n",
       " 622818,\n",
       " 517,\n",
       " 2045,\n",
       " 559003,\n",
       " 2213109,\n",
       " 2263723,\n",
       " 494038,\n",
       " 2290819,\n",
       " 217263,\n",
       " 217270,\n",
       " 140752,\n",
       " 1655,\n",
       " 203961,\n",
       " 50025,\n",
       " 156640,\n",
       " 703654,\n",
       " 386121,\n",
       " 42956,\n",
       " 78169,\n",
       " 542389,\n",
       " 727466,\n",
       " 542390,\n",
       " 58349,\n",
       " 118064,\n",
       " 75115,\n",
       " 2172126,\n",
       " 2024226,\n",
       " 703731,\n",
       " 486501,\n",
       " 69295,\n",
       " 505193,\n",
       " 2172126,\n",
       " 1741,\n",
       " 478469,\n",
       " 732419,\n",
       " 64,\n",
       " 1016,\n",
       " 58340,\n",
       " 89740,\n",
       " 2644,\n",
       " 58497,\n",
       " 79516,\n",
       " 82701,\n",
       " 17807,\n",
       " 2149919,\n",
       " 47702,\n",
       " 704,\n",
       " 68291,\n",
       " 40840,\n",
       " 3025,\n",
       " 2695,\n",
       " 698,\n",
       " 569516,\n",
       " 40221,\n",
       " 50025,\n",
       " 182976,\n",
       " 365947,\n",
       " 535442,\n",
       " 726052,\n",
       " 558143,\n",
       " 95546,\n",
       " 327470,\n",
       " 123451,\n",
       " 2269,\n",
       " 2269,\n",
       " 2468,\n",
       " 18506,\n",
       " 2159541,\n",
       " 88378,\n",
       " 88378,\n",
       " 2365,\n",
       " 696428,\n",
       " 696428,\n",
       " 496456,\n",
       " 576535,\n",
       " 70324,\n",
       " 517621,\n",
       " 113898]"
      ]
     },
     "execution_count": 409,
     "metadata": {},
     "output_type": "execute_result"
    }
   ],
   "source": [
    "supposedly_unannotated"
   ]
  },
  {
   "cell_type": "code",
   "execution_count": 411,
   "metadata": {
    "collapsed": false
   },
   "outputs": [
    {
     "data": {
      "text/plain": [
       "128"
      ]
     },
     "execution_count": 411,
     "metadata": {},
     "output_type": "execute_result"
    }
   ],
   "source": [
    "len(set(supposedly_unannotated))"
   ]
  },
  {
   "cell_type": "code",
   "execution_count": null,
   "metadata": {
    "collapsed": true
   },
   "outputs": [],
   "source": []
  }
 ],
 "metadata": {
  "kernelspec": {
   "display_name": "Python 2",
   "language": "python",
   "name": "python2"
  },
  "language_info": {
   "codemirror_mode": {
    "name": "ipython",
    "version": 2
   },
   "file_extension": ".py",
   "mimetype": "text/x-python",
   "name": "python",
   "nbconvert_exporter": "python",
   "pygments_lexer": "ipython2",
   "version": "2.7.11"
  }
 },
 "nbformat": 4,
 "nbformat_minor": 0
}
