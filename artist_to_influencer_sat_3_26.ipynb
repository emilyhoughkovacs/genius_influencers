{
 "cells": [
  {
   "cell_type": "code",
   "execution_count": 1,
   "metadata": {
    "collapsed": true
   },
   "outputs": [],
   "source": [
    "import requests\n",
    "import cnfg\n",
    "import json\n",
    "import pickle\n",
    "import time\n",
    "from datetime import datetime\n",
    "from collections import defaultdict\n",
    "from urlparse import urlparse\n",
    "from pymongo import MongoClient\n",
    "import pandas as pd\n",
    "import numpy as np\n",
    "from sklearn.decomposition import NMF"
   ]
  },
  {
   "cell_type": "code",
   "execution_count": 2,
   "metadata": {
    "collapsed": true
   },
   "outputs": [],
   "source": [
    "config = cnfg.load(\".genius_config\")\n",
    "client_key = config[\"client_key\"]\n",
    "client_secret = config[\"client_secret\"]\n",
    "access_token = 'uK247ank6jF7DY_E7TEMIdbuhT2IBVsVeFXh6AluxswFUfrlFNfXNu2pUFPrGv2c'\n",
    "auth = 'Bearer '+access_token\n",
    "req_start = 'https://api.genius.com'"
   ]
  },
  {
   "cell_type": "code",
   "execution_count": 3,
   "metadata": {
    "collapsed": true
   },
   "outputs": [],
   "source": [
    "client = MongoClient()\n",
    "db = client.music\n",
    "s = db.songs\n",
    "# counter\n",
    "c = s.find()"
   ]
  },
  {
   "cell_type": "code",
   "execution_count": 2,
   "metadata": {
    "collapsed": true
   },
   "outputs": [],
   "source": [
    "def pickleLoad(filename):\n",
    "    with open(filename, 'rb') as f:\n",
    "        data = pickle.load(f) \n",
    "    return data\n",
    "\n",
    "def pickleDump(data, filename):\n",
    "    with open(filename, 'wb') as f:\n",
    "        pickle.dump(data, f)"
   ]
  },
  {
   "cell_type": "code",
   "execution_count": 5,
   "metadata": {
    "collapsed": true
   },
   "outputs": [],
   "source": [
    "def api_call(validurl):\n",
    "    call = validurl\n",
    "    r = requests.get(call, headers={'Authorization':auth})\n",
    "    if r.status_code==200:\n",
    "        return json.loads(r.content)\n",
    "    else:\n",
    "        print r.content\n",
    "        return r.content"
   ]
  },
  {
   "cell_type": "markdown",
   "metadata": {},
   "source": [
    "### Get influencers\n",
    "Influencers are all the artist ids in these categories: artist_id (primary artist), writers, producers, featured artists, description referents (artist only), annotated referents (artist only), and sampled song (primary artist). The below code gets all of those artists for all songs, ensures they are ints, unique-ifies the set and returns a list of influencers, called \"artists\""
   ]
  },
  {
   "cell_type": "code",
   "execution_count": 252,
   "metadata": {
    "collapsed": false
   },
   "outputs": [
    {
     "name": "stdout",
     "output_type": "stream",
     "text": [
      "before uniquing:  2864\n",
      "after uniquing:  1305\n"
     ]
    }
   ],
   "source": [
    "artists = list(s.find({}, {'artist_id':1, '_id':0}))\n",
    "artists = [int(x['artist_id']) for x in artists]\n",
    "\n",
    "writers = list(s.find({}, {'writers':1, '_id':0}))\n",
    "for writer in writers:\n",
    "    if writer:\n",
    "        for w in writer['writers']:\n",
    "            artists.append(int(w['id']))\n",
    "            \n",
    "featured_artists = list(s.find({}, {'featured_artists':1, '_id':0}))\n",
    "for fa in featured_artists:\n",
    "    if fa:\n",
    "        for w in fa['featured_artists']:\n",
    "            artists.append(int(w['id']))\n",
    "\n",
    "producers = list(s.find({}, {'producers':1, '_id':0}))\n",
    "for p in producers:\n",
    "    if p:\n",
    "        for w in p['producers']:\n",
    "            artists.append(int(w['id']))\n",
    "\n",
    "desc_refs = list(s.find({}, {'description_refs.artist':1, 'description_refs.song':1, '_id':0}))\n",
    "for dr in desc_refs:\n",
    "    if 'artist' in dr['description_refs']:\n",
    "        a = dr['description_refs']['artist']\n",
    "        for artist in a:\n",
    "            artists.append(int(artist['id']))\n",
    "    if 'song' in dr['description_refs']:\n",
    "        pass\n",
    "    \n",
    "anno_refs = list(s.find({}, {'references.artist':1, 'references.song':1, '_id':0}))\n",
    "for ar in anno_refs:\n",
    "    if 'artist' in ar['references']:\n",
    "        a = ar['references']['artist']\n",
    "        for artist in a:\n",
    "            artists.append(int(artist['id']))\n",
    "    if 'song' in ar['references']:\n",
    "        pass\n",
    "    \n",
    "sampled_songs = list(s.find({}, {'sampled_songs':1, '_id':0}))\n",
    "for samp in sampled_songs:\n",
    "    if samp:\n",
    "        for w in samp:\n",
    "            for song in samp[w]:\n",
    "                artists.append(song['primary_artist']['id'])\n",
    "\n",
    "print \"before uniquing: \", len(artists)\n",
    "artists = [int(x) for x in artists]\n",
    "artists = list(set(artists))\n",
    "print \"after uniquing: \", len(artists)"
   ]
  },
  {
   "cell_type": "markdown",
   "metadata": {},
   "source": [
    "### calculate artist influence level on a given song\n",
    "The weights are assigned below and can be adjusted. The songid of each song in the MongoDB is then grabbed and put in a list called 'songs'.\n",
    "\n",
    "For a given song, this function will get artist ids for each of the categories in weights. Based on the number of contributors to each category, the influence of a single artist on that category is weighted evenly. Then the artist influence is divided by the total sum of the weights of given categories.\n",
    "\n",
    "Returns a pandas Series with the weights for each artist and 0 for all artists that do not appear"
   ]
  },
  {
   "cell_type": "code",
   "execution_count": 253,
   "metadata": {
    "collapsed": true
   },
   "outputs": [],
   "source": [
    "weights = {'artist_id': 4., 'producers':10., 'writers': 10., 'featured_artists': 10., \\\n",
    "          'sampled_songs': 10., 'description_refs': 8., 'references': 7.}"
   ]
  },
  {
   "cell_type": "code",
   "execution_count": 254,
   "metadata": {
    "collapsed": true
   },
   "outputs": [],
   "source": [
    "songs = [int(x['id']) for x in list(s.find({'id':{'$exists':1}}, {'id':1, '_id':0}))]"
   ]
  },
  {
   "cell_type": "code",
   "execution_count": 257,
   "metadata": {
    "collapsed": true
   },
   "outputs": [],
   "source": [
    "def get_info(song, weights=weights, artists=artists):\n",
    "    contributors = defaultdict(list)\n",
    "    cont_weights = defaultdict(float)\n",
    "    total = 0\n",
    "    info = s.find({'id':song}, {'_id':0, 'description_refs.artist':1, 'description_refs.song':1, \\\n",
    "                       'sampled_songs':1, 'producers':1, 'writers':1, \\\n",
    "                       'featured_artists':1, 'artist_id':1, 'id':1}).next()\n",
    "    for e in info:\n",
    "        if e == 'artist_id':\n",
    "            contributors['artist_id'].append(int(info[e]))\n",
    "        if e == 'description_refs':\n",
    "            if 'artist' in e:\n",
    "                for a in e['artist']:\n",
    "                    contributors['description_refs'].append(int(a['id']))\n",
    "        if e == 'references' in info:\n",
    "            if 'artist' in e:\n",
    "                for a in e['artist']:\n",
    "                    contributors['references'].append(int(a['id']))\n",
    "        if e == 'producers':\n",
    "            for a in info[e]:\n",
    "                contributors['producers'].append(int(a['id']))\n",
    "        if e == 'writers':\n",
    "            for a in info[e]:\n",
    "                contributors['writers'].append(int(a['id']))\n",
    "        if e == 'featured_artists':\n",
    "            for a in info[e]:\n",
    "                contributors['featured_artists'].append(int(a['id']))\n",
    "        if e == 'sampled_songs':\n",
    "            for samp in info[e]:\n",
    "                contributors['sampled_songs'].append(int(samp['primary_artist']['id']))\n",
    "    for artist_type in contributors:\n",
    "        total += weights[artist_type]\n",
    "    for artist_type, influencers in contributors.iteritems():\n",
    "        frac = weights[artist_type]/len(influencers)\n",
    "        for influencer in influencers:\n",
    "            cont_weights[influencer] += frac/total\n",
    "    print cont_weights\n",
    "    influences = {(a):(0 if a not in cont_weights.keys() else cont_weights[a]) for a in artists}\n",
    "    influences_series = pd.Series(data=influences.values(), index=influences.keys())\n",
    "    return influences_series"
   ]
  },
  {
   "cell_type": "markdown",
   "metadata": {},
   "source": [
    "### make influencers x songs matrix\n",
    "Use above equation to calculate the average influence of each artist and fill df. Columns are songs and rows are artists. The columns each sum to 1 because the influence for a given song is normalized."
   ]
  },
  {
   "cell_type": "code",
   "execution_count": 10,
   "metadata": {
    "collapsed": true
   },
   "outputs": [],
   "source": [
    "df = pd.DataFrame(columns = songs)"
   ]
  },
  {
   "cell_type": "code",
   "execution_count": 11,
   "metadata": {
    "collapsed": false
   },
   "outputs": [
    {
     "data": {
      "text/plain": [
       "(0, 717)"
      ]
     },
     "execution_count": 11,
     "metadata": {},
     "output_type": "execute_result"
    }
   ],
   "source": [
    "df.shape"
   ]
  },
  {
   "cell_type": "code",
   "execution_count": 12,
   "metadata": {
    "collapsed": false
   },
   "outputs": [],
   "source": [
    "for song in songs:\n",
    "    try:\n",
    "        series = get_info(song)\n",
    "        df[song] = series\n",
    "    except:\n",
    "        print \"unable to score songid: \", song\n",
    "        continue"
   ]
  },
  {
   "cell_type": "code",
   "execution_count": 13,
   "metadata": {
    "collapsed": false
   },
   "outputs": [],
   "source": [
    "for col in df:\n",
    "    thesum = df[col].sum()\n",
    "    if thesum<.99999 or thesum>1.00001:\n",
    "        print col, thesum"
   ]
  },
  {
   "cell_type": "code",
   "execution_count": 14,
   "metadata": {
    "collapsed": false
   },
   "outputs": [
    {
     "data": {
      "text/plain": [
       "(1305, 717)"
      ]
     },
     "execution_count": 14,
     "metadata": {},
     "output_type": "execute_result"
    }
   ],
   "source": [
    "df.shape"
   ]
  },
  {
   "cell_type": "markdown",
   "metadata": {},
   "source": [
    "Columns are song ids and rows are influencers (artist ids). There are 452 unique artists and 232 unique songs at this point in time. The sum of any given column should be 1 because the influence scores are normalized."
   ]
  },
  {
   "cell_type": "code",
   "execution_count": 14,
   "metadata": {
    "collapsed": false
   },
   "outputs": [
    {
     "data": {
      "text/html": [
       "<div>\n",
       "<table border=\"1\" class=\"dataframe\">\n",
       "  <thead>\n",
       "    <tr style=\"text-align: right;\">\n",
       "      <th></th>\n",
       "      <th>653082</th>\n",
       "      <th>2396122</th>\n",
       "      <th>2415289</th>\n",
       "      <th>2369079</th>\n",
       "      <th>2411389</th>\n",
       "      <th>2304247</th>\n",
       "      <th>2396302</th>\n",
       "      <th>599451</th>\n",
       "      <th>2398213</th>\n",
       "      <th>2433137</th>\n",
       "      <th>...</th>\n",
       "      <th>694992</th>\n",
       "      <th>2057145</th>\n",
       "      <th>101077</th>\n",
       "      <th>58072</th>\n",
       "      <th>2388703</th>\n",
       "      <th>107655</th>\n",
       "      <th>493169</th>\n",
       "      <th>2155243</th>\n",
       "      <th>115451</th>\n",
       "      <th>725757</th>\n",
       "    </tr>\n",
       "  </thead>\n",
       "  <tbody>\n",
       "    <tr>\n",
       "      <th>2048</th>\n",
       "      <td>0</td>\n",
       "      <td>0</td>\n",
       "      <td>0</td>\n",
       "      <td>0.000000</td>\n",
       "      <td>0</td>\n",
       "      <td>0</td>\n",
       "      <td>0</td>\n",
       "      <td>0.000000</td>\n",
       "      <td>0.000000</td>\n",
       "      <td>0.000000</td>\n",
       "      <td>...</td>\n",
       "      <td>0.000000</td>\n",
       "      <td>0</td>\n",
       "      <td>0</td>\n",
       "      <td>0</td>\n",
       "      <td>0</td>\n",
       "      <td>0</td>\n",
       "      <td>0</td>\n",
       "      <td>0.000000</td>\n",
       "      <td>0</td>\n",
       "      <td>0</td>\n",
       "    </tr>\n",
       "    <tr>\n",
       "      <th>1</th>\n",
       "      <td>0</td>\n",
       "      <td>0</td>\n",
       "      <td>0</td>\n",
       "      <td>0.000000</td>\n",
       "      <td>0</td>\n",
       "      <td>0</td>\n",
       "      <td>0</td>\n",
       "      <td>0.000000</td>\n",
       "      <td>0.000000</td>\n",
       "      <td>0.000000</td>\n",
       "      <td>...</td>\n",
       "      <td>0.000000</td>\n",
       "      <td>0</td>\n",
       "      <td>0</td>\n",
       "      <td>0</td>\n",
       "      <td>0</td>\n",
       "      <td>0</td>\n",
       "      <td>0</td>\n",
       "      <td>0.000000</td>\n",
       "      <td>0</td>\n",
       "      <td>0</td>\n",
       "    </tr>\n",
       "    <tr>\n",
       "      <th>2</th>\n",
       "      <td>0</td>\n",
       "      <td>0</td>\n",
       "      <td>0</td>\n",
       "      <td>0.000000</td>\n",
       "      <td>0</td>\n",
       "      <td>0</td>\n",
       "      <td>0</td>\n",
       "      <td>0.000000</td>\n",
       "      <td>0.000000</td>\n",
       "      <td>0.000000</td>\n",
       "      <td>...</td>\n",
       "      <td>0.000000</td>\n",
       "      <td>0</td>\n",
       "      <td>0</td>\n",
       "      <td>0</td>\n",
       "      <td>0</td>\n",
       "      <td>0</td>\n",
       "      <td>0</td>\n",
       "      <td>0.000000</td>\n",
       "      <td>0</td>\n",
       "      <td>0</td>\n",
       "    </tr>\n",
       "    <tr>\n",
       "      <th>3</th>\n",
       "      <td>0</td>\n",
       "      <td>0</td>\n",
       "      <td>0</td>\n",
       "      <td>0.000000</td>\n",
       "      <td>0</td>\n",
       "      <td>0</td>\n",
       "      <td>0</td>\n",
       "      <td>0.000000</td>\n",
       "      <td>0.000000</td>\n",
       "      <td>0.000000</td>\n",
       "      <td>...</td>\n",
       "      <td>0.000000</td>\n",
       "      <td>0</td>\n",
       "      <td>0</td>\n",
       "      <td>0</td>\n",
       "      <td>0</td>\n",
       "      <td>0</td>\n",
       "      <td>0</td>\n",
       "      <td>0.000000</td>\n",
       "      <td>0</td>\n",
       "      <td>0</td>\n",
       "    </tr>\n",
       "    <tr>\n",
       "      <th>4</th>\n",
       "      <td>0</td>\n",
       "      <td>0</td>\n",
       "      <td>0</td>\n",
       "      <td>0.000000</td>\n",
       "      <td>0</td>\n",
       "      <td>0</td>\n",
       "      <td>0</td>\n",
       "      <td>0.000000</td>\n",
       "      <td>0.000000</td>\n",
       "      <td>0.416667</td>\n",
       "      <td>...</td>\n",
       "      <td>0.000000</td>\n",
       "      <td>0</td>\n",
       "      <td>0</td>\n",
       "      <td>0</td>\n",
       "      <td>0</td>\n",
       "      <td>0</td>\n",
       "      <td>0</td>\n",
       "      <td>0.285714</td>\n",
       "      <td>0</td>\n",
       "      <td>0</td>\n",
       "    </tr>\n",
       "    <tr>\n",
       "      <th>5</th>\n",
       "      <td>0</td>\n",
       "      <td>0</td>\n",
       "      <td>0</td>\n",
       "      <td>0.000000</td>\n",
       "      <td>0</td>\n",
       "      <td>0</td>\n",
       "      <td>0</td>\n",
       "      <td>0.000000</td>\n",
       "      <td>0.000000</td>\n",
       "      <td>0.000000</td>\n",
       "      <td>...</td>\n",
       "      <td>0.000000</td>\n",
       "      <td>0</td>\n",
       "      <td>0</td>\n",
       "      <td>0</td>\n",
       "      <td>0</td>\n",
       "      <td>0</td>\n",
       "      <td>0</td>\n",
       "      <td>0.000000</td>\n",
       "      <td>0</td>\n",
       "      <td>0</td>\n",
       "    </tr>\n",
       "    <tr>\n",
       "      <th>2057</th>\n",
       "      <td>0</td>\n",
       "      <td>0</td>\n",
       "      <td>0</td>\n",
       "      <td>0.000000</td>\n",
       "      <td>0</td>\n",
       "      <td>0</td>\n",
       "      <td>0</td>\n",
       "      <td>0.000000</td>\n",
       "      <td>0.000000</td>\n",
       "      <td>0.000000</td>\n",
       "      <td>...</td>\n",
       "      <td>0.000000</td>\n",
       "      <td>0</td>\n",
       "      <td>0</td>\n",
       "      <td>0</td>\n",
       "      <td>0</td>\n",
       "      <td>0</td>\n",
       "      <td>0</td>\n",
       "      <td>0.000000</td>\n",
       "      <td>0</td>\n",
       "      <td>0</td>\n",
       "    </tr>\n",
       "    <tr>\n",
       "      <th>329739</th>\n",
       "      <td>0</td>\n",
       "      <td>0</td>\n",
       "      <td>0</td>\n",
       "      <td>0.000000</td>\n",
       "      <td>0</td>\n",
       "      <td>0</td>\n",
       "      <td>0</td>\n",
       "      <td>0.000000</td>\n",
       "      <td>0.042017</td>\n",
       "      <td>0.000000</td>\n",
       "      <td>...</td>\n",
       "      <td>0.000000</td>\n",
       "      <td>0</td>\n",
       "      <td>0</td>\n",
       "      <td>0</td>\n",
       "      <td>0</td>\n",
       "      <td>0</td>\n",
       "      <td>0</td>\n",
       "      <td>0.000000</td>\n",
       "      <td>0</td>\n",
       "      <td>0</td>\n",
       "    </tr>\n",
       "    <tr>\n",
       "      <th>13</th>\n",
       "      <td>0</td>\n",
       "      <td>0</td>\n",
       "      <td>0</td>\n",
       "      <td>0.000000</td>\n",
       "      <td>0</td>\n",
       "      <td>0</td>\n",
       "      <td>0</td>\n",
       "      <td>0.000000</td>\n",
       "      <td>0.000000</td>\n",
       "      <td>0.000000</td>\n",
       "      <td>...</td>\n",
       "      <td>0.000000</td>\n",
       "      <td>0</td>\n",
       "      <td>0</td>\n",
       "      <td>0</td>\n",
       "      <td>0</td>\n",
       "      <td>0</td>\n",
       "      <td>0</td>\n",
       "      <td>0.000000</td>\n",
       "      <td>0</td>\n",
       "      <td>0</td>\n",
       "    </tr>\n",
       "    <tr>\n",
       "      <th>589827</th>\n",
       "      <td>0</td>\n",
       "      <td>0</td>\n",
       "      <td>0</td>\n",
       "      <td>0.000000</td>\n",
       "      <td>0</td>\n",
       "      <td>0</td>\n",
       "      <td>0</td>\n",
       "      <td>0.000000</td>\n",
       "      <td>0.000000</td>\n",
       "      <td>0.000000</td>\n",
       "      <td>...</td>\n",
       "      <td>0.000000</td>\n",
       "      <td>0</td>\n",
       "      <td>0</td>\n",
       "      <td>0</td>\n",
       "      <td>0</td>\n",
       "      <td>0</td>\n",
       "      <td>0</td>\n",
       "      <td>0.000000</td>\n",
       "      <td>0</td>\n",
       "      <td>0</td>\n",
       "    </tr>\n",
       "    <tr>\n",
       "      <th>22</th>\n",
       "      <td>0</td>\n",
       "      <td>0</td>\n",
       "      <td>0</td>\n",
       "      <td>0.000000</td>\n",
       "      <td>0</td>\n",
       "      <td>0</td>\n",
       "      <td>0</td>\n",
       "      <td>0.000000</td>\n",
       "      <td>0.000000</td>\n",
       "      <td>0.000000</td>\n",
       "      <td>...</td>\n",
       "      <td>0.000000</td>\n",
       "      <td>0</td>\n",
       "      <td>0</td>\n",
       "      <td>0</td>\n",
       "      <td>0</td>\n",
       "      <td>0</td>\n",
       "      <td>0</td>\n",
       "      <td>0.000000</td>\n",
       "      <td>0</td>\n",
       "      <td>0</td>\n",
       "    </tr>\n",
       "    <tr>\n",
       "      <th>20503</th>\n",
       "      <td>0</td>\n",
       "      <td>0</td>\n",
       "      <td>0</td>\n",
       "      <td>0.285714</td>\n",
       "      <td>0</td>\n",
       "      <td>0</td>\n",
       "      <td>0</td>\n",
       "      <td>0.000000</td>\n",
       "      <td>0.000000</td>\n",
       "      <td>0.000000</td>\n",
       "      <td>...</td>\n",
       "      <td>0.000000</td>\n",
       "      <td>0</td>\n",
       "      <td>0</td>\n",
       "      <td>0</td>\n",
       "      <td>0</td>\n",
       "      <td>0</td>\n",
       "      <td>0</td>\n",
       "      <td>0.000000</td>\n",
       "      <td>0</td>\n",
       "      <td>0</td>\n",
       "    </tr>\n",
       "    <tr>\n",
       "      <th>589828</th>\n",
       "      <td>0</td>\n",
       "      <td>0</td>\n",
       "      <td>0</td>\n",
       "      <td>0.000000</td>\n",
       "      <td>0</td>\n",
       "      <td>0</td>\n",
       "      <td>0</td>\n",
       "      <td>0.000000</td>\n",
       "      <td>0.000000</td>\n",
       "      <td>0.000000</td>\n",
       "      <td>...</td>\n",
       "      <td>0.000000</td>\n",
       "      <td>0</td>\n",
       "      <td>0</td>\n",
       "      <td>0</td>\n",
       "      <td>0</td>\n",
       "      <td>0</td>\n",
       "      <td>0</td>\n",
       "      <td>0.000000</td>\n",
       "      <td>0</td>\n",
       "      <td>0</td>\n",
       "    </tr>\n",
       "    <tr>\n",
       "      <th>47131</th>\n",
       "      <td>0</td>\n",
       "      <td>0</td>\n",
       "      <td>0</td>\n",
       "      <td>0.000000</td>\n",
       "      <td>0</td>\n",
       "      <td>0</td>\n",
       "      <td>0</td>\n",
       "      <td>0.000000</td>\n",
       "      <td>0.042017</td>\n",
       "      <td>0.000000</td>\n",
       "      <td>...</td>\n",
       "      <td>0.000000</td>\n",
       "      <td>0</td>\n",
       "      <td>0</td>\n",
       "      <td>0</td>\n",
       "      <td>0</td>\n",
       "      <td>0</td>\n",
       "      <td>0</td>\n",
       "      <td>0.000000</td>\n",
       "      <td>0</td>\n",
       "      <td>0</td>\n",
       "    </tr>\n",
       "    <tr>\n",
       "      <th>46085</th>\n",
       "      <td>0</td>\n",
       "      <td>0</td>\n",
       "      <td>0</td>\n",
       "      <td>0.000000</td>\n",
       "      <td>0</td>\n",
       "      <td>0</td>\n",
       "      <td>0</td>\n",
       "      <td>0.000000</td>\n",
       "      <td>0.000000</td>\n",
       "      <td>0.000000</td>\n",
       "      <td>...</td>\n",
       "      <td>0.000000</td>\n",
       "      <td>0</td>\n",
       "      <td>0</td>\n",
       "      <td>0</td>\n",
       "      <td>0</td>\n",
       "      <td>0</td>\n",
       "      <td>0</td>\n",
       "      <td>0.000000</td>\n",
       "      <td>0</td>\n",
       "      <td>0</td>\n",
       "    </tr>\n",
       "    <tr>\n",
       "      <th>38</th>\n",
       "      <td>0</td>\n",
       "      <td>0</td>\n",
       "      <td>0</td>\n",
       "      <td>0.000000</td>\n",
       "      <td>0</td>\n",
       "      <td>0</td>\n",
       "      <td>0</td>\n",
       "      <td>0.000000</td>\n",
       "      <td>0.000000</td>\n",
       "      <td>0.000000</td>\n",
       "      <td>...</td>\n",
       "      <td>0.000000</td>\n",
       "      <td>0</td>\n",
       "      <td>0</td>\n",
       "      <td>0</td>\n",
       "      <td>0</td>\n",
       "      <td>0</td>\n",
       "      <td>0</td>\n",
       "      <td>0.000000</td>\n",
       "      <td>0</td>\n",
       "      <td>0</td>\n",
       "    </tr>\n",
       "    <tr>\n",
       "      <th>42</th>\n",
       "      <td>0</td>\n",
       "      <td>0</td>\n",
       "      <td>0</td>\n",
       "      <td>0.000000</td>\n",
       "      <td>0</td>\n",
       "      <td>0</td>\n",
       "      <td>0</td>\n",
       "      <td>0.000000</td>\n",
       "      <td>0.000000</td>\n",
       "      <td>0.000000</td>\n",
       "      <td>...</td>\n",
       "      <td>0.000000</td>\n",
       "      <td>0</td>\n",
       "      <td>0</td>\n",
       "      <td>0</td>\n",
       "      <td>0</td>\n",
       "      <td>0</td>\n",
       "      <td>0</td>\n",
       "      <td>0.000000</td>\n",
       "      <td>0</td>\n",
       "      <td>0</td>\n",
       "    </tr>\n",
       "    <tr>\n",
       "      <th>409643</th>\n",
       "      <td>0</td>\n",
       "      <td>0</td>\n",
       "      <td>0</td>\n",
       "      <td>0.000000</td>\n",
       "      <td>0</td>\n",
       "      <td>0</td>\n",
       "      <td>0</td>\n",
       "      <td>0.000000</td>\n",
       "      <td>0.000000</td>\n",
       "      <td>0.000000</td>\n",
       "      <td>...</td>\n",
       "      <td>0.000000</td>\n",
       "      <td>0</td>\n",
       "      <td>0</td>\n",
       "      <td>0</td>\n",
       "      <td>0</td>\n",
       "      <td>0</td>\n",
       "      <td>0</td>\n",
       "      <td>0.000000</td>\n",
       "      <td>0</td>\n",
       "      <td>0</td>\n",
       "    </tr>\n",
       "    <tr>\n",
       "      <th>2092</th>\n",
       "      <td>0</td>\n",
       "      <td>0</td>\n",
       "      <td>0</td>\n",
       "      <td>0.000000</td>\n",
       "      <td>0</td>\n",
       "      <td>0</td>\n",
       "      <td>0</td>\n",
       "      <td>0.000000</td>\n",
       "      <td>0.000000</td>\n",
       "      <td>0.000000</td>\n",
       "      <td>...</td>\n",
       "      <td>0.000000</td>\n",
       "      <td>0</td>\n",
       "      <td>0</td>\n",
       "      <td>0</td>\n",
       "      <td>0</td>\n",
       "      <td>0</td>\n",
       "      <td>0</td>\n",
       "      <td>0.000000</td>\n",
       "      <td>0</td>\n",
       "      <td>0</td>\n",
       "    </tr>\n",
       "    <tr>\n",
       "      <th>45</th>\n",
       "      <td>0</td>\n",
       "      <td>0</td>\n",
       "      <td>0</td>\n",
       "      <td>0.000000</td>\n",
       "      <td>0</td>\n",
       "      <td>0</td>\n",
       "      <td>0</td>\n",
       "      <td>0.000000</td>\n",
       "      <td>0.000000</td>\n",
       "      <td>0.000000</td>\n",
       "      <td>...</td>\n",
       "      <td>0.000000</td>\n",
       "      <td>0</td>\n",
       "      <td>0</td>\n",
       "      <td>0</td>\n",
       "      <td>0</td>\n",
       "      <td>0</td>\n",
       "      <td>0</td>\n",
       "      <td>0.000000</td>\n",
       "      <td>0</td>\n",
       "      <td>0</td>\n",
       "    </tr>\n",
       "    <tr>\n",
       "      <th>46</th>\n",
       "      <td>0</td>\n",
       "      <td>0</td>\n",
       "      <td>0</td>\n",
       "      <td>0.000000</td>\n",
       "      <td>0</td>\n",
       "      <td>0</td>\n",
       "      <td>0</td>\n",
       "      <td>0.000000</td>\n",
       "      <td>0.000000</td>\n",
       "      <td>0.000000</td>\n",
       "      <td>...</td>\n",
       "      <td>0.117647</td>\n",
       "      <td>0</td>\n",
       "      <td>0</td>\n",
       "      <td>0</td>\n",
       "      <td>0</td>\n",
       "      <td>0</td>\n",
       "      <td>0</td>\n",
       "      <td>0.000000</td>\n",
       "      <td>0</td>\n",
       "      <td>0</td>\n",
       "    </tr>\n",
       "    <tr>\n",
       "      <th>467293</th>\n",
       "      <td>0</td>\n",
       "      <td>0</td>\n",
       "      <td>0</td>\n",
       "      <td>0.000000</td>\n",
       "      <td>0</td>\n",
       "      <td>0</td>\n",
       "      <td>0</td>\n",
       "      <td>0.000000</td>\n",
       "      <td>0.000000</td>\n",
       "      <td>0.000000</td>\n",
       "      <td>...</td>\n",
       "      <td>0.000000</td>\n",
       "      <td>0</td>\n",
       "      <td>0</td>\n",
       "      <td>0</td>\n",
       "      <td>0</td>\n",
       "      <td>0</td>\n",
       "      <td>0</td>\n",
       "      <td>0.000000</td>\n",
       "      <td>0</td>\n",
       "      <td>0</td>\n",
       "    </tr>\n",
       "    <tr>\n",
       "      <th>51248</th>\n",
       "      <td>0</td>\n",
       "      <td>0</td>\n",
       "      <td>0</td>\n",
       "      <td>0.000000</td>\n",
       "      <td>0</td>\n",
       "      <td>0</td>\n",
       "      <td>0</td>\n",
       "      <td>0.000000</td>\n",
       "      <td>0.000000</td>\n",
       "      <td>0.000000</td>\n",
       "      <td>...</td>\n",
       "      <td>0.000000</td>\n",
       "      <td>0</td>\n",
       "      <td>0</td>\n",
       "      <td>0</td>\n",
       "      <td>0</td>\n",
       "      <td>0</td>\n",
       "      <td>0</td>\n",
       "      <td>0.000000</td>\n",
       "      <td>0</td>\n",
       "      <td>0</td>\n",
       "    </tr>\n",
       "    <tr>\n",
       "      <th>56</th>\n",
       "      <td>0</td>\n",
       "      <td>0</td>\n",
       "      <td>0</td>\n",
       "      <td>0.000000</td>\n",
       "      <td>0</td>\n",
       "      <td>0</td>\n",
       "      <td>0</td>\n",
       "      <td>0.000000</td>\n",
       "      <td>0.000000</td>\n",
       "      <td>0.000000</td>\n",
       "      <td>...</td>\n",
       "      <td>0.000000</td>\n",
       "      <td>0</td>\n",
       "      <td>0</td>\n",
       "      <td>0</td>\n",
       "      <td>0</td>\n",
       "      <td>0</td>\n",
       "      <td>0</td>\n",
       "      <td>0.000000</td>\n",
       "      <td>0</td>\n",
       "      <td>0</td>\n",
       "    </tr>\n",
       "    <tr>\n",
       "      <th>59</th>\n",
       "      <td>0</td>\n",
       "      <td>0</td>\n",
       "      <td>0</td>\n",
       "      <td>0.000000</td>\n",
       "      <td>0</td>\n",
       "      <td>0</td>\n",
       "      <td>0</td>\n",
       "      <td>0.000000</td>\n",
       "      <td>0.000000</td>\n",
       "      <td>0.000000</td>\n",
       "      <td>...</td>\n",
       "      <td>0.000000</td>\n",
       "      <td>0</td>\n",
       "      <td>0</td>\n",
       "      <td>0</td>\n",
       "      <td>0</td>\n",
       "      <td>0</td>\n",
       "      <td>0</td>\n",
       "      <td>0.000000</td>\n",
       "      <td>0</td>\n",
       "      <td>0</td>\n",
       "    </tr>\n",
       "    <tr>\n",
       "      <th>64</th>\n",
       "      <td>0</td>\n",
       "      <td>0</td>\n",
       "      <td>0</td>\n",
       "      <td>0.000000</td>\n",
       "      <td>0</td>\n",
       "      <td>0</td>\n",
       "      <td>0</td>\n",
       "      <td>0.000000</td>\n",
       "      <td>0.000000</td>\n",
       "      <td>0.000000</td>\n",
       "      <td>...</td>\n",
       "      <td>0.000000</td>\n",
       "      <td>0</td>\n",
       "      <td>0</td>\n",
       "      <td>0</td>\n",
       "      <td>0</td>\n",
       "      <td>0</td>\n",
       "      <td>0</td>\n",
       "      <td>0.000000</td>\n",
       "      <td>0</td>\n",
       "      <td>0</td>\n",
       "    </tr>\n",
       "    <tr>\n",
       "      <th>16450</th>\n",
       "      <td>0</td>\n",
       "      <td>0</td>\n",
       "      <td>0</td>\n",
       "      <td>0.000000</td>\n",
       "      <td>0</td>\n",
       "      <td>0</td>\n",
       "      <td>0</td>\n",
       "      <td>0.000000</td>\n",
       "      <td>0.000000</td>\n",
       "      <td>0.000000</td>\n",
       "      <td>...</td>\n",
       "      <td>0.000000</td>\n",
       "      <td>0</td>\n",
       "      <td>0</td>\n",
       "      <td>0</td>\n",
       "      <td>0</td>\n",
       "      <td>0</td>\n",
       "      <td>0</td>\n",
       "      <td>0.000000</td>\n",
       "      <td>0</td>\n",
       "      <td>0</td>\n",
       "    </tr>\n",
       "    <tr>\n",
       "      <th>2059</th>\n",
       "      <td>0</td>\n",
       "      <td>0</td>\n",
       "      <td>0</td>\n",
       "      <td>0.000000</td>\n",
       "      <td>0</td>\n",
       "      <td>0</td>\n",
       "      <td>0</td>\n",
       "      <td>0.000000</td>\n",
       "      <td>0.000000</td>\n",
       "      <td>0.000000</td>\n",
       "      <td>...</td>\n",
       "      <td>0.042017</td>\n",
       "      <td>0</td>\n",
       "      <td>0</td>\n",
       "      <td>0</td>\n",
       "      <td>0</td>\n",
       "      <td>0</td>\n",
       "      <td>0</td>\n",
       "      <td>0.000000</td>\n",
       "      <td>0</td>\n",
       "      <td>0</td>\n",
       "    </tr>\n",
       "    <tr>\n",
       "      <th>68</th>\n",
       "      <td>0</td>\n",
       "      <td>0</td>\n",
       "      <td>0</td>\n",
       "      <td>0.000000</td>\n",
       "      <td>0</td>\n",
       "      <td>0</td>\n",
       "      <td>0</td>\n",
       "      <td>0.000000</td>\n",
       "      <td>0.000000</td>\n",
       "      <td>0.000000</td>\n",
       "      <td>...</td>\n",
       "      <td>0.000000</td>\n",
       "      <td>0</td>\n",
       "      <td>0</td>\n",
       "      <td>0</td>\n",
       "      <td>0</td>\n",
       "      <td>0</td>\n",
       "      <td>0</td>\n",
       "      <td>0.000000</td>\n",
       "      <td>0</td>\n",
       "      <td>0</td>\n",
       "    </tr>\n",
       "    <tr>\n",
       "      <th>69</th>\n",
       "      <td>0</td>\n",
       "      <td>0</td>\n",
       "      <td>0</td>\n",
       "      <td>0.000000</td>\n",
       "      <td>0</td>\n",
       "      <td>0</td>\n",
       "      <td>0</td>\n",
       "      <td>0.285714</td>\n",
       "      <td>0.000000</td>\n",
       "      <td>0.000000</td>\n",
       "      <td>...</td>\n",
       "      <td>0.000000</td>\n",
       "      <td>0</td>\n",
       "      <td>0</td>\n",
       "      <td>0</td>\n",
       "      <td>0</td>\n",
       "      <td>0</td>\n",
       "      <td>0</td>\n",
       "      <td>0.000000</td>\n",
       "      <td>0</td>\n",
       "      <td>0</td>\n",
       "    </tr>\n",
       "    <tr>\n",
       "      <th>...</th>\n",
       "      <td>...</td>\n",
       "      <td>...</td>\n",
       "      <td>...</td>\n",
       "      <td>...</td>\n",
       "      <td>...</td>\n",
       "      <td>...</td>\n",
       "      <td>...</td>\n",
       "      <td>...</td>\n",
       "      <td>...</td>\n",
       "      <td>...</td>\n",
       "      <td>...</td>\n",
       "      <td>...</td>\n",
       "      <td>...</td>\n",
       "      <td>...</td>\n",
       "      <td>...</td>\n",
       "      <td>...</td>\n",
       "      <td>...</td>\n",
       "      <td>...</td>\n",
       "      <td>...</td>\n",
       "      <td>...</td>\n",
       "      <td>...</td>\n",
       "    </tr>\n",
       "    <tr>\n",
       "      <th>57263</th>\n",
       "      <td>0</td>\n",
       "      <td>0</td>\n",
       "      <td>0</td>\n",
       "      <td>0.000000</td>\n",
       "      <td>0</td>\n",
       "      <td>0</td>\n",
       "      <td>0</td>\n",
       "      <td>0.000000</td>\n",
       "      <td>0.000000</td>\n",
       "      <td>0.000000</td>\n",
       "      <td>...</td>\n",
       "      <td>0.000000</td>\n",
       "      <td>0</td>\n",
       "      <td>0</td>\n",
       "      <td>0</td>\n",
       "      <td>0</td>\n",
       "      <td>0</td>\n",
       "      <td>0</td>\n",
       "      <td>0.000000</td>\n",
       "      <td>0</td>\n",
       "      <td>0</td>\n",
       "    </tr>\n",
       "    <tr>\n",
       "      <th>288690</th>\n",
       "      <td>0</td>\n",
       "      <td>0</td>\n",
       "      <td>0</td>\n",
       "      <td>0.000000</td>\n",
       "      <td>0</td>\n",
       "      <td>0</td>\n",
       "      <td>0</td>\n",
       "      <td>0.000000</td>\n",
       "      <td>0.000000</td>\n",
       "      <td>0.000000</td>\n",
       "      <td>...</td>\n",
       "      <td>0.000000</td>\n",
       "      <td>0</td>\n",
       "      <td>0</td>\n",
       "      <td>0</td>\n",
       "      <td>0</td>\n",
       "      <td>0</td>\n",
       "      <td>0</td>\n",
       "      <td>0.000000</td>\n",
       "      <td>0</td>\n",
       "      <td>0</td>\n",
       "    </tr>\n",
       "    <tr>\n",
       "      <th>176051</th>\n",
       "      <td>0</td>\n",
       "      <td>0</td>\n",
       "      <td>0</td>\n",
       "      <td>0.000000</td>\n",
       "      <td>0</td>\n",
       "      <td>0</td>\n",
       "      <td>0</td>\n",
       "      <td>0.000000</td>\n",
       "      <td>0.000000</td>\n",
       "      <td>0.000000</td>\n",
       "      <td>...</td>\n",
       "      <td>0.000000</td>\n",
       "      <td>0</td>\n",
       "      <td>0</td>\n",
       "      <td>0</td>\n",
       "      <td>0</td>\n",
       "      <td>0</td>\n",
       "      <td>0</td>\n",
       "      <td>0.000000</td>\n",
       "      <td>0</td>\n",
       "      <td>0</td>\n",
       "    </tr>\n",
       "    <tr>\n",
       "      <th>1972</th>\n",
       "      <td>0</td>\n",
       "      <td>0</td>\n",
       "      <td>0</td>\n",
       "      <td>0.000000</td>\n",
       "      <td>0</td>\n",
       "      <td>0</td>\n",
       "      <td>0</td>\n",
       "      <td>0.000000</td>\n",
       "      <td>0.000000</td>\n",
       "      <td>0.000000</td>\n",
       "      <td>...</td>\n",
       "      <td>0.000000</td>\n",
       "      <td>0</td>\n",
       "      <td>0</td>\n",
       "      <td>0</td>\n",
       "      <td>0</td>\n",
       "      <td>0</td>\n",
       "      <td>0</td>\n",
       "      <td>0.000000</td>\n",
       "      <td>0</td>\n",
       "      <td>0</td>\n",
       "    </tr>\n",
       "    <tr>\n",
       "      <th>176053</th>\n",
       "      <td>0</td>\n",
       "      <td>0</td>\n",
       "      <td>0</td>\n",
       "      <td>0.000000</td>\n",
       "      <td>0</td>\n",
       "      <td>0</td>\n",
       "      <td>0</td>\n",
       "      <td>0.000000</td>\n",
       "      <td>0.000000</td>\n",
       "      <td>0.000000</td>\n",
       "      <td>...</td>\n",
       "      <td>0.000000</td>\n",
       "      <td>0</td>\n",
       "      <td>0</td>\n",
       "      <td>0</td>\n",
       "      <td>0</td>\n",
       "      <td>0</td>\n",
       "      <td>0</td>\n",
       "      <td>0.000000</td>\n",
       "      <td>0</td>\n",
       "      <td>0</td>\n",
       "    </tr>\n",
       "    <tr>\n",
       "      <th>38842</th>\n",
       "      <td>0</td>\n",
       "      <td>0</td>\n",
       "      <td>0</td>\n",
       "      <td>0.000000</td>\n",
       "      <td>0</td>\n",
       "      <td>0</td>\n",
       "      <td>0</td>\n",
       "      <td>0.000000</td>\n",
       "      <td>0.000000</td>\n",
       "      <td>0.000000</td>\n",
       "      <td>...</td>\n",
       "      <td>0.000000</td>\n",
       "      <td>0</td>\n",
       "      <td>0</td>\n",
       "      <td>0</td>\n",
       "      <td>0</td>\n",
       "      <td>0</td>\n",
       "      <td>0</td>\n",
       "      <td>0.000000</td>\n",
       "      <td>0</td>\n",
       "      <td>0</td>\n",
       "    </tr>\n",
       "    <tr>\n",
       "      <th>184255</th>\n",
       "      <td>0</td>\n",
       "      <td>0</td>\n",
       "      <td>0</td>\n",
       "      <td>0.000000</td>\n",
       "      <td>0</td>\n",
       "      <td>0</td>\n",
       "      <td>0</td>\n",
       "      <td>0.000000</td>\n",
       "      <td>0.000000</td>\n",
       "      <td>0.000000</td>\n",
       "      <td>...</td>\n",
       "      <td>0.000000</td>\n",
       "      <td>0</td>\n",
       "      <td>0</td>\n",
       "      <td>0</td>\n",
       "      <td>0</td>\n",
       "      <td>0</td>\n",
       "      <td>0</td>\n",
       "      <td>0.000000</td>\n",
       "      <td>0</td>\n",
       "      <td>0</td>\n",
       "    </tr>\n",
       "    <tr>\n",
       "      <th>1985</th>\n",
       "      <td>0</td>\n",
       "      <td>0</td>\n",
       "      <td>0</td>\n",
       "      <td>0.000000</td>\n",
       "      <td>0</td>\n",
       "      <td>0</td>\n",
       "      <td>0</td>\n",
       "      <td>0.000000</td>\n",
       "      <td>0.000000</td>\n",
       "      <td>0.000000</td>\n",
       "      <td>...</td>\n",
       "      <td>0.000000</td>\n",
       "      <td>0</td>\n",
       "      <td>0</td>\n",
       "      <td>0</td>\n",
       "      <td>0</td>\n",
       "      <td>0</td>\n",
       "      <td>0</td>\n",
       "      <td>0.000000</td>\n",
       "      <td>0</td>\n",
       "      <td>0</td>\n",
       "    </tr>\n",
       "    <tr>\n",
       "      <th>27638</th>\n",
       "      <td>0</td>\n",
       "      <td>0</td>\n",
       "      <td>0</td>\n",
       "      <td>0.000000</td>\n",
       "      <td>0</td>\n",
       "      <td>0</td>\n",
       "      <td>0</td>\n",
       "      <td>0.000000</td>\n",
       "      <td>0.000000</td>\n",
       "      <td>0.000000</td>\n",
       "      <td>...</td>\n",
       "      <td>0.000000</td>\n",
       "      <td>0</td>\n",
       "      <td>0</td>\n",
       "      <td>0</td>\n",
       "      <td>0</td>\n",
       "      <td>0</td>\n",
       "      <td>0</td>\n",
       "      <td>0.000000</td>\n",
       "      <td>0</td>\n",
       "      <td>0</td>\n",
       "    </tr>\n",
       "    <tr>\n",
       "      <th>39585</th>\n",
       "      <td>0</td>\n",
       "      <td>0</td>\n",
       "      <td>0</td>\n",
       "      <td>0.000000</td>\n",
       "      <td>0</td>\n",
       "      <td>0</td>\n",
       "      <td>0</td>\n",
       "      <td>0.000000</td>\n",
       "      <td>0.000000</td>\n",
       "      <td>0.000000</td>\n",
       "      <td>...</td>\n",
       "      <td>0.000000</td>\n",
       "      <td>0</td>\n",
       "      <td>0</td>\n",
       "      <td>0</td>\n",
       "      <td>0</td>\n",
       "      <td>0</td>\n",
       "      <td>0</td>\n",
       "      <td>0.000000</td>\n",
       "      <td>0</td>\n",
       "      <td>0</td>\n",
       "    </tr>\n",
       "    <tr>\n",
       "      <th>479177</th>\n",
       "      <td>0</td>\n",
       "      <td>0</td>\n",
       "      <td>0</td>\n",
       "      <td>0.000000</td>\n",
       "      <td>0</td>\n",
       "      <td>0</td>\n",
       "      <td>0</td>\n",
       "      <td>0.000000</td>\n",
       "      <td>0.000000</td>\n",
       "      <td>0.000000</td>\n",
       "      <td>...</td>\n",
       "      <td>0.000000</td>\n",
       "      <td>0</td>\n",
       "      <td>0</td>\n",
       "      <td>0</td>\n",
       "      <td>0</td>\n",
       "      <td>0</td>\n",
       "      <td>0</td>\n",
       "      <td>0.000000</td>\n",
       "      <td>0</td>\n",
       "      <td>0</td>\n",
       "    </tr>\n",
       "    <tr>\n",
       "      <th>47777</th>\n",
       "      <td>0</td>\n",
       "      <td>0</td>\n",
       "      <td>0</td>\n",
       "      <td>0.000000</td>\n",
       "      <td>0</td>\n",
       "      <td>0</td>\n",
       "      <td>0</td>\n",
       "      <td>0.000000</td>\n",
       "      <td>0.000000</td>\n",
       "      <td>0.000000</td>\n",
       "      <td>...</td>\n",
       "      <td>0.000000</td>\n",
       "      <td>0</td>\n",
       "      <td>0</td>\n",
       "      <td>0</td>\n",
       "      <td>0</td>\n",
       "      <td>0</td>\n",
       "      <td>0</td>\n",
       "      <td>0.000000</td>\n",
       "      <td>0</td>\n",
       "      <td>0</td>\n",
       "    </tr>\n",
       "    <tr>\n",
       "      <th>28623</th>\n",
       "      <td>0</td>\n",
       "      <td>0</td>\n",
       "      <td>0</td>\n",
       "      <td>0.000000</td>\n",
       "      <td>0</td>\n",
       "      <td>0</td>\n",
       "      <td>0</td>\n",
       "      <td>0.000000</td>\n",
       "      <td>0.000000</td>\n",
       "      <td>0.000000</td>\n",
       "      <td>...</td>\n",
       "      <td>0.000000</td>\n",
       "      <td>0</td>\n",
       "      <td>0</td>\n",
       "      <td>0</td>\n",
       "      <td>0</td>\n",
       "      <td>0</td>\n",
       "      <td>0</td>\n",
       "      <td>0.000000</td>\n",
       "      <td>0</td>\n",
       "      <td>0</td>\n",
       "    </tr>\n",
       "    <tr>\n",
       "      <th>42318</th>\n",
       "      <td>0</td>\n",
       "      <td>0</td>\n",
       "      <td>0</td>\n",
       "      <td>0.000000</td>\n",
       "      <td>0</td>\n",
       "      <td>0</td>\n",
       "      <td>0</td>\n",
       "      <td>0.000000</td>\n",
       "      <td>0.000000</td>\n",
       "      <td>0.000000</td>\n",
       "      <td>...</td>\n",
       "      <td>0.000000</td>\n",
       "      <td>0</td>\n",
       "      <td>0</td>\n",
       "      <td>0</td>\n",
       "      <td>0</td>\n",
       "      <td>0</td>\n",
       "      <td>0</td>\n",
       "      <td>0.000000</td>\n",
       "      <td>0</td>\n",
       "      <td>0</td>\n",
       "    </tr>\n",
       "    <tr>\n",
       "      <th>2011</th>\n",
       "      <td>0</td>\n",
       "      <td>0</td>\n",
       "      <td>0</td>\n",
       "      <td>0.000000</td>\n",
       "      <td>0</td>\n",
       "      <td>0</td>\n",
       "      <td>0</td>\n",
       "      <td>0.000000</td>\n",
       "      <td>0.000000</td>\n",
       "      <td>0.000000</td>\n",
       "      <td>...</td>\n",
       "      <td>0.000000</td>\n",
       "      <td>0</td>\n",
       "      <td>0</td>\n",
       "      <td>0</td>\n",
       "      <td>0</td>\n",
       "      <td>0</td>\n",
       "      <td>0</td>\n",
       "      <td>0.000000</td>\n",
       "      <td>0</td>\n",
       "      <td>0</td>\n",
       "    </tr>\n",
       "    <tr>\n",
       "      <th>141276</th>\n",
       "      <td>0</td>\n",
       "      <td>0</td>\n",
       "      <td>0</td>\n",
       "      <td>0.000000</td>\n",
       "      <td>0</td>\n",
       "      <td>0</td>\n",
       "      <td>0</td>\n",
       "      <td>0.000000</td>\n",
       "      <td>0.000000</td>\n",
       "      <td>0.000000</td>\n",
       "      <td>...</td>\n",
       "      <td>0.000000</td>\n",
       "      <td>0</td>\n",
       "      <td>0</td>\n",
       "      <td>0</td>\n",
       "      <td>0</td>\n",
       "      <td>0</td>\n",
       "      <td>0</td>\n",
       "      <td>0.000000</td>\n",
       "      <td>0</td>\n",
       "      <td>0</td>\n",
       "    </tr>\n",
       "    <tr>\n",
       "      <th>10207</th>\n",
       "      <td>0</td>\n",
       "      <td>0</td>\n",
       "      <td>0</td>\n",
       "      <td>0.000000</td>\n",
       "      <td>0</td>\n",
       "      <td>0</td>\n",
       "      <td>0</td>\n",
       "      <td>0.000000</td>\n",
       "      <td>0.000000</td>\n",
       "      <td>0.000000</td>\n",
       "      <td>...</td>\n",
       "      <td>0.000000</td>\n",
       "      <td>0</td>\n",
       "      <td>0</td>\n",
       "      <td>0</td>\n",
       "      <td>0</td>\n",
       "      <td>0</td>\n",
       "      <td>0</td>\n",
       "      <td>0.000000</td>\n",
       "      <td>0</td>\n",
       "      <td>0</td>\n",
       "    </tr>\n",
       "    <tr>\n",
       "      <th>27618</th>\n",
       "      <td>0</td>\n",
       "      <td>0</td>\n",
       "      <td>0</td>\n",
       "      <td>0.000000</td>\n",
       "      <td>0</td>\n",
       "      <td>0</td>\n",
       "      <td>0</td>\n",
       "      <td>0.000000</td>\n",
       "      <td>0.000000</td>\n",
       "      <td>0.000000</td>\n",
       "      <td>...</td>\n",
       "      <td>0.000000</td>\n",
       "      <td>0</td>\n",
       "      <td>0</td>\n",
       "      <td>0</td>\n",
       "      <td>0</td>\n",
       "      <td>0</td>\n",
       "      <td>0</td>\n",
       "      <td>0.000000</td>\n",
       "      <td>0</td>\n",
       "      <td>0</td>\n",
       "    </tr>\n",
       "    <tr>\n",
       "      <th>67</th>\n",
       "      <td>0</td>\n",
       "      <td>0</td>\n",
       "      <td>0</td>\n",
       "      <td>0.000000</td>\n",
       "      <td>0</td>\n",
       "      <td>0</td>\n",
       "      <td>0</td>\n",
       "      <td>0.000000</td>\n",
       "      <td>0.000000</td>\n",
       "      <td>0.000000</td>\n",
       "      <td>...</td>\n",
       "      <td>0.000000</td>\n",
       "      <td>0</td>\n",
       "      <td>0</td>\n",
       "      <td>0</td>\n",
       "      <td>0</td>\n",
       "      <td>0</td>\n",
       "      <td>0</td>\n",
       "      <td>0.000000</td>\n",
       "      <td>0</td>\n",
       "      <td>0</td>\n",
       "    </tr>\n",
       "    <tr>\n",
       "      <th>2025</th>\n",
       "      <td>0</td>\n",
       "      <td>0</td>\n",
       "      <td>0</td>\n",
       "      <td>0.000000</td>\n",
       "      <td>0</td>\n",
       "      <td>0</td>\n",
       "      <td>0</td>\n",
       "      <td>0.000000</td>\n",
       "      <td>0.000000</td>\n",
       "      <td>0.000000</td>\n",
       "      <td>...</td>\n",
       "      <td>0.000000</td>\n",
       "      <td>0</td>\n",
       "      <td>0</td>\n",
       "      <td>0</td>\n",
       "      <td>0</td>\n",
       "      <td>0</td>\n",
       "      <td>0</td>\n",
       "      <td>0.000000</td>\n",
       "      <td>0</td>\n",
       "      <td>0</td>\n",
       "    </tr>\n",
       "    <tr>\n",
       "      <th>2026</th>\n",
       "      <td>0</td>\n",
       "      <td>0</td>\n",
       "      <td>0</td>\n",
       "      <td>0.000000</td>\n",
       "      <td>0</td>\n",
       "      <td>0</td>\n",
       "      <td>0</td>\n",
       "      <td>0.000000</td>\n",
       "      <td>0.000000</td>\n",
       "      <td>0.000000</td>\n",
       "      <td>...</td>\n",
       "      <td>0.000000</td>\n",
       "      <td>0</td>\n",
       "      <td>0</td>\n",
       "      <td>0</td>\n",
       "      <td>0</td>\n",
       "      <td>0</td>\n",
       "      <td>0</td>\n",
       "      <td>0.000000</td>\n",
       "      <td>0</td>\n",
       "      <td>0</td>\n",
       "    </tr>\n",
       "    <tr>\n",
       "      <th>28651</th>\n",
       "      <td>0</td>\n",
       "      <td>0</td>\n",
       "      <td>0</td>\n",
       "      <td>0.000000</td>\n",
       "      <td>0</td>\n",
       "      <td>0</td>\n",
       "      <td>0</td>\n",
       "      <td>0.000000</td>\n",
       "      <td>0.000000</td>\n",
       "      <td>0.000000</td>\n",
       "      <td>...</td>\n",
       "      <td>0.000000</td>\n",
       "      <td>0</td>\n",
       "      <td>0</td>\n",
       "      <td>0</td>\n",
       "      <td>0</td>\n",
       "      <td>0</td>\n",
       "      <td>0</td>\n",
       "      <td>0.000000</td>\n",
       "      <td>0</td>\n",
       "      <td>0</td>\n",
       "    </tr>\n",
       "    <tr>\n",
       "      <th>17746</th>\n",
       "      <td>0</td>\n",
       "      <td>0</td>\n",
       "      <td>0</td>\n",
       "      <td>0.000000</td>\n",
       "      <td>0</td>\n",
       "      <td>0</td>\n",
       "      <td>0</td>\n",
       "      <td>0.000000</td>\n",
       "      <td>0.000000</td>\n",
       "      <td>0.000000</td>\n",
       "      <td>...</td>\n",
       "      <td>0.000000</td>\n",
       "      <td>0</td>\n",
       "      <td>0</td>\n",
       "      <td>0</td>\n",
       "      <td>0</td>\n",
       "      <td>0</td>\n",
       "      <td>0</td>\n",
       "      <td>0.000000</td>\n",
       "      <td>0</td>\n",
       "      <td>0</td>\n",
       "    </tr>\n",
       "    <tr>\n",
       "      <th>2035</th>\n",
       "      <td>0</td>\n",
       "      <td>0</td>\n",
       "      <td>0</td>\n",
       "      <td>0.000000</td>\n",
       "      <td>0</td>\n",
       "      <td>0</td>\n",
       "      <td>0</td>\n",
       "      <td>0.000000</td>\n",
       "      <td>0.000000</td>\n",
       "      <td>0.000000</td>\n",
       "      <td>...</td>\n",
       "      <td>0.000000</td>\n",
       "      <td>0</td>\n",
       "      <td>0</td>\n",
       "      <td>0</td>\n",
       "      <td>0</td>\n",
       "      <td>0</td>\n",
       "      <td>0</td>\n",
       "      <td>0.000000</td>\n",
       "      <td>0</td>\n",
       "      <td>0</td>\n",
       "    </tr>\n",
       "    <tr>\n",
       "      <th>14325</th>\n",
       "      <td>0</td>\n",
       "      <td>0</td>\n",
       "      <td>0</td>\n",
       "      <td>0.000000</td>\n",
       "      <td>0</td>\n",
       "      <td>0</td>\n",
       "      <td>0</td>\n",
       "      <td>0.000000</td>\n",
       "      <td>0.000000</td>\n",
       "      <td>0.000000</td>\n",
       "      <td>...</td>\n",
       "      <td>0.000000</td>\n",
       "      <td>0</td>\n",
       "      <td>0</td>\n",
       "      <td>0</td>\n",
       "      <td>0</td>\n",
       "      <td>0</td>\n",
       "      <td>0</td>\n",
       "      <td>0.000000</td>\n",
       "      <td>0</td>\n",
       "      <td>0</td>\n",
       "    </tr>\n",
       "    <tr>\n",
       "      <th>626678</th>\n",
       "      <td>0</td>\n",
       "      <td>0</td>\n",
       "      <td>0</td>\n",
       "      <td>0.000000</td>\n",
       "      <td>0</td>\n",
       "      <td>0</td>\n",
       "      <td>0</td>\n",
       "      <td>0.000000</td>\n",
       "      <td>0.000000</td>\n",
       "      <td>0.000000</td>\n",
       "      <td>...</td>\n",
       "      <td>0.000000</td>\n",
       "      <td>0</td>\n",
       "      <td>0</td>\n",
       "      <td>0</td>\n",
       "      <td>0</td>\n",
       "      <td>0</td>\n",
       "      <td>0</td>\n",
       "      <td>0.000000</td>\n",
       "      <td>0</td>\n",
       "      <td>0</td>\n",
       "    </tr>\n",
       "    <tr>\n",
       "      <th>178168</th>\n",
       "      <td>0</td>\n",
       "      <td>0</td>\n",
       "      <td>0</td>\n",
       "      <td>0.000000</td>\n",
       "      <td>0</td>\n",
       "      <td>0</td>\n",
       "      <td>0</td>\n",
       "      <td>0.000000</td>\n",
       "      <td>0.000000</td>\n",
       "      <td>0.000000</td>\n",
       "      <td>...</td>\n",
       "      <td>0.000000</td>\n",
       "      <td>0</td>\n",
       "      <td>0</td>\n",
       "      <td>0</td>\n",
       "      <td>0</td>\n",
       "      <td>0</td>\n",
       "      <td>0</td>\n",
       "      <td>0.000000</td>\n",
       "      <td>0</td>\n",
       "      <td>0</td>\n",
       "    </tr>\n",
       "    <tr>\n",
       "      <th>10233</th>\n",
       "      <td>0</td>\n",
       "      <td>0</td>\n",
       "      <td>0</td>\n",
       "      <td>0.000000</td>\n",
       "      <td>0</td>\n",
       "      <td>0</td>\n",
       "      <td>0</td>\n",
       "      <td>0.000000</td>\n",
       "      <td>0.000000</td>\n",
       "      <td>0.000000</td>\n",
       "      <td>...</td>\n",
       "      <td>0.000000</td>\n",
       "      <td>0</td>\n",
       "      <td>0</td>\n",
       "      <td>0</td>\n",
       "      <td>0</td>\n",
       "      <td>0</td>\n",
       "      <td>0</td>\n",
       "      <td>0.000000</td>\n",
       "      <td>0</td>\n",
       "      <td>0</td>\n",
       "    </tr>\n",
       "    <tr>\n",
       "      <th>36862</th>\n",
       "      <td>0</td>\n",
       "      <td>0</td>\n",
       "      <td>0</td>\n",
       "      <td>0.000000</td>\n",
       "      <td>0</td>\n",
       "      <td>0</td>\n",
       "      <td>0</td>\n",
       "      <td>0.000000</td>\n",
       "      <td>0.000000</td>\n",
       "      <td>0.000000</td>\n",
       "      <td>...</td>\n",
       "      <td>0.000000</td>\n",
       "      <td>0</td>\n",
       "      <td>0</td>\n",
       "      <td>0</td>\n",
       "      <td>0</td>\n",
       "      <td>0</td>\n",
       "      <td>0</td>\n",
       "      <td>0.000000</td>\n",
       "      <td>0</td>\n",
       "      <td>0</td>\n",
       "    </tr>\n",
       "    <tr>\n",
       "      <th>20479</th>\n",
       "      <td>0</td>\n",
       "      <td>0</td>\n",
       "      <td>0</td>\n",
       "      <td>0.000000</td>\n",
       "      <td>0</td>\n",
       "      <td>0</td>\n",
       "      <td>0</td>\n",
       "      <td>0.000000</td>\n",
       "      <td>0.000000</td>\n",
       "      <td>0.000000</td>\n",
       "      <td>...</td>\n",
       "      <td>0.000000</td>\n",
       "      <td>0</td>\n",
       "      <td>0</td>\n",
       "      <td>0</td>\n",
       "      <td>0</td>\n",
       "      <td>0</td>\n",
       "      <td>0</td>\n",
       "      <td>0.000000</td>\n",
       "      <td>0</td>\n",
       "      <td>0</td>\n",
       "    </tr>\n",
       "  </tbody>\n",
       "</table>\n",
       "<p>815 rows × 421 columns</p>\n",
       "</div>"
      ],
      "text/plain": [
       "        653082   2396122  2415289   2369079  2411389  2304247  2396302  \\\n",
       "2048          0        0        0  0.000000        0        0        0   \n",
       "1             0        0        0  0.000000        0        0        0   \n",
       "2             0        0        0  0.000000        0        0        0   \n",
       "3             0        0        0  0.000000        0        0        0   \n",
       "4             0        0        0  0.000000        0        0        0   \n",
       "5             0        0        0  0.000000        0        0        0   \n",
       "2057          0        0        0  0.000000        0        0        0   \n",
       "329739        0        0        0  0.000000        0        0        0   \n",
       "13            0        0        0  0.000000        0        0        0   \n",
       "589827        0        0        0  0.000000        0        0        0   \n",
       "22            0        0        0  0.000000        0        0        0   \n",
       "20503         0        0        0  0.285714        0        0        0   \n",
       "589828        0        0        0  0.000000        0        0        0   \n",
       "47131         0        0        0  0.000000        0        0        0   \n",
       "46085         0        0        0  0.000000        0        0        0   \n",
       "38            0        0        0  0.000000        0        0        0   \n",
       "42            0        0        0  0.000000        0        0        0   \n",
       "409643        0        0        0  0.000000        0        0        0   \n",
       "2092          0        0        0  0.000000        0        0        0   \n",
       "45            0        0        0  0.000000        0        0        0   \n",
       "46            0        0        0  0.000000        0        0        0   \n",
       "467293        0        0        0  0.000000        0        0        0   \n",
       "51248         0        0        0  0.000000        0        0        0   \n",
       "56            0        0        0  0.000000        0        0        0   \n",
       "59            0        0        0  0.000000        0        0        0   \n",
       "64            0        0        0  0.000000        0        0        0   \n",
       "16450         0        0        0  0.000000        0        0        0   \n",
       "2059          0        0        0  0.000000        0        0        0   \n",
       "68            0        0        0  0.000000        0        0        0   \n",
       "69            0        0        0  0.000000        0        0        0   \n",
       "...         ...      ...      ...       ...      ...      ...      ...   \n",
       "57263         0        0        0  0.000000        0        0        0   \n",
       "288690        0        0        0  0.000000        0        0        0   \n",
       "176051        0        0        0  0.000000        0        0        0   \n",
       "1972          0        0        0  0.000000        0        0        0   \n",
       "176053        0        0        0  0.000000        0        0        0   \n",
       "38842         0        0        0  0.000000        0        0        0   \n",
       "184255        0        0        0  0.000000        0        0        0   \n",
       "1985          0        0        0  0.000000        0        0        0   \n",
       "27638         0        0        0  0.000000        0        0        0   \n",
       "39585         0        0        0  0.000000        0        0        0   \n",
       "479177        0        0        0  0.000000        0        0        0   \n",
       "47777         0        0        0  0.000000        0        0        0   \n",
       "28623         0        0        0  0.000000        0        0        0   \n",
       "42318         0        0        0  0.000000        0        0        0   \n",
       "2011          0        0        0  0.000000        0        0        0   \n",
       "141276        0        0        0  0.000000        0        0        0   \n",
       "10207         0        0        0  0.000000        0        0        0   \n",
       "27618         0        0        0  0.000000        0        0        0   \n",
       "67            0        0        0  0.000000        0        0        0   \n",
       "2025          0        0        0  0.000000        0        0        0   \n",
       "2026          0        0        0  0.000000        0        0        0   \n",
       "28651         0        0        0  0.000000        0        0        0   \n",
       "17746         0        0        0  0.000000        0        0        0   \n",
       "2035          0        0        0  0.000000        0        0        0   \n",
       "14325         0        0        0  0.000000        0        0        0   \n",
       "626678        0        0        0  0.000000        0        0        0   \n",
       "178168        0        0        0  0.000000        0        0        0   \n",
       "10233         0        0        0  0.000000        0        0        0   \n",
       "36862         0        0        0  0.000000        0        0        0   \n",
       "20479         0        0        0  0.000000        0        0        0   \n",
       "\n",
       "         599451    2398213   2433137   ...      694992   2057145  101077   \\\n",
       "2048    0.000000  0.000000  0.000000   ...     0.000000        0        0   \n",
       "1       0.000000  0.000000  0.000000   ...     0.000000        0        0   \n",
       "2       0.000000  0.000000  0.000000   ...     0.000000        0        0   \n",
       "3       0.000000  0.000000  0.000000   ...     0.000000        0        0   \n",
       "4       0.000000  0.000000  0.416667   ...     0.000000        0        0   \n",
       "5       0.000000  0.000000  0.000000   ...     0.000000        0        0   \n",
       "2057    0.000000  0.000000  0.000000   ...     0.000000        0        0   \n",
       "329739  0.000000  0.042017  0.000000   ...     0.000000        0        0   \n",
       "13      0.000000  0.000000  0.000000   ...     0.000000        0        0   \n",
       "589827  0.000000  0.000000  0.000000   ...     0.000000        0        0   \n",
       "22      0.000000  0.000000  0.000000   ...     0.000000        0        0   \n",
       "20503   0.000000  0.000000  0.000000   ...     0.000000        0        0   \n",
       "589828  0.000000  0.000000  0.000000   ...     0.000000        0        0   \n",
       "47131   0.000000  0.042017  0.000000   ...     0.000000        0        0   \n",
       "46085   0.000000  0.000000  0.000000   ...     0.000000        0        0   \n",
       "38      0.000000  0.000000  0.000000   ...     0.000000        0        0   \n",
       "42      0.000000  0.000000  0.000000   ...     0.000000        0        0   \n",
       "409643  0.000000  0.000000  0.000000   ...     0.000000        0        0   \n",
       "2092    0.000000  0.000000  0.000000   ...     0.000000        0        0   \n",
       "45      0.000000  0.000000  0.000000   ...     0.000000        0        0   \n",
       "46      0.000000  0.000000  0.000000   ...     0.117647        0        0   \n",
       "467293  0.000000  0.000000  0.000000   ...     0.000000        0        0   \n",
       "51248   0.000000  0.000000  0.000000   ...     0.000000        0        0   \n",
       "56      0.000000  0.000000  0.000000   ...     0.000000        0        0   \n",
       "59      0.000000  0.000000  0.000000   ...     0.000000        0        0   \n",
       "64      0.000000  0.000000  0.000000   ...     0.000000        0        0   \n",
       "16450   0.000000  0.000000  0.000000   ...     0.000000        0        0   \n",
       "2059    0.000000  0.000000  0.000000   ...     0.042017        0        0   \n",
       "68      0.000000  0.000000  0.000000   ...     0.000000        0        0   \n",
       "69      0.285714  0.000000  0.000000   ...     0.000000        0        0   \n",
       "...          ...       ...       ...   ...          ...      ...      ...   \n",
       "57263   0.000000  0.000000  0.000000   ...     0.000000        0        0   \n",
       "288690  0.000000  0.000000  0.000000   ...     0.000000        0        0   \n",
       "176051  0.000000  0.000000  0.000000   ...     0.000000        0        0   \n",
       "1972    0.000000  0.000000  0.000000   ...     0.000000        0        0   \n",
       "176053  0.000000  0.000000  0.000000   ...     0.000000        0        0   \n",
       "38842   0.000000  0.000000  0.000000   ...     0.000000        0        0   \n",
       "184255  0.000000  0.000000  0.000000   ...     0.000000        0        0   \n",
       "1985    0.000000  0.000000  0.000000   ...     0.000000        0        0   \n",
       "27638   0.000000  0.000000  0.000000   ...     0.000000        0        0   \n",
       "39585   0.000000  0.000000  0.000000   ...     0.000000        0        0   \n",
       "479177  0.000000  0.000000  0.000000   ...     0.000000        0        0   \n",
       "47777   0.000000  0.000000  0.000000   ...     0.000000        0        0   \n",
       "28623   0.000000  0.000000  0.000000   ...     0.000000        0        0   \n",
       "42318   0.000000  0.000000  0.000000   ...     0.000000        0        0   \n",
       "2011    0.000000  0.000000  0.000000   ...     0.000000        0        0   \n",
       "141276  0.000000  0.000000  0.000000   ...     0.000000        0        0   \n",
       "10207   0.000000  0.000000  0.000000   ...     0.000000        0        0   \n",
       "27618   0.000000  0.000000  0.000000   ...     0.000000        0        0   \n",
       "67      0.000000  0.000000  0.000000   ...     0.000000        0        0   \n",
       "2025    0.000000  0.000000  0.000000   ...     0.000000        0        0   \n",
       "2026    0.000000  0.000000  0.000000   ...     0.000000        0        0   \n",
       "28651   0.000000  0.000000  0.000000   ...     0.000000        0        0   \n",
       "17746   0.000000  0.000000  0.000000   ...     0.000000        0        0   \n",
       "2035    0.000000  0.000000  0.000000   ...     0.000000        0        0   \n",
       "14325   0.000000  0.000000  0.000000   ...     0.000000        0        0   \n",
       "626678  0.000000  0.000000  0.000000   ...     0.000000        0        0   \n",
       "178168  0.000000  0.000000  0.000000   ...     0.000000        0        0   \n",
       "10233   0.000000  0.000000  0.000000   ...     0.000000        0        0   \n",
       "36862   0.000000  0.000000  0.000000   ...     0.000000        0        0   \n",
       "20479   0.000000  0.000000  0.000000   ...     0.000000        0        0   \n",
       "\n",
       "        58072    2388703  107655   493169    2155243  115451   725757   \n",
       "2048          0        0        0        0  0.000000        0        0  \n",
       "1             0        0        0        0  0.000000        0        0  \n",
       "2             0        0        0        0  0.000000        0        0  \n",
       "3             0        0        0        0  0.000000        0        0  \n",
       "4             0        0        0        0  0.285714        0        0  \n",
       "5             0        0        0        0  0.000000        0        0  \n",
       "2057          0        0        0        0  0.000000        0        0  \n",
       "329739        0        0        0        0  0.000000        0        0  \n",
       "13            0        0        0        0  0.000000        0        0  \n",
       "589827        0        0        0        0  0.000000        0        0  \n",
       "22            0        0        0        0  0.000000        0        0  \n",
       "20503         0        0        0        0  0.000000        0        0  \n",
       "589828        0        0        0        0  0.000000        0        0  \n",
       "47131         0        0        0        0  0.000000        0        0  \n",
       "46085         0        0        0        0  0.000000        0        0  \n",
       "38            0        0        0        0  0.000000        0        0  \n",
       "42            0        0        0        0  0.000000        0        0  \n",
       "409643        0        0        0        0  0.000000        0        0  \n",
       "2092          0        0        0        0  0.000000        0        0  \n",
       "45            0        0        0        0  0.000000        0        0  \n",
       "46            0        0        0        0  0.000000        0        0  \n",
       "467293        0        0        0        0  0.000000        0        0  \n",
       "51248         0        0        0        0  0.000000        0        0  \n",
       "56            0        0        0        0  0.000000        0        0  \n",
       "59            0        0        0        0  0.000000        0        0  \n",
       "64            0        0        0        0  0.000000        0        0  \n",
       "16450         0        0        0        0  0.000000        0        0  \n",
       "2059          0        0        0        0  0.000000        0        0  \n",
       "68            0        0        0        0  0.000000        0        0  \n",
       "69            0        0        0        0  0.000000        0        0  \n",
       "...         ...      ...      ...      ...       ...      ...      ...  \n",
       "57263         0        0        0        0  0.000000        0        0  \n",
       "288690        0        0        0        0  0.000000        0        0  \n",
       "176051        0        0        0        0  0.000000        0        0  \n",
       "1972          0        0        0        0  0.000000        0        0  \n",
       "176053        0        0        0        0  0.000000        0        0  \n",
       "38842         0        0        0        0  0.000000        0        0  \n",
       "184255        0        0        0        0  0.000000        0        0  \n",
       "1985          0        0        0        0  0.000000        0        0  \n",
       "27638         0        0        0        0  0.000000        0        0  \n",
       "39585         0        0        0        0  0.000000        0        0  \n",
       "479177        0        0        0        0  0.000000        0        0  \n",
       "47777         0        0        0        0  0.000000        0        0  \n",
       "28623         0        0        0        0  0.000000        0        0  \n",
       "42318         0        0        0        0  0.000000        0        0  \n",
       "2011          0        0        0        0  0.000000        0        0  \n",
       "141276        0        0        0        0  0.000000        0        0  \n",
       "10207         0        0        0        0  0.000000        0        0  \n",
       "27618         0        0        0        0  0.000000        0        0  \n",
       "67            0        0        0        0  0.000000        0        0  \n",
       "2025          0        0        0        0  0.000000        0        0  \n",
       "2026          0        0        0        0  0.000000        0        0  \n",
       "28651         0        0        0        0  0.000000        0        0  \n",
       "17746         0        0        0        0  0.000000        0        0  \n",
       "2035          0        0        0        0  0.000000        0        0  \n",
       "14325         0        0        0        0  0.000000        0        0  \n",
       "626678        0        0        0        0  0.000000        0        0  \n",
       "178168        0        0        0        0  0.000000        0        0  \n",
       "10233         0        0        0        0  0.000000        0        0  \n",
       "36862         0        0        0        0  0.000000        0        0  \n",
       "20479         0        0        0        0  0.000000        0        0  \n",
       "\n",
       "[815 rows x 421 columns]"
      ]
     },
     "execution_count": 14,
     "metadata": {},
     "output_type": "execute_result"
    }
   ],
   "source": [
    "df"
   ]
  },
  {
   "cell_type": "markdown",
   "metadata": {},
   "source": [
    "The below code is a little sanity check. By seeing column for songid = 639914 in the above df, we see artistid of 1362 is .1111. (1/9) This validates that."
   ]
  },
  {
   "cell_type": "code",
   "execution_count": 75,
   "metadata": {
    "collapsed": false,
    "scrolled": true
   },
   "outputs": [
    {
     "name": "stdout",
     "output_type": "stream",
     "text": [
      "defaultdict(<type 'list'>, {'producers': [574528, 290415], 'artist_id': [2358], 'writers': [574528, 290415, 1362]})\n",
      "1362 writers 3.33333333333 30.0 0.111111111111\n",
      "defaultdict(<type 'float'>, {574528: 0.2777777777777778, 1362: 0.11111111111111112, 2358: 0.3333333333333333, 290415: 0.2777777777777778})\n"
     ]
    }
   ],
   "source": [
    "# first edit the get_info def to return contributors dict\n",
    "# info = get_info(639914)\n",
    "\n",
    "print info\n",
    "\n",
    "#do the rest by hand \n",
    "total = 0\n",
    "cont_weights = defaultdict(float)\n",
    "for artist_type in info:\n",
    "    total += weights[artist_type]\n",
    "for artist_type, influencers in info.iteritems():\n",
    "    frac = weights[artist_type]/len(influencers)\n",
    "    for influencer in influencers:\n",
    "        cont_weights[influencer] += frac/total\n",
    "        if influencer == 1362:\n",
    "            print influencer, artist_type, frac, total, frac/total\n",
    "\n",
    "print cont_weights"
   ]
  },
  {
   "cell_type": "code",
   "execution_count": 15,
   "metadata": {
    "collapsed": true
   },
   "outputs": [],
   "source": [
    "pickleDump(df, 'songs_by_influencer_1305x717.pkl')"
   ]
  },
  {
   "cell_type": "code",
   "execution_count": 6,
   "metadata": {
    "collapsed": false
   },
   "outputs": [],
   "source": [
    "df = pickleLoad('./matrices/songs_by_influencer_1305x717.pkl')"
   ]
  },
  {
   "cell_type": "code",
   "execution_count": 7,
   "metadata": {
    "collapsed": false
   },
   "outputs": [
    {
     "data": {
      "text/plain": [
       "(1305, 717)"
      ]
     },
     "execution_count": 7,
     "metadata": {},
     "output_type": "execute_result"
    }
   ],
   "source": [
    "df.shape"
   ]
  },
  {
   "cell_type": "markdown",
   "metadata": {},
   "source": [
    "### make influencers x artist df\n",
    "1. Get artist to song dictionary\n",
    "2. Average the artists' songs to get an average influence on that artist\n",
    "3. Pop into a df"
   ]
  },
  {
   "cell_type": "code",
   "execution_count": 125,
   "metadata": {
    "collapsed": true
   },
   "outputs": [],
   "source": [
    "artist_to_songs = defaultdict(list)"
   ]
  },
  {
   "cell_type": "code",
   "execution_count": 126,
   "metadata": {
    "collapsed": false
   },
   "outputs": [],
   "source": [
    "for x in df.columns:\n",
    "    artist = int(s.find({\"id\":x}, {\"artist_id\":1, \"_id\":0}).next()['artist_id'])\n",
    "    artist_to_songs[artist].append(x)"
   ]
  },
  {
   "cell_type": "code",
   "execution_count": 13,
   "metadata": {
    "collapsed": false
   },
   "outputs": [
    {
     "data": {
      "text/plain": [
       "421"
      ]
     },
     "execution_count": 13,
     "metadata": {},
     "output_type": "execute_result"
    }
   ],
   "source": [
    "# number of primary artists in collection\n",
    "len(artist_to_songs)"
   ]
  },
  {
   "cell_type": "code",
   "execution_count": 14,
   "metadata": {
    "collapsed": false
   },
   "outputs": [
    {
     "name": "stdout",
     "output_type": "stream",
     "text": [
      "717\n"
     ]
    }
   ],
   "source": [
    "# sanity check that number of songs by artist is equivalent to number of songs\n",
    "# expecting 717\n",
    "allsongs = 0\n",
    "for k, v in artist_to_songs.iteritems():\n",
    "    allsongs += len(v)\n",
    "print allsongs"
   ]
  },
  {
   "cell_type": "code",
   "execution_count": 127,
   "metadata": {
    "collapsed": false
   },
   "outputs": [],
   "source": [
    "artist_df = pd.DataFrame(columns = artist_to_songs)"
   ]
  },
  {
   "cell_type": "code",
   "execution_count": 128,
   "metadata": {
    "collapsed": true
   },
   "outputs": [],
   "source": [
    "total = 0\n",
    "for k, v in artist_to_songs.iteritems():\n",
    "    total = float(len(v))\n",
    "    avgsong = df[v[0]]\n",
    "    if len(v) > 1:\n",
    "        for song in v[1:]:\n",
    "            avgsong = avgsong + df[song]\n",
    "    avgsong = avgsong/total\n",
    "    artist_df[k] = avgsong"
   ]
  },
  {
   "cell_type": "code",
   "execution_count": 129,
   "metadata": {
    "collapsed": false
   },
   "outputs": [
    {
     "data": {
      "text/plain": [
       "(1305, 421)"
      ]
     },
     "execution_count": 129,
     "metadata": {},
     "output_type": "execute_result"
    }
   ],
   "source": [
    "# Expecting (1305, 421), e.g. (influencers x primary artists)\n",
    "artist_df.shape"
   ]
  },
  {
   "cell_type": "code",
   "execution_count": 18,
   "metadata": {
    "collapsed": true
   },
   "outputs": [],
   "source": [
    "pickleDump(artist_df, 'artist_to_influencer_1305x421.pkl')"
   ]
  },
  {
   "cell_type": "code",
   "execution_count": 21,
   "metadata": {
    "collapsed": false
   },
   "outputs": [],
   "source": [
    "artist_df = pickleLoad('./matrices/artist_to_influencer_1305x421.pkl')"
   ]
  },
  {
   "cell_type": "code",
   "execution_count": 49,
   "metadata": {
    "collapsed": false
   },
   "outputs": [],
   "source": [
    "artist_df = artist_df.reset_index()"
   ]
  },
  {
   "cell_type": "code",
   "execution_count": 46,
   "metadata": {
    "collapsed": false
   },
   "outputs": [],
   "source": [
    "artist_df['index'] = pd.Series(artist_df.index)"
   ]
  },
  {
   "cell_type": "code",
   "execution_count": 52,
   "metadata": {
    "collapsed": false
   },
   "outputs": [],
   "source": [
    "artist_df['index'] = artist_df['level_0']"
   ]
  },
  {
   "cell_type": "code",
   "execution_count": 54,
   "metadata": {
    "collapsed": false
   },
   "outputs": [],
   "source": [
    "del artist_df['level_0']"
   ]
  },
  {
   "cell_type": "code",
   "execution_count": 59,
   "metadata": {
    "collapsed": false
   },
   "outputs": [],
   "source": [
    "cols = pd.Series(artist_df.columns, index=artist_df.columns)"
   ]
  },
  {
   "cell_type": "code",
   "execution_count": 67,
   "metadata": {
    "collapsed": false
   },
   "outputs": [],
   "source": [
    "artist_df2 = artist_df.append(cols, ignore_index=True)"
   ]
  },
  {
   "cell_type": "code",
   "execution_count": 85,
   "metadata": {
    "collapsed": false
   },
   "outputs": [],
   "source": [
    "artist_np = np.array(artist_df2)"
   ]
  },
  {
   "cell_type": "code",
   "execution_count": 74,
   "metadata": {
    "collapsed": false
   },
   "outputs": [],
   "source": [
    "influencers = [int(a[-1]) for a in artist_np]"
   ]
  },
  {
   "cell_type": "code",
   "execution_count": 88,
   "metadata": {
    "collapsed": false
   },
   "outputs": [],
   "source": [
    "artists = [int(a) for a in artist_np[-1][:-1]]"
   ]
  },
  {
   "cell_type": "code",
   "execution_count": 103,
   "metadata": {
    "collapsed": true
   },
   "outputs": [],
   "source": [
    "mahout = ''"
   ]
  },
  {
   "cell_type": "code",
   "execution_count": 91,
   "metadata": {
    "collapsed": false
   },
   "outputs": [
    {
     "data": {
      "text/plain": [
       "1306"
      ]
     },
     "execution_count": 91,
     "metadata": {},
     "output_type": "execute_result"
    }
   ],
   "source": [
    "len(artist_np)"
   ]
  },
  {
   "cell_type": "code",
   "execution_count": 102,
   "metadata": {
    "collapsed": false
   },
   "outputs": [
    {
     "data": {
      "text/plain": [
       "numpy.float64"
      ]
     },
     "execution_count": 102,
     "metadata": {},
     "output_type": "execute_result"
    }
   ],
   "source": [
    "type(artist_np[0][0])"
   ]
  },
  {
   "cell_type": "code",
   "execution_count": 115,
   "metadata": {
    "collapsed": true
   },
   "outputs": [],
   "source": [
    "mahout_with_zeros = ''"
   ]
  },
  {
   "cell_type": "code",
   "execution_count": 104,
   "metadata": {
    "collapsed": false
   },
   "outputs": [],
   "source": [
    "for x in range(len(artist_np[:-1])):\n",
    "    for y in range(len(artist_np[0][:-1])):\n",
    "        if artist_np[x][y] != 0:\n",
    "            mahout += str(artists[y]) + '\\t' + str(influencers[x]) + '\\t' + str(artist_np[x][y]) + '\\n'"
   ]
  },
  {
   "cell_type": "code",
   "execution_count": 116,
   "metadata": {
    "collapsed": true
   },
   "outputs": [],
   "source": [
    "for x in range(len(artist_np[:-1])):\n",
    "    for y in range(len(artist_np[0][:-1])):\n",
    "        mahout_with_zeros += str(artists[y]) + '\\t' + str(influencers[x]) + '\\t' + str(artist_np[x][y]) + '\\n'"
   ]
  },
  {
   "cell_type": "code",
   "execution_count": 107,
   "metadata": {
    "collapsed": false
   },
   "outputs": [],
   "source": [
    "ati = open(\"artist_to_influencer.txt\",\"wb\")\n",
    "ati.write(mahout)\n",
    "ati.close()"
   ]
  },
  {
   "cell_type": "code",
   "execution_count": 117,
   "metadata": {
    "collapsed": true
   },
   "outputs": [],
   "source": [
    "ati = open(\"artist_to_influencer_zeros.txt\",\"wb\")\n",
    "ati.write(mahout_with_zeros)\n",
    "ati.close()"
   ]
  },
  {
   "cell_type": "code",
   "execution_count": 109,
   "metadata": {
    "collapsed": false
   },
   "outputs": [],
   "source": [
    "mahout_text = mahout"
   ]
  },
  {
   "cell_type": "code",
   "execution_count": 110,
   "metadata": {
    "collapsed": true
   },
   "outputs": [],
   "source": [
    "import csv\n",
    "with open('artist_to_influencer.txt') as f:\n",
    "    reader = csv.reader(f, delimiter=\"\\t\")\n",
    "    mahout = list(reader)"
   ]
  },
  {
   "cell_type": "code",
   "execution_count": 113,
   "metadata": {
    "collapsed": false
   },
   "outputs": [],
   "source": [
    "unique_influencers = list(set([m[1] for m in mahout]))"
   ]
  },
  {
   "cell_type": "code",
   "execution_count": 114,
   "metadata": {
    "collapsed": false,
    "scrolled": true
   },
   "outputs": [
    {
     "data": {
      "text/plain": [
       "1152"
      ]
     },
     "execution_count": 114,
     "metadata": {},
     "output_type": "execute_result"
    }
   ],
   "source": [
    "len(unique_influencers)"
   ]
  },
  {
   "cell_type": "code",
   "execution_count": 265,
   "metadata": {
    "collapsed": true
   },
   "outputs": [],
   "source": [
    "djpremier = []"
   ]
  },
  {
   "cell_type": "code",
   "execution_count": 266,
   "metadata": {
    "collapsed": false
   },
   "outputs": [],
   "source": [
    "for x, y in zip(artist_df.loc[2260], artist_df.columns):\n",
    "    if x!=0:\n",
    "        djpremier.append((x, y))"
   ]
  },
  {
   "cell_type": "code",
   "execution_count": 268,
   "metadata": {
    "collapsed": false
   },
   "outputs": [
    {
     "data": {
      "text/plain": [
       "[(0.14285714285714285, 56), (0.7142857142857143, 18047)]"
      ]
     },
     "execution_count": 268,
     "metadata": {},
     "output_type": "execute_result"
    }
   ],
   "source": [
    "djpremier"
   ]
  },
  {
   "cell_type": "markdown",
   "metadata": {},
   "source": [
    "### NMF for artists"
   ]
  },
  {
   "cell_type": "code",
   "execution_count": 22,
   "metadata": {
    "collapsed": false
   },
   "outputs": [
    {
     "data": {
      "text/plain": [
       "NMF(alpha=0.0, beta=1, eta=0.1, init=None, l1_ratio=0.0, max_iter=200,\n",
       "  n_components=20, nls_max_iter=2000, random_state=None, shuffle=False,\n",
       "  solver='cd', sparseness=None, tol=0.0001, verbose=0)"
      ]
     },
     "execution_count": 22,
     "metadata": {},
     "output_type": "execute_result"
    }
   ],
   "source": [
    "A = np.array(artist_df)\n",
    "artist_model = NMF(n_components=20)\n",
    "artist_model.fit(A)"
   ]
  },
  {
   "cell_type": "code",
   "execution_count": 23,
   "metadata": {
    "collapsed": false
   },
   "outputs": [],
   "source": [
    "components = artist_model.components_"
   ]
  },
  {
   "cell_type": "code",
   "execution_count": 133,
   "metadata": {
    "collapsed": false
   },
   "outputs": [
    {
     "data": {
      "text/plain": [
       "20"
      ]
     },
     "execution_count": 133,
     "metadata": {},
     "output_type": "execute_result"
    }
   ],
   "source": [
    "len(components)"
   ]
  },
  {
   "cell_type": "code",
   "execution_count": 132,
   "metadata": {
    "collapsed": false
   },
   "outputs": [
    {
     "data": {
      "text/plain": [
       "421"
      ]
     },
     "execution_count": 132,
     "metadata": {},
     "output_type": "execute_result"
    }
   ],
   "source": [
    "len(components[0])"
   ]
  },
  {
   "cell_type": "code",
   "execution_count": 24,
   "metadata": {
    "collapsed": false
   },
   "outputs": [],
   "source": [
    "B = artist_model.transform(A)"
   ]
  },
  {
   "cell_type": "code",
   "execution_count": 137,
   "metadata": {
    "collapsed": false
   },
   "outputs": [
    {
     "data": {
      "text/plain": [
       "(1305, 421)"
      ]
     },
     "execution_count": 137,
     "metadata": {},
     "output_type": "execute_result"
    }
   ],
   "source": [
    "A.shape"
   ]
  },
  {
   "cell_type": "code",
   "execution_count": 136,
   "metadata": {
    "collapsed": false
   },
   "outputs": [
    {
     "data": {
      "text/plain": [
       "(1305, 20)"
      ]
     },
     "execution_count": 136,
     "metadata": {},
     "output_type": "execute_result"
    }
   ],
   "source": [
    "B.shape"
   ]
  },
  {
   "cell_type": "code",
   "execution_count": 138,
   "metadata": {
    "collapsed": false
   },
   "outputs": [
    {
     "data": {
      "text/plain": [
       "(20, 421)"
      ]
     },
     "execution_count": 138,
     "metadata": {},
     "output_type": "execute_result"
    }
   ],
   "source": [
    "components.shape"
   ]
  },
  {
   "cell_type": "code",
   "execution_count": 142,
   "metadata": {
    "collapsed": false
   },
   "outputs": [
    {
     "data": {
      "text/plain": [
       "(1305, 421)"
      ]
     },
     "execution_count": 142,
     "metadata": {},
     "output_type": "execute_result"
    }
   ],
   "source": [
    "A.shape"
   ]
  },
  {
   "cell_type": "code",
   "execution_count": 25,
   "metadata": {
    "collapsed": false
   },
   "outputs": [],
   "source": [
    "result = np.dot(B, components)"
   ]
  },
  {
   "cell_type": "code",
   "execution_count": 145,
   "metadata": {
    "collapsed": false
   },
   "outputs": [
    {
     "data": {
      "text/plain": [
       "array([[ 0.28571429,  0.        ,  0.        , ...,  0.        ,\n",
       "         0.        ,  0.        ],\n",
       "       [ 0.        ,  0.        ,  0.        , ...,  0.        ,\n",
       "         0.        ,  0.        ],\n",
       "       [ 0.        ,  0.12043226,  0.        , ...,  0.        ,\n",
       "         0.        ,  0.        ],\n",
       "       ..., \n",
       "       [ 0.        ,  0.        ,  0.        , ...,  0.        ,\n",
       "         0.        ,  0.        ],\n",
       "       [ 0.        ,  0.        ,  0.        , ...,  0.        ,\n",
       "         0.        ,  0.        ],\n",
       "       [ 0.        ,  0.        ,  0.        , ...,  0.        ,\n",
       "         0.        ,  0.        ]])"
      ]
     },
     "execution_count": 145,
     "metadata": {},
     "output_type": "execute_result"
    }
   ],
   "source": [
    "A"
   ]
  },
  {
   "cell_type": "code",
   "execution_count": 147,
   "metadata": {
    "collapsed": false
   },
   "outputs": [
    {
     "name": "stdout",
     "output_type": "stream",
     "text": [
      "547859\n"
     ]
    }
   ],
   "source": [
    "count = 0\n",
    "for x in A:\n",
    "    for y in x:\n",
    "        if y == 0:\n",
    "            count += 1\n",
    "print count"
   ]
  },
  {
   "cell_type": "code",
   "execution_count": 151,
   "metadata": {
    "collapsed": false
   },
   "outputs": [
    {
     "name": "stdout",
     "output_type": "stream",
     "text": [
      "264898\n"
     ]
    }
   ],
   "source": [
    "count = 0\n",
    "for x in result:\n",
    "    for y in x:\n",
    "        if y == 0:\n",
    "            count += 1\n",
    "print count"
   ]
  },
  {
   "cell_type": "code",
   "execution_count": 26,
   "metadata": {
    "collapsed": false
   },
   "outputs": [],
   "source": [
    "results_df = pd.DataFrame(result, columns=artist_df.columns, index=artist_df.index)"
   ]
  },
  {
   "cell_type": "code",
   "execution_count": 9,
   "metadata": {
    "collapsed": false
   },
   "outputs": [],
   "source": [
    "def get_new_collaborators(artistid):\n",
    "    before = artist_df[artistid].sort_values(ascending=False, inplace=False)\n",
    "    after = results_df[artistid].sort_values(ascending=False, inplace=False)\n",
    "    neighbors_before = []\n",
    "    neighbors_after = []\n",
    "    for x, y in zip(after, after.index):\n",
    "        if x != 0.0:\n",
    "            neighbors_after.append(y)\n",
    "    for x, y in zip(before, before.index):\n",
    "        if x != 0.0:\n",
    "            neighbors_before.append(y)\n",
    "    neighbors = [n for n in neighbors_after if n not in neighbors_before]\n",
    "    return neighbors"
   ]
  },
  {
   "cell_type": "code",
   "execution_count": 27,
   "metadata": {
    "collapsed": true
   },
   "outputs": [],
   "source": [
    "rihanna = get_new_collaborators(89)"
   ]
  },
  {
   "cell_type": "code",
   "execution_count": 28,
   "metadata": {
    "collapsed": false
   },
   "outputs": [
    {
     "name": "stdout",
     "output_type": "stream",
     "text": [
      "1 .  Mike WiLL Made It\n",
      "2 .  Future\n",
      "3 .  Warren G\n",
      "4 .  Rae Sremmurd\n",
      "5 .  Tricky Stewart\n",
      "6 .  A$AP Ferg\n",
      "7 .  Young Thug\n",
      "8 .  Coldplay\n",
      "9 .  Washed Out\n",
      "10 .  DJ Playback\n",
      "11 .  Juicy J\n",
      "12 .  Sevon Miles\n",
      "13 .  Greg Kurstin\n",
      "14 .  We3ch\n",
      "15 .  Crank Lucas\n",
      "16 .  Salt 'n' pepa with en vogue\n",
      "17 .  Miley Cyrus\n",
      "18 .  Ashanti\n",
      "19 .  Shawnna\n",
      "20 .  Nicki Minaj\n"
     ]
    }
   ],
   "source": [
    "format_artists(rihanna, 20)"
   ]
  },
  {
   "cell_type": "code",
   "execution_count": 222,
   "metadata": {
    "collapsed": true
   },
   "outputs": [],
   "source": [
    "nicki2 = get_new_collaborators(92)"
   ]
  },
  {
   "cell_type": "code",
   "execution_count": 209,
   "metadata": {
    "collapsed": false
   },
   "outputs": [
    {
     "data": {
      "text/plain": [
       "1021"
      ]
     },
     "execution_count": 209,
     "metadata": {},
     "output_type": "execute_result"
    }
   ],
   "source": [
    "len(nicki_neighbors_after)"
   ]
  },
  {
   "cell_type": "code",
   "execution_count": 211,
   "metadata": {
    "collapsed": false
   },
   "outputs": [
    {
     "data": {
      "text/plain": [
       "1000"
      ]
     },
     "execution_count": 211,
     "metadata": {},
     "output_type": "execute_result"
    }
   ],
   "source": [
    "nicki = [n for n in nicki_neighbors_after if n not in nicki_neighbors]\n",
    "len(nicki)"
   ]
  },
  {
   "cell_type": "code",
   "execution_count": 214,
   "metadata": {
    "collapsed": false
   },
   "outputs": [
    {
     "data": {
      "text/plain": [
       "[29978,\n",
       " 2197,\n",
       " 177756,\n",
       " 15369,\n",
       " 20503,\n",
       " 1073,\n",
       " 32195,\n",
       " 281997,\n",
       " 281996,\n",
       " 55444,\n",
       " 805,\n",
       " 492,\n",
       " 33010,\n",
       " 13185,\n",
       " 4617,\n",
       " 72,\n",
       " 110,\n",
       " 455764,\n",
       " 23315,\n",
       " 4709]"
      ]
     },
     "execution_count": 214,
     "metadata": {},
     "output_type": "execute_result"
    }
   ],
   "source": [
    "nicki[0:20]"
   ]
  },
  {
   "cell_type": "code",
   "execution_count": 215,
   "metadata": {
    "collapsed": false
   },
   "outputs": [
    {
     "data": {
      "text/plain": [
       "'https://api.genius.com'"
      ]
     },
     "execution_count": 215,
     "metadata": {},
     "output_type": "execute_result"
    }
   ],
   "source": [
    "req_start"
   ]
  },
  {
   "cell_type": "code",
   "execution_count": 219,
   "metadata": {
    "collapsed": false
   },
   "outputs": [
    {
     "data": {
      "text/plain": [
       "4709"
      ]
     },
     "execution_count": 219,
     "metadata": {},
     "output_type": "execute_result"
    }
   ],
   "source": [
    "nicki[19]"
   ]
  },
  {
   "cell_type": "code",
   "execution_count": 8,
   "metadata": {
    "collapsed": false
   },
   "outputs": [],
   "source": [
    "def format_artists(artistneighbors, num):\n",
    "    for i, artistid in enumerate(artistneighbors[0:num]):\n",
    "        if s.find({'artist_id':artistid}, {'artist':1}).count() >= 1:\n",
    "            name = s.find({'artist_id':artistid}, {'artist':1}).next()\n",
    "            print i+1, '. ', name['artist']\n",
    "        else:\n",
    "            url = req_start+'/artists/'+str(artistid)\n",
    "            name = api_call(url)\n",
    "            print i+1, '. ', name['response']['artist']['name']"
   ]
  },
  {
   "cell_type": "code",
   "execution_count": 271,
   "metadata": {
    "collapsed": false
   },
   "outputs": [
    {
     "name": "stdout",
     "output_type": "stream",
     "text": [
      "1 .  Mike WiLL Made It\n",
      "2 .  Future\n",
      "3 .  Rae Sremmurd\n",
      "4 .  A$AP Ferg\n",
      "5 .  Young Thug\n",
      "6 .  Juicy J\n",
      "7 .  Sevon Miles\n",
      "8 .  Crank Lucas\n",
      "9 .  We3ch\n",
      "10 .  Greg Kurstin\n",
      "11 .  Miley Cyrus\n",
      "12 .  Big Sean\n",
      "13 .  Metro Boomin\n",
      "14 .  Soundz\n",
      "15 .  The Neptunes\n",
      "16 .  Kanye West\n",
      "17 .  Pharrell Williams\n",
      "18 .  Jesper munk\n",
      "19 .  Southside\n",
      "20 .  No I.D.\n"
     ]
    }
   ],
   "source": [
    "format_artists(nicki, 20)"
   ]
  },
  {
   "cell_type": "markdown",
   "metadata": {},
   "source": [
    "### NMF For Songs\n",
    "Use NMF to reduce the number of features in the influencers x song matrix. From the (452, 232) matrix it will yield (452, 20) and (20, 232). These 20 features will correspond to both the influencers and the song. From there I can make recommendations on songs. NMF means non-negative matrix factorization. We want to ensure no negatives."
   ]
  },
  {
   "cell_type": "code",
   "execution_count": 16,
   "metadata": {
    "collapsed": true
   },
   "outputs": [],
   "source": [
    "X = np.array(df)"
   ]
  },
  {
   "cell_type": "code",
   "execution_count": 17,
   "metadata": {
    "collapsed": true
   },
   "outputs": [],
   "source": [
    "model = NMF(n_components=20)"
   ]
  },
  {
   "cell_type": "code",
   "execution_count": 18,
   "metadata": {
    "collapsed": false
   },
   "outputs": [
    {
     "data": {
      "text/plain": [
       "NMF(alpha=0.0, beta=1, eta=0.1, init=None, l1_ratio=0.0, max_iter=200,\n",
       "  n_components=20, nls_max_iter=2000, random_state=None, shuffle=False,\n",
       "  solver='cd', sparseness=None, tol=0.0001, verbose=0)"
      ]
     },
     "execution_count": 18,
     "metadata": {},
     "output_type": "execute_result"
    }
   ],
   "source": [
    "model.fit(X)"
   ]
  },
  {
   "cell_type": "code",
   "execution_count": 19,
   "metadata": {
    "collapsed": false
   },
   "outputs": [
    {
     "data": {
      "text/plain": [
       "20"
      ]
     },
     "execution_count": 19,
     "metadata": {},
     "output_type": "execute_result"
    }
   ],
   "source": [
    "len(model.components_)"
   ]
  },
  {
   "cell_type": "code",
   "execution_count": 20,
   "metadata": {
    "collapsed": true
   },
   "outputs": [],
   "source": [
    "components = model.components_"
   ]
  },
  {
   "cell_type": "code",
   "execution_count": 21,
   "metadata": {
    "collapsed": false
   },
   "outputs": [
    {
     "data": {
      "text/plain": [
       "717"
      ]
     },
     "execution_count": 21,
     "metadata": {},
     "output_type": "execute_result"
    }
   ],
   "source": [
    "len(components[0])"
   ]
  },
  {
   "cell_type": "code",
   "execution_count": 22,
   "metadata": {
    "collapsed": false
   },
   "outputs": [],
   "source": [
    "nmfdf = pd.DataFrame(components, columns=songs)"
   ]
  },
  {
   "cell_type": "code",
   "execution_count": 23,
   "metadata": {
    "collapsed": false
   },
   "outputs": [
    {
     "data": {
      "text/plain": [
       "(20, 717)"
      ]
     },
     "execution_count": 23,
     "metadata": {},
     "output_type": "execute_result"
    }
   ],
   "source": [
    "nmfdf.shape"
   ]
  },
  {
   "cell_type": "code",
   "execution_count": 24,
   "metadata": {
    "collapsed": true
   },
   "outputs": [],
   "source": [
    "song_by_songdf = pd.DataFrame(columns=songs)"
   ]
  },
  {
   "cell_type": "code",
   "execution_count": 25,
   "metadata": {
    "collapsed": false
   },
   "outputs": [],
   "source": [
    "for song in nmfdf:\n",
    "    song_by_songdf[song] = pd.Series(data = [nmfdf[song].dot(nmfdf[other]) for other in nmfdf], index = songs)"
   ]
  },
  {
   "cell_type": "code",
   "execution_count": 26,
   "metadata": {
    "collapsed": false
   },
   "outputs": [],
   "source": [
    "pickleDump(song_by_songdf, 'songbysong_717x717.pkl')"
   ]
  },
  {
   "cell_type": "code",
   "execution_count": 4,
   "metadata": {
    "collapsed": false
   },
   "outputs": [],
   "source": [
    "sbs = pickleLoad('./matrices/songbysong_717x717.pkl')"
   ]
  },
  {
   "cell_type": "code",
   "execution_count": 8,
   "metadata": {
    "collapsed": true
   },
   "outputs": [],
   "source": [
    "sbs.to_json('songbysong_717x717.json')"
   ]
  },
  {
   "cell_type": "code",
   "execution_count": 9,
   "metadata": {
    "collapsed": false
   },
   "outputs": [],
   "source": [
    "songbysong = pd.read_json('songbysong_717x717.json')"
   ]
  },
  {
   "cell_type": "code",
   "execution_count": 17,
   "metadata": {
    "collapsed": false
   },
   "outputs": [
    {
     "data": {
      "text/plain": [
       "[496456.0,\n",
       " 1779037.0,\n",
       " 1913178.0,\n",
       " 2396122.0,\n",
       " 501510.0,\n",
       " 2268248.0,\n",
       " 1800164.0,\n",
       " 729457.0,\n",
       " 2308425.0,\n",
       " 496445.0,\n",
       " 2347642.0,\n",
       " 707870.0,\n",
       " 542389.0,\n",
       " 2295400.0,\n",
       " 2328394.0,\n",
       " 78169.0,\n",
       " 542390.0,\n",
       " 729458.0,\n",
       " 2390938.0,\n",
       " 2397096.0,\n",
       " 2275721.0,\n",
       " 2396302.0,\n",
       " 696428.0,\n",
       " 332635.0,\n",
       " 653082.0,\n",
       " 2296914.0,\n",
       " 2433565.0,\n",
       " 58497.0,\n",
       " 2275954.0,\n",
       " 2402796.0,\n",
       " 710897.0,\n",
       " 82860.0,\n",
       " 2330692.0,\n",
       " 2399227.0,\n",
       " 2291102.0,\n",
       " 502834.0,\n",
       " 2273462.0,\n",
       " 727466.0,\n",
       " 639914.0,\n",
       " 460183.0,\n",
       " 2396309.0,\n",
       " 703732.0,\n",
       " 690295.0,\n",
       " 2413931.0,\n",
       " 1860893.0,\n",
       " 2275742.0,\n",
       " 2304247.0,\n",
       " 58346.0,\n",
       " 2255131.0,\n",
       " 360730.0,\n",
       " 499870.0,\n",
       " 2399225.0,\n",
       " 338701.0,\n",
       " 731783.0,\n",
       " 640182.0,\n",
       " 494038.0,\n",
       " 78347.0,\n",
       " 493169.0,\n",
       " 2153759.0,\n",
       " 2425602.0,\n",
       " 583542.0,\n",
       " 2290819.0,\n",
       " 698675.0,\n",
       " 555359.0,\n",
       " 2433471.0,\n",
       " 70324.0,\n",
       " 2145913.0,\n",
       " 240199.0,\n",
       " 65701.0,\n",
       " 2416699.0,\n",
       " 196551.0,\n",
       " 2403555.0,\n",
       " 1493.0,\n",
       " 499835.0,\n",
       " 209861.0,\n",
       " 50025.0,\n",
       " 2311139.0,\n",
       " 2347598.0,\n",
       " 140752.0,\n",
       " 55599.0,\n",
       " 118141.0,\n",
       " 217270.0,\n",
       " 2322020.0,\n",
       " 18506.0,\n",
       " 58340.0,\n",
       " 452357.0,\n",
       " 2327412.0,\n",
       " 2171992.0,\n",
       " 4609.0,\n",
       " 2468.0,\n",
       " 57183.0,\n",
       " 56776.0,\n",
       " 1820438.0,\n",
       " 2375319.0,\n",
       " 217263.0,\n",
       " 2443.0,\n",
       " 1741.0,\n",
       " 131712.0,\n",
       " 2275494.0,\n",
       " 58344.0,\n",
       " 15961.0,\n",
       " 51360.0,\n",
       " 2325382.0,\n",
       " 1742877.0,\n",
       " 535442.0,\n",
       " 508933.0,\n",
       " 94434.0,\n",
       " 136893.0,\n",
       " 396.0,\n",
       " 2396178.0,\n",
       " 506641.0,\n",
       " 2433137.0,\n",
       " 2339761.0,\n",
       " 720401.0,\n",
       " 2342690.0,\n",
       " 515519.0,\n",
       " 2417511.0,\n",
       " 2142915.0,\n",
       " 2155243.0,\n",
       " 699959.0,\n",
       " 583.0,\n",
       " 113898.0,\n",
       " 2163216.0,\n",
       " 28749.0,\n",
       " 108547.0,\n",
       " 160600.0,\n",
       " 848.0,\n",
       " 2390346.0,\n",
       " 95546.0,\n",
       " 526.0,\n",
       " 1517.0,\n",
       " 69579.0,\n",
       " 521525.0,\n",
       " 2332048.0,\n",
       " 601817.0,\n",
       " 158615.0,\n",
       " 72405.0,\n",
       " 517.0,\n",
       " 365947.0,\n",
       " 2381771.0,\n",
       " 2082.0,\n",
       " 182976.0,\n",
       " 279669.0,\n",
       " 602900.0,\n",
       " 73301.0,\n",
       " 2413513.0,\n",
       " 55662.0,\n",
       " 4417.0,\n",
       " 2312297.0,\n",
       " 2373.0,\n",
       " 40221.0,\n",
       " 1805.0,\n",
       " 576535.0,\n",
       " 151327.0,\n",
       " 1869407.0,\n",
       " 48453.0,\n",
       " 2415289.0,\n",
       " 203961.0,\n",
       " 2018804.0,\n",
       " 693724.0,\n",
       " 2213836.0,\n",
       " 437376.0,\n",
       " 361656.0,\n",
       " 1378382.0,\n",
       " 2372618.0,\n",
       " 517621.0,\n",
       " 1629231.0,\n",
       " 2305085.0,\n",
       " 149774.0,\n",
       " 1980001.0,\n",
       " 2414874.0,\n",
       " 2348651.0,\n",
       " 51227.0,\n",
       " 2310181.0,\n",
       " 230455.0,\n",
       " 3627.0,\n",
       " 372211.0,\n",
       " 23070.0,\n",
       " 200546.0,\n",
       " 66.0,\n",
       " 520237.0,\n",
       " 446605.0,\n",
       " 19348.0,\n",
       " 245249.0,\n",
       " 444.0,\n",
       " 2339009.0,\n",
       " 539654.0,\n",
       " 2401700.0,\n",
       " 210364.0,\n",
       " 2439141.0,\n",
       " 349229.0,\n",
       " 27472.0,\n",
       " 2416274.0,\n",
       " 29529.0,\n",
       " 423398.0,\n",
       " 507478.0,\n",
       " 637994.0,\n",
       " 67051.0,\n",
       " 71649.0,\n",
       " 2414510.0,\n",
       " 658724.0,\n",
       " 56477.0,\n",
       " 2435615.0,\n",
       " 235725.0,\n",
       " 452.0,\n",
       " 2286.0,\n",
       " 156373.0,\n",
       " 403031.0,\n",
       " 525473.0,\n",
       " 2432858.0,\n",
       " 93317.0,\n",
       " 38118.0,\n",
       " 68.0,\n",
       " 44311.0,\n",
       " 2254750.0,\n",
       " 607964.0,\n",
       " 690.0,\n",
       " 468201.0,\n",
       " 233.0,\n",
       " 210558.0,\n",
       " 4270.0,\n",
       " 29087.0,\n",
       " 29066.0,\n",
       " 2396836.0,\n",
       " 68615.0,\n",
       " 2892.0,\n",
       " 2171.0,\n",
       " 6320.0,\n",
       " 5835.0,\n",
       " 733666.0,\n",
       " 2263139.0,\n",
       " 2644.0,\n",
       " 2181057.0,\n",
       " 2310122.0,\n",
       " 73037.0,\n",
       " 4636.0,\n",
       " 47982.0,\n",
       " 437103.0,\n",
       " 513574.0,\n",
       " 28995.0,\n",
       " 140800.0,\n",
       " 428668.0,\n",
       " 415574.0,\n",
       " 2392485.0,\n",
       " 622818.0,\n",
       " 2172126.0,\n",
       " 2417474.0,\n",
       " 2045.0,\n",
       " 486501.0,\n",
       " 737615.0,\n",
       " 2413367.0,\n",
       " 1790573.0,\n",
       " 2368201.0,\n",
       " 38340.0,\n",
       " 1113.0,\n",
       " 433098.0,\n",
       " 2213105.0,\n",
       " 8120.0,\n",
       " 2165110.0,\n",
       " 446608.0,\n",
       " 124611.0,\n",
       " 32546.0,\n",
       " 386316.0,\n",
       " 24440.0,\n",
       " 694992.0,\n",
       " 35301.0,\n",
       " 726052.0,\n",
       " 47967.0,\n",
       " 2081829.0,\n",
       " 2215917.0,\n",
       " 704.0,\n",
       " 108.0,\n",
       " 454.0,\n",
       " 440618.0,\n",
       " 68291.0,\n",
       " 672108.0,\n",
       " 42956.0,\n",
       " 672155.0,\n",
       " 1531904.0,\n",
       " 497.0,\n",
       " 728784.0,\n",
       " 58072.0,\n",
       " 23955.0,\n",
       " 2159541.0,\n",
       " 54967.0,\n",
       " 42265.0,\n",
       " 559003.0,\n",
       " 703742.0,\n",
       " 1574514.0,\n",
       " 4186.0,\n",
       " 451958.0,\n",
       " 703654.0,\n",
       " 64.0,\n",
       " 703741.0,\n",
       " 19715.0,\n",
       " 9723.0,\n",
       " 1318.0,\n",
       " 61.0,\n",
       " 2311369.0,\n",
       " 2214983.0,\n",
       " 2417517.0,\n",
       " 181.0,\n",
       " 38978.0,\n",
       " 2311370.0,\n",
       " 3025.0,\n",
       " 376091.0,\n",
       " 35293.0,\n",
       " 2695.0,\n",
       " 2329765.0,\n",
       " 725757.0,\n",
       " 82701.0,\n",
       " 2293108.0,\n",
       " 1791444.0,\n",
       " 634.0,\n",
       " 279437.0,\n",
       " 168.0,\n",
       " 1935742.0,\n",
       " 1548580.0,\n",
       " 2295548.0,\n",
       " 66225.0,\n",
       " 73850.0,\n",
       " 7722.0,\n",
       " 215157.0,\n",
       " 114153.0,\n",
       " 1674324.0,\n",
       " 3239.0,\n",
       " 518484.0,\n",
       " 51301.0,\n",
       " 1973431.0,\n",
       " 1478928.0,\n",
       " 897159.0,\n",
       " 156955.0,\n",
       " 1942775.0,\n",
       " 2119099.0,\n",
       " 2178795.0,\n",
       " 2315590.0,\n",
       " 1978332.0,\n",
       " 17807.0,\n",
       " 530356.0,\n",
       " 76103.0,\n",
       " 373966.0,\n",
       " 61287.0,\n",
       " 329151.0,\n",
       " 73198.0,\n",
       " 101184.0,\n",
       " 1986530.0,\n",
       " 2329769.0,\n",
       " 2275787.0,\n",
       " 185191.0,\n",
       " 718.0,\n",
       " 433542.0,\n",
       " 722193.0,\n",
       " 746593.0,\n",
       " 1541932.0,\n",
       " 725500.0,\n",
       " 1555542.0,\n",
       " 742999.0,\n",
       " 192545.0,\n",
       " 2374092.0,\n",
       " 327470.0,\n",
       " 76654.0,\n",
       " 33581.0,\n",
       " 33573.0,\n",
       " 558257.0,\n",
       " 2433598.0,\n",
       " 2431426.0,\n",
       " 30941.0,\n",
       " 592901.0,\n",
       " 2400811.0,\n",
       " 11435.0,\n",
       " 2440697.0,\n",
       " 1799343.0,\n",
       " 79516.0,\n",
       " 246656.0,\n",
       " 62862.0,\n",
       " 206760.0,\n",
       " 118395.0,\n",
       " 394854.0,\n",
       " 2423601.0,\n",
       " 2426112.0,\n",
       " 13556.0,\n",
       " 101077.0,\n",
       " 2408122.0,\n",
       " 50156.0,\n",
       " 2307291.0,\n",
       " 2396871.0,\n",
       " 1420355.0,\n",
       " 709741.0,\n",
       " 591.0,\n",
       " 1891103.0,\n",
       " 130616.0,\n",
       " 2177246.0,\n",
       " 123451.0,\n",
       " 2177091.0,\n",
       " 2176703.0,\n",
       " 122542.0,\n",
       " 123873.0,\n",
       " 1240.0,\n",
       " 1242795.0,\n",
       " 1277.0,\n",
       " 2176665.0,\n",
       " 2057145.0,\n",
       " 1283.0,\n",
       " 1317005.0,\n",
       " 2178762.0,\n",
       " 13648.0,\n",
       " 217266.0,\n",
       " 13656.0,\n",
       " 1365667.0,\n",
       " 1392455.0,\n",
       " 1394985.0,\n",
       " 1402857.0,\n",
       " 1415961.0,\n",
       " 1465241.0,\n",
       " 131758.0,\n",
       " 118602.0,\n",
       " 1200259.0,\n",
       " 15479.0,\n",
       " 1016.0,\n",
       " 2218017.0,\n",
       " 102576.0,\n",
       " 1060.0,\n",
       " 106362.0,\n",
       " 107655.0,\n",
       " 2214586.0,\n",
       " 110010.0,\n",
       " 2213109.0,\n",
       " 1114654.0,\n",
       " 112079.0,\n",
       " 2210470.0,\n",
       " 1128630.0,\n",
       " 114429.0,\n",
       " 115451.0,\n",
       " 115688.0,\n",
       " 1172403.0,\n",
       " 2205656.0,\n",
       " 2204.0,\n",
       " 2196.0,\n",
       " 21929.0,\n",
       " 21902.0,\n",
       " 117534.0,\n",
       " 218837.0,\n",
       " 118064.0,\n",
       " 1182694.0,\n",
       " 118483.0,\n",
       " 2163879.0,\n",
       " 1560323.0,\n",
       " 1559777.0,\n",
       " 1966157.0,\n",
       " 186250.0,\n",
       " 2100885.0,\n",
       " 192879.0,\n",
       " 1931490.0,\n",
       " 1932.0,\n",
       " 2086372.0,\n",
       " 1935314.0,\n",
       " 1940620.0,\n",
       " 1943366.0,\n",
       " 1944935.0,\n",
       " 1953852.0,\n",
       " 1954979.0,\n",
       " 1978519.0,\n",
       " 1847784.0,\n",
       " 1989637.0,\n",
       " 1993.0,\n",
       " 1995564.0,\n",
       " 1996715.0,\n",
       " 207343.0,\n",
       " 2001112.0,\n",
       " 20179.0,\n",
       " 2024226.0,\n",
       " 2028423.0,\n",
       " 2042461.0,\n",
       " 20525.0,\n",
       " 2055751.0,\n",
       " 1850256.0,\n",
       " 1839127.0,\n",
       " 2068393.0,\n",
       " 170443.0,\n",
       " 1612.0,\n",
       " 1620904.0,\n",
       " 2149919.0,\n",
       " 1637950.0,\n",
       " 164344.0,\n",
       " 1655.0,\n",
       " 1666786.0,\n",
       " 168255.0,\n",
       " 16914.0,\n",
       " 1696577.0,\n",
       " 1698.0,\n",
       " 1702804.0,\n",
       " 2138429.0,\n",
       " 1824913.0,\n",
       " 2124472.0,\n",
       " 174916.0,\n",
       " 1778090.0,\n",
       " 1778100.0,\n",
       " 2123421.0,\n",
       " 2228864.0,\n",
       " 2117152.0,\n",
       " 1783676.0,\n",
       " 1800122.0,\n",
       " 1812.0,\n",
       " 1820994.0,\n",
       " 2112517.0,\n",
       " 1782713.0,\n",
       " 983001.0,\n",
       " 2262544.0,\n",
       " 599395.0,\n",
       " 491142.0,\n",
       " 49680.0,\n",
       " 505193.0,\n",
       " 51003.0,\n",
       " 51128.0,\n",
       " 51388.0,\n",
       " 51652.0,\n",
       " 518.0,\n",
       " 526365.0,\n",
       " 533873.0,\n",
       " 547918.0,\n",
       " 550920.0,\n",
       " 556538.0,\n",
       " 558143.0,\n",
       " 559442.0,\n",
       " 56902.0,\n",
       " 569389.0,\n",
       " 569516.0,\n",
       " 57315.0,\n",
       " 57824.0,\n",
       " 578626.0,\n",
       " 579968.0,\n",
       " 58349.0,\n",
       " 4849.0,\n",
       " 478469.0,\n",
       " 47702.0,\n",
       " 427939.0,\n",
       " 3984.0,\n",
       " 399792.0,\n",
       " 40840.0,\n",
       " 409461.0,\n",
       " 410884.0,\n",
       " 41376.0,\n",
       " 414018.0,\n",
       " 414099.0,\n",
       " 416444.0,\n",
       " 417235.0,\n",
       " 42966.0,\n",
       " 476615.0,\n",
       " 436363.0,\n",
       " 436662.0,\n",
       " 4381.0,\n",
       " 45634.0,\n",
       " 45643.0,\n",
       " 459948.0,\n",
       " 46329.0,\n",
       " 4640.0,\n",
       " 466028.0,\n",
       " 47508.0,\n",
       " 59024.0,\n",
       " 599433.0,\n",
       " 2263723.0,\n",
       " 599451.0,\n",
       " 732419.0,\n",
       " 734517.0,\n",
       " 741241.0,\n",
       " 743136.0,\n",
       " 75115.0,\n",
       " 76731.0,\n",
       " 822.0,\n",
       " 82339.0,\n",
       " 826.0,\n",
       " 829090.0,\n",
       " 835688.0,\n",
       " 87884.0,\n",
       " 880.0,\n",
       " 88225.0,\n",
       " 88378.0,\n",
       " 89740.0,\n",
       " 912179.0,\n",
       " 914961.0,\n",
       " 92490.0,\n",
       " 92856.0,\n",
       " 92862.0,\n",
       " 949.0,\n",
       " 958524.0,\n",
       " 730057.0,\n",
       " 729410.0,\n",
       " 722296.0,\n",
       " 680415.0,\n",
       " 60408.0,\n",
       " 607906.0,\n",
       " 620555.0,\n",
       " 622989.0,\n",
       " 648314.0,\n",
       " 65947.0,\n",
       " 66330.0,\n",
       " 66467.0,\n",
       " 667130.0,\n",
       " 668175.0,\n",
       " 688579.0,\n",
       " 720259.0,\n",
       " 69295.0,\n",
       " 693900.0,\n",
       " 69732.0,\n",
       " 698.0,\n",
       " 700112.0,\n",
       " 70012.0,\n",
       " 703731.0,\n",
       " 709240.0,\n",
       " 709256.0,\n",
       " 716553.0,\n",
       " 395791.0,\n",
       " 393899.0,\n",
       " 392510.0,\n",
       " 390244.0,\n",
       " 2322003.0,\n",
       " 2322004.0,\n",
       " 2322009.0,\n",
       " 2322010.0,\n",
       " 2322011.0,\n",
       " 2322014.0,\n",
       " 2324269.0,\n",
       " 2325471.0,\n",
       " 2329215.0,\n",
       " 2332455.0,\n",
       " 2334638.0,\n",
       " 2342860.0,\n",
       " 2342995.0,\n",
       " 2344225.0,\n",
       " 2365.0,\n",
       " 2368510.0,\n",
       " 2369079.0,\n",
       " 2373349.0,\n",
       " 2379715.0,\n",
       " 2386805.0,\n",
       " 2388703.0,\n",
       " 2394578.0,\n",
       " 2398213.0,\n",
       " 2322001.0,\n",
       " 2315263.0,\n",
       " 2312325.0,\n",
       " 2284206.0,\n",
       " 2266961.0,\n",
       " 226866.0,\n",
       " 2269.0,\n",
       " 2270213.0,\n",
       " 2273460.0,\n",
       " 2274243.0,\n",
       " 2275965.0,\n",
       " 2277244.0,\n",
       " 2283589.0,\n",
       " 2284049.0,\n",
       " 2286821.0,\n",
       " 2311373.0,\n",
       " 2287448.0,\n",
       " 2292829.0,\n",
       " 2295060.0,\n",
       " 2297738.0,\n",
       " 2302528.0,\n",
       " 2302535.0,\n",
       " 2307164.0,\n",
       " 2308338.0,\n",
       " 2311363.0,\n",
       " 2311366.0,\n",
       " 2408283.0,\n",
       " 2409162.0,\n",
       " 2409818.0,\n",
       " 35229.0,\n",
       " 302157.0,\n",
       " 30258.0,\n",
       " 307105.0,\n",
       " 310705.0,\n",
       " 312444.0,\n",
       " 319225.0,\n",
       " 31934.0,\n",
       " 32995.0,\n",
       " 33067.0,\n",
       " 33782.0,\n",
       " 35414.0,\n",
       " 290230.0,\n",
       " 357695.0,\n",
       " 361214.0,\n",
       " 375.0,\n",
       " 378195.0,\n",
       " 379183.0,\n",
       " 380162.0,\n",
       " 38270.0,\n",
       " 386121.0,\n",
       " 387414.0,\n",
       " 389694.0,\n",
       " 293841.0,\n",
       " 282475.0,\n",
       " 2411389.0,\n",
       " 2426159.0,\n",
       " 2413886.0,\n",
       " 2414425.0,\n",
       " 2414561.0,\n",
       " 2420521.0,\n",
       " 2421373.0,\n",
       " 2422513.0,\n",
       " 2422646.0,\n",
       " 2423091.0,\n",
       " 2423497.0,\n",
       " 2424793.0,\n",
       " 2426609.0,\n",
       " 27574.0,\n",
       " 2430733.0,\n",
       " 2433799.0,\n",
       " 2434697.0,\n",
       " 2435401.0,\n",
       " 2440578.0,\n",
       " 245798.0,\n",
       " 2609.0,\n",
       " 2620.0,\n",
       " 26798.0,\n",
       " 2711.0,\n",
       " 2424059.0]"
      ]
     },
     "execution_count": 17,
     "metadata": {},
     "output_type": "execute_result"
    }
   ],
   "source": [
    "list(songbysong[78169].sort_values(ascending=False, inplace=False).index)"
   ]
  },
  {
   "cell_type": "code",
   "execution_count": 55,
   "metadata": {
    "collapsed": false
   },
   "outputs": [],
   "source": [
    "top_ten_bby_one_more = list(song_by_songdf[78169].sort_values(ascending=False, inplace=False)[0:10].index)"
   ]
  },
  {
   "cell_type": "code",
   "execution_count": 56,
   "metadata": {
    "collapsed": false
   },
   "outputs": [
    {
     "data": {
      "text/plain": [
       "[496456,\n",
       " 1779037,\n",
       " 1913178,\n",
       " 2396122,\n",
       " 501510,\n",
       " 2268248,\n",
       " 1800164,\n",
       " 729457,\n",
       " 2308425,\n",
       " 2347642]"
      ]
     },
     "execution_count": 56,
     "metadata": {},
     "output_type": "execute_result"
    }
   ],
   "source": [
    "top_ten_bby_one_more"
   ]
  },
  {
   "cell_type": "code",
   "execution_count": 57,
   "metadata": {
    "collapsed": false
   },
   "outputs": [
    {
     "name": "stdout",
     "output_type": "stream",
     "text": [
      "1 .  ZooWap  by  Fetty Wap\n",
      "2 .  1Hunnid (Remix)  by  K Camp\n",
      "3 .  Girls Born in the 90's  by  The Weeknd\n",
      "4 .  Promise  by  Kid Ink\n",
      "5 .  Love Me Harder  by  Ariana Grande\n",
      "6 .  Valet  by  Eric Bellinger\n",
      "7 .  Zoovier (Remix)  by  Fetty Wap\n",
      "8 .  In the Night  by  The Weeknd\n",
      "9 .  On My Mind  by  Ellie Goulding\n",
      "10 .  Jimmy Choo  by  Fetty Wap\n"
     ]
    }
   ],
   "source": [
    "for num, related in enumerate(top_ten_bby_one_more):\n",
    "    r = s.find({\"id\":related}, {\"title\":1, \"artist\":1}).next()\n",
    "    print num+1, \". \", r['title'], \" by \", r['artist']"
   ]
  },
  {
   "cell_type": "code",
   "execution_count": 24,
   "metadata": {
    "collapsed": false
   },
   "outputs": [
    {
     "data": {
      "text/plain": [
       "2422513    0.000032\n",
       "1016       0.000032\n",
       "1655       0.000032\n",
       "2413886    0.000032\n",
       "1932       0.000015\n",
       "2045       0.000014\n",
       "2213109    0.000014\n",
       "2024226    0.000013\n",
       "1812       0.000012\n",
       "240199     0.000012\n",
       "Name: 107655, dtype: float64"
      ]
     },
     "execution_count": 24,
     "metadata": {},
     "output_type": "execute_result"
    }
   ],
   "source": [
    "song_by_songdf[107655].sort_values(ascending=False, inplace=False)[0:10]"
   ]
  },
  {
   "cell_type": "code",
   "execution_count": 27,
   "metadata": {
    "collapsed": true
   },
   "outputs": [],
   "source": [
    "top_ten_unorthodox = list(song_by_songdf[107655].sort_values(ascending=False, inplace=False)[0:10].index)"
   ]
  },
  {
   "cell_type": "code",
   "execution_count": 25,
   "metadata": {
    "collapsed": true
   },
   "outputs": [],
   "source": [
    "top_ten_the_fix = song_by_songdf[2275742].sort_values(ascending=False, inplace=False)[0:10]"
   ]
  },
  {
   "cell_type": "code",
   "execution_count": 26,
   "metadata": {
    "collapsed": false
   },
   "outputs": [
    {
     "data": {
      "text/plain": [
       "1966157    0.070926\n",
       "35229      0.070926\n",
       "32995      0.052320\n",
       "35301      0.009499\n",
       "2275742    0.009114\n",
       "35293      0.009109\n",
       "1913178    0.006619\n",
       "501510     0.005345\n",
       "729457     0.004671\n",
       "542389     0.003498\n",
       "Name: 2275742, dtype: float64"
      ]
     },
     "execution_count": 26,
     "metadata": {},
     "output_type": "execute_result"
    }
   ],
   "source": [
    "top_ten_the_fix"
   ]
  },
  {
   "cell_type": "code",
   "execution_count": 70,
   "metadata": {
    "collapsed": false
   },
   "outputs": [],
   "source": [
    "top_ten_the_fix = list(top_ten_the_fix.index)"
   ]
  },
  {
   "cell_type": "code",
   "execution_count": 71,
   "metadata": {
    "collapsed": false
   },
   "outputs": [
    {
     "data": {
      "text/plain": [
       "[1966157, 35229, 32995, 35293, 2275742, 496456, 1913178, 1800164, 2443, 496445]"
      ]
     },
     "execution_count": 71,
     "metadata": {},
     "output_type": "execute_result"
    }
   ],
   "source": [
    "top_ten_the_fix"
   ]
  },
  {
   "cell_type": "code",
   "execution_count": 28,
   "metadata": {
    "collapsed": false,
    "scrolled": true
   },
   "outputs": [
    {
     "name": "stdout",
     "output_type": "stream",
     "text": [
      "1 .  OVO Sound Radio Episode 15 Tracklist  by  Drake\n",
      "2 .  Houstatlantavegas  by  Drake\n",
      "3 .  Hot 97 Freestyle  by  Drake\n",
      "4 .  OVO Sound Radio Episode 14 Tracklist  by  Drake\n",
      "5 .  In The Morning  by  J. Cole\n",
      "6 .  Moment 4 Life  by  Nicki Minaj\n",
      "7 .  Where Ya At  by  Future\n",
      "8 .  R.I.C.O.  by  Meek Mill\n",
      "9 .  What's My Name?  by  Rihanna\n",
      "10 .  Heat of the Moment  by  Drake\n"
     ]
    }
   ],
   "source": [
    "for num, related in enumerate(top_ten_unorthodox):\n",
    "    r = s.find({\"id\":related}, {\"title\":1, \"artist\":1}).next()\n",
    "    print num+1, \". \", r['title'], \" by \", r['artist']"
   ]
  },
  {
   "cell_type": "code",
   "execution_count": 38,
   "metadata": {
    "collapsed": true
   },
   "outputs": [],
   "source": [
    "work = list(song_by_songdf[2398213].sort_values(ascending=False, inplace=False)[0:10].index)"
   ]
  },
  {
   "cell_type": "code",
   "execution_count": 39,
   "metadata": {
    "collapsed": false
   },
   "outputs": [
    {
     "name": "stdout",
     "output_type": "stream",
     "text": [
      "1 .  OVO Sound Radio Episode 14 Tracklist  by  Drake\n",
      "2 .  OVO Sound Radio Episode 15 Tracklist  by  Drake\n",
      "3 .  Houstatlantavegas  by  Drake\n",
      "4 .  Hot 97 Freestyle  by  Drake\n",
      "5 .  Heat of the Moment  by  Drake\n",
      "6 .  Trust Issues  by  Drake\n",
      "7 .  If You're Reading This It's Too Late [Album Art + Tracklist]  by  Drake\n",
      "8 .  Back to Back  by  Drake\n",
      "9 .  Company  by  Drake\n",
      "10 .  In The Morning  by  J. Cole\n"
     ]
    }
   ],
   "source": [
    "for num, related in enumerate(work):\n",
    "    r = s.find({\"id\":related}, {\"title\":1, \"artist\":1}).next()\n",
    "    print num+1, \". \", r['title'], \" by \", r['artist']"
   ]
  },
  {
   "cell_type": "code",
   "execution_count": 40,
   "metadata": {
    "collapsed": true
   },
   "outputs": [],
   "source": [
    "work = list(song_by_songdf[2398213].sort_values(ascending=False, inplace=False)[10:20].index)"
   ]
  },
  {
   "cell_type": "code",
   "execution_count": 41,
   "metadata": {
    "collapsed": false
   },
   "outputs": [
    {
     "name": "stdout",
     "output_type": "stream",
     "text": [
      "1 .  Summer Sixteen  by  Drake\n",
      "2 .  Up All Night  by  Drake\n",
      "3 .  Hotline Bling  by  Drake\n",
      "4 .  Furthest Thing  by  Drake\n",
      "5 .  No Tellin'  by  Drake\n",
      "6 .  Started from the Bottom  by  Drake\n",
      "7 .  Know Yourself  by  Drake\n",
      "8 .  Worst Behavior  by  Drake\n",
      "9 .  Moment 4 Life  by  Nicki Minaj\n",
      "10 .  The Real Her  by  Drake\n"
     ]
    }
   ],
   "source": [
    "for num, related in enumerate(work):\n",
    "    r = s.find({\"id\":related}, {\"title\":1, \"artist\":1}).next()\n",
    "    print num+1, \". \", r['title'], \" by \", r['artist']"
   ]
  },
  {
   "cell_type": "code",
   "execution_count": 10,
   "metadata": {
    "collapsed": true
   },
   "outputs": [],
   "source": [
    "def choose(seed_song):\n",
    "    songlist = list(song_by_songdf[seed_song].sort_values(ascending=False, inplace=False).index)\n",
    "    choose = abs(int(np.random.normal(0, 16)))\n",
    "    while(choose >= len(songlist)):\n",
    "        choose = abs(int(np.random.normal(0, 16)))\n",
    "    choose = songlist[choose]\n",
    "    return choose"
   ]
  },
  {
   "cell_type": "code",
   "execution_count": 12,
   "metadata": {
    "collapsed": false
   },
   "outputs": [],
   "source": [
    "playlist = []\n",
    "playlistids = []\n",
    "def generate_playlist(seed_song, playlist=playlist):\n",
    "    info = s.find({\"id\":seed_song}, {\"title\":1, \"artist\":1}).next()\n",
    "    playlist.append((info['title'], info['artist']))\n",
    "    playlistids.append(seed_song)\n",
    "    ch = choose(seed_song)\n",
    "    while ch in playlistids:\n",
    "        ch = choose(seed_song)\n",
    "    return ch"
   ]
  },
  {
   "cell_type": "code",
   "execution_count": 13,
   "metadata": {
    "collapsed": true
   },
   "outputs": [],
   "source": [
    "def format_playlist(playlist):\n",
    "    for num, track in enumerate(playlist):\n",
    "        print num+1, \". \", track[0], \" by \", track[1]"
   ]
  },
  {
   "cell_type": "code",
   "execution_count": 244,
   "metadata": {
    "collapsed": true
   },
   "outputs": [],
   "source": [
    "# Promise by Kid Ink\n",
    "seed = 2396122"
   ]
  },
  {
   "cell_type": "code",
   "execution_count": 18,
   "metadata": {
    "collapsed": true
   },
   "outputs": [],
   "source": [
    "# Work by Rihanna\n",
    "seed = 2398213"
   ]
  },
  {
   "cell_type": "code",
   "execution_count": 14,
   "metadata": {
    "collapsed": true
   },
   "outputs": [],
   "source": [
    "song_by_songdf = pickleLoad('./matrices/songbysong_717x717.pkl')"
   ]
  },
  {
   "cell_type": "code",
   "execution_count": 15,
   "metadata": {
    "collapsed": false
   },
   "outputs": [],
   "source": [
    "def make_playlist(song):\n",
    "    seed = song\n",
    "    playlist = []\n",
    "    playlistids = []\n",
    "    for x in range(20):\n",
    "        seed = generate_playlist(seed, playlist=playlist)\n",
    "    format_playlist(playlist)"
   ]
  },
  {
   "cell_type": "code",
   "execution_count": 19,
   "metadata": {
    "collapsed": false,
    "scrolled": true
   },
   "outputs": [
    {
     "name": "stdout",
     "output_type": "stream",
     "text": [
      "1 .  Work  by  Rihanna\n",
      "2 .  Where Ya At  by  Future\n",
      "3 .  Photo Copied  by  Future\n",
      "4 .  Ride Of Your Life  by  Tinashe\n",
      "5 .  New Level  by  A$AP Ferg\n",
      "6 .  You Got Me  by  G-Eazy\n",
      "7 .  Chanel Vintage  by  Metro Boomin\n",
      "8 .  Nawfside  by  Migos\n",
      "9 .  The Most  by  Rich Homie Quan\n",
      "10 .  Handsome and Wealthy  by  Migos\n",
      "11 .  Hercules  by  Young Thug\n",
      "12 .  Freestyle  by  Migos\n",
      "13 .  Pussy Ass Bitch  by  Young Thug\n",
      "14 .  Lifestyle  by  Rich Gang\n",
      "15 .  Key To The Streets  by  YFN Lucci\n",
      "16 .  Bando  by  Migos\n",
      "17 .  Oh My  by  Tate Kobang\n",
      "18 .  Best Friend  by  Young Thug\n",
      "19 .  I Know There's Gonna Be (Good Times)  by  Jamie xx\n",
      "20 .  Cross The Country  by  Migos\n"
     ]
    }
   ],
   "source": [
    "make_playlist(seed)"
   ]
  },
  {
   "cell_type": "code",
   "execution_count": 44,
   "metadata": {
    "collapsed": false,
    "scrolled": true
   },
   "outputs": [
    {
     "name": "stdout",
     "output_type": "stream",
     "text": [
      "1 .  Promise  by  Kid Ink\n",
      "2 .  Trap Queen  by  Fetty Wap\n",
      "3 .  Zoovier (Remix)  by  Fetty Wap\n",
      "4 .  ZooWap  by  Fetty Wap\n",
      "5 .  Jimmy Choo  by  Fetty Wap\n",
      "6 .  Girls Born in the 90's  by  The Weeknd\n",
      "7 .  Valet  by  Eric Bellinger\n",
      "8 .  Focus  by  Ariana Grande\n",
      "9 .  On My Mind  by  Ellie Goulding\n",
      "10 .  Love Me Harder  by  Ariana Grande\n",
      "11 .  Again  by  Fetty Wap\n",
      "12 .  Player  by  Tinashe\n",
      "13 .  In the Night  by  The Weeknd\n",
      "14 .  Hands To Myself  by  Selena Gomez\n",
      "15 .  1Hunnid (Remix)  by  K Camp\n",
      "16 .  Confident  by  Demi Lovato\n",
      "17 .  Where Ya At (Future Ft. Drake Remix)  by  K Camp\n",
      "18 .  Animals  by  Maroon 5\n",
      "19 .  Whole Lotta Lovin'  by  DJ Mustard\n",
      "20 .  Can't Feel My Face  by  The Weeknd\n"
     ]
    }
   ],
   "source": [
    "format_playlist(playlist)"
   ]
  },
  {
   "cell_type": "code",
   "execution_count": 45,
   "metadata": {
    "collapsed": false
   },
   "outputs": [],
   "source": [
    "playlist = []\n",
    "playlistids = []"
   ]
  },
  {
   "cell_type": "code",
   "execution_count": 50,
   "metadata": {
    "collapsed": false
   },
   "outputs": [],
   "source": [
    "seed = 78169\n",
    "for x in range(20):\n",
    "    seed = generate_playlist(seed)"
   ]
  },
  {
   "cell_type": "code",
   "execution_count": 51,
   "metadata": {
    "collapsed": false
   },
   "outputs": [
    {
     "name": "stdout",
     "output_type": "stream",
     "text": [
      "1 .  ...Baby One More Time  by  Britney Spears\n",
      "2 .  Hands To Myself  by  Selena Gomez\n",
      "3 .  1Hunnid (Remix)  by  K Camp\n",
      "4 .  Zoovier (Remix)  by  Fetty Wap\n",
      "5 .  Love Me Harder  by  Ariana Grande\n",
      "6 .  Promise  by  Kid Ink\n",
      "7 .  Trap Queen  by  Fetty Wap\n",
      "8 .  I'm Different  by  2 Chainz\n",
      "9 .  That's On You  by  Kid Ink\n",
      "10 .  Animals  by  Maroon 5\n",
      "11 .  Valet  by  Eric Bellinger\n",
      "12 .  Focus  by  Ariana Grande\n",
      "13 .  ZooWap  by  Fetty Wap\n",
      "14 .  On My Mind  by  Ellie Goulding\n",
      "15 .  Again  by  Fetty Wap\n",
      "16 .  My Way  by  Fetty Wap\n",
      "17 .  679  by  Fetty Wap\n",
      "18 .  Player  by  Tinashe\n",
      "19 .  Jimmy Choo  by  Fetty Wap\n",
      "20 .  Style  by  Taylor Swift\n"
     ]
    }
   ],
   "source": [
    "format_playlist(playlist)"
   ]
  },
  {
   "cell_type": "code",
   "execution_count": null,
   "metadata": {
    "collapsed": true
   },
   "outputs": [],
   "source": []
  }
 ],
 "metadata": {
  "kernelspec": {
   "display_name": "Python 2",
   "language": "python",
   "name": "python2"
  },
  "language_info": {
   "codemirror_mode": {
    "name": "ipython",
    "version": 2
   },
   "file_extension": ".py",
   "mimetype": "text/x-python",
   "name": "python",
   "nbconvert_exporter": "python",
   "pygments_lexer": "ipython2",
   "version": "2.7.11"
  }
 },
 "nbformat": 4,
 "nbformat_minor": 0
}
