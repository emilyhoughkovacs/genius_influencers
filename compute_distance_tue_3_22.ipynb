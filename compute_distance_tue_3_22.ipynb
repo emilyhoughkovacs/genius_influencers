{
 "cells": [
  {
   "cell_type": "code",
   "execution_count": 1,
   "metadata": {
    "collapsed": true
   },
   "outputs": [],
   "source": [
    "import requests\n",
    "import cnfg\n",
    "import json\n",
    "import pickle\n",
    "import time\n",
    "from datetime import datetime\n",
    "from collections import defaultdict\n",
    "from urlparse import urlparse\n",
    "from pymongo import MongoClient"
   ]
  },
  {
   "cell_type": "code",
   "execution_count": 2,
   "metadata": {
    "collapsed": true
   },
   "outputs": [],
   "source": [
    "config = cnfg.load(\".genius_config\")\n",
    "client_key = config[\"client_key\"]\n",
    "client_secret = config[\"client_secret\"]\n",
    "access_token = 'uK247ank6jF7DY_E7TEMIdbuhT2IBVsVeFXh6AluxswFUfrlFNfXNu2pUFPrGv2c'\n",
    "auth = 'Bearer '+access_token\n",
    "req_start = 'https://api.genius.com'"
   ]
  },
  {
   "cell_type": "code",
   "execution_count": 70,
   "metadata": {
    "collapsed": true
   },
   "outputs": [],
   "source": [
    "client = MongoClient()\n",
    "db = client.music\n",
    "s = db.songs\n",
    "# counter\n",
    "c = s.find()"
   ]
  },
  {
   "cell_type": "code",
   "execution_count": 4,
   "metadata": {
    "collapsed": true
   },
   "outputs": [],
   "source": [
    "def pickleLoad(filename):\n",
    "    with open(filename, 'rb') as f:\n",
    "        data = pickle.load(f) \n",
    "    return data\n",
    "\n",
    "def pickleDump(data, filename):\n",
    "    with open(filename, 'wb') as f:\n",
    "        pickle.dump(data, f)"
   ]
  },
  {
   "cell_type": "code",
   "execution_count": 5,
   "metadata": {
    "collapsed": true
   },
   "outputs": [],
   "source": [
    "def api_call(validurl):\n",
    "    call = validurl\n",
    "    r = requests.get(call, headers={'Authorization':auth})\n",
    "    if r.status_code==200:\n",
    "        return json.loads(r.content)\n",
    "    else:\n",
    "        print r.content\n",
    "        return r.content"
   ]
  },
  {
   "cell_type": "code",
   "execution_count": 7,
   "metadata": {
    "collapsed": false
   },
   "outputs": [],
   "source": [
    "songs = [653082, 2396122, 2330692, 2348651, 2295548, 2425602, 2165110, 2312297, 2394578, \\\n",
    "         2305085, 2422646, 2307164, 709256, 2417517, 2401700, 2413367, 2342860, 2439141, \\\n",
    "         2347598, 2432858, 2396122, 2411389, 2433137, 2330692, 2348651, 2295548, 2372618, \\\n",
    "         2425602, 2165110, 2312297, 2394578, 2305085, 2422646, 2307164, 1783676, 709256, \\\n",
    "         2417517, 2401700, 2426609]"
   ]
  },
  {
   "cell_type": "code",
   "execution_count": 11,
   "metadata": {
    "collapsed": false
   },
   "outputs": [],
   "source": [
    "artists = list(s.find({}, {'artist_id':1, '_id':0}))"
   ]
  },
  {
   "cell_type": "code",
   "execution_count": 15,
   "metadata": {
    "collapsed": false
   },
   "outputs": [
    {
     "data": {
      "text/plain": [
       "226"
      ]
     },
     "execution_count": 15,
     "metadata": {},
     "output_type": "execute_result"
    }
   ],
   "source": [
    "len(artists)"
   ]
  },
  {
   "cell_type": "code",
   "execution_count": 17,
   "metadata": {
    "collapsed": false
   },
   "outputs": [],
   "source": [
    "artists = [int(x['artist_id']) for x in artists]"
   ]
  },
  {
   "cell_type": "code",
   "execution_count": 20,
   "metadata": {
    "collapsed": false
   },
   "outputs": [],
   "source": [
    "writers = list(s.find({}, {'writers':1, '_id':0}))"
   ]
  },
  {
   "cell_type": "code",
   "execution_count": 27,
   "metadata": {
    "collapsed": false
   },
   "outputs": [
    {
     "data": {
      "text/plain": [
       "{u'writers': [{u'artist': u'Remy Boyz', u'id': 211094}]}"
      ]
     },
     "execution_count": 27,
     "metadata": {},
     "output_type": "execute_result"
    }
   ],
   "source": [
    "writers[0]"
   ]
  },
  {
   "cell_type": "code",
   "execution_count": 25,
   "metadata": {
    "collapsed": false
   },
   "outputs": [
    {
     "data": {
      "text/plain": [
       "232"
      ]
     },
     "execution_count": 25,
     "metadata": {},
     "output_type": "execute_result"
    }
   ],
   "source": [
    "len(writers)"
   ]
  },
  {
   "cell_type": "code",
   "execution_count": 31,
   "metadata": {
    "collapsed": false
   },
   "outputs": [],
   "source": [
    "for writer in writers:\n",
    "    if writer:\n",
    "        for w in writer['writers']:\n",
    "            artists.append(int(w['id']))"
   ]
  },
  {
   "cell_type": "code",
   "execution_count": 33,
   "metadata": {
    "collapsed": false
   },
   "outputs": [],
   "source": [
    "featured_artists = list(s.find({}, {'featured_artists':1, '_id':0}))"
   ]
  },
  {
   "cell_type": "code",
   "execution_count": 37,
   "metadata": {
    "collapsed": false
   },
   "outputs": [],
   "source": [
    "for fa in featured_artists:\n",
    "    if fa:\n",
    "        for w in fa['featured_artists']:\n",
    "            artists.append(int(w['id']))"
   ]
  },
  {
   "cell_type": "code",
   "execution_count": 39,
   "metadata": {
    "collapsed": false
   },
   "outputs": [],
   "source": [
    "producers = list(s.find({}, {'producers':1, '_id':0}))\n",
    "for p in producers:\n",
    "    if p:\n",
    "        for w in p['producers']:\n",
    "            artists.append(int(w['id']))"
   ]
  },
  {
   "cell_type": "code",
   "execution_count": 46,
   "metadata": {
    "collapsed": false
   },
   "outputs": [],
   "source": [
    "desc_refs = list(s.find({}, {'description_refs.artist':1, 'description_refs.song':1, '_id':0}))"
   ]
  },
  {
   "cell_type": "code",
   "execution_count": 67,
   "metadata": {
    "collapsed": false
   },
   "outputs": [],
   "source": [
    "for dr in desc_refs:\n",
    "    if 'artist' in dr['description_refs']:\n",
    "        a = dr['description_refs']['artist']\n",
    "        for artist in a:\n",
    "            artists.append(int(artist['id']))\n",
    "    if 'song' in dr['description_refs']:\n",
    "        pass\n",
    "#         print len(dr['description_refs']['song'])"
   ]
  },
  {
   "cell_type": "code",
   "execution_count": 55,
   "metadata": {
    "collapsed": true
   },
   "outputs": [],
   "source": [
    "anno_refs = list(s.find({}, {'references.artist':1, 'references.song':1, '_id':0}))"
   ]
  },
  {
   "cell_type": "code",
   "execution_count": 61,
   "metadata": {
    "collapsed": false
   },
   "outputs": [],
   "source": [
    "for ar in anno_refs:\n",
    "    if 'artist' in ar['references']:\n",
    "        a = ar['references']['artist']\n",
    "        for artist in a:\n",
    "            artists.append(int(artist['id']))\n",
    "    if 'song' in ar['references']:\n",
    "        pass"
   ]
  },
  {
   "cell_type": "code",
   "execution_count": 71,
   "metadata": {
    "collapsed": false
   },
   "outputs": [],
   "source": [
    "sampled_songs = list(s.find({}, {'sampled_songs':1, '_id':0}))"
   ]
  },
  {
   "cell_type": "code",
   "execution_count": 96,
   "metadata": {
    "collapsed": false
   },
   "outputs": [],
   "source": [
    "for samp in sampled_songs:\n",
    "    if samp:\n",
    "        for w in samp:\n",
    "            for song in samp[w]:\n",
    "                artists.append(song['primary_artist']['id'])"
   ]
  },
  {
   "cell_type": "code",
   "execution_count": 83,
   "metadata": {
    "collapsed": false
   },
   "outputs": [
    {
     "data": {
      "text/plain": [
       "1157"
      ]
     },
     "execution_count": 83,
     "metadata": {},
     "output_type": "execute_result"
    }
   ],
   "source": [
    "len(artists)"
   ]
  },
  {
   "cell_type": "code",
   "execution_count": 84,
   "metadata": {
    "collapsed": true
   },
   "outputs": [],
   "source": [
    "artists = list(set(artists))"
   ]
  },
  {
   "cell_type": "code",
   "execution_count": 85,
   "metadata": {
    "collapsed": false
   },
   "outputs": [
    {
     "data": {
      "text/plain": [
       "515"
      ]
     },
     "execution_count": 85,
     "metadata": {},
     "output_type": "execute_result"
    }
   ],
   "source": [
    "len(artists)"
   ]
  },
  {
   "cell_type": "code",
   "execution_count": 172,
   "metadata": {
    "collapsed": false
   },
   "outputs": [],
   "source": [
    "first_song = s.find({'id':653082}, {'_id':0, 'description_refs.artist':1, 'description_refs.song':1, \\\n",
    "                       'sampled_songs':1, 'producers':1, 'writers':1, \\\n",
    "                       'featured_artists':1, 'artist_id':1, 'id':1}).next()"
   ]
  },
  {
   "cell_type": "code",
   "execution_count": 173,
   "metadata": {
    "collapsed": false
   },
   "outputs": [
    {
     "data": {
      "text/plain": [
       "{u'artist_id': 216609.0,\n",
       " u'description_refs': {u'song': [{u'artist': u'Fetty Wap',\n",
       "    u'id': u'496445',\n",
       "    u'title': u'Trap Queen'}]},\n",
       " u'featured_artists': [{u'artist': u'Monty', u'id': 19635}],\n",
       " u'id': 653082,\n",
       " u'producers': [{u'artist': u'JayFrance', u'id': 557945},\n",
       "  {u'artist': u'Nick EBeats', u'id': 72396}],\n",
       " u'writers': [{u'artist': u'Remy Boyz', u'id': 211094}]}"
      ]
     },
     "execution_count": 173,
     "metadata": {},
     "output_type": "execute_result"
    }
   ],
   "source": [
    "first_song"
   ]
  },
  {
   "cell_type": "code",
   "execution_count": 160,
   "metadata": {
    "collapsed": true
   },
   "outputs": [],
   "source": [
    "weights = {'artist_id': 10., 'producers':10., 'writers': 10., 'featured_artists': 8., \\\n",
    "          'sampled_songs': 7., 'description_refs': 5., 'references': 4.}"
   ]
  },
  {
   "cell_type": "code",
   "execution_count": 144,
   "metadata": {
    "collapsed": false
   },
   "outputs": [
    {
     "name": "stdout",
     "output_type": "stream",
     "text": [
      "557945  producer\n",
      "72396  producer\n",
      "216609  primary artist id\n",
      "211094  writer\n",
      "19635  featured_artist\n"
     ]
    }
   ],
   "source": [
    "contributors = []\n",
    "cont_dict = defaultdict(list)\n",
    "for e in first_song:\n",
    "    if e == 'artist_id':\n",
    "        contributors.append('artist_id')\n",
    "        cont_dict['artist_id'].append(int(first_song[e]))\n",
    "        print int(first_song[e]), \" primary artist id\"\n",
    "    if e == 'description_refs':\n",
    "        if 'artist' in e:\n",
    "            contributors.append('description_refs')\n",
    "            for a in e['artist']:\n",
    "                cont_dict['description_refs'].append(int(a['id']))\n",
    "                print int(a['id']), \" description_refs\"\n",
    "    if e == 'references' in first_song:\n",
    "        if 'artist' in e:\n",
    "            contributors.append('references')\n",
    "            for a in e['artist']:\n",
    "                cont_dict['references'].append(int(a['id']))\n",
    "                print int(a['id']), \" references\"\n",
    "    if e == 'producers':\n",
    "        contributors.append('producers')\n",
    "        for a in first_song[e]:\n",
    "            cont_dict['producers'].append(int(a['id']))\n",
    "            print int(a['id']), \" producer\"\n",
    "    if e == 'writers':\n",
    "        contributors.append('writers')\n",
    "        for a in first_song[e]:\n",
    "            cont_dict['writers'].append(int(a['id']))\n",
    "            print int(a['id']), \" writer\"\n",
    "    if e == 'featured_artists':\n",
    "        contributors.append('featured_artists')\n",
    "        for a in first_song[e]:\n",
    "            cont_dict['featured_artists'].append(int(a['id']))\n",
    "            print int(a['id']), \" featured_artist\"\n",
    "    if e == 'sampled_songs':\n",
    "        contributors.append('sampled_songs')\n",
    "        for samp in first_song[e]:\n",
    "            for sampsong in samp:\n",
    "                cont_dict['sampled_songs'].append(int(sampsong['primary_artist']['id']))\n",
    "                print int(sampsong['primary_artist']['id']), \" sampled song\""
   ]
  },
  {
   "cell_type": "code",
   "execution_count": 133,
   "metadata": {
    "collapsed": false
   },
   "outputs": [
    {
     "data": {
      "text/plain": [
       "['producers', 'artist_id', 'writers', 'featured_artists']"
      ]
     },
     "execution_count": 133,
     "metadata": {},
     "output_type": "execute_result"
    }
   ],
   "source": [
    "contributors"
   ]
  },
  {
   "cell_type": "code",
   "execution_count": 145,
   "metadata": {
    "collapsed": false
   },
   "outputs": [
    {
     "data": {
      "text/plain": [
       "defaultdict(list,\n",
       "            {'artist_id': [216609],\n",
       "             'featured_artists': [19635],\n",
       "             'producers': [557945, 72396],\n",
       "             'writers': [211094]})"
      ]
     },
     "execution_count": 145,
     "metadata": {},
     "output_type": "execute_result"
    }
   ],
   "source": [
    "cont_dict"
   ]
  },
  {
   "cell_type": "code",
   "execution_count": 152,
   "metadata": {
    "collapsed": true
   },
   "outputs": [],
   "source": [
    "total = 0\n",
    "for artist_type in contributors:\n",
    "    total += weights[artist_type]"
   ]
  },
  {
   "cell_type": "code",
   "execution_count": 153,
   "metadata": {
    "collapsed": false
   },
   "outputs": [
    {
     "name": "stdout",
     "output_type": "stream",
     "text": [
      "producers\n",
      "10\n",
      "artist_id\n",
      "10\n",
      "writers\n",
      "10\n",
      "featured_artists\n",
      "8\n"
     ]
    }
   ],
   "source": [
    "new_total = 0\n",
    "for artist_type in cont_dict:\n",
    "    print artist_type\n",
    "    print weights[artist_type]\n",
    "    new_total += weights[artist_type]"
   ]
  },
  {
   "cell_type": "code",
   "execution_count": 154,
   "metadata": {
    "collapsed": false
   },
   "outputs": [
    {
     "data": {
      "text/plain": [
       "38"
      ]
     },
     "execution_count": 154,
     "metadata": {},
     "output_type": "execute_result"
    }
   ],
   "source": [
    "new_total"
   ]
  },
  {
   "cell_type": "code",
   "execution_count": 155,
   "metadata": {
    "collapsed": false
   },
   "outputs": [
    {
     "data": {
      "text/plain": [
       "38"
      ]
     },
     "execution_count": 155,
     "metadata": {},
     "output_type": "execute_result"
    }
   ],
   "source": [
    "total"
   ]
  },
  {
   "cell_type": "code",
   "execution_count": 137,
   "metadata": {
    "collapsed": false
   },
   "outputs": [],
   "source": [
    "artists = [int(x) for x in artists]"
   ]
  },
  {
   "cell_type": "code",
   "execution_count": 139,
   "metadata": {
    "collapsed": false
   },
   "outputs": [
    {
     "data": {
      "text/plain": [
       "515"
      ]
     },
     "execution_count": 139,
     "metadata": {},
     "output_type": "execute_result"
    }
   ],
   "source": [
    "len(artists)"
   ]
  },
  {
   "cell_type": "code",
   "execution_count": 140,
   "metadata": {
    "collapsed": true
   },
   "outputs": [],
   "source": [
    "artists = list(set(artists))"
   ]
  },
  {
   "cell_type": "code",
   "execution_count": 141,
   "metadata": {
    "collapsed": false
   },
   "outputs": [
    {
     "data": {
      "text/plain": [
       "451"
      ]
     },
     "execution_count": 141,
     "metadata": {},
     "output_type": "execute_result"
    }
   ],
   "source": [
    "len(artists)"
   ]
  },
  {
   "cell_type": "code",
   "execution_count": 142,
   "metadata": {
    "collapsed": true
   },
   "outputs": [],
   "source": [
    "pickleDump(artists, 'artists_in_db.pkl')"
   ]
  },
  {
   "cell_type": "code",
   "execution_count": 167,
   "metadata": {
    "collapsed": true
   },
   "outputs": [],
   "source": [
    "weighted_artists = defaultdict(float)"
   ]
  },
  {
   "cell_type": "code",
   "execution_count": 168,
   "metadata": {
    "collapsed": false
   },
   "outputs": [],
   "source": [
    "for x, y in cont_dict.iteritems():\n",
    "    frac = weights[x]/len(y)\n",
    "    for influencer in y:\n",
    "        weighted_artists[influencer] = frac/total"
   ]
  },
  {
   "cell_type": "code",
   "execution_count": 169,
   "metadata": {
    "collapsed": false
   },
   "outputs": [
    {
     "data": {
      "text/plain": [
       "defaultdict(float,\n",
       "            {19635: 0.21052631578947367,\n",
       "             72396: 0.13157894736842105,\n",
       "             211094: 0.2631578947368421,\n",
       "             216609: 0.2631578947368421,\n",
       "             557945: 0.13157894736842105})"
      ]
     },
     "execution_count": 169,
     "metadata": {},
     "output_type": "execute_result"
    }
   ],
   "source": [
    "weighted_artists"
   ]
  },
  {
   "cell_type": "code",
   "execution_count": 171,
   "metadata": {
    "collapsed": false
   },
   "outputs": [
    {
     "name": "stdout",
     "output_type": "stream",
     "text": [
      "1.0\n"
     ]
    }
   ],
   "source": [
    "songsum = 0\n",
    "for key, value in weighted_artists.iteritems():\n",
    "    songsum += value\n",
    "print songsum"
   ]
  },
  {
   "cell_type": "code",
   "execution_count": 164,
   "metadata": {
    "collapsed": true
   },
   "outputs": [],
   "source": [
    "import pandas as pd"
   ]
  },
  {
   "cell_type": "code",
   "execution_count": 165,
   "metadata": {
    "collapsed": true
   },
   "outputs": [],
   "source": [
    "df = pd.DataFrame(columns=artists)"
   ]
  },
  {
   "cell_type": "code",
   "execution_count": 206,
   "metadata": {
    "collapsed": false
   },
   "outputs": [],
   "source": [
    "songid = first_song['id']"
   ]
  },
  {
   "cell_type": "code",
   "execution_count": 166,
   "metadata": {
    "collapsed": false
   },
   "outputs": [
    {
     "data": {
      "text/html": [
       "<div>\n",
       "<table border=\"1\" class=\"dataframe\">\n",
       "  <thead>\n",
       "    <tr style=\"text-align: right;\">\n",
       "      <th></th>\n",
       "      <th>1</th>\n",
       "      <th>2</th>\n",
       "      <th>3</th>\n",
       "      <th>4</th>\n",
       "      <th>2057</th>\n",
       "      <th>329739</th>\n",
       "      <th>13</th>\n",
       "      <th>589827</th>\n",
       "      <th>20503</th>\n",
       "      <th>589828</th>\n",
       "      <th>...</th>\n",
       "      <th>38842</th>\n",
       "      <th>1985</th>\n",
       "      <th>99318</th>\n",
       "      <th>39585</th>\n",
       "      <th>28651</th>\n",
       "      <th>1362</th>\n",
       "      <th>2035</th>\n",
       "      <th>14325</th>\n",
       "      <th>626678</th>\n",
       "      <th>64581</th>\n",
       "    </tr>\n",
       "  </thead>\n",
       "  <tbody>\n",
       "  </tbody>\n",
       "</table>\n",
       "<p>0 rows × 451 columns</p>\n",
       "</div>"
      ],
      "text/plain": [
       "Empty DataFrame\n",
       "Columns: [1, 2, 3, 4, 2057, 329739, 13, 589827, 20503, 589828, 47131, 38, 42, 2092, 45, 46, 61488, 56, 59, 64, 16450, 67, 69, 72, 2121, 83, 85, 86, 88, 89, 616538, 92, 241761, 12388, 544871, 105, 107, 112, 117, 118, 217208, 123, 346237, 571520, 12417, 130, 134, 146, 2197, 211094, 157, 158, 61600, 24741, 169, 170, 264368, 10418, 186, 191, 49344, 198, 13347, 2260, 2268, 223, 224, 8417, 166114, 228, 229, 346342, 28906, 350445, 2286, 4337, 33010, 551156, 24823, 10489, 47356, 80125, 257, 649478, 41226, 267, 14607, 272, 233747, 278, 20185, 51248, 8491, 1075, 308, 2358, 641335, 641336, 641337, 641338, ...]\n",
       "Index: []\n",
       "\n",
       "[0 rows x 451 columns]"
      ]
     },
     "execution_count": 166,
     "metadata": {},
     "output_type": "execute_result"
    }
   ],
   "source": []
  },
  {
   "cell_type": "code",
   "execution_count": 181,
   "metadata": {
    "collapsed": false
   },
   "outputs": [],
   "source": [
    "blah = {(a):(0 if a not in weighted_artists.keys() else weighted_artists[a]) for a in artists}"
   ]
  },
  {
   "cell_type": "code",
   "execution_count": 185,
   "metadata": {
    "collapsed": false
   },
   "outputs": [
    {
     "data": {
      "text/plain": [
       "1.0"
      ]
     },
     "execution_count": 185,
     "metadata": {},
     "output_type": "execute_result"
    }
   ],
   "source": []
  },
  {
   "cell_type": "code",
   "execution_count": 191,
   "metadata": {
    "collapsed": false
   },
   "outputs": [],
   "source": [
    "first_song_series = pd.Series(data = blah.values(), index = blah.keys())"
   ]
  },
  {
   "cell_type": "code",
   "execution_count": 200,
   "metadata": {
    "collapsed": false
   },
   "outputs": [],
   "source": [
    "df = df.append(first_song_series, ignore_index=True)"
   ]
  },
  {
   "cell_type": "code",
   "execution_count": 201,
   "metadata": {
    "collapsed": false
   },
   "outputs": [
    {
     "data": {
      "text/plain": [
       "0    0\n",
       "Name: 1, dtype: float64"
      ]
     },
     "execution_count": 201,
     "metadata": {},
     "output_type": "execute_result"
    }
   ],
   "source": [
    "df[1]"
   ]
  },
  {
   "cell_type": "code",
   "execution_count": 202,
   "metadata": {
    "collapsed": false
   },
   "outputs": [
    {
     "data": {
      "text/plain": [
       "0    0.210526\n",
       "Name: 19635, dtype: float64"
      ]
     },
     "execution_count": 202,
     "metadata": {},
     "output_type": "execute_result"
    }
   ],
   "source": [
    "df[19635]"
   ]
  },
  {
   "cell_type": "code",
   "execution_count": 208,
   "metadata": {
    "collapsed": true
   },
   "outputs": [],
   "source": [
    "df['myindex'] = [19635]"
   ]
  },
  {
   "cell_type": "code",
   "execution_count": 210,
   "metadata": {
    "collapsed": false
   },
   "outputs": [
    {
     "data": {
      "text/plain": [
       "0    19635\n",
       "Name: myindex, dtype: int64"
      ]
     },
     "execution_count": 210,
     "metadata": {},
     "output_type": "execute_result"
    }
   ],
   "source": [
    "df['myindex']"
   ]
  },
  {
   "cell_type": "code",
   "execution_count": 211,
   "metadata": {
    "collapsed": true
   },
   "outputs": [],
   "source": [
    "df.set_index('myindex', inplace=True, drop=True)"
   ]
  },
  {
   "cell_type": "code",
   "execution_count": 212,
   "metadata": {
    "collapsed": false
   },
   "outputs": [
    {
     "data": {
      "text/html": [
       "<div>\n",
       "<table border=\"1\" class=\"dataframe\">\n",
       "  <thead>\n",
       "    <tr style=\"text-align: right;\">\n",
       "      <th></th>\n",
       "      <th>1</th>\n",
       "      <th>2</th>\n",
       "      <th>3</th>\n",
       "      <th>4</th>\n",
       "      <th>2057</th>\n",
       "      <th>329739</th>\n",
       "      <th>13</th>\n",
       "      <th>589827</th>\n",
       "      <th>20503</th>\n",
       "      <th>589828</th>\n",
       "      <th>...</th>\n",
       "      <th>38842</th>\n",
       "      <th>1985</th>\n",
       "      <th>99318</th>\n",
       "      <th>39585</th>\n",
       "      <th>28651</th>\n",
       "      <th>1362</th>\n",
       "      <th>2035</th>\n",
       "      <th>14325</th>\n",
       "      <th>626678</th>\n",
       "      <th>64581</th>\n",
       "    </tr>\n",
       "    <tr>\n",
       "      <th>myindex</th>\n",
       "      <th></th>\n",
       "      <th></th>\n",
       "      <th></th>\n",
       "      <th></th>\n",
       "      <th></th>\n",
       "      <th></th>\n",
       "      <th></th>\n",
       "      <th></th>\n",
       "      <th></th>\n",
       "      <th></th>\n",
       "      <th></th>\n",
       "      <th></th>\n",
       "      <th></th>\n",
       "      <th></th>\n",
       "      <th></th>\n",
       "      <th></th>\n",
       "      <th></th>\n",
       "      <th></th>\n",
       "      <th></th>\n",
       "      <th></th>\n",
       "      <th></th>\n",
       "    </tr>\n",
       "  </thead>\n",
       "  <tbody>\n",
       "    <tr>\n",
       "      <th>19635</th>\n",
       "      <td>0</td>\n",
       "      <td>0</td>\n",
       "      <td>0</td>\n",
       "      <td>0</td>\n",
       "      <td>0</td>\n",
       "      <td>0</td>\n",
       "      <td>0</td>\n",
       "      <td>0</td>\n",
       "      <td>0</td>\n",
       "      <td>0</td>\n",
       "      <td>...</td>\n",
       "      <td>0</td>\n",
       "      <td>0</td>\n",
       "      <td>0</td>\n",
       "      <td>0</td>\n",
       "      <td>0</td>\n",
       "      <td>0</td>\n",
       "      <td>0</td>\n",
       "      <td>0</td>\n",
       "      <td>0</td>\n",
       "      <td>0</td>\n",
       "    </tr>\n",
       "  </tbody>\n",
       "</table>\n",
       "<p>1 rows × 451 columns</p>\n",
       "</div>"
      ],
      "text/plain": [
       "         1       2       3       4       2057    329739  13      589827  \\\n",
       "myindex                                                                   \n",
       "19635         0       0       0       0       0       0       0       0   \n",
       "\n",
       "         20503   589828   ...    38842   1985    99318   39585   28651   \\\n",
       "myindex                   ...                                             \n",
       "19635         0       0   ...         0       0       0       0       0   \n",
       "\n",
       "         1362    2035    14325   626678  64581   \n",
       "myindex                                          \n",
       "19635         0       0       0       0       0  \n",
       "\n",
       "[1 rows x 451 columns]"
      ]
     },
     "execution_count": 212,
     "metadata": {},
     "output_type": "execute_result"
    }
   ],
   "source": [
    "df"
   ]
  },
  {
   "cell_type": "code",
   "execution_count": 213,
   "metadata": {
    "collapsed": true
   },
   "outputs": [],
   "source": [
    "#### reverse the order tomorrow!!!!"
   ]
  },
  {
   "cell_type": "code",
   "execution_count": null,
   "metadata": {
    "collapsed": true
   },
   "outputs": [],
   "source": []
  }
 ],
 "metadata": {
  "kernelspec": {
   "display_name": "Python 2",
   "language": "python",
   "name": "python2"
  },
  "language_info": {
   "codemirror_mode": {
    "name": "ipython",
    "version": 2
   },
   "file_extension": ".py",
   "mimetype": "text/x-python",
   "name": "python",
   "nbconvert_exporter": "python",
   "pygments_lexer": "ipython2",
   "version": "2.7.11"
  }
 },
 "nbformat": 4,
 "nbformat_minor": 0
}
