{
 "cells": [
  {
   "cell_type": "code",
   "execution_count": 1,
   "metadata": {
    "collapsed": true
   },
   "outputs": [],
   "source": [
    "import requests\n",
    "import cnfg\n",
    "import json\n",
    "import pickle\n",
    "import time\n",
    "from datetime import datetime\n",
    "from collections import defaultdict\n",
    "from urlparse import urlparse\n",
    "from pymongo import MongoClient"
   ]
  },
  {
   "cell_type": "code",
   "execution_count": 2,
   "metadata": {
    "collapsed": true
   },
   "outputs": [],
   "source": [
    "config = cnfg.load(\".genius_config\")\n",
    "client_key = config[\"client_key\"]\n",
    "client_secret = config[\"client_secret\"]\n",
    "access_token = 'uK247ank6jF7DY_E7TEMIdbuhT2IBVsVeFXh6AluxswFUfrlFNfXNu2pUFPrGv2c'\n",
    "auth = 'Bearer '+access_token\n",
    "req_start = 'https://api.genius.com'"
   ]
  },
  {
   "cell_type": "code",
   "execution_count": 3,
   "metadata": {
    "collapsed": true
   },
   "outputs": [],
   "source": [
    "client = MongoClient()\n",
    "db = client.music\n",
    "s = db.songs\n",
    "# counter\n",
    "c = s.find()"
   ]
  },
  {
   "cell_type": "code",
   "execution_count": 4,
   "metadata": {
    "collapsed": true
   },
   "outputs": [],
   "source": [
    "def pickleLoad(filename):\n",
    "    with open(filename, 'rb') as f:\n",
    "        data = pickle.load(f) \n",
    "    return data\n",
    "\n",
    "def pickleDump(data, filename):\n",
    "    with open(filename, 'wb') as f:\n",
    "        pickle.dump(data, f)"
   ]
  },
  {
   "cell_type": "code",
   "execution_count": 5,
   "metadata": {
    "collapsed": true
   },
   "outputs": [],
   "source": [
    "def api_call(validurl):\n",
    "    call = validurl\n",
    "    r = requests.get(call, headers={'Authorization':auth})\n",
    "    if r.status_code==200:\n",
    "        return json.loads(r.content)\n",
    "    else:\n",
    "        print r.content\n",
    "        return r.content"
   ]
  },
  {
   "cell_type": "code",
   "execution_count": 6,
   "metadata": {
    "collapsed": true
   },
   "outputs": [],
   "source": [
    "def get_annotations(song):\n",
    "    referenced = defaultdict(list)\n",
    "    if type(song)==int:\n",
    "        myrequest = req_start+'/referents?song_id='+str(song)\n",
    "        r = requests.get(myrequest, headers={'Authorization':auth})\n",
    "        refs_json = json.loads(r.content)\n",
    "    elif type(song)==dict:\n",
    "        refs_json = song\n",
    "    for ref in refs_json['response']['referents']:\n",
    "        for note in ref['annotations']:\n",
    "            for child in note['body']['dom']['children']:\n",
    "                if 'children' in child:\n",
    "                    for element in child['children']:\n",
    "                        if 'attributes' in element:\n",
    "                            if 'href' in element['attributes']:\n",
    "                                parsed = urlparse(element['attributes']['href'])\n",
    "                                if parsed.netloc==\"genius.com\":\n",
    "                                    try:\n",
    "                                        apiurl = req_start+element['data']['api_path']\n",
    "                                        annotype = urlparse(apiurl).path.split('/')[1]\n",
    "                                        if annotype == 'albums':\n",
    "                                            referenced['albums'].append(apiurl.encode('utf-8'))\n",
    "                                        elif annotype == 'artists':\n",
    "                                            referenced['artists'].append(apiurl.encode('utf-8'))\n",
    "                                        elif annotype == 'songs':\n",
    "                                            if urlparse(element['attributes']['href']).path.split('/')[-1][-6:] == 'lyrics':\n",
    "                                                referenced['songs'].append(apiurl.encode('utf-8'))\n",
    "                                            else:\n",
    "                                                referenced['other'].append(apiurl.encode('utf-8'))\n",
    "                                    except:\n",
    "                                        continue\n",
    "                                            \n",
    "    return dict(referenced)"
   ]
  },
  {
   "cell_type": "code",
   "execution_count": 7,
   "metadata": {
    "collapsed": true
   },
   "outputs": [],
   "source": [
    "def description_refs(song):\n",
    "    description = defaultdict(list)\n",
    "    if type(song)==int:\n",
    "        myrequest = req_start+'/songs/'+str(song)\n",
    "        r = requests.get(myrequest, headers={'Authorization':auth})\n",
    "        refs_json = json.loads(r.content)\n",
    "    elif type(song)==dict:\n",
    "        refs_json = song\n",
    "    for paragraph in refs_json['response']['song']['description']['dom']['children']:\n",
    "        if 'children' in paragraph:\n",
    "            for child in paragraph['children']:\n",
    "                if 'attributes' in child:\n",
    "                    if 'href' in child['attributes']:\n",
    "                        url = child['attributes']['href']\n",
    "                        if urlparse(url).netloc=='genius.com':\n",
    "                            try:\n",
    "                                apiurl = req_start+child['data']['api_path']\n",
    "                                annotype = urlparse(apiurl).path.split('/')[1]\n",
    "                                if annotype == 'albums':\n",
    "                                    description['albums'].append(apiurl.encode('utf-8'))\n",
    "                                elif annotype == 'artists':\n",
    "                                    description['artists'].append(apiurl.encode('utf-8'))\n",
    "                                elif annotype == 'songs':\n",
    "                                    if urlparse(child['attributes']['href']).path.split('/')[-1][-6:] == 'lyrics':\n",
    "                                        description['songs'].append(apiurl.encode('utf-8'))\n",
    "                                    else:\n",
    "                                        description['other'].append(apiurl.encode('utf-8'))\n",
    "                            except:\n",
    "                                continue\n",
    "    return dict(description)"
   ]
  },
  {
   "cell_type": "code",
   "execution_count": 8,
   "metadata": {
    "collapsed": false
   },
   "outputs": [],
   "source": [
    "# pass one of the two following:\n",
    "# song['references'] for referents or\n",
    "# song['description_refs'] for references in description\n",
    "\n",
    "def get_neighbors(song):\n",
    "    neighbors = defaultdict(list)\n",
    "    for item, vals in song.iteritems():\n",
    "        if item=='artists':\n",
    "            for artist in vals:\n",
    "                artistid = artist.rpartition('/')[2]\n",
    "                if s.find({'featured_artists': {'$elemMatch':{'id':int(artistid)}}}).count():\n",
    "                    name = s.find({'featured_artists': {'$elemMatch':{'id':int(artistid)}}}, \n",
    "                                  {'featured_artists': {'$elemMatch':{'id':int(artistid)}}}).next()\n",
    "                    artistname = name['featured_artists'][0]['artist']\n",
    "                    neighbors['artist'].append({'name': artistname, 'id': artistid})\n",
    "                elif s.find({'writers': {'$elemMatch':{'id':int(artistid)}}}).count():\n",
    "                    name = s.find({'writers': {'$elemMatch':{'id':int(artistid)}}}, \n",
    "                                  {'writers': {'$elemMatch':{'id':int(artistid)}}}).next()\n",
    "                    artistname = name['writers'][0]['artist']\n",
    "                    neighbors['artist'].append({'name': artistname, 'id': artistid})\n",
    "                elif s.find({'producers': {'$elemMatch':{'id':int(artistid)}}}).count():\n",
    "                    name = s.find({'producers': {'$elemMatch':{'id':int(artistid)}}}, \n",
    "                                  {'producers': {'$elemMatch':{'id':int(artistid)}}}).next()\n",
    "                    artistname = name['producers'][0]['artist']\n",
    "                    neighbors['artist'].append({'name': artistname, 'id': artistid})\n",
    "                elif s.find({'artist_id': int(artistid)}, {'artist':1}).count():\n",
    "                    name = s.find({'artist_id': int(artistid)}, {'artist': 1}).next()\n",
    "                    neighbors['artist'].append({'name': name['artist'], 'id': artistid})\n",
    "                else:\n",
    "                    print \"calling artistid: \", artistid\n",
    "                    time.sleep(7)\n",
    "                    name = api_call(artist)['response']['artist']['name']\n",
    "                    print \"successful request!\"\n",
    "                    print \"artist name: \", name\n",
    "                    neighbors['artist'].append({'name': name, 'id': artistid})\n",
    "        elif item == 'albums':\n",
    "            for album in vals:\n",
    "                albumid = album.rpartition('/')[2]\n",
    "                if s.find({'album.id': int(albumid)}).count():\n",
    "                    name = s.find({'album.id': int(albumid)}, {'album.name': 1}).next()\n",
    "                    albumname = name['album']['name']\n",
    "                    neighbors['album'].append({'name': albumname, 'id': albumid})\n",
    "                else:\n",
    "                    print \"calling albumid: \", albumid\n",
    "                    time.sleep(7)\n",
    "                    name = api_call(album)['response']['album']['name']\n",
    "                    print \"successful request!\"\n",
    "                    print \"album name: \", name\n",
    "                    neighbors['album'].append({'name': name, 'id': albumid})\n",
    "        elif item == 'songs':\n",
    "            for song in vals:\n",
    "                songid = song.rpartition('/')[2]\n",
    "                if s.find({'id': int(songid)}).count(): \n",
    "                    data = s.find({'id': int(songid)}, {'title':1, 'artist':1}).next()\n",
    "                    title = data['title']\n",
    "                    artist = data['artist']\n",
    "                    neighbors['song'].append({'title':title, 'artist':artist, 'id':songid})\n",
    "                else:\n",
    "                    neighbors['song_unannotated'].append({'id':songid})\n",
    "        elif item == 'other':\n",
    "            for other in vals:\n",
    "                otherid = other.rpartition('/')[2]\n",
    "                print \"calling other: \", other\n",
    "                name = api_call(other)['response']['song']['title']\n",
    "                neighbors['other'].append({'title':name, 'id':otherid})\n",
    "                \n",
    "    return neighbors"
   ]
  },
  {
   "cell_type": "code",
   "execution_count": 9,
   "metadata": {
    "collapsed": true
   },
   "outputs": [],
   "source": [
    "def annotate_song(songid):\n",
    "    if s.find({'id':songid}).count() > 0:\n",
    "        print \"already in Mongo... returning Mongo query\"\n",
    "        return s.find({'id':songid}).next()\n",
    "    else:\n",
    "        song_info = {}\n",
    "        myrequest = req_start+'/songs/'+str(songid)\n",
    "        r = requests.get(myrequest, headers={'Authorization':auth})\n",
    "        song_json = json.loads(r.content)\n",
    "        song_info['title'] = str(song_json['response']['song']['title'])\n",
    "        song_info['artist'] = str(song_json['response']['song']['primary_artist']['name'])\n",
    "        song_info['artist_id'] = song_json['response']['song']['primary_artist']['id']\n",
    "        pickle_title = '_'.join(song_info['title'].split())+\"_\"+'_'.join(song_info['artist'].split())+\".pkl\"\n",
    "        pickleDump(song_json, pickle_title)\n",
    "        if song_json['response']['song']['album'] != None:\n",
    "            song_info['album'] = {'name': str(song_json['response']['song']['album']['name']), \n",
    "                              'id': song_json['response']['song']['album']['id']}\n",
    "        song_info['id'] = song_json['response']['song']['id']\n",
    "\n",
    "        # may or may not exist\n",
    "        song_info['featured_artists'] = []\n",
    "        song_info['writers'] = []\n",
    "        song_info['producers'] = []\n",
    "        \n",
    "        if song_json['response']['song']['sampled_songs']:\n",
    "            song_info['sampled_songs'] = song_json['response']['song']['sampled_songs']\n",
    "        if song_json['response']['song']['sampling_songs']:\n",
    "            song_info['sampling_songs'] = song_json['response']['song']['sampling_songs']\n",
    "\n",
    "        for artist in song_json['response']['song']['featured_artists']:\n",
    "            if artist['name']!=song_info['artist']:\n",
    "                song_info['featured_artists'].append({'artist':artist['name'], 'id':artist['id']})\n",
    "        for artist in song_json['response']['song']['producer_artists']:\n",
    "            if artist['name']!=song_info['artist']:\n",
    "                song_info['producers'].append({'artist':artist['name'], 'id':artist['id']})\n",
    "        for artist in song_json['response']['song']['writer_artists']:\n",
    "            if artist['name']!=song_info['artist']:\n",
    "                song_info['writers'].append({'artist':artist['name'], 'id':artist['id']})\n",
    "\n",
    "        if not song_info['featured_artists']:\n",
    "            del song_info['featured_artists']\n",
    "        if not song_info['writers']:\n",
    "            del song_info['writers']\n",
    "        if not song_info['producers']:\n",
    "            del song_info['producers']\n",
    "\n",
    "        # references!!\n",
    "        time.sleep(7)\n",
    "        song_info['references'] = dict(get_neighbors(get_annotations(songid)))\n",
    "        time.sleep(7)\n",
    "        song_info['description_refs'] = dict(get_neighbors(description_refs(song_json)))\n",
    "        \n",
    "        pickled_annotation = pickle_title[0:-4]+\"_annotated.pkl\"\n",
    "        pickleDump(song_info, pickled_annotation)\n",
    "        return song_info"
   ]
  },
  {
   "cell_type": "code",
   "execution_count": 36,
   "metadata": {
    "collapsed": true
   },
   "outputs": [],
   "source": [
    "def update_annotation(song):\n",
    "    song_json = pickleLoad(song[0])\n",
    "    song_info = pickleLoad(song[1])\n",
    "    \n",
    "    if song_json['response']['song']['sampled_songs']:\n",
    "        song_info['sampled_songs'] = song_json['response']['song']['sampled_songs']\n",
    "    if song_json['response']['song']['sampling_songs']:\n",
    "        song_info['sampling_songs'] = song_json['response']['song']['sampling_songs']\n",
    "        \n",
    "    song_info['artist'] = str(song_json['response']['song']['primary_artist']['name'])\n",
    "    song_info['artist_id'] = song_json['response']['song']['primary_artist']['id']\n",
    "    \n",
    "    return song_info"
   ]
  },
  {
   "cell_type": "code",
   "execution_count": 14,
   "metadata": {
    "collapsed": false
   },
   "outputs": [],
   "source": [
    "c = s.find({'description_refs.song_unannotated': {'$exists': 'true'}},\n",
    "        {'description_refs.song_unannotated': 1, '_id':0})"
   ]
  },
  {
   "cell_type": "code",
   "execution_count": 15,
   "metadata": {
    "collapsed": true
   },
   "outputs": [],
   "source": [
    "r = s.find({'references.song_unannotated': {'$exists': 'true'}},\n",
    "        {'references.song_unannotated': 1, '_id':0})"
   ]
  },
  {
   "cell_type": "code",
   "execution_count": 13,
   "metadata": {
    "collapsed": true
   },
   "outputs": [],
   "source": [
    "unannotated_refs = []\n",
    "unannotated_desc = []"
   ]
  },
  {
   "cell_type": "code",
   "execution_count": 16,
   "metadata": {
    "collapsed": false
   },
   "outputs": [],
   "source": [
    "for i in list(c):\n",
    "    for song in i['description_refs']['song_unannotated']:\n",
    "        unannotated_desc.append(int(song['id']))\n",
    "for i in list(r):\n",
    "    for song in i['references']['song_unannotated']:\n",
    "        unannotated_refs.append(int(song['id']))"
   ]
  },
  {
   "cell_type": "code",
   "execution_count": 19,
   "metadata": {
    "collapsed": false
   },
   "outputs": [],
   "source": [
    "total_unannotated = set(unannotated_desc+unannotated_refs)"
   ]
  },
  {
   "cell_type": "code",
   "execution_count": 20,
   "metadata": {
    "collapsed": false
   },
   "outputs": [],
   "source": [
    "total_unannotated = list(total_unannotated)"
   ]
  },
  {
   "cell_type": "code",
   "execution_count": 21,
   "metadata": {
    "collapsed": false
   },
   "outputs": [
    {
     "data": {
      "text/plain": [
       "128"
      ]
     },
     "execution_count": 21,
     "metadata": {},
     "output_type": "execute_result"
    }
   ],
   "source": [
    "len(total_unannotated)"
   ]
  },
  {
   "cell_type": "code",
   "execution_count": 121,
   "metadata": {
    "collapsed": true
   },
   "outputs": [],
   "source": [
    "def insert_neighbors(neighbors):\n",
    "    cant_insert = []\n",
    "    for songid in neighbors:\n",
    "        if s.find({'id':songid}).count()>0:\n",
    "            print \"song id \", songid, \" in Mongo already\"\n",
    "            continue\n",
    "        else:\n",
    "            try:\n",
    "                annotated = annotate_song(songid)\n",
    "                s.insert_one(annotated)\n",
    "                print \"inserted \", songid, \" to Mongo!!\"\n",
    "                to_insert = {'id':songid, 'title':annotated['title'], 'artist':annotated['artist']}\n",
    "                s.update({'references.song_unannotated':{'$elemMatch':{'id':str(songid)}}},\n",
    "                         {'$push': {'references.song': to_insert},\n",
    "                          '$unset': {'references.song_unannotated': {'$elemMatch':{'id':str(songid)}}}\n",
    "                         })\n",
    "                s.update({'description_refs.song_unannotated':{'$elemMatch':{'id':str(songid)}}},\n",
    "                 {'$push': {'description_refs.song': to_insert\n",
    "                            },\n",
    "                  '$unset': {'description_refs.song_unannotated': {'$elemMatch':{'id':str(songid)}}}\n",
    "                 })\n",
    "                time.sleep(7)\n",
    "            except:\n",
    "                cant_insert.append(songid)\n",
    "                continue"
   ]
  },
  {
   "cell_type": "code",
   "execution_count": 363,
   "metadata": {
    "collapsed": false
   },
   "outputs": [],
   "source": [
    "refs_pickles = []\n",
    "desc_pickles = []\n",
    "for docid in updated_desc:\n",
    "    data = s.find({'id':docid}, {'title':1, 'artist':1, '_id':0}).next()\n",
    "    title = data['title']\n",
    "    artist = data['artist']\n",
    "    picklename = '_'.join(title.split())+\"_\"+'_'.join(artist.split())+\"_annotated.pkl\"\n",
    "    desc_pickles.append(picklename)\n",
    "for docid in updated_refs:\n",
    "    data = s.find({'id':docid}, {'title':1, 'artist':1, '_id':0}).next()\n",
    "    title = data['title']\n",
    "    artist = data['artist']\n",
    "    picklename = '_'.join(title.split())+\"_\"+'_'.join(artist.split())+\"_annotated.pkl\"\n",
    "    refs_pickles.append(picklename)"
   ]
  },
  {
   "cell_type": "code",
   "execution_count": 382,
   "metadata": {
    "collapsed": false
   },
   "outputs": [],
   "source": [
    "def fix_ref_annotations(picklesong):\n",
    "    try:\n",
    "        song_info = pickleLoad(picklesong)\n",
    "        ref_songs = []\n",
    "        failed_songs = []\n",
    "        for element in song_info['references']['song_unannotated']:\n",
    "            for k, v in element.iteritems():\n",
    "                if s.find({'id':int(v)}).count() > 0:\n",
    "                    vals = s.find({'id':int(v)}, {'artist':1, 'title':1, '_id':0}).next()\n",
    "                    to_insert = {'id':v, 'artist':vals['artist'], 'title':vals['title']}\n",
    "                    ref_songs.append(to_insert)\n",
    "                else:\n",
    "                    failed_songs.append({'id': v})     \n",
    "        songid = song_info['id']\n",
    "        if ref_songs and failed_songs:\n",
    "            s.update_one({'id':songid}, {'$unset': {'references.song': \"\"}})\n",
    "            s.update_one({'id':songid}, {'$unset': {'references.song_unannotated':\"\"}})\n",
    "            s.update_one({'id':songid}, {'$addToSet': {'references.song': {'$each': ref_songs}}}) \n",
    "            s.update_one({'id':songid}, {'$addToSet': {'references.song_unannotated': {'$each': failed_songs}}})\n",
    "            song_info['references']['song'] = ref_songs\n",
    "            song_info['references']['song_unannotated'] = failed_songs\n",
    "        elif ref_songs and not failed_songs:\n",
    "            s.update_one({'id':songid}, {'$unset': {'references.song': \"\"}})\n",
    "            s.update_one({'id':songid}, {'$unset': {'references.song_unannotated':\"\"}})\n",
    "            s.update_one({'id':songid}, {'$addToSet': {'references.song': {'$each': ref_songs}}})\n",
    "            song_info['references']['song'] = ref_songs\n",
    "            del song_info['references']['song_unannotated']\n",
    "        elif failed_songs and not ref_songs:\n",
    "            s.update_one({'id':songid}, {'$unset': {'references.song': \"\"}})\n",
    "            s.update_one({'id':songid}, {'$unset': {'references.song_unannotated':\"\"}})\n",
    "            s.update_one({'id':songid}, {'$addToSet': {'references.song_unannotated': {'$each': failed_songs}}})\n",
    "            del song_info['references']['song']\n",
    "            song_info['references']['song_unannotated'] = failed_songs\n",
    "        \n",
    "        pickleDump(song_info, picklesong)\n",
    "        return True\n",
    "    except:\n",
    "        print \"unable to update: \", picklesong\n",
    "        return False"
   ]
  },
  {
   "cell_type": "code",
   "execution_count": 354,
   "metadata": {
    "collapsed": false
   },
   "outputs": [],
   "source": [
    "def fix_desc_annotations(picklesong):\n",
    "    try: \n",
    "        song_info = pickleLoad(picklesong)\n",
    "        desc_songs = []\n",
    "        failed_songs = []\n",
    "        for element in song_info['description_refs']['song_unannotated']:\n",
    "            for k, v in element.iteritems():\n",
    "                if s.find({'id':int(v)}).count() > 0:\n",
    "                    vals = s.find({'id':int(v)}, {'artist':1, 'title':1, '_id':0}).next()\n",
    "                    to_insert = {'id':v, 'artist':vals['artist'], 'title':vals['title']}\n",
    "                    desc_songs.append(to_insert)\n",
    "                else:\n",
    "                    failed_songs.append({'id': v})\n",
    "        songid = song_info['id']\n",
    "        if desc_songs and failed_songs:\n",
    "            s.update_one({'id':songid}, {'$unset': {'description_refs.song': \"\"}})\n",
    "            s.update_one({'id':songid}, {'$unset': {'description_refs.song_unannotated':\"\"}})\n",
    "            s.update_one({'id':songid}, {'$addToSet': {'description_refs.song': {'$each': desc_songs}}})\n",
    "            s.update_one({'id':songid}, {'$addToSet': {'description_refs.song_unannotated': {'$each': failed_songs}}})\n",
    "            song_info['description_refs']['song'] = desc_songs\n",
    "            song_info['description_refs']['song_unannotated'] = failed_songs\n",
    "        elif desc_songs and not failed_songs:\n",
    "            s.update_one({'id':songid}, {'$unset': {'description_refs.song': \"\"}})\n",
    "            s.update_one({'id':songid}, {'$unset': {'description_refs.song_unannotated':\"\"}})\n",
    "            s.update_one({'id':songid}, {'$addToSet': {'description_refs.song': {'$each': desc_songs}}})\n",
    "            song_info['description_refs']['song'] = desc_songs\n",
    "            del song_info['description_refs']['song_unannotated']\n",
    "        elif failed_songs and not desc_songs:\n",
    "            s.update_one({'id':songid}, {'$unset': {'description_refs.song': \"\"}})\n",
    "            s.update_one({'id':songid}, {'$unset': {'description_refs.song_unannotated':\"\"}})\n",
    "            s.update_one({'id':songid}, {'$addToSet': {'description_refs.song_unannotated': {'$each': failed_songs}}})\n",
    "            del song_info['description_refs']['song']\n",
    "            song_info['description_refs']['song_unannotated'] = failed_songs\n",
    "        \n",
    "        pickleDump(song_info, picklesong)\n",
    "        return True\n",
    "    except:\n",
    "        print \"unable to update: \", picklesong\n",
    "        return False"
   ]
  },
  {
   "cell_type": "code",
   "execution_count": 23,
   "metadata": {
    "collapsed": true
   },
   "outputs": [],
   "source": [
    "in_mongo = []\n",
    "#Panda by Desiigner, Slappin by E-40, untitled by kendrick\n",
    "unable = [2400811, 2421937, 639247]"
   ]
  },
  {
   "cell_type": "code",
   "execution_count": 24,
   "metadata": {
    "collapsed": true
   },
   "outputs": [],
   "source": [
    "for x in total_unannotated:\n",
    "    if x in unable:\n",
    "        total_unannotated.remove(x)\n",
    "    if s.find({'id':x}).count()>1:\n",
    "        in_mongo.append(x)\n",
    "        total_unannotated.remove(x)"
   ]
  },
  {
   "cell_type": "code",
   "execution_count": 25,
   "metadata": {
    "collapsed": false
   },
   "outputs": [
    {
     "name": "stdout",
     "output_type": "stream",
     "text": [
      "0\n",
      "127\n"
     ]
    }
   ],
   "source": [
    "print len(in_mongo)\n",
    "print len(total_unannotated)"
   ]
  },
  {
   "cell_type": "code",
   "execution_count": 26,
   "metadata": {
    "collapsed": false
   },
   "outputs": [
    {
     "data": {
      "text/plain": [
       "115"
      ]
     },
     "execution_count": 26,
     "metadata": {},
     "output_type": "execute_result"
    }
   ],
   "source": [
    "#songs in mongo now\n",
    "len(list(s.find()))"
   ]
  },
  {
   "cell_type": "code",
   "execution_count": 27,
   "metadata": {
    "collapsed": true
   },
   "outputs": [],
   "source": [
    "failed_insertion = []"
   ]
  },
  {
   "cell_type": "code",
   "execution_count": 29,
   "metadata": {
    "collapsed": false
   },
   "outputs": [
    {
     "name": "stdout",
     "output_type": "stream",
     "text": [
      "inserted  Say My Name  by  Destiny's Child  with songid  140800  to Mongo!!\n",
      "inserted  The Long And Winding Road  by  The Beatles  with songid  123451  to Mongo!!\n",
      "inserted  Up All Night  by  Drake  with songid  517  to Mongo!!\n",
      "inserted  Cashin Out (Freestyle)  by  Wale  with songid  68615  to Mongo!!\n",
      "calling albumid:  30206\n",
      "successful request!\n",
      "album name:  Old \n",
      "calling artistid:  1218\n",
      "successful request!\n",
      "artist name:  Trick Trick\n",
      "calling artistid:  1422\n",
      "successful request!\n",
      "artist name:  Danny Brown\n",
      "calling albumid:  114275\n",
      "successful request!\n",
      "album name:  ShadyXV\n",
      "inserted  Detroit Vs Everybody  by  Eminem  with songid  576535  to Mongo!!\n",
      "inserted  Break Bread feat King Vory  by  Bryson Tiller  with songid  2149919  to Mongo!!\n",
      "calling artistid:  1630\n",
      "successful request!\n",
      "artist name:  Ciara\n",
      "calling artistid:  49470\n",
      "successful request!\n",
      "artist name:  DJ Esco\n",
      "calling artistid:  1\n",
      "successful request!\n",
      "artist name:  Cam'ron\n",
      "calling other:  https://api.genius.com/songs/71641\n",
      "inserted  March Madness  by  Future  with songid  726052  to Mongo!!\n",
      "inserted  Housewife  by  Dr. Dre  with songid  2644  to Mongo!!\n",
      "calling artistid:  14598\n",
      "successful request!\n",
      "artist name:  Iggy Azalea\n",
      "inserted  Only  by  Nicki Minaj  with songid  555359  to Mongo!!\n",
      "calling artistid:  80125\n",
      "successful request!\n",
      "artist name:  Kehlani\n",
      "calling other:  https://api.genius.com/songs/2148578\n",
      "calling other:  https://api.genius.com/songs/1660\n",
      "calling artistid:  80125\n",
      "successful request!\n",
      "artist name:  Kehlani\n",
      "calling artistid:  14666\n",
      "successful request!\n",
      "artist name:  IamSu!\n",
      "calling artistid:  30206\n",
      "successful request!\n",
      "artist name:  P-Lo\n",
      "calling artistid:  455\n",
      "successful request!\n",
      "artist name:  Lil B\n",
      "calling other:  https://api.genius.com/songs/2148578\n",
      "inserted  You Got Me  by  G-Eazy  with songid  2159541  to Mongo!!\n",
      "inserted  Feelin' It  by  Jay Z  with songid  64  to Mongo!!\n",
      "calling other:  https://api.genius.com/songs/50236\n",
      "calling albumid:  21737\n",
      "successful request!\n",
      "album name:  Trilogy \n",
      "calling albumid:  33704\n",
      "successful request!\n",
      "album name:  Kiss Land \n",
      "calling artistid:  28480\n",
      "successful request!\n",
      "artist name:  Illangelo\n",
      "inserted  Acquainted  by  The Weeknd  with songid  2273462  to Mongo!!\n",
      "inserted  Pussy Ass Bitch  by  Young Thug  with songid  386121  to Mongo!!\n",
      "calling artistid:  782\n",
      "successful request!\n",
      "artist name:  Keyshia Cole\n",
      "calling artistid:  1124\n",
      "successful request!\n",
      "artist name:  Run-D.M.C.\n",
      "calling artistid:  107\n",
      "successful request!\n",
      "artist name:  Lil Jon\n",
      "calling artistid:  186\n",
      "successful request!\n",
      "artist name:  Ice Cube\n",
      "calling artistid:  1124\n",
      "successful request!\n",
      "artist name:  Run-D.M.C.\n",
      "inserted  Tell Me When to Go (Remix)  by  E-40  with songid  18506  to Mongo!!\n",
      "calling albumid:  108179\n",
      "successful request!\n",
      "album name:  PARTYNEXTDOOR TWO\n",
      "calling albumid:  115982\n",
      "successful request!\n",
      "album name:  PNDCOLOURS\n",
      "inserted  OVO Freestyle  by  PARTYNEXTDOOR  with songid  2322001  to Mongo!!\n",
      "calling albumid:  115982\n",
      "successful request!\n",
      "album name:  PNDCOLOURS\n",
      "calling other:  https://api.genius.com/songs/2263710\n",
      "inserted  Some Of Your Love  by  PARTYNEXTDOOR  with songid  2322003  to Mongo!!\n",
      "calling other:  https://api.genius.com/songs/2311369\n",
      "calling other:  https://api.genius.com/songs/2263710\n",
      "inserted  Make It Rain  by  PARTYNEXTDOOR  with songid  2322004  to Mongo!!\n",
      "already in Mongo... returning Mongo query\n",
      "calling artistid:  4709\n",
      "successful request!\n",
      "artist name:  No I.D.\n",
      "inserted  Control  by  Big Sean  with songid  203961  to Mongo!!\n",
      "calling other:  https://api.genius.com/songs/2322003\n",
      "inserted  All I Wanna Know  by  PARTYNEXTDOOR  with songid  2322009  to Mongo!!\n",
      "inserted  Codeine Bumpin'  by  PARTYNEXTDOOR  with songid  2322010  to Mongo!!\n",
      "calling other:  https://api.genius.com/songs/2322014\n",
      "inserted  Just A Rider  by  PARTYNEXTDOOR  with songid  2322014  to Mongo!!\n",
      "inserted  Routine Rouge  by  PARTYNEXTDOOR  with songid  2322020  to Mongo!!\n",
      "inserted  Chanel Vintage  by  Metro Boomin  with songid  486501  to Mongo!!\n",
      "calling artistid:  137577\n",
      "successful request!\n",
      "artist name:  Peoples\n",
      "calling other:  https://api.genius.com/songs/496445\n",
      "calling other:  https://api.genius.com/songs/70324\n",
      "calling other:  https://api.genius.com/songs/299177\n",
      "calling artistid:  324091\n",
      "successful request!\n",
      "artist name:  P-Dice\n",
      "inserted  679  by  Fetty Wap  with songid  696428  to Mongo!!\n",
      "calling other:  https://api.genius.com/songs/2461\n",
      "inserted  Hot 97 Freestyle  by  Drake  with songid  1655  to Mongo!!\n",
      "inserted  Cashin Out  by  Akon  with songid  73850  to Mongo!!\n",
      "inserted  Mamacita  by  Travis Scott  with songid  499835  to Mongo!!\n",
      "inserted  Touchdown (Remix)  by  O.T. Genasis  with songid  437376  to Mongo!!\n",
      "inserted  Crew Love  by  Drake  with songid  58497  to Mongo!!\n",
      "calling artistid:  61600\n",
      "successful request!\n",
      "artist name:  Quavo\n",
      "inserted  Oh My Dis Side  by  Travis Scott  with songid  2290819  to Mongo!!\n",
      "inserted  99 Problems  by  Ice-T  with songid  2695  to Mongo!!\n",
      "inserted  Wannabe  by  Spice Girls  with songid  89740  to Mongo!!\n",
      "inserted  Pass Dat (Remix)  by  The Weeknd  with songid  2396309  to Mongo!!\n",
      "calling artistid:  455\n",
      "successful request!\n",
      "artist name:  Lil B\n",
      "calling artistid:  455\n",
      "successful request!\n",
      "artist name:  Lil B\n",
      "calling artistid:  455\n",
      "successful request!\n",
      "artist name:  Lil B\n",
      "inserted  Wonton Soup  by  Lil B  with songid  2711  to Mongo!!\n",
      "inserted  I Don't Wanna  by  Aaliyah  with songid  79516  to Mongo!!\n",
      "calling artistid:  104044\n",
      "successful request!\n",
      "artist name:  Bebe Rexha\n",
      "calling artistid:  30206\n",
      "successful request!\n",
      "artist name:  P-Lo\n",
      "calling artistid:  612212\n",
      "successful request!\n",
      "artist name:  Quiñ\n",
      "calling other:  https://api.genius.com/songs/207976\n",
      "calling other:  https://api.genius.com/songs/455885\n",
      "calling artistid:  36440\n",
      "successful request!\n",
      "artist name:  Billie Holiday\n",
      "inserted  Me, Myself & I  by  G-Eazy  with songid  2329765  to Mongo!!\n",
      "calling other:  https://api.genius.com/songs/717330\n",
      "calling artistid:  17195\n",
      "successful request!\n",
      "artist name:  Popcaan\n",
      "inserted  Know Yourself  by  Drake  with songid  703654  to Mongo!!\n",
      "calling other:  https://api.genius.com/songs/1944\n",
      "calling artistid:  388799\n",
      "successful request!\n",
      "artist name:  Timmy Thomas\n",
      "calling artistid:  691\n",
      "successful request!\n",
      "artist name:  Sade\n",
      "calling artistid:  241761\n",
      "successful request!\n",
      "artist name:  D.R.A.M.\n",
      "calling artistid:  241761\n",
      "successful request!\n",
      "artist name:  D.R.A.M.\n",
      "calling other:  https://api.genius.com/songs/2263716\n",
      "calling other:  https://api.genius.com/songs/2263725\n",
      "inserted  Hotline Bling  by  Drake  with songid  2263723  to Mongo!!\n",
      "inserted  Cross The Country  by  Migos  with songid  569516  to Mongo!!\n",
      "inserted  Furthest Thing  by  Drake  with songid  217263  to Mongo!!\n",
      "calling artistid:  27618\n",
      "successful request!\n",
      "artist name:  Lifted\n",
      "inserted  Mercy  by  Kanye West  with songid  70324  to Mongo!!\n",
      "inserted  Blank Space  by  Taylor Swift  with songid  542389  to Mongo!!\n",
      "inserted  Style  by  Taylor Swift  with songid  542390  to Mongo!!\n",
      "already in Mongo... returning Mongo query\n",
      "inserted  Picture Me Rollin'  by  2Pac  with songid  698  to Mongo!!\n",
      "calling albumid:  12283\n",
      "successful request!\n",
      "album name:  Life Is Good\n",
      "inserted  Represent  by  Nas  with songid  704  to Mongo!!\n",
      "calling artistid:  27707\n",
      "successful request!\n",
      "artist name:  Da Internz\n",
      "calling artistid:  2121\n",
      "successful request!\n",
      "artist name:  Heavy D\n",
      "calling artistid:  27765\n",
      "successful request!\n",
      "artist name:  Salaam Remi\n",
      "inserted  The Don  by  Nas  with songid  68291  to Mongo!!\n",
      "calling albumid:  4342\n",
      "successful request!\n",
      "album name:  The College Dropout\n",
      "inserted  Last Call  by  J. Cole  with songid  1741  to Mongo!!\n",
      "calling albumid:  27316\n",
      "successful request!\n",
      "album name:  Mastermind\n",
      "inserted  FuckWithMeYouKnowIGotIt  by  Jay Z  with songid  182976  to Mongo!!\n",
      "inserted  Pillz (Bitch I Might Be)  by  Gucci Mane  with songid  2269  to Mongo!!\n",
      "already in Mongo... returning Mongo query\n",
      "calling other:  https://api.genius.com/songs/512070\n",
      "calling other:  https://api.genius.com/songs/293976\n",
      "calling artistid:  36352\n",
      "successful request!\n",
      "artist name:  Mally Mall\n",
      "inserted  Truffle Butter  by  Nicki Minaj  with songid  622818  to Mongo!!\n",
      "calling artistid:  68097\n",
      "successful request!\n",
      "artist name:  Billy Squier\n",
      "inserted  Fix Up, Look Sharp  by  Dizzee Rascal  with songid  3025  to Mongo!!\n",
      "calling artistid:  36862\n",
      "successful request!\n",
      "artist name:  Mike Zombie\n",
      "inserted  Started from the Bottom  by  Drake  with songid  113898  to Mongo!!\n",
      "inserted  Beautiful  by  Remy Boyz  with songid  710897  to Mongo!!\n",
      "calling artistid:  86\n",
      "successful request!\n",
      "artist name:  Birdman\n",
      "inserted  If You're Reading This It's Too Late [Album Art + Tracklist]  by  Drake  with songid  703731  to Mongo!!\n",
      "calling artistid:  50896\n",
      "successful request!\n",
      "artist name:  WondaGurl\n",
      "inserted  Company  by  Drake  with songid  703732  to Mongo!!\n",
      "calling artistid:  49470\n",
      "successful request!\n",
      "artist name:  DJ Esco\n",
      "inserted  Where Ya At  by  Future  with songid  2213109  to Mongo!!\n",
      "inserted  Ladies 1st  by  Trina  with songid  46329  to Mongo!!\n",
      "inserted  Same Damn Time  by  Future  with songid  69295  to Mongo!!\n",
      "inserted  Slow It Down  by  PARTYNEXTDOOR  with songid  732419  to Mongo!!\n",
      "inserted  Bout It  by  PARTYNEXTDOOR  with songid  478469  to Mongo!!\n",
      "inserted  Love Me Harder  by  Ariana Grande  with songid  501510  to Mongo!!\n",
      "inserted  Plastic Dreams  by  G-Eazy  with songid  82701  to Mongo!!\n",
      "already in Mongo... returning Mongo query\n",
      "inserted  Jimmy Choo  by  Shyne  with songid  42265  to Mongo!!\n",
      "inserted  Lay Back  by  Rick Ross  with songid  40221  to Mongo!!\n",
      "inserted  Work (Remix)  by  A$AP Ferg  with songid  151327  to Mongo!!\n",
      "calling artistid:  1\n",
      "successful request!\n",
      "artist name:  Cam'ron\n",
      "calling albumid:  21617\n",
      "successful request!\n",
      "album name:  Dreams and Nightmares\n",
      "calling other:  https://api.genius.com/songs/2263716\n",
      "inserted  R.I.C.O.  by  Meek Mill  with songid  2024226  to Mongo!!\n",
      "calling albumid:  80251\n",
      "successful request!\n",
      "album name:  Stop The Clocks\n",
      "calling albumid:  122913\n",
      "successful request!\n",
      "album name:  Time Flies... 1994–2009\n",
      "inserted  Supersonic  by  Oasis  with songid  327470  to Mongo!!\n",
      "already in Mongo... returning Mongo query\n",
      "inserted  Don't Worry, Be Happy  by  Bobby McFerrin  with songid  118064  to Mongo!!\n",
      "calling artistid:  1039\n",
      "successful request!\n",
      "artist name:  MC Hammer\n",
      "inserted  All Gold Everything  by  Trinidad James  with songid  95546  to Mongo!!\n",
      "inserted  Woo  by  Rihanna  with songid  2413931  to Mongo!!\n",
      "calling other:  https://api.genius.com/songs/2367\n",
      "inserted  No Scrubs  by  TLC  with songid  2365  to Mongo!!\n",
      "inserted  Bando  by  Migos  with songid  168255  to Mongo!!\n",
      "calling albumid:  118111\n",
      "successful request!\n",
      "album name:  Beast Mode\n",
      "inserted  EVOL [Tracklist + Cover Art]  by  Future  with songid  2417474  to Mongo!!\n",
      "inserted  Tappin' Out (Cashin' Out Freestyle)  by  XV  with songid  76103  to Mongo!!\n",
      "inserted  ZooWap  by  Fetty Wap  with songid  496456  to Mongo!!\n",
      "calling albumid:  2627\n",
      "successful request!\n",
      "album name:  So Far Gone\n",
      "calling other:  https://api.genius.com/songs/601816\n",
      "calling other:  https://api.genius.com/songs/486\n",
      "calling other:  https://api.genius.com/songs/2263716\n",
      "calling other:  https://api.genius.com/songs/2263716\n",
      "calling artistid:  25561\n",
      "successful request!\n",
      "artist name:  Tinashe\n",
      "calling artistid:  223\n",
      "successful request!\n",
      "artist name:  Common\n",
      "inserted  Back to Back  by  Drake  with songid  2266961  to Mongo!!\n",
      "inserted  ...Baby One More Time  by  Britney Spears  with songid  78169  to Mongo!!\n",
      "calling albumid:  11144\n",
      "successful request!\n",
      "album name:  House of Balloons\n",
      "calling other:  https://api.genius.com/songs/212522\n",
      "calling other:  https://api.genius.com/songs/2273462\n",
      "inserted  Girls Born in the 90's  by  The Weeknd  with songid  1913178  to Mongo!!\n",
      "calling artistid:  2057\n",
      "successful request!\n",
      "artist name:  Hoodie Allen\n",
      "inserted  Lady Killers  by  G-Eazy  with songid  88378  to Mongo!!\n",
      "inserted  Make Me Proud  by  Drake  with songid  57183  to Mongo!!\n",
      "calling albumid:  10943\n",
      "successful request!\n",
      "album name:  The Come Up Vol. 1\n",
      "calling other:  https://api.genius.com/songs/608409\n",
      "inserted  Intro (2014 Forest Hills Drive)  by  J. Cole  with songid  599395  to Mongo!!\n",
      "calling other:  https://api.genius.com/songs/4149\n",
      "calling albumid:  11218\n",
      "successful request!\n",
      "album name:  We the Best Forever\n",
      "calling artistid:  158\n",
      "successful request!\n",
      "artist name:  DJ Khaled\n",
      "inserted  I'm On One  by  DJ Khaled  with songid  50025  to Mongo!!\n",
      "calling other:  https://api.genius.com/songs/212756\n",
      "inserted  Don't Worry About the Government  by  Talking Heads  with songid  75115  to Mongo!!\n",
      "calling albumid:  33704\n",
      "successful request!\n",
      "album name:  Kiss Land \n",
      "calling artistid:  835\n",
      "successful request!\n",
      "artist name:  Michael Jackson\n",
      "inserted  In the Night  by  The Weeknd  with songid  729457  to Mongo!!\n",
      "inserted  Random  by  G-Eazy  with songid  2293108  to Mongo!!\n",
      "inserted  Cola  by  Toro Y Moi  with songid  106362  to Mongo!!\n",
      "inserted  Rich Is Gangsta  by  Rick Ross  with songid  365947  to Mongo!!\n",
      "inserted  I Luv This Shit  by  August Alsina  with songid  118141  to Mongo!!\n",
      "calling artistid:  224\n",
      "successful request!\n",
      "artist name:  J Dilla\n",
      "calling artistid:  2092\n",
      "successful request!\n",
      "artist name:  Quasimoto\n",
      "inserted  Here We Go (Live at the Funhouse)  by  Run-D.M.C.  with songid  40840  to Mongo!!\n",
      "calling other:  https://api.genius.com/songs/665714\n",
      "calling artistid:  49470\n",
      "successful request!\n",
      "artist name:  DJ Esco\n",
      "calling artistid:  27648\n",
      "successful request!\n",
      "artist name:  Will-A-Fool\n",
      "inserted  My Savages  by  Future  with songid  558143  to Mongo!!\n",
      "inserted  Ice Cream Paint Job  by  Dorrough  with songid  17807  to Mongo!!\n",
      "inserted  Hood Billionaire Tracklist  by  Rick Ross  with songid  535442  to Mongo!!\n",
      "calling other:  https://api.genius.com/songs/6169\n",
      "inserted  Often  by  The Weeknd  with songid  460183  to Mongo!!\n",
      "inserted  Merry Xmas  by  Fetty Wap  with songid  2390938  to Mongo!!\n",
      "calling other:  https://api.genius.com/songs/559003\n",
      "calling artistid:  1630\n",
      "successful request!\n",
      "artist name:  Ciara\n",
      "inserted  Fuck Up Some Commas  by  Future  with songid  559003  to Mongo!!\n",
      "calling artistid:  38842\n",
      "successful request!\n",
      "artist name:  Bones\n",
      "calling artistid:  48326\n",
      "successful request!\n",
      "artist name:  Yung Lean\n",
      "calling artistid:  12229\n",
      "successful request!\n",
      "artist name:  SpaceGhostPurrp\n",
      "calling other:  https://api.genius.com/songs/72235\n",
      "inserted  Pray 4 Love  by  Travis Scott  with songid  2291102  to Mongo!!\n",
      "inserted  Tell Me When to Go  by  E-40  with songid  2468  to Mongo!!\n",
      "inserted  Trap Gurl  by  Gucci Mane  with songid  21929  to Mongo!!\n",
      "inserted  The Hills  by  The Weeknd  with songid  727466  to Mongo!!\n",
      "already in Mongo... returning Mongo query\n",
      "inserted  In The Mornin'  by  J. Cole  with songid  949  to Mongo!!\n",
      "inserted  Champion  by  Nicki Minaj  with songid  69579  to Mongo!!\n",
      "calling other:  https://api.genius.com/songs/587392\n",
      "calling artistid:  308\n",
      "successful request!\n",
      "artist name:  Naughty By Nature\n",
      "calling artistid:  308\n",
      "successful request!\n",
      "artist name:  Naughty By Nature\n",
      "inserted  Pump Pump  by  Snoop Dogg  with songid  42956  to Mongo!!\n",
      "calling albumid:  2625\n",
      "successful request!\n",
      "album name:  Room for Improvement\n",
      "calling albumid:  2627\n",
      "successful request!\n",
      "album name:  So Far Gone\n",
      "calling albumid:  2627\n",
      "successful request!\n",
      "album name:  So Far Gone\n",
      "calling artistid:  2444\n",
      "successful request!\n",
      "artist name:  Pimp C\n",
      "calling artistid:  3526\n",
      "successful request!\n",
      "artist name:  C-Murder\n",
      "inserted  No New Friends  by  DJ Khaled  with songid  140752  to Mongo!!\n",
      "inserted  Houstatlantavegas  by  Drake  with songid  1016  to Mongo!!\n",
      "inserted  In The Meantime  by  Tinashe  with songid  494038  to Mongo!!\n",
      "inserted  B Boy  by  Meek Mill  with songid  693724  to Mongo!!\n",
      "calling artistid:  401\n",
      "successful request!\n",
      "artist name:  UGK\n",
      "calling artistid:  2444\n",
      "successful request!\n",
      "artist name:  Pimp C\n",
      "calling artistid:  2444\n",
      "successful request!\n",
      "artist name:  Pimp C\n",
      "inserted  Under Ground Kings  by  Drake  with songid  58340  to Mongo!!\n",
      "inserted  From Time  by  Drake  with songid  217270  to Mongo!!\n",
      "inserted  Zoovier (Remix)  by  Fetty Wap  with songid  1800164  to Mongo!!\n",
      "already in Mongo... returning Mongo query\n",
      "inserted  One Love  by  Whodini  with songid  47702  to Mongo!!\n",
      "inserted  Three Little Birds  by  Bob Marley & The Wailers  with songid  58349  to Mongo!!\n",
      "inserted  Cashin' Out (Freestyle)  by  Juelz Santana  with songid  73198  to Mongo!!\n",
      "inserted  Moment 4 Life  by  Nicki Minaj  with songid  2045  to Mongo!!\n",
      "calling artistid:  357\n",
      "successful request!\n",
      "artist name:  Justin Bieber\n",
      "calling albumid:  109774\n",
      "successful request!\n",
      "album name:  Ransom\n",
      "inserted  Paradise  by  Big Sean  with songid  517621  to Mongo!!\n",
      "calling artistid:  105\n",
      "successful request!\n",
      "artist name:  Outkast\n",
      "inserted  LAnd of the Snakes  by  J. Cole  with songid  164344  to Mongo!!\n",
      "already in Mongo... returning Mongo query\n",
      "calling albumid:  21737\n",
      "successful request!\n",
      "album name:  Trilogy \n",
      "calling albumid:  33704\n",
      "successful request!\n",
      "album name:  Kiss Land \n",
      "calling albumid:  118063\n",
      "successful request!\n",
      "album name:  Original Motion Picture Soundtrack\n",
      "inserted  Earned It  by  The Weeknd  with songid  639914  to Mongo!!\n",
      "calling artistid:  2035\n",
      "successful request!\n",
      "artist name:  G-Unit\n",
      "inserted  The Plug  by  G-Unit  with songid  505193  to Mongo!!\n"
     ]
    }
   ],
   "source": [
    "for x in total_unannotated:\n",
    "    try:\n",
    "        annotated = annotate_song(x)\n",
    "        s.insert_one(annotated)\n",
    "        print \"inserted \", annotated['title'], \" by \", annotated['artist'], \" with songid \", x, \" to Mongo!!\"\n",
    "    except:\n",
    "        failed_insertion.append(x)"
   ]
  },
  {
   "cell_type": "code",
   "execution_count": 31,
   "metadata": {
    "collapsed": false
   },
   "outputs": [],
   "source": [
    "success = [x for x in total_unannotated if x not in failed_insertion]"
   ]
  },
  {
   "cell_type": "code",
   "execution_count": 36,
   "metadata": {
    "collapsed": true
   },
   "outputs": [],
   "source": [
    "elem = str(success[0])"
   ]
  },
  {
   "cell_type": "code",
   "execution_count": 40,
   "metadata": {
    "collapsed": false
   },
   "outputs": [
    {
     "data": {
      "text/plain": [
       "'140800'"
      ]
     },
     "execution_count": 40,
     "metadata": {},
     "output_type": "execute_result"
    }
   ],
   "source": [
    "elem"
   ]
  },
  {
   "cell_type": "code",
   "execution_count": 53,
   "metadata": {
    "collapsed": false
   },
   "outputs": [
    {
     "data": {
      "text/plain": [
       "{u'_id': ObjectId('56f046e989574207d310eeb5'),\n",
       " u'album': {u'id': 6336, u'name': u'Loud'},\n",
       " u'artist': u'Rihanna',\n",
       " u'artist_id': 89,\n",
       " u'description_refs': {},\n",
       " u'featured_artists': [{u'artist': u'Drake', u'id': 130}],\n",
       " u'id': 1812,\n",
       " u'producers': [{u'artist': u'StarGate', u'id': 27578}],\n",
       " u'references': {u'other': [{u'id': u'672', u'title': u'Best I Ever Had'}],\n",
       "  u'song': [{u'artist': u\"Destiny's Child\",\n",
       "    u'id': 140800,\n",
       "    u'title': u'Say My Name'}],\n",
       "  u'song_unannotated': [{u'id': u'140800'}]},\n",
       " u'title': u\"What's My Name?\",\n",
       " u'writers': [{u'artist': u'Ester Dean', u'id': 7672},\n",
       "  {u'artist': u'Traci Hale', u'id': 648546},\n",
       "  {u'artist': u'Drake', u'id': 130},\n",
       "  {u'artist': u'StarGate', u'id': 27578}]}"
      ]
     },
     "execution_count": 53,
     "metadata": {},
     "output_type": "execute_result"
    }
   ],
   "source": [
    "s.find({'references.song_unannotated': {'$elemMatch':{'id':elem}}}).next()"
   ]
  },
  {
   "cell_type": "code",
   "execution_count": 50,
   "metadata": {
    "collapsed": false
   },
   "outputs": [
    {
     "data": {
      "text/plain": [
       "<pymongo.results.UpdateResult at 0x102e52190>"
      ]
     },
     "execution_count": 50,
     "metadata": {},
     "output_type": "execute_result"
    }
   ],
   "source": [
    "s.update_one({'id': 1812}, \n",
    "             {'$unset': {'references.song': ''}})"
   ]
  },
  {
   "cell_type": "code",
   "execution_count": 47,
   "metadata": {
    "collapsed": false
   },
   "outputs": [],
   "source": [
    "destiny = s.find({'id':float(elem)}).next()"
   ]
  },
  {
   "cell_type": "code",
   "execution_count": 48,
   "metadata": {
    "collapsed": true
   },
   "outputs": [],
   "source": [
    "to_insert = {'id':destiny['id'], 'artist':destiny['artist'], 'title':destiny['title']}"
   ]
  },
  {
   "cell_type": "code",
   "execution_count": 49,
   "metadata": {
    "collapsed": false
   },
   "outputs": [
    {
     "data": {
      "text/plain": [
       "{'artist': u\"Destiny's Child\", 'id': 140800, 'title': u'Say My Name'}"
      ]
     },
     "execution_count": 49,
     "metadata": {},
     "output_type": "execute_result"
    }
   ],
   "source": [
    "to_insert"
   ]
  },
  {
   "cell_type": "code",
   "execution_count": 52,
   "metadata": {
    "collapsed": false
   },
   "outputs": [
    {
     "data": {
      "text/plain": [
       "<pymongo.results.UpdateResult at 0x1034bb050>"
      ]
     },
     "execution_count": 52,
     "metadata": {},
     "output_type": "execute_result"
    }
   ],
   "source": [
    "s.update_one({'id': 1812}, \n",
    "             {'$addToSet': {'references.song': to_insert}})"
   ]
  },
  {
   "cell_type": "code",
   "execution_count": 54,
   "metadata": {
    "collapsed": false
   },
   "outputs": [
    {
     "data": {
      "text/plain": [
       "'140800'"
      ]
     },
     "execution_count": 54,
     "metadata": {},
     "output_type": "execute_result"
    }
   ],
   "source": [
    "elem"
   ]
  },
  {
   "cell_type": "code",
   "execution_count": 55,
   "metadata": {
    "collapsed": false
   },
   "outputs": [
    {
     "data": {
      "text/plain": [
       "<pymongo.results.UpdateResult at 0x1034bb370>"
      ]
     },
     "execution_count": 55,
     "metadata": {},
     "output_type": "execute_result"
    }
   ],
   "source": [
    "s.update_one({'id': 1812},\n",
    "            {'$pull':{'references.song_unannotated':{'id':elem}}})"
   ]
  },
  {
   "cell_type": "code",
   "execution_count": 57,
   "metadata": {
    "collapsed": false
   },
   "outputs": [
    {
     "data": {
      "text/plain": [
       "{u'_id': ObjectId('56f046e989574207d310eeb5'),\n",
       " u'album': {u'id': 6336, u'name': u'Loud'},\n",
       " u'artist': u'Rihanna',\n",
       " u'artist_id': 89,\n",
       " u'description_refs': {},\n",
       " u'featured_artists': [{u'artist': u'Drake', u'id': 130}],\n",
       " u'id': 1812,\n",
       " u'producers': [{u'artist': u'StarGate', u'id': 27578}],\n",
       " u'references': {u'other': [{u'id': u'672', u'title': u'Best I Ever Had'}],\n",
       "  u'song': [{u'artist': u\"Destiny's Child\",\n",
       "    u'id': 140800,\n",
       "    u'title': u'Say My Name'}],\n",
       "  u'song_unannotated': []},\n",
       " u'title': u\"What's My Name?\",\n",
       " u'writers': [{u'artist': u'Ester Dean', u'id': 7672},\n",
       "  {u'artist': u'Traci Hale', u'id': 648546},\n",
       "  {u'artist': u'Drake', u'id': 130},\n",
       "  {u'artist': u'StarGate', u'id': 27578}]}"
      ]
     },
     "execution_count": 57,
     "metadata": {},
     "output_type": "execute_result"
    }
   ],
   "source": [
    "s.find({'$and':[{'id':1812}, {'references.song_unannotated':[]}]}).next()"
   ]
  },
  {
   "cell_type": "code",
   "execution_count": 59,
   "metadata": {
    "collapsed": false
   },
   "outputs": [
    {
     "data": {
      "text/plain": [
       "<pymongo.results.UpdateResult at 0x1034bb410>"
      ]
     },
     "execution_count": 59,
     "metadata": {},
     "output_type": "execute_result"
    }
   ],
   "source": [
    "s.update_one({'$and':[{'id':1812}, {'references.song_unannotated':[]}]},\n",
    "            {'$unset': {'references.song_unannotated':''}})"
   ]
  },
  {
   "cell_type": "code",
   "execution_count": 61,
   "metadata": {
    "collapsed": false
   },
   "outputs": [
    {
     "data": {
      "text/plain": [
       "{u'_id': ObjectId('56f046e989574207d310eeb5'),\n",
       " u'album': {u'id': 6336, u'name': u'Loud'},\n",
       " u'artist': u'Rihanna',\n",
       " u'artist_id': 89,\n",
       " u'description_refs': {},\n",
       " u'featured_artists': [{u'artist': u'Drake', u'id': 130}],\n",
       " u'id': 1812,\n",
       " u'producers': [{u'artist': u'StarGate', u'id': 27578}],\n",
       " u'references': {u'other': [{u'id': u'672', u'title': u'Best I Ever Had'}],\n",
       "  u'song': [{u'artist': u\"Destiny's Child\",\n",
       "    u'id': 140800,\n",
       "    u'title': u'Say My Name'}]},\n",
       " u'title': u\"What's My Name?\",\n",
       " u'writers': [{u'artist': u'Ester Dean', u'id': 7672},\n",
       "  {u'artist': u'Traci Hale', u'id': 648546},\n",
       "  {u'artist': u'Drake', u'id': 130},\n",
       "  {u'artist': u'StarGate', u'id': 27578}]}"
      ]
     },
     "execution_count": 61,
     "metadata": {},
     "output_type": "execute_result"
    }
   ],
   "source": [
    "s.find({'id':1812}).next()"
   ]
  },
  {
   "cell_type": "code",
   "execution_count": 66,
   "metadata": {
    "collapsed": false
   },
   "outputs": [
    {
     "data": {
      "text/plain": [
       "140800"
      ]
     },
     "execution_count": 66,
     "metadata": {},
     "output_type": "execute_result"
    }
   ],
   "source": [
    "success[0]"
   ]
  },
  {
   "cell_type": "code",
   "execution_count": 67,
   "metadata": {
    "collapsed": true
   },
   "outputs": [],
   "source": [
    "def update_annotations(songs):\n",
    "    for songid in songs:\n",
    "        try:\n",
    "            thesong = s.find({'id':songid}).next()\n",
    "            songstr = str(songid)\n",
    "            to_insert = {'id':songid, 'artist':thesong['artist'], 'title':thesong['title']}\n",
    "            s.update_many({'references.song_unannotated': {'$elemMatch':{'id':songstr}}}, \n",
    "             {'$addToSet': {'references.song': to_insert}})\n",
    "            s.update_many({'description_refs.song_unannotated': {'$elemMatch':{'id':songstr}}}, \n",
    "             {'$addToSet': {'description_refs.song': to_insert}})\n",
    "            s.update_many({'references.song_unannotated': {'$elemMatch':{'id':songstr}}}, \n",
    "             {'$pull': {'references.song_unannotated': songid}})\n",
    "            s.update_many({'description_refs.song_unannotated': {'$elemMatch':{'id':songstr}}}, \n",
    "             {'$pull': {'description_refs.song_unannotated': songid}})\n",
    "            s.update_many({'references.song_unannotated':[]},\n",
    "                         {'$unset': {'references.song_unannotated':''}})\n",
    "            s.update_many({'description_refs.song_unannotated':[]},\n",
    "                         {'$unset': {'description_refs.song_unannotated':''}})\n",
    "        except:\n",
    "            print \"unable to update: \", songid\n",
    "            continue"
   ]
  },
  {
   "cell_type": "code",
   "execution_count": 69,
   "metadata": {
    "collapsed": false
   },
   "outputs": [],
   "source": [
    "songid = success[0]\n",
    "try:\n",
    "    thesong = s.find({'id':songid}).next()\n",
    "    songstr = str(songid)\n",
    "    to_insert = {'id':songid, 'artist':thesong['artist'], 'title':thesong['title']}\n",
    "    s.update_many({'references.song_unannotated': {'$elemMatch':{'id':songstr}}}, \n",
    "     {'$addToSet': {'references.song': to_insert}})\n",
    "    s.update_many({'description_refs.song_unannotated': {'$elemMatch':{'id':songstr}}}, \n",
    "     {'$addToSet': {'description_refs.song': to_insert}})\n",
    "    s.update_many({'references.song_unannotated': {'$elemMatch':{'id':songstr}}}, \n",
    "     {'$pull': {'references.song_unannotated': songid}})\n",
    "    s.update_many({'description_refs.song_unannotated': {'$elemMatch':{'id':songstr}}}, \n",
    "     {'$pull': {'description_refs.song_unannotated': songid}})\n",
    "    s.update_many({'references.song_unannotated':[]},\n",
    "                 {'$unset': {'references.song_unannotated':''}})\n",
    "    s.update_many({'description_refs.song_unannotated':[]},\n",
    "                 {'$unset': {'description_refs.song_unannotated':''}})\n",
    "except:\n",
    "    print \"unable to update: \", songid"
   ]
  },
  {
   "cell_type": "code",
   "execution_count": 70,
   "metadata": {
    "collapsed": true
   },
   "outputs": [],
   "source": [
    "update_annotations(success)"
   ]
  },
  {
   "cell_type": "code",
   "execution_count": 72,
   "metadata": {
    "collapsed": false
   },
   "outputs": [],
   "source": [
    "sampled_songs = list(s.find({'sampling_songs':{ '$exists': 'true', '$ne': [] }}, \\\n",
    "                            {'sampling_songs':1, '_id':0}))"
   ]
  },
  {
   "cell_type": "code",
   "execution_count": 82,
   "metadata": {
    "collapsed": false
   },
   "outputs": [],
   "source": [
    "for samp in sampled_songs:\n",
    "    for w in samp:\n",
    "        for song in samp[w]:\n",
    "            sampling_songs.append(song['id'])"
   ]
  },
  {
   "cell_type": "code",
   "execution_count": 83,
   "metadata": {
    "collapsed": false
   },
   "outputs": [
    {
     "name": "stdout",
     "output_type": "stream",
     "text": [
      "before removing existing:  20\n",
      "after removing existing:  17\n"
     ]
    }
   ],
   "source": [
    "print \"before removing existing: \", len(sampling_songs)\n",
    "for songid in sampling_songs:\n",
    "    if s.find({'id':songid}).count() > 0:\n",
    "        sampling_songs.remove(songid)\n",
    "print \"after removing existing: \", len(sampling_songs)"
   ]
  },
  {
   "cell_type": "code",
   "execution_count": 84,
   "metadata": {
    "collapsed": false
   },
   "outputs": [
    {
     "name": "stdout",
     "output_type": "stream",
     "text": [
      "11\n"
     ]
    }
   ],
   "source": [
    "print len(sampled_songs)"
   ]
  },
  {
   "cell_type": "code",
   "execution_count": null,
   "metadata": {
    "collapsed": true
   },
   "outputs": [],
   "source": []
  }
 ],
 "metadata": {
  "kernelspec": {
   "display_name": "Python 2",
   "language": "python",
   "name": "python2"
  },
  "language_info": {
   "codemirror_mode": {
    "name": "ipython",
    "version": 2
   },
   "file_extension": ".py",
   "mimetype": "text/x-python",
   "name": "python",
   "nbconvert_exporter": "python",
   "pygments_lexer": "ipython2",
   "version": "2.7.11"
  }
 },
 "nbformat": 4,
 "nbformat_minor": 0
}
