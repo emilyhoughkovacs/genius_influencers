{
 "cells": [
  {
   "cell_type": "code",
   "execution_count": 1,
   "metadata": {
    "collapsed": true
   },
   "outputs": [],
   "source": [
    "from requests_oauthlib import OAuth2Session\n",
    "import requests\n",
    "import cnfg"
   ]
  },
  {
   "cell_type": "code",
   "execution_count": 2,
   "metadata": {
    "collapsed": true
   },
   "outputs": [],
   "source": [
    "import json"
   ]
  },
  {
   "cell_type": "code",
   "execution_count": 3,
   "metadata": {
    "collapsed": true
   },
   "outputs": [],
   "source": [
    "config = cnfg.load(\".genius_config\")"
   ]
  },
  {
   "cell_type": "code",
   "execution_count": 4,
   "metadata": {
    "collapsed": true
   },
   "outputs": [],
   "source": [
    "client_key = config[\"client_key\"]\n",
    "client_secret = config[\"client_secret\"]\n",
    "access_token = '8lrNnkLfaLu4DJNzBI5Lo1j3_N4oLJRs09YLz0XkNELUAjDTXfvZIhnZurxUMamI'\n",
    "redirect_uri = \"/\"\n",
    "scope = []\n",
    "authorization_base_url = 'https://genius.com/login/oauth/authorize'\n",
    "token_url = 'https://api.genius.com/oauth/token'"
   ]
  },
  {
   "cell_type": "code",
   "execution_count": 5,
   "metadata": {
    "collapsed": true
   },
   "outputs": [],
   "source": [
    "hea = 'Bearer ' + access_token"
   ]
  },
  {
   "cell_type": "code",
   "execution_count": 23,
   "metadata": {
    "collapsed": false
   },
   "outputs": [
    {
     "data": {
      "text/plain": [
       "'Bearer 8lrNnkLfaLu4DJNzBI5Lo1j3_N4oLJRs09YLz0XkNELUAjDTXfvZIhnZurxUMamI'"
      ]
     },
     "execution_count": 23,
     "metadata": {},
     "output_type": "execute_result"
    }
   ],
   "source": [
    "hea"
   ]
  },
  {
   "cell_type": "code",
   "execution_count": 18,
   "metadata": {
    "collapsed": false
   },
   "outputs": [],
   "source": [
    "req = 'https://api.genius.com/web_pages/lookup?raw_annotatable_url=http://genius.com/Kid-ink-promise-lyrics'"
   ]
  },
  {
   "cell_type": "code",
   "execution_count": 19,
   "metadata": {
    "collapsed": false
   },
   "outputs": [
    {
     "data": {
      "text/plain": [
       "'https://api.genius.com/web_pages/lookup?raw_annotatable_url=http://genius.com/Kid-ink-promise-lyrics'"
      ]
     },
     "execution_count": 19,
     "metadata": {},
     "output_type": "execute_result"
    }
   ],
   "source": [
    "req"
   ]
  },
  {
   "cell_type": "code",
   "execution_count": 29,
   "metadata": {
    "collapsed": true
   },
   "outputs": [],
   "source": [
    "req2 = 'https://api.genius.com/web_pages/lookup?canoncial_url=http://genius.com/Kid-ink-promise-lyrics'"
   ]
  },
  {
   "cell_type": "code",
   "execution_count": 32,
   "metadata": {
    "collapsed": false
   },
   "outputs": [
    {
     "data": {
      "text/plain": [
       "'https://api.genius.com/web_pages/lookup?canoncial_url=http://genius.com/Kid-ink-promise-lyrics'"
      ]
     },
     "execution_count": 32,
     "metadata": {},
     "output_type": "execute_result"
    }
   ],
   "source": [
    "req2"
   ]
  },
  {
   "cell_type": "code",
   "execution_count": 20,
   "metadata": {
    "collapsed": false
   },
   "outputs": [],
   "source": [
    "r = requests.get(req, headers={'Authorization':hea})"
   ]
  },
  {
   "cell_type": "code",
   "execution_count": 21,
   "metadata": {
    "collapsed": false
   },
   "outputs": [
    {
     "data": {
      "text/plain": [
       "200"
      ]
     },
     "execution_count": 21,
     "metadata": {},
     "output_type": "execute_result"
    }
   ],
   "source": [
    "r.status_code"
   ]
  },
  {
   "cell_type": "code",
   "execution_count": 30,
   "metadata": {
    "collapsed": false
   },
   "outputs": [],
   "source": [
    "q = requests.get(req2, headers={'Authorization':hea})"
   ]
  },
  {
   "cell_type": "code",
   "execution_count": 31,
   "metadata": {
    "collapsed": false
   },
   "outputs": [
    {
     "data": {
      "text/plain": [
       "404"
      ]
     },
     "execution_count": 31,
     "metadata": {},
     "output_type": "execute_result"
    }
   ],
   "source": [
    "q.status_code"
   ]
  },
  {
   "cell_type": "code",
   "execution_count": 22,
   "metadata": {
    "collapsed": false
   },
   "outputs": [
    {
     "data": {
      "text/plain": [
       "{u'meta': {u'status': 200},\n",
       " u'response': {u'web_page': {u'annotation_count': 0,\n",
       "   u'domain': u'genius.com',\n",
       "   u'id': None,\n",
       "   u'normalized_url': u'//genius.com/Kid-ink-promise-lyrics',\n",
       "   u'share_url': u'http://genius.it/genius.com/Kid-ink-promise-lyrics',\n",
       "   u'title': u'genius.com',\n",
       "   u'url': u'http://genius.com/genius.com/Kid-ink-promise-lyrics'}}}"
      ]
     },
     "execution_count": 22,
     "metadata": {},
     "output_type": "execute_result"
    }
   ],
   "source": [
    "json.loads(r.content)"
   ]
  },
  {
   "cell_type": "code",
   "execution_count": 29,
   "metadata": {
    "collapsed": false
   },
   "outputs": [
    {
     "data": {
      "text/plain": [
       "'{\"meta\":{\"status\":200},\"response\":{\"web_page\":{\"id\":10347,\"title\":\"Genius API\",\"normalized_url\":\"//docs.genius.com\",\"domain\":\"docs.genius.com\",\"url\":\"http://genius.com/docs.genius.com\",\"share_url\":\"http://genius.it/docs.genius.com\",\"annotation_count\":21}}}'"
      ]
     },
     "execution_count": 29,
     "metadata": {},
     "output_type": "execute_result"
    }
   ],
   "source": [
    "q.content"
   ]
  },
  {
   "cell_type": "code",
   "execution_count": 33,
   "metadata": {
    "collapsed": true
   },
   "outputs": [],
   "source": [
    "annotation = 'https://api.genius.com/annotations/8426730'"
   ]
  },
  {
   "cell_type": "code",
   "execution_count": 34,
   "metadata": {
    "collapsed": true
   },
   "outputs": [],
   "source": [
    "a = requests.get(annotation, headers={'Authorization':hea})"
   ]
  },
  {
   "cell_type": "code",
   "execution_count": 35,
   "metadata": {
    "collapsed": false
   },
   "outputs": [
    {
     "data": {
      "text/plain": [
       "200"
      ]
     },
     "execution_count": 35,
     "metadata": {},
     "output_type": "execute_result"
    }
   ],
   "source": [
    "a.status_code"
   ]
  },
  {
   "cell_type": "code",
   "execution_count": 37,
   "metadata": {
    "collapsed": false
   },
   "outputs": [],
   "source": [
    "annojson = json.loads(a.content)"
   ]
  },
  {
   "cell_type": "code",
   "execution_count": 73,
   "metadata": {
    "collapsed": true
   },
   "outputs": [],
   "source": [
    "from urlparse import urlparse"
   ]
  },
  {
   "cell_type": "code",
   "execution_count": 78,
   "metadata": {
    "collapsed": false
   },
   "outputs": [
    {
     "name": "stdout",
     "output_type": "stream",
     "text": [
      "http://genius.com/mecha/Fetty-wap-my-way-lyrics\n"
     ]
    }
   ],
   "source": [
    "for note in annojson['response']['annotation']['body']['dom']['children']:\n",
    "    if 'children' in note:\n",
    "        for element in note['children']:\n",
    "            if 'attributes' in element:\n",
    "                if 'href' in element['attributes']:\n",
    "                    if urlparse(element['attributes']['href']).netloc == 'genius.com':\n",
    "                        print element['attributes']['href']"
   ]
  },
  {
   "cell_type": "code",
   "execution_count": 84,
   "metadata": {
    "collapsed": false
   },
   "outputs": [],
   "source": [
    "fetty_song_id = annojson['response']['referent']['song_id']"
   ]
  },
  {
   "cell_type": "code",
   "execution_count": 233,
   "metadata": {
    "collapsed": true
   },
   "outputs": [],
   "source": [
    "req_start = 'https://api.genius.com'"
   ]
  },
  {
   "cell_type": "code",
   "execution_count": 87,
   "metadata": {
    "collapsed": false
   },
   "outputs": [],
   "source": [
    "fetty_song_req = req_start+'/songs/'+str(fetty_song_id)"
   ]
  },
  {
   "cell_type": "code",
   "execution_count": 88,
   "metadata": {
    "collapsed": true
   },
   "outputs": [],
   "source": [
    "fetty_request = requests.get(fetty_song_req, headers={'Authorization':hea})"
   ]
  },
  {
   "cell_type": "code",
   "execution_count": 90,
   "metadata": {
    "collapsed": false
   },
   "outputs": [],
   "source": [
    "fetty_song = json.loads(fetty_request.content)"
   ]
  },
  {
   "cell_type": "code",
   "execution_count": 91,
   "metadata": {
    "collapsed": false
   },
   "outputs": [
    {
     "data": {
      "text/plain": [
       "{u'meta': {u'status': 200},\n",
       " u'response': {u'song': {u'album': {u'api_path': u'/albums/140468',\n",
       "    u'artist': {u'id': 1631,\n",
       "     u'image_url': u'https://images.rapgenius.com/4a9c1cac13fd8ff32b97dee355a5cd05.500x214x21.gif',\n",
       "     u'iq': 2966.0,\n",
       "     u'is_verified': True,\n",
       "     u'name': u'Kid Ink',\n",
       "     u'url': u'http://genius.com/artists/Kid-ink'},\n",
       "    u'cover_art_url': u'https://images.rapgenius.com/c0aa03a655ce1263d1cf9dd0b975fc25.950x950x1.jpg',\n",
       "    u'id': 140468,\n",
       "    u'name': u'Summer In The Winter',\n",
       "    u'url': u'http://genius.com/albums/Kid-ink/Summer-in-the-winter'},\n",
       "   u'annotation_count': 1,\n",
       "   u'api_path': u'/songs/2396122',\n",
       "   u'current_user_metadata': {u'interactions': {u'following': False,\n",
       "     u'pyong': False},\n",
       "    u'permissions': [u'see_pageviews', u'watch_fact_track', u'create_comment'],\n",
       "    u'relationships': {}},\n",
       "   u'custom_performances': [],\n",
       "   u'description': {u'dom': {u'children': [{u'children': [u'On \\u201dPromise,\\u201d Kid Ink lets his girl know that he\\u2019s committed and Fetty Wap backs him up on the hook. The song is likely directed at Kid Ink\\u2019s fianc\\xe9e and girlfriend of ten years, ',\n",
       "        {u'attributes': {u'href': u'https://www.instagram.com/asiiah/?hl=en',\n",
       "          u'rel': u'nofollow'},\n",
       "         u'children': [u'Asiah Azante'],\n",
       "         u'tag': u'a'},\n",
       "        u'.'],\n",
       "       u'tag': u'p'},\n",
       "      u'',\n",
       "      {u'children': [u'DJ Mustard is on production duty for \\u201cPromise,\\u201d lending the track his signature bass-heavy, rachet flair.'],\n",
       "       u'tag': u'p'},\n",
       "      u'',\n",
       "      {u'children': [u'\\u201dPromise\\u201d is off Kid Ink\\u2019s fourth studio album ',\n",
       "        {u'attributes': {u'href': u'http://genius.com/albums/Kid-ink/Summer-in-the-winter'},\n",
       "         u'children': [{u'children': [u'Summer in the Winter'],\n",
       "           u'tag': u'em'}],\n",
       "         u'data': {u'api_path': u'/albums/140468'},\n",
       "         u'tag': u'a'},\n",
       "        u', which he surprised his fans with on Christmas 2015\\u2014Mustard also served as executive producer for the album.'],\n",
       "       u'tag': u'p'}],\n",
       "     u'tag': u'root'}},\n",
       "   u'description_annotation': {u'annotatable': {u'api_path': u'/songs/2396122',\n",
       "     u'client_timestamps': {u'lyrics_updated_at': 1456519684,\n",
       "      u'updated_by_human_at': 1458080352},\n",
       "     u'id': 2396122,\n",
       "     u'link_title': u'Promise by\\xa0Kid\\xa0Ink (Ft.\\xa0Fetty\\xa0Wap)',\n",
       "     u'title': u'Promise',\n",
       "     u'type': u'Song',\n",
       "     u'url': u'http://genius.com/Kid-ink-promise-lyrics'},\n",
       "    u'annotations': [{u'authors': [{u'attribution': 0.6744186046511628,\n",
       "        u'user': {u'avatar': {u'medium': {u'bounding_box': {u'height': 400,\n",
       "            u'width': 300},\n",
       "           u'url': u'https://images.rapgenius.com/avatars/medium/9b1f1163725586c1815090a72e8027e0'},\n",
       "          u'thumb': {u'bounding_box': {u'height': 32, u'width': 32},\n",
       "           u'url': u'https://images.rapgenius.com/avatars/thumb/9b1f1163725586c1815090a72e8027e0'},\n",
       "          u'tiny': {u'bounding_box': {u'height': 16, u'width': 16},\n",
       "           u'url': u'https://images.rapgenius.com/avatars/tiny/9b1f1163725586c1815090a72e8027e0'}},\n",
       "         u'human_readable_role_for_display': u'Staff',\n",
       "         u'id': 1964677,\n",
       "         u'iq': 5405.35488334972,\n",
       "         u'login': u'CalHx',\n",
       "         u'name': u'CalHx',\n",
       "         u'role_for_display': u'regulator',\n",
       "         u'url': u'http://genius.com/CalHx'}},\n",
       "       {u'attribution': 0.3023255813953488,\n",
       "        u'user': {u'avatar': {u'medium': {u'bounding_box': {u'height': 400,\n",
       "            u'width': 300},\n",
       "           u'url': u'https://images.rapgenius.com/avatars/medium/79a00299f87f0526b3fa30dc5a7ea7b0'},\n",
       "          u'thumb': {u'bounding_box': {u'height': 32, u'width': 32},\n",
       "           u'url': u'https://images.rapgenius.com/avatars/thumb/79a00299f87f0526b3fa30dc5a7ea7b0'},\n",
       "          u'tiny': {u'bounding_box': {u'height': 16, u'width': 16},\n",
       "           u'url': u'https://images.rapgenius.com/avatars/tiny/79a00299f87f0526b3fa30dc5a7ea7b0'}},\n",
       "         u'human_readable_role_for_display': None,\n",
       "         u'id': 1758473,\n",
       "         u'iq': 365.393617427171,\n",
       "         u'login': u'ITeachYa',\n",
       "         u'name': u'ITeachYa',\n",
       "         u'role_for_display': None,\n",
       "         u'url': u'http://genius.com/ITeachYa'}},\n",
       "       {u'attribution': 0.023255813953488372,\n",
       "        u'user': {u'avatar': {u'medium': {u'bounding_box': {u'height': 400,\n",
       "            u'width': 300},\n",
       "           u'url': u'https://images.rapgenius.com/avatars/medium/fae65fdb981acb4255e2a7c9e9f4202e'},\n",
       "          u'thumb': {u'bounding_box': {u'height': 32, u'width': 32},\n",
       "           u'url': u'https://images.rapgenius.com/avatars/thumb/fae65fdb981acb4255e2a7c9e9f4202e'},\n",
       "          u'tiny': {u'bounding_box': {u'height': 16, u'width': 16},\n",
       "           u'url': u'https://images.rapgenius.com/avatars/tiny/fae65fdb981acb4255e2a7c9e9f4202e'}},\n",
       "         u'human_readable_role_for_display': u'Staff',\n",
       "         u'id': 343483,\n",
       "         u'iq': 9341.4684630282,\n",
       "         u'login': u'oppi',\n",
       "         u'name': u'Oppi',\n",
       "         u'role_for_display': u'regulator',\n",
       "         u'url': u'http://genius.com/oppi'}}],\n",
       "      u'body': {u'dom': {u'children': [{u'children': [u'On \\u201dPromise,\\u201d Kid Ink lets his girl know that he\\u2019s committed and Fetty Wap backs him up on the hook. The song is likely directed at Kid Ink\\u2019s fianc\\xe9e and girlfriend of ten years, ',\n",
       "           {u'attributes': {u'href': u'https://www.instagram.com/asiiah/?hl=en',\n",
       "             u'rel': u'nofollow'},\n",
       "            u'children': [u'Asiah Azante'],\n",
       "            u'tag': u'a'},\n",
       "           u'.'],\n",
       "          u'tag': u'p'},\n",
       "         u'',\n",
       "         {u'children': [u'DJ Mustard is on production duty for \\u201cPromise,\\u201d lending the track his signature bass-heavy, rachet flair.'],\n",
       "          u'tag': u'p'},\n",
       "         u'',\n",
       "         {u'children': [u'\\u201dPromise\\u201d is off Kid Ink\\u2019s fourth studio album ',\n",
       "           {u'attributes': {u'href': u'http://genius.com/albums/Kid-ink/Summer-in-the-winter'},\n",
       "            u'children': [{u'children': [u'Summer in the Winter'],\n",
       "              u'tag': u'em'}],\n",
       "            u'data': {u'api_path': u'/albums/140468'},\n",
       "            u'tag': u'a'},\n",
       "           u', which he surprised his fans with on Christmas 2015\\u2014Mustard also served as executive producer for the album.'],\n",
       "          u'tag': u'p'}],\n",
       "        u'tag': u'root'}},\n",
       "      u'comment_count': 0,\n",
       "      u'community': True,\n",
       "      u'cosigned_by': [],\n",
       "      u'current_user_metadata': {u'interactions': {u'cosign': False,\n",
       "        u'pyong': False,\n",
       "        u'vote': None},\n",
       "       u'permissions': [u'create_comment']},\n",
       "      u'id': 8426614,\n",
       "      u'pinned': False,\n",
       "      u'share_url': u'http://genius.com/8426614',\n",
       "      u'state': u'accepted',\n",
       "      u'url': u'http://genius.com/8426614/Kid-ink-promise/Promise',\n",
       "      u'verified': False,\n",
       "      u'verified_by': None,\n",
       "      u'votes_total': 10}],\n",
       "    u'annotator_id': 1758473,\n",
       "    u'annotator_login': u'ITeachYa',\n",
       "    u'api_path': u'/referents/8426614',\n",
       "    u'classification': u'accepted',\n",
       "    u'fragment': u'Promise',\n",
       "    u'id': 8426614,\n",
       "    u'is_description': True,\n",
       "    u'path': u'/8426614/Kid-ink-promise/Promise',\n",
       "    u'range': {u'content': u'Promise'},\n",
       "    u'song_id': 2396122,\n",
       "    u'url': u'http://genius.com/8426614/Kid-ink-promise/Promise',\n",
       "    u'verified_annotator_ids': []},\n",
       "   u'featured_artists': [{u'id': 216609,\n",
       "     u'image_url': u'https://images.rapgenius.com/cfdf0e6082f7216c2483b34c15420f43.700x393x1.jpg',\n",
       "     u'iq': 100.0,\n",
       "     u'is_verified': True,\n",
       "     u'name': u'Fetty Wap',\n",
       "     u'url': u'http://genius.com/artists/Fetty-wap'}],\n",
       "   u'full_title': u'Promise by\\xa0Kid\\xa0Ink (Ft.\\xa0Fetty\\xa0Wap)',\n",
       "   u'header_image_thumbnail_url': u'https://images.rapgenius.com/c0aa03a655ce1263d1cf9dd0b975fc25.300x300x1.jpg',\n",
       "   u'header_image_url': u'https://images.rapgenius.com/c0aa03a655ce1263d1cf9dd0b975fc25.950x950x1.jpg',\n",
       "   u'id': 2396122,\n",
       "   u'media': [{u'provider': u'youtube',\n",
       "     u'start': 0,\n",
       "     u'type': u'video',\n",
       "     u'url': u'http://www.youtube.com/watch?v=DE1NciB_gEU'},\n",
       "    {u'native_uri': u'spotify:track:5IZc3KIVFhjzJ0L2kiXzUl',\n",
       "     u'provider': u'spotify',\n",
       "     u'type': u'audio',\n",
       "     u'url': u'https://open.spotify.com/track/5IZc3KIVFhjzJ0L2kiXzUl'}],\n",
       "   u'path': u'/Kid-ink-promise-lyrics',\n",
       "   u'primary_artist': {u'id': 1631,\n",
       "    u'image_url': u'https://images.rapgenius.com/4a9c1cac13fd8ff32b97dee355a5cd05.500x214x21.gif',\n",
       "    u'iq': 2966.0,\n",
       "    u'is_verified': True,\n",
       "    u'name': u'Kid Ink',\n",
       "    u'url': u'http://genius.com/artists/Kid-ink'},\n",
       "   u'producer_artists': [{u'id': 29780,\n",
       "     u'image_url': u'https://images.rapgenius.com/43e11b81f0b543e77b0300f68df17da7.1000x667x1.jpg',\n",
       "     u'is_verified': False,\n",
       "     u'name': u'DJ Mustard',\n",
       "     u'url': u'http://genius.com/artists/Dj-mustard'}],\n",
       "   u'pyongs_count': 32,\n",
       "   u'recording_location': None,\n",
       "   u'release_date': u'2015-12-25',\n",
       "   u'sampled_songs': [],\n",
       "   u'sampling_songs': [],\n",
       "   u'song_art_image_url': u'https://images.rapgenius.com/c0aa03a655ce1263d1cf9dd0b975fc25.950x950x1.jpg',\n",
       "   u'stats': {u'accepted_annotations': 11,\n",
       "    u'concurrents': 21,\n",
       "    u'contributors': 22,\n",
       "    u'hot': False,\n",
       "    u'iq_earners': 21,\n",
       "    u'pageviews': 179398,\n",
       "    u'transcribers': 1,\n",
       "    u'unreviewed_annotations': 0,\n",
       "    u'verified_annotations': 0},\n",
       "   u'title': u'Promise',\n",
       "   u'url': u'http://genius.com/Kid-ink-promise-lyrics',\n",
       "   u'verified_annotations_by': [],\n",
       "   u'verified_lyrics_by': [],\n",
       "   u'writer_artists': []}}}"
      ]
     },
     "execution_count": 91,
     "metadata": {},
     "output_type": "execute_result"
    }
   ],
   "source": [
    "fetty_song"
   ]
  },
  {
   "cell_type": "code",
   "execution_count": 198,
   "metadata": {
    "collapsed": false
   },
   "outputs": [
    {
     "data": {
      "text/plain": [
       "2396122"
      ]
     },
     "execution_count": 198,
     "metadata": {},
     "output_type": "execute_result"
    }
   ],
   "source": [
    "fetty_song['response']['song']['id']"
   ]
  },
  {
   "cell_type": "code",
   "execution_count": 92,
   "metadata": {
    "collapsed": true
   },
   "outputs": [],
   "source": [
    "import pickle"
   ]
  },
  {
   "cell_type": "code",
   "execution_count": 102,
   "metadata": {
    "collapsed": true
   },
   "outputs": [],
   "source": [
    "def loadPickle(filename):\n",
    "    with open(filename, 'rb') as f:\n",
    "        data = pickle.load(f) \n",
    "        \n",
    "    return data"
   ]
  },
  {
   "cell_type": "code",
   "execution_count": 99,
   "metadata": {
    "collapsed": false
   },
   "outputs": [],
   "source": [
    "def dumpPickle(data, filename):\n",
    "    with open(filename, 'wb') as f:\n",
    "        pickle.dump(data, f)"
   ]
  },
  {
   "cell_type": "code",
   "execution_count": 100,
   "metadata": {
    "collapsed": false
   },
   "outputs": [],
   "source": [
    "dumpPickle(fetty_song, 'fetty_song.pkl')"
   ]
  },
  {
   "cell_type": "code",
   "execution_count": 105,
   "metadata": {
    "collapsed": true
   },
   "outputs": [],
   "source": [
    "dumpPickle(annojson, 'kid_ink_first_annotation.pkl')"
   ]
  },
  {
   "cell_type": "code",
   "execution_count": 122,
   "metadata": {
    "collapsed": false
   },
   "outputs": [
    {
     "data": {
      "text/plain": [
       "u'Summer In The Winter'"
      ]
     },
     "execution_count": 122,
     "metadata": {},
     "output_type": "execute_result"
    }
   ],
   "source": [
    "fetty_song['response']['song']['album']['name']"
   ]
  },
  {
   "cell_type": "code",
   "execution_count": null,
   "metadata": {
    "collapsed": true
   },
   "outputs": [],
   "source": []
  },
  {
   "cell_type": "code",
   "execution_count": 123,
   "metadata": {
    "collapsed": true
   },
   "outputs": [],
   "source": [
    "m = req_start+'/web_pages/lookup?raw_annotatable_url=http://genius.com/mecha/Fetty-wap-my-way-lyrics'"
   ]
  },
  {
   "cell_type": "code",
   "execution_count": 127,
   "metadata": {
    "collapsed": false
   },
   "outputs": [
    {
     "data": {
      "text/plain": [
       "'https://api.genius.com//web_pages/lookup?=raw_annotatable_url=http://genius.com/mecha/Fetty-wap-my-way-lyrics'"
      ]
     },
     "execution_count": 127,
     "metadata": {},
     "output_type": "execute_result"
    }
   ],
   "source": [
    "m"
   ]
  },
  {
   "cell_type": "code",
   "execution_count": 131,
   "metadata": {
    "collapsed": true
   },
   "outputs": [],
   "source": [
    "m = req_start+'/web_pages/lookup?raw_annotatable_url=http://genius.it/genius.com/mecha/Fetty-wap-my-way-lyrics'"
   ]
  },
  {
   "cell_type": "code",
   "execution_count": 134,
   "metadata": {
    "collapsed": true
   },
   "outputs": [],
   "source": [
    "m_song = req_start+'/songs/'+str(653082)"
   ]
  },
  {
   "cell_type": "code",
   "execution_count": 135,
   "metadata": {
    "collapsed": false
   },
   "outputs": [
    {
     "data": {
      "text/plain": [
       "'https://api.genius.com/songs/653082'"
      ]
     },
     "execution_count": 135,
     "metadata": {},
     "output_type": "execute_result"
    }
   ],
   "source": [
    "m_song"
   ]
  },
  {
   "cell_type": "code",
   "execution_count": 136,
   "metadata": {
    "collapsed": false
   },
   "outputs": [],
   "source": [
    "my_way = requests.get(m_song, headers={'Authorization':hea})"
   ]
  },
  {
   "cell_type": "code",
   "execution_count": 138,
   "metadata": {
    "collapsed": false
   },
   "outputs": [],
   "source": [
    "my_way_json = json.loads(my_way.content)"
   ]
  },
  {
   "cell_type": "code",
   "execution_count": 157,
   "metadata": {
    "collapsed": false
   },
   "outputs": [
    {
     "name": "stdout",
     "output_type": "stream",
     "text": [
      "none\n"
     ]
    }
   ],
   "source": [
    "if fetty_song['response']['song']['writer_artists']:\n",
    "    print fetty_song['response']['song']['writer_artists']\n",
    "else:\n",
    "    print \"none\""
   ]
  },
  {
   "cell_type": "code",
   "execution_count": 162,
   "metadata": {
    "collapsed": false,
    "scrolled": true
   },
   "outputs": [
    {
     "name": "stdout",
     "output_type": "stream",
     "text": [
      "http://genius.com/Fetty-wap-trap-queen-lyrics\n"
     ]
    }
   ],
   "source": [
    "for note in my_way_json['response']['song']['description']['dom']['children']:\n",
    "    if 'children' in note:\n",
    "        for element in note['children']:\n",
    "            if 'attributes' in element:\n",
    "                if 'href' in element['attributes']:\n",
    "                    if urlparse(element['attributes']['href']).netloc == 'genius.com':\n",
    "                        print element['attributes']['href']"
   ]
  },
  {
   "cell_type": "code",
   "execution_count": 163,
   "metadata": {
    "collapsed": true
   },
   "outputs": [],
   "source": [
    "links = ['http://genius.com/Fetty-wap-trap-queen-lyrics', 'http://genius.com/albums/Kid-ink/Summer-in-the-winter', 'http://genius.com/artists/Fettywap']"
   ]
  },
  {
   "cell_type": "code",
   "execution_count": 178,
   "metadata": {
    "collapsed": false
   },
   "outputs": [
    {
     "name": "stdout",
     "output_type": "stream",
     "text": [
      "http://genius.com/Fetty-wap-trap-queen-lyrics\n",
      "Kid ink\n",
      "r\n"
     ]
    }
   ],
   "source": [
    "for url in links:\n",
    "    parsed = urlparse(url)\n",
    "    if parsed.netloc=='genius.com':\n",
    "        path = parsed.path.split('/')[1]\n",
    "        if path == 'albums':\n",
    "            print ' '.join(parsed.path.split('/')[2].split('-'))\n",
    "        elif path == 'artists':\n",
    "            print ' '.join(path[1].split('-'))\n",
    "        elif path[-6:] == 'lyrics':\n",
    "            print url"
   ]
  },
  {
   "cell_type": "code",
   "execution_count": 179,
   "metadata": {
    "collapsed": false
   },
   "outputs": [
    {
     "data": {
      "text/plain": [
       "[{u'children': [u'On \\u201dPromise,\\u201d Kid Ink lets his girl know that he\\u2019s committed and Fetty Wap backs him up on the hook. The song is likely directed at Kid Ink\\u2019s fianc\\xe9e and girlfriend of ten years, ',\n",
       "   {u'attributes': {u'href': u'https://www.instagram.com/asiiah/?hl=en',\n",
       "     u'rel': u'nofollow'},\n",
       "    u'children': [u'Asiah Azante'],\n",
       "    u'tag': u'a'},\n",
       "   u'.'],\n",
       "  u'tag': u'p'},\n",
       " u'',\n",
       " {u'children': [u'DJ Mustard is on production duty for \\u201cPromise,\\u201d lending the track his signature bass-heavy, rachet flair.'],\n",
       "  u'tag': u'p'},\n",
       " u'',\n",
       " {u'children': [u'\\u201dPromise\\u201d is off Kid Ink\\u2019s fourth studio album ',\n",
       "   {u'attributes': {u'href': u'http://genius.com/albums/Kid-ink/Summer-in-the-winter'},\n",
       "    u'children': [{u'children': [u'Summer in the Winter'], u'tag': u'em'}],\n",
       "    u'data': {u'api_path': u'/albums/140468'},\n",
       "    u'tag': u'a'},\n",
       "   u', which he surprised his fans with on Christmas 2015\\u2014Mustard also served as executive producer for the album.'],\n",
       "  u'tag': u'p'}]"
      ]
     },
     "execution_count": 179,
     "metadata": {},
     "output_type": "execute_result"
    }
   ],
   "source": [
    "fetty_song['response']['song']['description']['dom']['children']"
   ]
  },
  {
   "cell_type": "code",
   "execution_count": 161,
   "metadata": {
    "collapsed": false
   },
   "outputs": [
    {
     "data": {
      "text/plain": [
       "[{u'children': [u'\\u201cMy Way\\u201d is another love banger in the same vein as Fetty Wap\\u2019s breakthrough hit ',\n",
       "   {u'attributes': {u'href': u'http://genius.com/Fetty-wap-trap-queen-lyrics'},\n",
       "    u'children': [u'\\u201cTrap Queen.\\u201d'],\n",
       "    u'data': {u'api_path': u'/songs/496445'},\n",
       "    u'tag': u'a'},\n",
       "   u' Throughout the song, Fetty Wap and Monty describe their excellence and what they\\u2019d do to get with the special girl.'],\n",
       "  u'tag': u'p'},\n",
       " u'',\n",
       " {u'children': [{u'attributes': {u'alt': u'',\n",
       "     u'height': 500,\n",
       "     u'src': u'https://images.rapgenius.com/9c8a5d29bb96fb9fcaae3635f78087e1.500x500x1.jpg',\n",
       "     u'width': 500},\n",
       "    u'data': {u'animated': u'false',\n",
       "     u'thumbnail': {u'height': 300,\n",
       "      u'src': u'https://images.rapgenius.com/9c8a5d29bb96fb9fcaae3635f78087e1.300x300x1.jpg',\n",
       "      u'width': 300}},\n",
       "    u'tag': u'img'}],\n",
       "  u'tag': u'p'}]"
      ]
     },
     "execution_count": 161,
     "metadata": {},
     "output_type": "execute_result"
    }
   ],
   "source": [
    "my_way_json['response']['song']['description']['dom']['children']"
   ]
  },
  {
   "cell_type": "code",
   "execution_count": 197,
   "metadata": {
    "collapsed": false
   },
   "outputs": [
    {
     "name": "stdout",
     "output_type": "stream",
     "text": [
      "/albums/140468\n",
      "Summer in the Winter\n"
     ]
    }
   ],
   "source": [
    "for note in fetty_song['response']['song']['description']['dom']['children']:\n",
    "    if 'children' in note:\n",
    "        for element in note['children']:\n",
    "            if 'attributes' in element:\n",
    "                if 'href' in element['attributes']:\n",
    "                    parsed = urlparse(element['attributes']['href'])\n",
    "                    if parsed.netloc == 'genius.com':\n",
    "                        print element['data']['api_path']\n",
    "                        print element['children'][0]['children'][0].encode(\"utf-8\")"
   ]
  },
  {
   "cell_type": "code",
   "execution_count": 192,
   "metadata": {
    "collapsed": false
   },
   "outputs": [
    {
     "name": "stdout",
     "output_type": "stream",
     "text": [
      "/songs/496445\n",
      "“Trap Queen.”\n"
     ]
    }
   ],
   "source": [
    "for note in my_way_json['response']['song']['description']['dom']['children']:\n",
    "    if 'children' in note:\n",
    "        for element in note['children']:\n",
    "            if 'attributes' in element:\n",
    "                if 'href' in element['attributes']:\n",
    "                    parsed = urlparse(element['attributes']['href'])\n",
    "                    if parsed.netloc == 'genius.com':\n",
    "                        print element['data']['api_path']\n",
    "                        print element['children'][0].encode(\"utf-8\")"
   ]
  },
  {
   "cell_type": "code",
   "execution_count": 199,
   "metadata": {
    "collapsed": true
   },
   "outputs": [],
   "source": [
    "kid_ink_songid = 2396122"
   ]
  },
  {
   "cell_type": "code",
   "execution_count": 201,
   "metadata": {
    "collapsed": false
   },
   "outputs": [],
   "source": [
    "myrequest = req_start+'/referents?song_id='+str(kid_ink_songid)\n",
    "r = requests.get(myrequest, headers={'Authorization':hea})\n",
    "refs_json = json.loads(r.content)"
   ]
  },
  {
   "cell_type": "code",
   "execution_count": 234,
   "metadata": {
    "collapsed": true
   },
   "outputs": [],
   "source": [
    "from collections import defaultdict"
   ]
  },
  {
   "cell_type": "code",
   "execution_count": null,
   "metadata": {
    "collapsed": true
   },
   "outputs": [],
   "source": [
    "for note in my_way_json['response']['song']['description']['dom']['children']:\n",
    "    if 'children' in note:\n",
    "        for element in note['children']:\n",
    "            if 'attributes' in element:\n",
    "                if 'href' in element['attributes']:\n",
    "                    if urlparse(element['attributes']['href']).netloc == 'genius.com':\n",
    "                        print element['attributes']['href']"
   ]
  },
  {
   "cell_type": "code",
   "execution_count": 260,
   "metadata": {
    "collapsed": false
   },
   "outputs": [
    {
     "name": "stdout",
     "output_type": "stream",
     "text": [
      "defaultdict(<type 'list'>, {})\n"
     ]
    }
   ],
   "source": [
    "referenced = defaultdict(list)\n",
    "print referenced"
   ]
  },
  {
   "cell_type": "code",
   "execution_count": 262,
   "metadata": {
    "collapsed": false
   },
   "outputs": [
    {
     "name": "stdout",
     "output_type": "stream",
     "text": [
      "albums https://api.genius.com/albums/10137\n",
      "\n",
      "songs https://api.genius.com/songs/66225\n",
      "songs https://api.genius.com/songs/653082\n",
      "\n",
      "other https://api.genius.com/songs/583442\n",
      "\n",
      "artists https://api.genius.com/artists/17560\n",
      "artists https://api.genius.com/artists/29780\n",
      "artists https://api.genius.com/artists/134\n",
      "\n"
     ]
    }
   ],
   "source": [
    "for ref in refs_json['response']['referents']:\n",
    "    for note in ref['annotations']:\n",
    "        for child in note['body']['dom']['children']:\n",
    "            if 'children' in child:\n",
    "                for element in child['children']:\n",
    "                    if 'attributes' in element:\n",
    "                        if 'href' in element['attributes']:\n",
    "                            parsed = urlparse(element['attributes']['href'])\n",
    "                            if parsed.netloc==\"genius.com\":\n",
    "                                apiurl = req_start+element['data']['api_path']\n",
    "                                annotype = urlparse(apiurl).path.split('/')[1]\n",
    "                                if annotype == 'albums':\n",
    "                                    referenced['albums'].append(apiurl.encode('utf-8'))\n",
    "                                elif annotype == 'artists':\n",
    "                                    referenced['artists'].append(apiurl.encode('utf-8'))\n",
    "                                elif annotype == 'songs':\n",
    "                                    if urlparse(element['attributes']['href']).path.split('/')[-1][-6:] == 'lyrics':\n",
    "                                        referenced['songs'].append(apiurl.encode('utf-8'))\n",
    "                                    else:\n",
    "                                        referenced['other'].append(apiurl.encode('utf-8'))\n",
    "for k, v in referenced.iteritems():\n",
    "    for song in v:\n",
    "        print k, song\n",
    "    print"
   ]
  },
  {
   "cell_type": "code",
   "execution_count": 211,
   "metadata": {
    "collapsed": false
   },
   "outputs": [
    {
     "data": {
      "text/plain": [
       "[]"
      ]
     },
     "execution_count": 211,
     "metadata": {},
     "output_type": "execute_result"
    }
   ],
   "source": [
    "referenced"
   ]
  },
  {
   "cell_type": "code",
   "execution_count": 279,
   "metadata": {
    "collapsed": true
   },
   "outputs": [],
   "source": [
    "def get_annotations(songid):\n",
    "    referenced = defaultdict(list)\n",
    "    myrequest = req_start+'/referents?song_id='+str(songid)\n",
    "    r = requests.get(myrequest, headers={'Authorization':hea})\n",
    "    refs_json = json.loads(r.content)\n",
    "    for ref in refs_json['response']['referents']:\n",
    "        for note in ref['annotations']:\n",
    "            for child in note['body']['dom']['children']:\n",
    "                if 'children' in child:\n",
    "                    for element in child['children']:\n",
    "                        if 'attributes' in element:\n",
    "                            if 'href' in element['attributes']:\n",
    "                                parsed = urlparse(element['attributes']['href'])\n",
    "                                if parsed.netloc==\"genius.com\":\n",
    "                                    apiurl = req_start+element['data']['api_path']\n",
    "                                    annotype = urlparse(apiurl).path.split('/')[1]\n",
    "                                    if annotype == 'albums':\n",
    "                                        referenced['albums'].append(apiurl.encode('utf-8'))\n",
    "                                    elif annotype == 'artists':\n",
    "                                        referenced['artists'].append(apiurl.encode('utf-8'))\n",
    "                                    elif annotype == 'songs':\n",
    "                                        if urlparse(element['attributes']['href']).path.split('/')[-1][-6:] == 'lyrics':\n",
    "                                            referenced['songs'].append(apiurl.encode('utf-8'))\n",
    "                                        else:\n",
    "                                            referenced['other'].append(apiurl.encode('utf-8'))\n",
    "    return referenced"
   ]
  },
  {
   "cell_type": "code",
   "execution_count": 284,
   "metadata": {
    "collapsed": true
   },
   "outputs": [],
   "source": [
    "# req_start = 'https://api.genius.com'\n",
    "def annotate_song(songid):\n",
    "    song_info = {}\n",
    "    myrequest = req_start+'/songs/'+str(songid)\n",
    "    r = requests.get(myrequest, headers={'Authorization':hea})\n",
    "    song_json = json.loads(r.content)\n",
    "    song_info['title'] = str(song_json['response']['song']['title'])\n",
    "    song_info['artist'] = str(song_json['response']['song']['album']['artist']['name'])\n",
    "    pickle_title = song_info['title']+\"_\"+song_info['artist']+\".pkl\"\n",
    "    dumpPickle(song_json, pickle_title)\n",
    "    song_info['album'] = str(song_json['response']['song']['album']['name'])\n",
    "    \n",
    "    # may or may not exist\n",
    "    if song_json['response']['song']['featured_artists']:\n",
    "        song_info['featured_artists'] = song_json['response']['song']['featured_artists']\n",
    "    if song_json['response']['song']['producer_artists']:\n",
    "        song_info['producers'] = song_json['response']['song']['producer_artists']\n",
    "    if song_json['response']['song']['writer_artists']:\n",
    "        song_info['writers'] = song_json['response']['song']['writer_artists']\n",
    "    if song_json['response']['song']['sampled_songs']:\n",
    "        song_info['sampled_songs'] = song_json['response']['song']['sampled_songs']\n",
    "    if song_json['response']['song']['sampling_songs']:\n",
    "        song_info['sampling_songs'] = song_json['response']['song']['sampling_songs']\n",
    "        \n",
    "    # references!!\n",
    "    song_info['references'], song_info['references_desc'] = get_annotations(songid)\n",
    "    \n",
    "    return song_info"
   ]
  },
  {
   "cell_type": "code",
   "execution_count": 281,
   "metadata": {
    "collapsed": false
   },
   "outputs": [],
   "source": [
    "references = get_annotations(2396122)"
   ]
  },
  {
   "cell_type": "code",
   "execution_count": 283,
   "metadata": {
    "collapsed": false
   },
   "outputs": [
    {
     "name": "stdout",
     "output_type": "stream",
     "text": [
      "albums https://api.genius.com/albums/10137\n",
      "songs https://api.genius.com/songs/66225\n",
      "songs https://api.genius.com/songs/653082\n",
      "other https://api.genius.com/songs/583442\n",
      "artists https://api.genius.com/artists/17560\n",
      "artists https://api.genius.com/artists/29780\n",
      "artists https://api.genius.com/artists/134\n"
     ]
    }
   ],
   "source": [
    "for k, v in references.iteritems():\n",
    "    for song in v:\n",
    "        print k, song"
   ]
  },
  {
   "cell_type": "code",
   "execution_count": null,
   "metadata": {
    "collapsed": true
   },
   "outputs": [],
   "source": []
  }
 ],
 "metadata": {
  "kernelspec": {
   "display_name": "Python 2",
   "language": "python",
   "name": "python2"
  },
  "language_info": {
   "codemirror_mode": {
    "name": "ipython",
    "version": 2
   },
   "file_extension": ".py",
   "mimetype": "text/x-python",
   "name": "python",
   "nbconvert_exporter": "python",
   "pygments_lexer": "ipython2",
   "version": "2.7.11"
  }
 },
 "nbformat": 4,
 "nbformat_minor": 0
}
