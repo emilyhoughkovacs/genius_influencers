{
 "cells": [
  {
   "cell_type": "code",
   "execution_count": 1,
   "metadata": {
    "collapsed": true
   },
   "outputs": [],
   "source": [
    "import requests\n",
    "import cnfg\n",
    "import json\n",
    "import pickle\n",
    "import time\n",
    "from datetime import datetime\n",
    "from collections import defaultdict\n",
    "from urlparse import urlparse\n",
    "from pymongo import MongoClient"
   ]
  },
  {
   "cell_type": "code",
   "execution_count": 2,
   "metadata": {
    "collapsed": true
   },
   "outputs": [],
   "source": [
    "config = cnfg.load(\".genius_config\")\n",
    "client_key = config[\"client_key\"]\n",
    "client_secret = config[\"client_secret\"]\n",
    "access_token = 'uK247ank6jF7DY_E7TEMIdbuhT2IBVsVeFXh6AluxswFUfrlFNfXNu2pUFPrGv2c'\n",
    "auth = 'Bearer '+access_token\n",
    "req_start = 'https://api.genius.com'"
   ]
  },
  {
   "cell_type": "code",
   "execution_count": 3,
   "metadata": {
    "collapsed": true
   },
   "outputs": [],
   "source": [
    "client = MongoClient()\n",
    "db = client.music\n",
    "s = db.songs\n",
    "# counter\n",
    "c = s.find()"
   ]
  },
  {
   "cell_type": "code",
   "execution_count": 4,
   "metadata": {
    "collapsed": true
   },
   "outputs": [],
   "source": [
    "def pickleLoad(filename):\n",
    "    with open(filename, 'rb') as f:\n",
    "        data = pickle.load(f) \n",
    "    return data\n",
    "\n",
    "def pickleDump(data, filename):\n",
    "    with open(filename, 'wb') as f:\n",
    "        pickle.dump(data, f)"
   ]
  },
  {
   "cell_type": "code",
   "execution_count": 5,
   "metadata": {
    "collapsed": true
   },
   "outputs": [],
   "source": [
    "def api_call(validurl):\n",
    "    call = validurl\n",
    "    r = requests.get(call, headers={'Authorization':auth})\n",
    "    if r.status_code==200:\n",
    "        return json.loads(r.content)\n",
    "    else:\n",
    "        print r.content\n",
    "        return r.content"
   ]
  },
  {
   "cell_type": "code",
   "execution_count": 6,
   "metadata": {
    "collapsed": true
   },
   "outputs": [],
   "source": [
    "def get_annotations(song):\n",
    "    referenced = defaultdict(list)\n",
    "    if type(song)==int:\n",
    "        myrequest = req_start+'/referents?song_id='+str(song)\n",
    "        r = requests.get(myrequest, headers={'Authorization':auth})\n",
    "        refs_json = json.loads(r.content)\n",
    "    elif type(song)==dict:\n",
    "        refs_json = song\n",
    "    for ref in refs_json['response']['referents']:\n",
    "        for note in ref['annotations']:\n",
    "            for child in note['body']['dom']['children']:\n",
    "                if 'children' in child:\n",
    "                    for element in child['children']:\n",
    "                        if 'attributes' in element:\n",
    "                            if 'href' in element['attributes']:\n",
    "                                parsed = urlparse(element['attributes']['href'])\n",
    "                                if parsed.netloc==\"genius.com\":\n",
    "                                    try:\n",
    "                                        apiurl = req_start+element['data']['api_path']\n",
    "                                        annotype = urlparse(apiurl).path.split('/')[1]\n",
    "                                        if annotype == 'albums':\n",
    "                                            referenced['albums'].append(apiurl.encode('utf-8'))\n",
    "                                        elif annotype == 'artists':\n",
    "                                            referenced['artists'].append(apiurl.encode('utf-8'))\n",
    "                                        elif annotype == 'songs':\n",
    "                                            if urlparse(element['attributes']['href']).path.split('/')[-1][-6:] == 'lyrics':\n",
    "                                                referenced['songs'].append(apiurl.encode('utf-8'))\n",
    "                                            else:\n",
    "                                                referenced['other'].append(apiurl.encode('utf-8'))\n",
    "                                    except:\n",
    "                                        continue\n",
    "                                            \n",
    "    return dict(referenced)"
   ]
  },
  {
   "cell_type": "code",
   "execution_count": 7,
   "metadata": {
    "collapsed": true
   },
   "outputs": [],
   "source": [
    "def description_refs(song):\n",
    "    description = defaultdict(list)\n",
    "    if type(song)==int:\n",
    "        myrequest = req_start+'/songs/'+str(song)\n",
    "        r = requests.get(myrequest, headers={'Authorization':auth})\n",
    "        refs_json = json.loads(r.content)\n",
    "    elif type(song)==dict:\n",
    "        refs_json = song\n",
    "    for paragraph in refs_json['response']['song']['description']['dom']['children']:\n",
    "        if 'children' in paragraph:\n",
    "            for child in paragraph['children']:\n",
    "                if 'attributes' in child:\n",
    "                    if 'href' in child['attributes']:\n",
    "                        url = child['attributes']['href']\n",
    "                        if urlparse(url).netloc=='genius.com':\n",
    "                            try:\n",
    "                                apiurl = req_start+child['data']['api_path']\n",
    "                                annotype = urlparse(apiurl).path.split('/')[1]\n",
    "                                if annotype == 'albums':\n",
    "                                    description['albums'].append(apiurl.encode('utf-8'))\n",
    "                                elif annotype == 'artists':\n",
    "                                    description['artists'].append(apiurl.encode('utf-8'))\n",
    "                                elif annotype == 'songs':\n",
    "                                    if urlparse(child['attributes']['href']).path.split('/')[-1][-6:] == 'lyrics':\n",
    "                                        description['songs'].append(apiurl.encode('utf-8'))\n",
    "                                    else:\n",
    "                                        description['other'].append(apiurl.encode('utf-8'))\n",
    "                            except:\n",
    "                                continue\n",
    "    return dict(description)"
   ]
  },
  {
   "cell_type": "code",
   "execution_count": 8,
   "metadata": {
    "collapsed": false
   },
   "outputs": [],
   "source": [
    "# pass one of the two following:\n",
    "# song['references'] for referents or\n",
    "# song['description_refs'] for references in description\n",
    "\n",
    "def get_neighbors(song):\n",
    "    neighbors = defaultdict(list)\n",
    "    for item, vals in song.iteritems():\n",
    "        if item=='artists':\n",
    "            for artist in vals:\n",
    "                artistid = artist.rpartition('/')[2]\n",
    "                if s.find({'featured_artists': {'$elemMatch':{'id':int(artistid)}}}).count():\n",
    "                    name = s.find({'featured_artists': {'$elemMatch':{'id':int(artistid)}}}, \n",
    "                                  {'featured_artists': {'$elemMatch':{'id':int(artistid)}}}).next()\n",
    "                    artistname = name['featured_artists'][0]['artist']\n",
    "                    neighbors['artist'].append({'name': artistname, 'id': artistid})\n",
    "                elif s.find({'writers': {'$elemMatch':{'id':int(artistid)}}}).count():\n",
    "                    name = s.find({'writers': {'$elemMatch':{'id':int(artistid)}}}, \n",
    "                                  {'writers': {'$elemMatch':{'id':int(artistid)}}}).next()\n",
    "                    artistname = name['writers'][0]['artist']\n",
    "                    neighbors['artist'].append({'name': artistname, 'id': artistid})\n",
    "                elif s.find({'producers': {'$elemMatch':{'id':int(artistid)}}}).count():\n",
    "                    name = s.find({'producers': {'$elemMatch':{'id':int(artistid)}}}, \n",
    "                                  {'producers': {'$elemMatch':{'id':int(artistid)}}}).next()\n",
    "                    artistname = name['producers'][0]['artist']\n",
    "                    neighbors['artist'].append({'name': artistname, 'id': artistid})\n",
    "                elif s.find({'artist_id': int(artistid)}, {'artist':1}).count():\n",
    "                    name = s.find({'artist_id': int(artistid)}, {'artist': 1}).next()\n",
    "                    neighbors['artist'].append({'name': name['artist'], 'id': artistid})\n",
    "                else:\n",
    "#                     print \"calling artistid: \", artistid\n",
    "                    time.sleep(7)\n",
    "                    name = api_call(artist)['response']['artist']['name']\n",
    "#                     print \"successful request!\"\n",
    "#                     print \"artist name: \", name\n",
    "                    neighbors['artist'].append({'name': name, 'id': artistid})\n",
    "        elif item == 'albums':\n",
    "            for album in vals:\n",
    "                albumid = album.rpartition('/')[2]\n",
    "                if s.find({'album.id': int(albumid)}).count():\n",
    "                    name = s.find({'album.id': int(albumid)}, {'album.name': 1}).next()\n",
    "                    albumname = name['album']['name']\n",
    "                    neighbors['album'].append({'name': albumname, 'id': albumid})\n",
    "                else:\n",
    "#                     print \"calling albumid: \", albumid\n",
    "                    time.sleep(7)\n",
    "                    name = api_call(album)['response']['album']['name']\n",
    "#                     print \"successful request!\"\n",
    "#                     print \"album name: \", name\n",
    "                    neighbors['album'].append({'name': name, 'id': albumid})\n",
    "        elif item == 'songs':\n",
    "            for song in vals:\n",
    "                songid = song.rpartition('/')[2]\n",
    "                if s.find({'id': int(songid)}).count(): \n",
    "                    data = s.find({'id': int(songid)}, {'title':1, 'artist':1}).next()\n",
    "                    title = data['title']\n",
    "                    artist = data['artist']\n",
    "                    neighbors['song'].append({'title':title, 'artist':artist, 'id':songid})\n",
    "                else:\n",
    "                    neighbors['song_unannotated'].append({'id':songid})\n",
    "        elif item == 'other':\n",
    "            for other in vals:\n",
    "                otherid = other.rpartition('/')[2]\n",
    "#                 print \"calling other: \", other\n",
    "                name = api_call(other)['response']['song']['title']\n",
    "                neighbors['other'].append({'title':name, 'id':otherid})\n",
    "                \n",
    "    return neighbors"
   ]
  },
  {
   "cell_type": "code",
   "execution_count": 9,
   "metadata": {
    "collapsed": true
   },
   "outputs": [],
   "source": [
    "def annotate_song(songid):\n",
    "    if s.find({'id':songid}).count() > 0:\n",
    "#         print \"already in Mongo... returning Mongo query\"\n",
    "        return s.find({'id':songid}).next()\n",
    "    else:\n",
    "        song_info = {}\n",
    "        myrequest = req_start+'/songs/'+str(songid)\n",
    "        r = requests.get(myrequest, headers={'Authorization':auth})\n",
    "        song_json = json.loads(r.content)\n",
    "        song_info['title'] = str(song_json['response']['song']['title'])\n",
    "        song_info['artist'] = str(song_json['response']['song']['primary_artist']['name'])\n",
    "        song_info['artist_id'] = song_json['response']['song']['primary_artist']['id']\n",
    "        pickle_title = '_'.join(song_info['title'].split())+\"_\"+'_'.join(song_info['artist'].split())+\".pkl\"\n",
    "        pickleDump(song_json, pickle_title)\n",
    "        if song_json['response']['song']['album'] != None:\n",
    "            song_info['album'] = {'name': str(song_json['response']['song']['album']['name']), \n",
    "                              'id': song_json['response']['song']['album']['id']}\n",
    "        song_info['id'] = song_json['response']['song']['id']\n",
    "\n",
    "        # may or may not exist\n",
    "        song_info['featured_artists'] = []\n",
    "        song_info['writers'] = []\n",
    "        song_info['producers'] = []\n",
    "        \n",
    "        if song_json['response']['song']['sampled_songs']:\n",
    "            song_info['sampled_songs'] = song_json['response']['song']['sampled_songs']\n",
    "        if song_json['response']['song']['sampling_songs']:\n",
    "            song_info['sampling_songs'] = song_json['response']['song']['sampling_songs']\n",
    "\n",
    "        for artist in song_json['response']['song']['featured_artists']:\n",
    "            if artist['name']!=song_info['artist']:\n",
    "                song_info['featured_artists'].append({'artist':artist['name'], 'id':artist['id']})\n",
    "        for artist in song_json['response']['song']['producer_artists']:\n",
    "            if artist['name']!=song_info['artist']:\n",
    "                song_info['producers'].append({'artist':artist['name'], 'id':artist['id']})\n",
    "        for artist in song_json['response']['song']['writer_artists']:\n",
    "            if artist['name']!=song_info['artist']:\n",
    "                song_info['writers'].append({'artist':artist['name'], 'id':artist['id']})\n",
    "\n",
    "        if not song_info['featured_artists']:\n",
    "            del song_info['featured_artists']\n",
    "        if not song_info['writers']:\n",
    "            del song_info['writers']\n",
    "        if not song_info['producers']:\n",
    "            del song_info['producers']\n",
    "\n",
    "        # references!!\n",
    "        time.sleep(7)\n",
    "        song_info['references'] = dict(get_neighbors(get_annotations(songid)))\n",
    "        time.sleep(7)\n",
    "        song_info['description_refs'] = dict(get_neighbors(description_refs(song_json)))\n",
    "        \n",
    "        pickled_annotation = pickle_title[0:-4]+\"_annotated.pkl\"\n",
    "        pickleDump(song_info, pickled_annotation)\n",
    "        return song_info"
   ]
  },
  {
   "cell_type": "code",
   "execution_count": 10,
   "metadata": {
    "collapsed": true
   },
   "outputs": [],
   "source": [
    "newsongs = [1531904,\n",
    " 550920,\n",
    " 620555,\n",
    " 2396178,\n",
    " 2284206,\n",
    " 1839127,\n",
    " 51227,\n",
    " 526365,\n",
    " 508933,\n",
    " 2218017,\n",
    " 2082,\n",
    " 2310181,\n",
    " 245798,\n",
    " 520237,\n",
    " 2416699,\n",
    " 1953852,\n",
    " 61,\n",
    " 38978,\n",
    " 730057,\n",
    " 68,\n",
    " 2283589,\n",
    " 414018,\n",
    " 1966157,\n",
    " 1378382,\n",
    " 92856,\n",
    " 4186,\n",
    " 2214586,\n",
    " 2263139,\n",
    " 69732,\n",
    " 51301,\n",
    " 835688,\n",
    " 108,\n",
    " 206963,\n",
    " 215157,\n",
    " 690295,\n",
    " 2171,\n",
    " 118483,\n",
    " 1200259,\n",
    " 897159,\n",
    " 436363,\n",
    " 1317005,\n",
    " 446608,\n",
    " 1824913,\n",
    " 2196,\n",
    " 1978519,\n",
    " 2204,\n",
    " 2437280,\n",
    " 88225,\n",
    " 65701,\n",
    " 2275494,\n",
    " 168,\n",
    " 4270,\n",
    " 1742877,\n",
    " 102576,\n",
    " 181,\n",
    " 1128630,\n",
    " 2368201,\n",
    " 51388,\n",
    " 2339009,\n",
    " 192545,\n",
    " 235725,\n",
    " 911574,\n",
    " 2001112,\n",
    " 30941,\n",
    " 2177246,\n",
    " 32995,\n",
    " 233,\n",
    " 2286,\n",
    " 2308338,\n",
    " 156373,\n",
    " 592901,\n",
    " 72405,\n",
    " 20525,\n",
    " 1478928,\n",
    " 405779,\n",
    " 2414874,\n",
    " 2255131,\n",
    " 4381,\n",
    " 1548580,\n",
    " 1394985,\n",
    " 440618,\n",
    " 33067,\n",
    " 379183,\n",
    " 2423091,\n",
    " 2138429,\n",
    " 4417,\n",
    " 1820994,\n",
    " 28995,\n",
    " 2435401,\n",
    " 2390346,\n",
    " 829090,\n",
    " 737615,\n",
    " 518484,\n",
    " 387414,\n",
    " 176475,\n",
    " 2277244,\n",
    " 958524,\n",
    " 672108,\n",
    " 192879,\n",
    " 375,\n",
    " 70012,\n",
    " 1935742,\n",
    " 2275721,\n",
    " 29066,\n",
    " 2443,\n",
    " 396,\n",
    " 622989,\n",
    " 414099,\n",
    " 47508,\n",
    " 65947,\n",
    " 35229,\n",
    " 2275742,\n",
    " 29087,\n",
    " 41376,\n",
    " 2177091,\n",
    " 672155,\n",
    " 1778090,\n",
    " 399792,\n",
    " 1778100,\n",
    " 436662,\n",
    " 444,\n",
    " 2431426,\n",
    " 688579,\n",
    " 452,\n",
    " 170443,\n",
    " 2374092,\n",
    " 82339,\n",
    " 35293,\n",
    " 680415,\n",
    " 57824,\n",
    " 733666,\n",
    " 35301,\n",
    " 1847784,\n",
    " 2402796,\n",
    " 207343,\n",
    " 725500,\n",
    " 4609,\n",
    " 518,\n",
    " 713548,\n",
    " 78347,\n",
    " 526,\n",
    " 395791,\n",
    " 2284049,\n",
    " 16914,\n",
    " 4636,\n",
    " 2433565,\n",
    " 1114654,\n",
    " 2435615,\n",
    " 4640,\n",
    " 2400811,\n",
    " 2609,\n",
    " 2620,\n",
    " 2433598,\n",
    " 2302528,\n",
    " 45634,\n",
    " 2302535,\n",
    " 45643,\n",
    " 2430733,\n",
    " 35414,\n",
    " 2042461,\n",
    " 210364,\n",
    " 1790573,\n",
    " 2275954,\n",
    " 709240,\n",
    " 634,\n",
    " 515519,\n",
    " 2112517,\n",
    " 2421373,\n",
    " 2329215,\n",
    " 131712,\n",
    " 731783,\n",
    " 696428,\n",
    " 51652,\n",
    " 2210470,\n",
    " 393899,\n",
    " 131758,\n",
    " 690,\n",
    " 2124472,\n",
    " 416444,\n",
    " 92862,\n",
    " 2142915,\n",
    " 2396871,\n",
    " 2423497,\n",
    " 2409162,\n",
    " 32546,\n",
    " 718,\n",
    " 694992,\n",
    " 2057145,\n",
    " 101077,\n",
    " 58072,\n",
    " 2388703,\n",
    " 2155243,\n",
    " 115451,\n",
    " 725757,\n",
    " 361214,\n",
    " 2433799,\n",
    " 338701,\n",
    " 506641,\n",
    " 1415961,\n",
    " 66330,\n",
    " 121627,\n",
    " 117534,\n",
    " 1891103,\n",
    " 33573,\n",
    " 1995564,\n",
    " 33581,\n",
    " 2423601,\n",
    " 912179,\n",
    " 822,\n",
    " 826,\n",
    " 1696577,\n",
    " 174916,\n",
    " 2892,\n",
    " 446605,\n",
    " 27472,\n",
    " 160600,\n",
    " 29529,\n",
    " 47967,\n",
    " 185191,\n",
    " 47982,\n",
    " 437103,\n",
    " 880,\n",
    " 2327412,\n",
    " 2171992,\n",
    " 1989637,\n",
    " 246656,\n",
    " 123873,\n",
    " 2325382,\n",
    " 2028423,\n",
    " 279437,\n",
    " 1850256,\n",
    " 1702804,\n",
    " 158615,\n",
    " 1465241,\n",
    " 2275787,\n",
    " 66467,\n",
    " 2397096,\n",
    " 1392455,\n",
    " 82860,\n",
    " 1172403,\n",
    " 27574,\n",
    " 1782713,\n",
    " 76731,\n",
    " 2328394,\n",
    " 209861,\n",
    " 2413513,\n",
    " 433098,\n",
    " 293841,\n",
    " 667130,\n",
    " 2325471,\n",
    " 848,\n",
    " 2311139,\n",
    " 1182694,\n",
    " 115688,\n",
    " 58346,\n",
    " 2163879,\n",
    " 50156,\n",
    " 431093,\n",
    " 49680,\n",
    " 60408,\n",
    " 2270213,\n",
    " 610479,\n",
    " 6320,\n",
    " 1060,\n",
    " 2081829,\n",
    " 637994,\n",
    " 349229,\n",
    " 1629231,\n",
    " 502834,\n",
    " 230455,\n",
    " 578626,\n",
    " 1420355,\n",
    " 1971271,\n",
    " 302157,\n",
    " 547918,\n",
    " 2296914,\n",
    " 1674324,\n",
    " 1555542,\n",
    " 494680,\n",
    " 1113,\n",
    " 668175,\n",
    " 2292829,\n",
    " 746593,\n",
    " 390244,\n",
    " 720401,\n",
    " 2417511,\n",
    " 466028,\n",
    " 709741,\n",
    " 279669,\n",
    " 15479,\n",
    " 312444,\n",
    " 2413699,\n",
    " 93317,\n",
    " 1940620,\n",
    " 56477,\n",
    " 1954979,\n",
    " 3239,\n",
    " 2329769,\n",
    " 11435,\n",
    " 459948,\n",
    " 1799343,\n",
    " 23070,\n",
    " 640182,\n",
    " 1973431,\n",
    " 361656,\n",
    " 31934,\n",
    " 2311363,\n",
    " 2311373,\n",
    " 373966,\n",
    " 1240,\n",
    " 2307291,\n",
    " 1559777,\n",
    " 2286821,\n",
    " 38118,\n",
    " 468201,\n",
    " 13556,\n",
    " 1942775,\n",
    " 1277,\n",
    " 2426112,\n",
    " 380162,\n",
    " 19715,\n",
    " 410884,\n",
    " 722193,\n",
    " 2295060,\n",
    " 44311,\n",
    " 376091,\n",
    " 1860893,\n",
    " 707870,\n",
    " 2153759,\n",
    " 658724,\n",
    " 1318,\n",
    " 30258,\n",
    " 521525,\n",
    " 2297738,\n",
    " 392510,\n",
    " 357695,\n",
    " 48453,\n",
    " 2315590,\n",
    " 699959,\n",
    " 94434,\n",
    " 13648,\n",
    " 378195,\n",
    " 13656,\n",
    " 2409818,\n",
    " 1779037,\n",
    " 1944935,\n",
    " 533873,\n",
    " 389694,\n",
    " 451958,\n",
    " 722296,\n",
    " 19348,\n",
    " 38270,\n",
    " 720259,\n",
    " 433542,\n",
    " 62862,\n",
    " 2332048,\n",
    " 23955,\n",
    " 583,\n",
    " 310705,\n",
    " 290230,\n",
    " 110010,\n",
    " 2119099,\n",
    " 2262460,\n",
    " 329151,\n",
    " 38340,\n",
    " 476615,\n",
    " 56776,\n",
    " 112079,\n",
    " 417235,\n",
    " 1791444,\n",
    " 1493,\n",
    " 591,\n",
    " 2086372,\n",
    " 114153,\n",
    " 1517,\n",
    " 703741,\n",
    " 1620904,\n",
    " 372211,\n",
    " 2018804,\n",
    " 556538,\n",
    " 9723,\n",
    " 245249,\n",
    " 403031,\n",
    " 2262544,\n",
    " 914961,\n",
    " 1283,\n",
    " 2117152,\n",
    " 513574,\n",
    " 7722,\n",
    " 3627,\n",
    " 226866,\n",
    " 130616,\n",
    " 1637950,\n",
    " 56902,\n",
    " 2055751,\n",
    " 1931490,\n",
    " 1612,\n",
    " 52814,\n",
    " 8120,\n",
    " 156955,\n",
    " 742999,\n",
    " 720473,\n",
    " 1869407,\n",
    " 1980001,\n",
    " 394854,\n",
    " 2295400,\n",
    " 1574514,\n",
    " 2145913,\n",
    " 118395,\n",
    " 210558,\n",
    " 491142,\n",
    " 89736,\n",
    " 2434697,\n",
    " 693900,\n",
    " 2024045,\n",
    " 2416274,\n",
    " 2100885,\n",
    " 2176665,\n",
    " 2123421,\n",
    " 607906,\n",
    " 1365667,\n",
    " 1242795,\n",
    " 122542,\n",
    " 54967,\n",
    " 523961,\n",
    " 2408122,\n",
    " 2176703,\n",
    " 124611,\n",
    " 2178762,\n",
    " 5835,\n",
    " 700112,\n",
    " 20179,\n",
    " 218837,\n",
    " 601817,\n",
    " 607964,\n",
    " 743136,\n",
    " 1666786,\n",
    " 124643,\n",
    " 2373349,\n",
    " 428668,\n",
    " 2178795,\n",
    " 2275965,\n",
    " 319225,\n",
    " 114429,\n",
    " 2228864,\n",
    " 1560323,\n",
    " 452357,\n",
    " 716553,\n",
    " 1805,\n",
    " 1820438,\n",
    " 983001,\n",
    " 2342690,\n",
    " 2332455,\n",
    " 2420521,\n",
    " 1541932,\n",
    " 2324269,\n",
    " 698675,\n",
    " 2268248,\n",
    " 51003,\n",
    " 734517,\n",
    " 1943366,\n",
    " 2414561,\n",
    " 118602,\n",
    " 87884,\n",
    " 2287448,\n",
    " 2414425,\n",
    " 2408283,\n",
    " 200546,\n",
    " 61287,\n",
    " 282475,\n",
    " 409461,\n",
    " 24440,\n",
    " 741241,\n",
    " 186250,\n",
    " 729410,\n",
    " 3984,\n",
    " 2254750,\n",
    " 307105,\n",
    " 427939,\n",
    " 206760,\n",
    " 2068393,\n",
    " 1996715,\n",
    " 2334638,\n",
    " 530356,\n",
    " 2308425,\n",
    " 51128,\n",
    " 1800122,\n",
    " 92490,\n",
    " 2181057,\n",
    " 2379715,\n",
    " 33782,\n",
    " 1993,\n",
    " 1698,\n",
    " 73037,\n",
    " 1935314,\n",
    " 2205656,\n",
    " 2424793,\n",
    " 1978332,\n",
    " 71649,\n",
    " 1986530,\n",
    " 57315,\n",
    " 1402857,\n",
    " 2215917]"
   ]
  },
  {
   "cell_type": "code",
   "execution_count": 11,
   "metadata": {
    "collapsed": true
   },
   "outputs": [],
   "source": [
    "unable_to_insert = []"
   ]
  },
  {
   "cell_type": "code",
   "execution_count": 12,
   "metadata": {
    "collapsed": false
   },
   "outputs": [
    {
     "name": "stdout",
     "output_type": "stream",
     "text": [
      "!!!inserted  680415  to Mongo!!!!\n",
      "!!!inserted  57824  to Mongo!!!!\n",
      "!!!inserted  733666  to Mongo!!!!\n",
      "!!!inserted  35301  to Mongo!!!!\n",
      "!!!inserted  1847784  to Mongo!!!!\n",
      "!!!inserted  2402796  to Mongo!!!!\n",
      "!!!inserted  207343  to Mongo!!!!\n",
      "!!!inserted  725500  to Mongo!!!!\n",
      "!!!inserted  4609  to Mongo!!!!\n",
      "!!!inserted  518  to Mongo!!!!\n",
      "!!!inserted  78347  to Mongo!!!!\n",
      "!!!inserted  526  to Mongo!!!!\n",
      "!!!inserted  395791  to Mongo!!!!\n",
      "!!!inserted  2284049  to Mongo!!!!\n",
      "!!!inserted  16914  to Mongo!!!!\n",
      "!!!inserted  4636  to Mongo!!!!\n",
      "!!!inserted  2433565  to Mongo!!!!\n",
      "!!!inserted  1114654  to Mongo!!!!\n",
      "!!!inserted  2435615  to Mongo!!!!\n",
      "!!!inserted  4640  to Mongo!!!!\n",
      "!!!inserted  2400811  to Mongo!!!!\n",
      "!!!inserted  2609  to Mongo!!!!\n",
      "!!!inserted  2620  to Mongo!!!!\n",
      "!!!inserted  2433598  to Mongo!!!!\n",
      "!!!inserted  2302528  to Mongo!!!!\n",
      "!!!inserted  45634  to Mongo!!!!\n",
      "!!!inserted  2302535  to Mongo!!!!\n",
      "!!!inserted  45643  to Mongo!!!!\n",
      "!!!inserted  2430733  to Mongo!!!!\n",
      "!!!inserted  35414  to Mongo!!!!\n",
      "!!!inserted  2042461  to Mongo!!!!\n",
      "!!!inserted  210364  to Mongo!!!!\n",
      "!!!inserted  1790573  to Mongo!!!!\n",
      "!!!inserted  2275954  to Mongo!!!!\n",
      "!!!inserted  709240  to Mongo!!!!\n",
      "!!!inserted  634  to Mongo!!!!\n",
      "!!!inserted  515519  to Mongo!!!!\n",
      "!!!inserted  2112517  to Mongo!!!!\n",
      "!!!inserted  2421373  to Mongo!!!!\n",
      "!!!inserted  2329215  to Mongo!!!!\n",
      "!!!inserted  131712  to Mongo!!!!\n",
      "!!!inserted  731783  to Mongo!!!!\n",
      "!!!inserted  51652  to Mongo!!!!\n",
      "!!!inserted  2210470  to Mongo!!!!\n",
      "!!!inserted  393899  to Mongo!!!!\n",
      "!!!inserted  131758  to Mongo!!!!\n",
      "!!!inserted  690  to Mongo!!!!\n",
      "!!!inserted  2124472  to Mongo!!!!\n",
      "!!!inserted  416444  to Mongo!!!!\n",
      "!!!inserted  92862  to Mongo!!!!\n",
      "!!!inserted  2142915  to Mongo!!!!\n",
      "!!!inserted  2396871  to Mongo!!!!\n",
      "!!!inserted  2423497  to Mongo!!!!\n",
      "!!!inserted  2409162  to Mongo!!!!\n",
      "!!!inserted  32546  to Mongo!!!!\n",
      "!!!inserted  718  to Mongo!!!!\n",
      "!!!inserted  694992  to Mongo!!!!\n",
      "!!!inserted  2057145  to Mongo!!!!\n",
      "!!!inserted  101077  to Mongo!!!!\n",
      "!!!inserted  58072  to Mongo!!!!\n",
      "!!!inserted  2388703  to Mongo!!!!\n",
      "!!!inserted  2155243  to Mongo!!!!\n",
      "!!!inserted  115451  to Mongo!!!!\n",
      "!!!inserted  725757  to Mongo!!!!\n",
      "!!!inserted  361214  to Mongo!!!!\n",
      "!!!inserted  2433799  to Mongo!!!!\n",
      "!!!inserted  338701  to Mongo!!!!\n",
      "!!!inserted  506641  to Mongo!!!!\n",
      "!!!inserted  1415961  to Mongo!!!!\n",
      "!!!inserted  66330  to Mongo!!!!\n",
      "!!!inserted  117534  to Mongo!!!!\n",
      "!!!inserted  1891103  to Mongo!!!!\n",
      "!!!inserted  33573  to Mongo!!!!\n",
      "!!!inserted  1995564  to Mongo!!!!\n",
      "!!!inserted  33581  to Mongo!!!!\n",
      "!!!inserted  2423601  to Mongo!!!!\n",
      "!!!inserted  912179  to Mongo!!!!\n",
      "!!!inserted  822  to Mongo!!!!\n",
      "!!!inserted  826  to Mongo!!!!\n",
      "!!!inserted  1696577  to Mongo!!!!\n",
      "!!!inserted  174916  to Mongo!!!!\n",
      "!!!inserted  2892  to Mongo!!!!\n",
      "!!!inserted  446605  to Mongo!!!!\n",
      "!!!inserted  27472  to Mongo!!!!\n",
      "!!!inserted  160600  to Mongo!!!!\n",
      "!!!inserted  29529  to Mongo!!!!\n",
      "!!!inserted  47967  to Mongo!!!!\n",
      "!!!inserted  185191  to Mongo!!!!\n",
      "!!!inserted  47982  to Mongo!!!!\n",
      "!!!inserted  437103  to Mongo!!!!\n",
      "!!!inserted  880  to Mongo!!!!\n",
      "!!!inserted  2327412  to Mongo!!!!\n",
      "!!!inserted  2171992  to Mongo!!!!\n",
      "!!!inserted  1989637  to Mongo!!!!\n",
      "!!!inserted  246656  to Mongo!!!!\n",
      "!!!inserted  123873  to Mongo!!!!\n",
      "!!!inserted  2325382  to Mongo!!!!\n",
      "!!!inserted  2028423  to Mongo!!!!\n",
      "!!!inserted  279437  to Mongo!!!!\n",
      "!!!inserted  1850256  to Mongo!!!!\n",
      "!!!inserted  1702804  to Mongo!!!!\n",
      "!!!inserted  158615  to Mongo!!!!\n",
      "!!!inserted  1465241  to Mongo!!!!\n",
      "!!!inserted  2275787  to Mongo!!!!\n",
      "!!!inserted  66467  to Mongo!!!!\n",
      "!!!inserted  2397096  to Mongo!!!!\n",
      "!!!inserted  1392455  to Mongo!!!!\n",
      "!!!inserted  82860  to Mongo!!!!\n",
      "!!!inserted  1172403  to Mongo!!!!\n",
      "!!!inserted  27574  to Mongo!!!!\n",
      "!!!inserted  1782713  to Mongo!!!!\n",
      "!!!inserted  76731  to Mongo!!!!\n",
      "!!!inserted  2328394  to Mongo!!!!\n",
      "!!!inserted  209861  to Mongo!!!!\n",
      "!!!inserted  2413513  to Mongo!!!!\n",
      "!!!inserted  433098  to Mongo!!!!\n",
      "!!!inserted  293841  to Mongo!!!!\n",
      "!!!inserted  667130  to Mongo!!!!\n",
      "!!!inserted  2325471  to Mongo!!!!\n",
      "!!!inserted  848  to Mongo!!!!\n",
      "!!!inserted  2311139  to Mongo!!!!\n",
      "!!!inserted  1182694  to Mongo!!!!\n",
      "!!!inserted  115688  to Mongo!!!!\n",
      "!!!inserted  58346  to Mongo!!!!\n",
      "!!!inserted  2163879  to Mongo!!!!\n",
      "!!!inserted  50156  to Mongo!!!!\n",
      "!!!inserted  49680  to Mongo!!!!\n",
      "!!!inserted  60408  to Mongo!!!!\n",
      "!!!inserted  2270213  to Mongo!!!!\n",
      "!!!inserted  6320  to Mongo!!!!\n",
      "!!!inserted  1060  to Mongo!!!!\n",
      "!!!inserted  2081829  to Mongo!!!!\n",
      "!!!inserted  637994  to Mongo!!!!\n",
      "!!!inserted  349229  to Mongo!!!!\n",
      "!!!inserted  1629231  to Mongo!!!!\n",
      "!!!inserted  502834  to Mongo!!!!\n",
      "!!!inserted  230455  to Mongo!!!!\n",
      "!!!inserted  578626  to Mongo!!!!\n",
      "!!!inserted  1420355  to Mongo!!!!\n",
      "!!!inserted  302157  to Mongo!!!!\n",
      "!!!inserted  547918  to Mongo!!!!\n",
      "!!!inserted  2296914  to Mongo!!!!\n",
      "!!!inserted  1674324  to Mongo!!!!\n",
      "!!!inserted  1555542  to Mongo!!!!\n",
      "!!!inserted  1113  to Mongo!!!!\n",
      "!!!inserted  668175  to Mongo!!!!\n",
      "!!!inserted  2292829  to Mongo!!!!\n",
      "!!!inserted  746593  to Mongo!!!!\n",
      "!!!inserted  390244  to Mongo!!!!\n",
      "!!!inserted  720401  to Mongo!!!!\n",
      "!!!inserted  2417511  to Mongo!!!!\n",
      "!!!inserted  466028  to Mongo!!!!\n",
      "!!!inserted  709741  to Mongo!!!!\n",
      "!!!inserted  279669  to Mongo!!!!\n",
      "!!!inserted  15479  to Mongo!!!!\n",
      "!!!inserted  312444  to Mongo!!!!\n",
      "!!!inserted  93317  to Mongo!!!!\n",
      "!!!inserted  1940620  to Mongo!!!!\n",
      "!!!inserted  56477  to Mongo!!!!\n",
      "!!!inserted  1954979  to Mongo!!!!\n",
      "!!!inserted  3239  to Mongo!!!!\n",
      "!!!inserted  2329769  to Mongo!!!!\n",
      "!!!inserted  11435  to Mongo!!!!\n",
      "!!!inserted  459948  to Mongo!!!!\n",
      "!!!inserted  1799343  to Mongo!!!!\n",
      "!!!inserted  23070  to Mongo!!!!\n",
      "!!!inserted  640182  to Mongo!!!!\n",
      "!!!inserted  1973431  to Mongo!!!!\n",
      "!!!inserted  361656  to Mongo!!!!\n",
      "!!!inserted  31934  to Mongo!!!!\n",
      "!!!inserted  2311363  to Mongo!!!!\n",
      "!!!inserted  2311373  to Mongo!!!!\n",
      "!!!inserted  373966  to Mongo!!!!\n",
      "!!!inserted  1240  to Mongo!!!!\n",
      "!!!inserted  2307291  to Mongo!!!!\n",
      "!!!inserted  1559777  to Mongo!!!!\n",
      "!!!inserted  2286821  to Mongo!!!!\n",
      "!!!inserted  38118  to Mongo!!!!\n",
      "!!!inserted  468201  to Mongo!!!!\n",
      "!!!inserted  13556  to Mongo!!!!\n",
      "!!!inserted  1942775  to Mongo!!!!\n",
      "!!!inserted  1277  to Mongo!!!!\n",
      "!!!inserted  2426112  to Mongo!!!!\n",
      "!!!inserted  380162  to Mongo!!!!\n",
      "!!!inserted  19715  to Mongo!!!!\n",
      "!!!inserted  410884  to Mongo!!!!\n",
      "!!!inserted  722193  to Mongo!!!!\n",
      "!!!inserted  2295060  to Mongo!!!!\n",
      "!!!inserted  44311  to Mongo!!!!\n",
      "!!!inserted  376091  to Mongo!!!!\n",
      "!!!inserted  1860893  to Mongo!!!!\n",
      "!!!inserted  707870  to Mongo!!!!\n",
      "!!!inserted  2153759  to Mongo!!!!\n",
      "!!!inserted  658724  to Mongo!!!!\n",
      "!!!inserted  1318  to Mongo!!!!\n",
      "!!!inserted  30258  to Mongo!!!!\n",
      "!!!inserted  521525  to Mongo!!!!\n",
      "!!!inserted  2297738  to Mongo!!!!\n",
      "!!!inserted  392510  to Mongo!!!!\n",
      "!!!inserted  357695  to Mongo!!!!\n",
      "!!!inserted  48453  to Mongo!!!!\n",
      "!!!inserted  2315590  to Mongo!!!!\n",
      "!!!inserted  699959  to Mongo!!!!\n",
      "!!!inserted  94434  to Mongo!!!!\n",
      "!!!inserted  13648  to Mongo!!!!\n",
      "!!!inserted  378195  to Mongo!!!!\n",
      "!!!inserted  13656  to Mongo!!!!\n",
      "!!!inserted  2409818  to Mongo!!!!\n",
      "!!!inserted  1779037  to Mongo!!!!\n",
      "!!!inserted  1944935  to Mongo!!!!\n",
      "!!!inserted  533873  to Mongo!!!!\n",
      "!!!inserted  389694  to Mongo!!!!\n",
      "!!!inserted  451958  to Mongo!!!!\n",
      "!!!inserted  722296  to Mongo!!!!\n",
      "!!!inserted  19348  to Mongo!!!!\n",
      "!!!inserted  38270  to Mongo!!!!\n",
      "!!!inserted  720259  to Mongo!!!!\n",
      "!!!inserted  433542  to Mongo!!!!\n",
      "!!!inserted  62862  to Mongo!!!!\n",
      "!!!inserted  2332048  to Mongo!!!!\n",
      "!!!inserted  23955  to Mongo!!!!\n",
      "!!!inserted  583  to Mongo!!!!\n",
      "!!!inserted  310705  to Mongo!!!!\n",
      "!!!inserted  290230  to Mongo!!!!\n",
      "!!!inserted  110010  to Mongo!!!!\n",
      "!!!inserted  2119099  to Mongo!!!!\n",
      "!!!inserted  329151  to Mongo!!!!\n",
      "!!!inserted  38340  to Mongo!!!!\n",
      "!!!inserted  476615  to Mongo!!!!\n",
      "!!!inserted  56776  to Mongo!!!!\n",
      "!!!inserted  112079  to Mongo!!!!\n",
      "!!!inserted  417235  to Mongo!!!!\n",
      "!!!inserted  1791444  to Mongo!!!!\n",
      "!!!inserted  1493  to Mongo!!!!\n",
      "!!!inserted  591  to Mongo!!!!\n",
      "!!!inserted  2086372  to Mongo!!!!\n",
      "!!!inserted  114153  to Mongo!!!!\n",
      "!!!inserted  1517  to Mongo!!!!\n",
      "!!!inserted  703741  to Mongo!!!!\n",
      "!!!inserted  1620904  to Mongo!!!!\n",
      "!!!inserted  372211  to Mongo!!!!\n",
      "!!!inserted  2018804  to Mongo!!!!\n",
      "!!!inserted  556538  to Mongo!!!!\n",
      "!!!inserted  9723  to Mongo!!!!\n",
      "!!!inserted  245249  to Mongo!!!!\n",
      "!!!inserted  403031  to Mongo!!!!\n",
      "!!!inserted  2262544  to Mongo!!!!\n",
      "!!!inserted  914961  to Mongo!!!!\n",
      "!!!inserted  1283  to Mongo!!!!\n",
      "!!!inserted  2117152  to Mongo!!!!\n",
      "!!!inserted  513574  to Mongo!!!!\n",
      "!!!inserted  7722  to Mongo!!!!\n",
      "!!!inserted  3627  to Mongo!!!!\n",
      "!!!inserted  226866  to Mongo!!!!\n",
      "!!!inserted  130616  to Mongo!!!!\n",
      "!!!inserted  1637950  to Mongo!!!!\n",
      "!!!inserted  56902  to Mongo!!!!\n",
      "!!!inserted  2055751  to Mongo!!!!\n",
      "!!!inserted  1931490  to Mongo!!!!\n",
      "!!!inserted  1612  to Mongo!!!!\n",
      "!!!inserted  8120  to Mongo!!!!\n",
      "!!!inserted  156955  to Mongo!!!!\n",
      "!!!inserted  742999  to Mongo!!!!\n",
      "!!!inserted  1869407  to Mongo!!!!\n",
      "!!!inserted  1980001  to Mongo!!!!\n",
      "!!!inserted  394854  to Mongo!!!!\n",
      "!!!inserted  2295400  to Mongo!!!!\n",
      "!!!inserted  1574514  to Mongo!!!!\n",
      "!!!inserted  2145913  to Mongo!!!!\n",
      "!!!inserted  118395  to Mongo!!!!\n",
      "!!!inserted  210558  to Mongo!!!!\n",
      "!!!inserted  491142  to Mongo!!!!\n",
      "!!!inserted  2434697  to Mongo!!!!\n",
      "!!!inserted  693900  to Mongo!!!!\n",
      "!!!inserted  2416274  to Mongo!!!!\n",
      "!!!inserted  2100885  to Mongo!!!!\n",
      "!!!inserted  2176665  to Mongo!!!!\n",
      "!!!inserted  2123421  to Mongo!!!!\n",
      "!!!inserted  607906  to Mongo!!!!\n",
      "!!!inserted  1365667  to Mongo!!!!\n",
      "!!!inserted  1242795  to Mongo!!!!\n",
      "!!!inserted  122542  to Mongo!!!!\n",
      "!!!inserted  54967  to Mongo!!!!\n",
      "!!!inserted  2408122  to Mongo!!!!\n",
      "!!!inserted  2176703  to Mongo!!!!\n",
      "!!!inserted  124611  to Mongo!!!!\n",
      "!!!inserted  2178762  to Mongo!!!!\n",
      "!!!inserted  5835  to Mongo!!!!\n",
      "!!!inserted  700112  to Mongo!!!!\n",
      "!!!inserted  20179  to Mongo!!!!\n",
      "!!!inserted  218837  to Mongo!!!!\n",
      "!!!inserted  601817  to Mongo!!!!\n",
      "!!!inserted  607964  to Mongo!!!!\n",
      "!!!inserted  743136  to Mongo!!!!\n",
      "!!!inserted  1666786  to Mongo!!!!\n",
      "!!!inserted  2373349  to Mongo!!!!\n",
      "!!!inserted  428668  to Mongo!!!!\n",
      "!!!inserted  2178795  to Mongo!!!!\n",
      "!!!inserted  2275965  to Mongo!!!!\n",
      "!!!inserted  319225  to Mongo!!!!\n",
      "!!!inserted  114429  to Mongo!!!!\n",
      "!!!inserted  2228864  to Mongo!!!!\n",
      "!!!inserted  1560323  to Mongo!!!!\n",
      "!!!inserted  452357  to Mongo!!!!\n",
      "!!!inserted  716553  to Mongo!!!!\n",
      "!!!inserted  1805  to Mongo!!!!\n",
      "!!!inserted  1820438  to Mongo!!!!\n",
      "!!!inserted  983001  to Mongo!!!!\n",
      "!!!inserted  2342690  to Mongo!!!!\n",
      "!!!inserted  2332455  to Mongo!!!!\n",
      "!!!inserted  2420521  to Mongo!!!!\n",
      "!!!inserted  1541932  to Mongo!!!!\n",
      "!!!inserted  2324269  to Mongo!!!!\n",
      "!!!inserted  698675  to Mongo!!!!\n",
      "!!!inserted  2268248  to Mongo!!!!\n",
      "!!!inserted  51003  to Mongo!!!!\n",
      "!!!inserted  734517  to Mongo!!!!\n",
      "!!!inserted  1943366  to Mongo!!!!\n",
      "!!!inserted  2414561  to Mongo!!!!\n",
      "!!!inserted  118602  to Mongo!!!!\n",
      "!!!inserted  87884  to Mongo!!!!\n",
      "!!!inserted  2287448  to Mongo!!!!\n",
      "!!!inserted  2414425  to Mongo!!!!\n",
      "!!!inserted  2408283  to Mongo!!!!\n",
      "!!!inserted  200546  to Mongo!!!!\n",
      "!!!inserted  61287  to Mongo!!!!\n",
      "!!!inserted  282475  to Mongo!!!!\n",
      "!!!inserted  409461  to Mongo!!!!\n",
      "!!!inserted  24440  to Mongo!!!!\n",
      "!!!inserted  741241  to Mongo!!!!\n",
      "!!!inserted  186250  to Mongo!!!!\n",
      "!!!inserted  729410  to Mongo!!!!\n",
      "!!!inserted  3984  to Mongo!!!!\n",
      "!!!inserted  2254750  to Mongo!!!!\n",
      "!!!inserted  307105  to Mongo!!!!\n",
      "!!!inserted  427939  to Mongo!!!!\n",
      "!!!inserted  206760  to Mongo!!!!\n",
      "!!!inserted  2068393  to Mongo!!!!\n",
      "!!!inserted  1996715  to Mongo!!!!\n",
      "!!!inserted  2334638  to Mongo!!!!\n",
      "!!!inserted  530356  to Mongo!!!!\n",
      "!!!inserted  2308425  to Mongo!!!!\n",
      "!!!inserted  51128  to Mongo!!!!\n",
      "!!!inserted  1800122  to Mongo!!!!\n",
      "!!!inserted  92490  to Mongo!!!!\n",
      "!!!inserted  2181057  to Mongo!!!!\n",
      "!!!inserted  2379715  to Mongo!!!!\n",
      "!!!inserted  33782  to Mongo!!!!\n",
      "!!!inserted  1993  to Mongo!!!!\n",
      "!!!inserted  1698  to Mongo!!!!\n",
      "!!!inserted  73037  to Mongo!!!!\n",
      "!!!inserted  1935314  to Mongo!!!!\n",
      "!!!inserted  2205656  to Mongo!!!!\n",
      "!!!inserted  2424793  to Mongo!!!!\n",
      "!!!inserted  1978332  to Mongo!!!!\n",
      "!!!inserted  71649  to Mongo!!!!\n",
      "!!!inserted  1986530  to Mongo!!!!\n",
      "!!!inserted  57315  to Mongo!!!!\n",
      "!!!inserted  1402857  to Mongo!!!!\n",
      "!!!inserted  2215917  to Mongo!!!!\n"
     ]
    }
   ],
   "source": [
    "for songid in newsongs:\n",
    "    if s.find({'id':songid}).count()>0:\n",
    "#         print \"song id \", songid, \" in Mongo already\"\n",
    "        continue\n",
    "    else:\n",
    "        try:\n",
    "            annotated = annotate_song(songid)\n",
    "            s.insert_one(annotated)\n",
    "            print \"!!!inserted \", songid, \" to Mongo!!!!\"\n",
    "            time.sleep(7)\n",
    "        except:\n",
    "            unable_to_insert.append(songid)\n",
    "            continue"
   ]
  },
  {
   "cell_type": "code",
   "execution_count": null,
   "metadata": {
    "collapsed": true
   },
   "outputs": [],
   "source": []
  },
  {
   "cell_type": "code",
   "execution_count": null,
   "metadata": {
    "collapsed": true
   },
   "outputs": [],
   "source": []
  },
  {
   "cell_type": "code",
   "execution_count": null,
   "metadata": {
    "collapsed": true
   },
   "outputs": [],
   "source": []
  },
  {
   "cell_type": "code",
   "execution_count": null,
   "metadata": {
    "collapsed": true
   },
   "outputs": [],
   "source": []
  },
  {
   "cell_type": "code",
   "execution_count": null,
   "metadata": {
    "collapsed": true
   },
   "outputs": [],
   "source": []
  },
  {
   "cell_type": "code",
   "execution_count": null,
   "metadata": {
    "collapsed": true
   },
   "outputs": [],
   "source": []
  },
  {
   "cell_type": "code",
   "execution_count": null,
   "metadata": {
    "collapsed": true
   },
   "outputs": [],
   "source": []
  },
  {
   "cell_type": "code",
   "execution_count": null,
   "metadata": {
    "collapsed": true
   },
   "outputs": [],
   "source": []
  },
  {
   "cell_type": "code",
   "execution_count": null,
   "metadata": {
    "collapsed": true
   },
   "outputs": [],
   "source": []
  },
  {
   "cell_type": "code",
   "execution_count": null,
   "metadata": {
    "collapsed": true
   },
   "outputs": [],
   "source": []
  },
  {
   "cell_type": "code",
   "execution_count": null,
   "metadata": {
    "collapsed": true
   },
   "outputs": [],
   "source": []
  },
  {
   "cell_type": "code",
   "execution_count": 27,
   "metadata": {
    "collapsed": true
   },
   "outputs": [],
   "source": [
    "to_be_updated = [('Summer_Sixteen_Drake.pkl', 'Summer_Sixteen_Drake_annotated.pkl'), \n",
    "('Hercules_Young_Thug.pkl', 'Hercules_Young_Thug_annotated.pkl'),\n",
    "('Solo_ILoveMakonnen.pkl', 'Solo_ILoveMakonnen_annotated.pkl'),\n",
    "('Bake_Sale_Wiz_Khalifa.pkl', 'Bake_Sale_Wiz_Khalifa_annotated.pkl'),\n",
    "('Low_Life_Future.pkl', 'Low_Life_Future_annotated.pkl'),\n",
    "('Love_Yourz_J._Cole.pkl', 'Love_Yourz_J._Cole_annotated.pkl'),\n",
    "('Work_Rihanna.pkl', 'Work_Rihanna_annotated.pkl'),\n",
    "('Gotta_Lotta_2_Chainz_&_Lil_Wayne.pkl', 'Gotta_Lotta_2_Chainz_&_Lil_Wayne_annotated.pkl'),\n",
    "('Saved_Ty_Dolla_$ign.pkl', 'Saved_Ty_Dolla_$ign_annotated.pkl'),\n",
    "('New_Level_A$AP_Ferg.pkl', 'New_Level_A$AP_Ferg_annotated.pkl'),\n",
    "('2_Phones_Kevin_Gates.pkl', '2_Phones_Kevin_Gates_annotated.pkl'),\n",
    "('Cut_It_O.T._Genasis.pkl', 'Cut_It_O.T._Genasis_annotated.pkl'),\n",
    "('Plug_Rich_The_Kid.pkl', 'Plug_Rich_The_Kid_annotated.pkl'),\n",
    "('Law_Yo_Gotti.pkl', 'Law_Yo_Gotti_annotated.pkl'),\n",
    "('Best_Friend_Young_Thug.pkl', 'Best_Friend_Young_Thug_annotated.pkl'),\n",
    "('Pass_Dat_Jeremih.pkl', 'Pass_Dat_Jeremih_annotated.pkl'),\n",
    "('Exchange_Bryson_Tiller.pkl', 'Exchange_Bryson_Tiller_annotated.pkl'),\n",
    "('Ready_Chaz_French.pkl', 'Ready_Chaz_French_annotated.pkl'),\n",
    "('Weekend_Mac_Miller.pkl', 'Weekend_Mac_Miller_annotated.pkl'),\n",
    "('Ladies_Hit_Squad_Skepta.pkl', 'Ladies_Hit_Squad_Skepta_annotated.pkl'),\n",
    "('Moolah_Young_Greatness.pkl', 'Moolah_Young_Greatness_annotated.pkl'),\n",
    "('Walked_In_Bankroll_Fresh.pkl', 'Walked_In_Bankroll_Fresh_annotated.pkl'),\n",
    "('Sorry_Not_Sorry_Bryson_Tiller.pkl', 'Sorry_Not_Sorry_Bryson_Tiller_annotated.pkl'),\n",
    "('Photo_Copied_Future.pkl', 'Photo_Copied_Future_annotated.pkl'),\n",
    "('By_Chance_Mike_WiLL_Made_It.pkl', 'By_Chance_Mike_WiLL_Made_It_annotated.pkl'),\n",
    "('Key_To_The_Streets_YFN_Lucci.pkl', 'Key_To_The_Streets_YFN_Lucci_annotated.pkl'),\n",
    "('Money_Talk_T.I..pkl', 'Money_Talk_T.I._annotated.pkl'),\n",
    "('Top_Lil_Uzi_Vert.pkl', 'Top_Lil_Uzi_Vert_annotated.pkl'),\n",
    "(\"Pushin'_ILoveMakonnen.pkl\", \"Pushin'_ILoveMakonnen_annotated.pkl\"),\n",
    "('Bounce_2_Chainz_&_Lil_Wayne.pkl', 'Bounce_2_Chainz_&_Lil_Wayne_annotated.pkl'),\n",
    "('Slugs_Trae_tha_Truth.pkl', 'Slugs_Trae_tha_Truth_annotated.pkl')]"
   ]
  },
  {
   "cell_type": "code",
   "execution_count": 36,
   "metadata": {
    "collapsed": true
   },
   "outputs": [],
   "source": [
    "def update_annotation(song):\n",
    "    song_json = pickleLoad(song[0])\n",
    "    song_info = pickleLoad(song[1])\n",
    "    \n",
    "    if song_json['response']['song']['sampled_songs']:\n",
    "        song_info['sampled_songs'] = song_json['response']['song']['sampled_songs']\n",
    "    if song_json['response']['song']['sampling_songs']:\n",
    "        song_info['sampling_songs'] = song_json['response']['song']['sampling_songs']\n",
    "        \n",
    "    song_info['artist'] = str(song_json['response']['song']['primary_artist']['name'])\n",
    "    song_info['artist_id'] = song_json['response']['song']['primary_artist']['id']\n",
    "    \n",
    "    return song_info"
   ]
  },
  {
   "cell_type": "code",
   "execution_count": 37,
   "metadata": {
    "collapsed": false
   },
   "outputs": [],
   "source": [
    "summersixteen = update_annotation(to_be_updated[0])"
   ]
  },
  {
   "cell_type": "code",
   "execution_count": 42,
   "metadata": {
    "collapsed": false
   },
   "outputs": [
    {
     "data": {
      "text/plain": [
       "2415289"
      ]
     },
     "execution_count": 42,
     "metadata": {},
     "output_type": "execute_result"
    }
   ],
   "source": [
    "summersixteen['id']"
   ]
  },
  {
   "cell_type": "code",
   "execution_count": 40,
   "metadata": {
    "collapsed": false
   },
   "outputs": [
    {
     "name": "stderr",
     "output_type": "stream",
     "text": [
      "/anaconda/lib/python2.7/site-packages/ipykernel/__main__.py:1: DeprecationWarning: update is deprecated. Use replace_one, update_one or update_many instead.\n",
      "  if __name__ == '__main__':\n"
     ]
    },
    {
     "data": {
      "text/plain": [
       "{u'n': 1, u'nModified': 1, u'ok': 1, 'updatedExisting': True}"
      ]
     },
     "execution_count": 40,
     "metadata": {},
     "output_type": "execute_result"
    }
   ],
   "source": [
    "s.update_one({'id':2415289}, summersixteen)"
   ]
  },
  {
   "cell_type": "code",
   "execution_count": 41,
   "metadata": {
    "collapsed": false
   },
   "outputs": [
    {
     "data": {
      "text/plain": [
       "{u'_id': ObjectId('56ef4e178957421b672a9613'),\n",
       " u'album': {u'id': 132506, u'name': u'Views From The 6'},\n",
       " u'artist': u'Drake',\n",
       " u'artist_id': 130,\n",
       " u'description_refs': {u'album': [{u'id': u'132506',\n",
       "    u'name': u'Views From The 6'}],\n",
       "  u'other': [{u'id': u'2415314', u'title': u'War Pain'}],\n",
       "  u'song_unannotated': [{u'id': u'2413886'}]},\n",
       " u'id': 2415289,\n",
       " u'producers': [{u'artist': u'Noah \\u201c40\\u201d Shebib', u'id': 27612},\n",
       "  {u'artist': u'Boi-1da', u'id': 662},\n",
       "  {u'artist': u'Brian Bennett', u'id': 634949},\n",
       "  {u'artist': u'Cubeatz', u'id': 32429}],\n",
       " u'references': {u'album': [{u'id': u'120604', u'name': u'The Life of Pablo'}],\n",
       "  u'artist': [{u'id': u'1632', u'name': u'Tory Lanez'},\n",
       "   {u'id': u'1632', u'name': u'Tory Lanez'},\n",
       "   {u'id': u'27638', u'name': u'KeY Wane'},\n",
       "   {u'id': u'1319', u'name': u'Meek Mill'}],\n",
       "  u'other': [{u'id': u'1791', u'title': u'Gorgeous'}],\n",
       "  u'song_unannotated': [{u'id': u'2310122'},\n",
       "   {u'id': u'140752'},\n",
       "   {u'id': u'217266'},\n",
       "   {u'id': u'2396836'},\n",
       "   {u'id': u'156640'},\n",
       "   {u'id': u'73301'},\n",
       "   {u'id': u'196551'},\n",
       "   {u'id': u'51360'},\n",
       "   {u'id': u'703742'},\n",
       "   {u'id': u'2266961'}]},\n",
       " u'sampled_songs': [{u'annotation_count': 1,\n",
       "   u'full_title': u'The Question Is by\\xa0The\\xa0Winans',\n",
       "   u'header_image_thumbnail_url': u'https://images.rapgenius.com/13359c33af1a893ebbdbd2486be6e4c9.300x300x1.jpg',\n",
       "   u'header_image_url': u'https://images.rapgenius.com/13359c33af1a893ebbdbd2486be6e4c9.600x600x1.jpg',\n",
       "   u'id': 1366283,\n",
       "   u'path': u'/The-winans-the-question-is-lyrics',\n",
       "   u'primary_artist': {u'id': 372361,\n",
       "    u'image_url': u'https://images.rapgenius.com/6b8da21c48d301d854d60d05738c6b50.500x333x1.jpg',\n",
       "    u'is_verified': False,\n",
       "    u'name': u'The Winans',\n",
       "    u'url': u'http://genius.com/artists/The-winans'},\n",
       "   u'pyongs_count': None,\n",
       "   u'title': u'The Question Is',\n",
       "   u'url': u'http://genius.com/The-winans-the-question-is-lyrics'}],\n",
       " u'title': u'Summer Sixteen'}"
      ]
     },
     "execution_count": 41,
     "metadata": {},
     "output_type": "execute_result"
    }
   ],
   "source": [
    "s.find({'id':2415289}).next()"
   ]
  },
  {
   "cell_type": "code",
   "execution_count": 43,
   "metadata": {
    "collapsed": false
   },
   "outputs": [
    {
     "data": {
      "text/plain": [
       "43"
      ]
     },
     "execution_count": 43,
     "metadata": {},
     "output_type": "execute_result"
    }
   ],
   "source": [
    "s.count()"
   ]
  },
  {
   "cell_type": "code",
   "execution_count": 44,
   "metadata": {
    "collapsed": true
   },
   "outputs": [],
   "source": [
    "for thesong in to_be_updated:\n",
    "    try:\n",
    "        newanno = update_annotation(thesong)\n",
    "        songid = newanno['id']\n",
    "        s.update_one({'id':songid}, newanno)\n",
    "    except:\n",
    "        \"unable to update song: \", thesong[0]"
   ]
  },
  {
   "cell_type": "code",
   "execution_count": 45,
   "metadata": {
    "collapsed": false
   },
   "outputs": [
    {
     "data": {
      "text/plain": [
       "43"
      ]
     },
     "execution_count": 45,
     "metadata": {},
     "output_type": "execute_result"
    }
   ],
   "source": [
    "s.count()"
   ]
  },
  {
   "cell_type": "code",
   "execution_count": 46,
   "metadata": {
    "collapsed": false
   },
   "outputs": [
    {
     "data": {
      "text/plain": [
       "{u'_id': ObjectId('56ef3685895742130ba296f8'),\n",
       " u'album': {u'id': 129747, u'name': u'Fetty Wap '},\n",
       " u'artist': u'Fetty Wap',\n",
       " u'artist_id': 216609.0,\n",
       " u'description_refs': {u'song_unannotated': [{u'id': u'496445'}]},\n",
       " u'featured_artists': [{u'artist': u'Monty', u'id': 19635}],\n",
       " u'id': 653082,\n",
       " u'producers': [{u'artist': u'JayFrance', u'id': 557945},\n",
       "  {u'artist': u'Nick EBeats', u'id': 72396}],\n",
       " u'references': {u'artist': [{u'id': u'7031', u'name': u'Luther Vandross'}],\n",
       "  u'song_unannotated': [{u'id': u'496445'}]},\n",
       " u'title': u'My Way',\n",
       " u'writers': [{u'artist': u'Remy Boyz', u'id': 211094}]}"
      ]
     },
     "execution_count": 46,
     "metadata": {},
     "output_type": "execute_result"
    }
   ],
   "source": [
    "s.find({'description_refs.song_unnannotated': {'$exists': true}},\n",
    "        {'description_refs.song_unannotated'})"
   ]
  },
  {
   "cell_type": "code",
   "execution_count": 95,
   "metadata": {
    "collapsed": false
   },
   "outputs": [
    {
     "data": {
      "text/plain": [
       "{u'_id': ObjectId('56ef3685895742130ba296f8'),\n",
       " u'album': {u'id': 129747, u'name': u'Fetty Wap '},\n",
       " u'artist': u'Fetty Wap',\n",
       " u'artist_id': 216609.0,\n",
       " u'description_refs': {u'song_unannotated': [{u'id': u'496445'}]},\n",
       " u'featured_artists': [{u'artist': u'Monty', u'id': 19635}],\n",
       " u'id': 653082,\n",
       " u'producers': [{u'artist': u'JayFrance', u'id': 557945},\n",
       "  {u'artist': u'Nick EBeats', u'id': 72396}],\n",
       " u'references': {u'artist': [{u'id': u'7031', u'name': u'Luther Vandross'}],\n",
       "  u'song_unannotated': [{u'id': u'496445'}]},\n",
       " u'title': u'My Way',\n",
       " u'writers': [{u'artist': u'Remy Boyz', u'id': 211094}]}"
      ]
     },
     "execution_count": 95,
     "metadata": {},
     "output_type": "execute_result"
    }
   ],
   "source": [
    "s.find({'description_refs.song_unannotated': {'$eq':653082}}).next()"
   ]
  },
  {
   "cell_type": "code",
   "execution_count": 96,
   "metadata": {
    "collapsed": false
   },
   "outputs": [
    {
     "data": {
      "text/plain": [
       "{u'_id': ObjectId('56ef3685895742130ba296f8'),\n",
       " u'album': {u'id': 129747, u'name': u'Fetty Wap '},\n",
       " u'artist': u'Fetty Wap',\n",
       " u'artist_id': 216609.0,\n",
       " u'description_refs': {u'song_unannotated': [{u'id': u'496445'}]},\n",
       " u'featured_artists': [{u'artist': u'Monty', u'id': 19635}],\n",
       " u'id': 653082,\n",
       " u'producers': [{u'artist': u'JayFrance', u'id': 557945},\n",
       "  {u'artist': u'Nick EBeats', u'id': 72396}],\n",
       " u'references': {u'artist': [{u'id': u'7031', u'name': u'Luther Vandross'}],\n",
       "  u'song_unannotated': [{u'id': u'496445'}]},\n",
       " u'title': u'My Way',\n",
       " u'writers': [{u'artist': u'Remy Boyz', u'id': 211094}]}"
      ]
     },
     "execution_count": 96,
     "metadata": {},
     "output_type": "execute_result"
    }
   ],
   "source": [
    "s.find({'description_refs.song_unannotated': {'$elemMatch':{'id':'496445'}}}).next()"
   ]
  },
  {
   "cell_type": "code",
   "execution_count": 76,
   "metadata": {
    "collapsed": true
   },
   "outputs": [],
   "source": [
    "more_songs = []"
   ]
  },
  {
   "cell_type": "code",
   "execution_count": 407,
   "metadata": {
    "collapsed": false
   },
   "outputs": [],
   "source": [
    "c = s.find({'description_refs.song_unannotated': {'$exists': 'true'}},\n",
    "        {'description_refs.song_unannotated': 1, '_id':0})"
   ]
  },
  {
   "cell_type": "code",
   "execution_count": 406,
   "metadata": {
    "collapsed": true
   },
   "outputs": [],
   "source": [
    "r = s.find({'references.song_unannotated': {'$exists': 'true'}},\n",
    "        {'references.song_unannotated': 1, '_id':0})"
   ]
  },
  {
   "cell_type": "code",
   "execution_count": 400,
   "metadata": {
    "collapsed": true
   },
   "outputs": [],
   "source": [
    "supposedly_unannotated = []"
   ]
  },
  {
   "cell_type": "code",
   "execution_count": 408,
   "metadata": {
    "collapsed": true
   },
   "outputs": [],
   "source": [
    "for i in list(c):\n",
    "    for song in i['description_refs']['song_unannotated']:\n",
    "        supposedly_unannotated.append(int(song['id']))\n",
    "for i in list(r):\n",
    "    for song in i['references']['song_unannotated']:\n",
    "        supposedly_unannotated.append(int(song['id']))"
   ]
  },
  {
   "cell_type": "code",
   "execution_count": 81,
   "metadata": {
    "collapsed": false
   },
   "outputs": [],
   "source": [
    "for i in list(c):\n",
    "    for song in i['description_refs']['song_unannotated']:\n",
    "        more_songs.append(int(song['id']))\n",
    "for i in list(r):\n",
    "    for song in i['references']['song_unannotated']:\n",
    "        more_songs.append(int(song['id']))"
   ]
  },
  {
   "cell_type": "code",
   "execution_count": 116,
   "metadata": {
    "collapsed": false
   },
   "outputs": [
    {
     "data": {
      "text/plain": [
       "[{u'_id': ObjectId('56ef4e178957421b672a9613'),\n",
       "  u'album': {u'id': 132506, u'name': u'Views From The 6'},\n",
       "  u'artist': u'Drake',\n",
       "  u'artist_id': 130,\n",
       "  u'description_refs': {u'album': [{u'id': u'132506',\n",
       "     u'name': u'Views From The 6'}],\n",
       "   u'other': [{u'id': u'2415314', u'title': u'War Pain'}],\n",
       "   u'song_unannotated': [{u'id': u'2413886'}]},\n",
       "  u'id': 2415289,\n",
       "  u'producers': [{u'artist': u'Noah \\u201c40\\u201d Shebib', u'id': 27612},\n",
       "   {u'artist': u'Boi-1da', u'id': 662},\n",
       "   {u'artist': u'Brian Bennett', u'id': 634949},\n",
       "   {u'artist': u'Cubeatz', u'id': 32429}],\n",
       "  u'references': {u'album': [{u'id': u'120604',\n",
       "     u'name': u'The Life of Pablo'}],\n",
       "   u'artist': [{u'id': u'1632', u'name': u'Tory Lanez'},\n",
       "    {u'id': u'1632', u'name': u'Tory Lanez'},\n",
       "    {u'id': u'27638', u'name': u'KeY Wane'},\n",
       "    {u'id': u'1319', u'name': u'Meek Mill'}],\n",
       "   u'other': [{u'id': u'1791', u'title': u'Gorgeous'}],\n",
       "   u'song_unannotated': [{u'id': u'2310122'},\n",
       "    {u'id': u'140752'},\n",
       "    {u'id': u'217266'},\n",
       "    {u'id': u'2396836'},\n",
       "    {u'id': u'156640'},\n",
       "    {u'id': u'73301'},\n",
       "    {u'id': u'196551'},\n",
       "    {u'id': u'51360'},\n",
       "    {u'id': u'703742'},\n",
       "    {u'id': u'2266961'}]},\n",
       "  u'sampled_songs': [{u'annotation_count': 1,\n",
       "    u'full_title': u'The Question Is by\\xa0The\\xa0Winans',\n",
       "    u'header_image_thumbnail_url': u'https://images.rapgenius.com/13359c33af1a893ebbdbd2486be6e4c9.300x300x1.jpg',\n",
       "    u'header_image_url': u'https://images.rapgenius.com/13359c33af1a893ebbdbd2486be6e4c9.600x600x1.jpg',\n",
       "    u'id': 1366283,\n",
       "    u'path': u'/The-winans-the-question-is-lyrics',\n",
       "    u'primary_artist': {u'id': 372361,\n",
       "     u'image_url': u'https://images.rapgenius.com/6b8da21c48d301d854d60d05738c6b50.500x333x1.jpg',\n",
       "     u'is_verified': False,\n",
       "     u'name': u'The Winans',\n",
       "     u'url': u'http://genius.com/artists/The-winans'},\n",
       "    u'pyongs_count': None,\n",
       "    u'title': u'The Question Is',\n",
       "    u'url': u'http://genius.com/The-winans-the-question-is-lyrics'}],\n",
       "  u'title': u'Summer Sixteen'}]"
      ]
     },
     "execution_count": 116,
     "metadata": {},
     "output_type": "execute_result"
    }
   ],
   "source": [
    "list(s.find({'description_refs.song_unannotated':{'$elemMatch':{'id':str(2413886)}}}))"
   ]
  },
  {
   "cell_type": "code",
   "execution_count": 115,
   "metadata": {
    "collapsed": false
   },
   "outputs": [
    {
     "data": {
      "text/plain": [
       "[]"
      ]
     },
     "execution_count": 115,
     "metadata": {},
     "output_type": "execute_result"
    }
   ],
   "source": [
    "list(s.find({'description_refs.song_unannotated':{'$elemMatch':{'id':str(myway_songid)}}}))"
   ]
  },
  {
   "cell_type": "code",
   "execution_count": 103,
   "metadata": {
    "collapsed": false
   },
   "outputs": [
    {
     "name": "stderr",
     "output_type": "stream",
     "text": [
      "/anaconda/lib/python2.7/site-packages/ipykernel/__main__.py:5: DeprecationWarning: update is deprecated. Use replace_one, update_one or update_many instead.\n"
     ]
    },
    {
     "data": {
      "text/plain": [
       "{u'n': 1, u'nModified': 1, u'ok': 1, 'updatedExisting': True}"
      ]
     },
     "execution_count": 103,
     "metadata": {},
     "output_type": "execute_result"
    }
   ],
   "source": [
    "s.update({'references.song_unannotated':{'$elemMatch':{'id':str(myway_songid)}}},\n",
    "         {'$set': {'references.song': \n",
    "                   {'id':str(myway_songid), 'title':ref['title'], 'artist':ref['artist']}\n",
    "                  },\n",
    "          '$unset': {'references.song_unannotated': {'$elemMatch':{'id':str(myway_songid)}}}\n",
    "         }\n",
    ")"
   ]
  },
  {
   "cell_type": "code",
   "execution_count": 111,
   "metadata": {
    "collapsed": false
   },
   "outputs": [
    {
     "name": "stderr",
     "output_type": "stream",
     "text": [
      "/anaconda/lib/python2.7/site-packages/ipykernel/__main__.py:2: DeprecationWarning: update is deprecated. Use replace_one, update_one or update_many instead.\n",
      "  from ipykernel import kernelapp as app\n"
     ]
    },
    {
     "data": {
      "text/plain": [
       "{u'n': 1, u'nModified': 1, u'ok': 1, 'updatedExisting': True}"
      ]
     },
     "execution_count": 111,
     "metadata": {},
     "output_type": "execute_result"
    }
   ],
   "source": [
    "s.update({'id':2396122},\n",
    "        {'$set': {'references.song': [{'id':str(myway_songid), 'title':ref['title'], 'artist':ref['artist']}]\n",
    "                }\n",
    "        })"
   ]
  },
  {
   "cell_type": "code",
   "execution_count": 112,
   "metadata": {
    "collapsed": false
   },
   "outputs": [
    {
     "data": {
      "text/plain": [
       "{u'_id': ObjectId('56ef38dd895742130ba296f9'),\n",
       " u'album': {u'id': 140468, u'name': u'Summer In The Winter'},\n",
       " u'artist': u'Kid Ink',\n",
       " u'artist_id': 1631.0,\n",
       " u'description_refs': {u'album': [{u'id': u'140468',\n",
       "    u'name': u'Summer In The Winter'}]},\n",
       " u'featured_artists': [{u'artist': u'Fetty Wap', u'id': 216609}],\n",
       " u'id': 2396122,\n",
       " u'producers': [{u'artist': u'DJ Mustard', u'id': 29780}],\n",
       " u'references': {u'album': [{u'id': u'10137',\n",
       "    u'name': u'The King of Crunk & BME Recordings Present Lil Scrappy & Trillville'}],\n",
       "  u'artist': [{u'id': u'17560', u'name': u'Ca$h Out'},\n",
       "   {u'id': u'29780', u'name': u'DJ Mustard'},\n",
       "   {u'id': u'134', u'name': u'Trillville'}],\n",
       "  u'other': [{u'id': u'583442', u'title': u'Kill Bill- Opening Scene'}],\n",
       "  u'song': [{u'artist': u'Fetty Wap', u'id': u'653082', u'title': u'My Way'}]},\n",
       " u'title': u'Promise'}"
      ]
     },
     "execution_count": 112,
     "metadata": {},
     "output_type": "execute_result"
    }
   ],
   "source": [
    "s.find({'id':2396122}).next()"
   ]
  },
  {
   "cell_type": "code",
   "execution_count": 121,
   "metadata": {
    "collapsed": true
   },
   "outputs": [],
   "source": [
    "def insert_neighbors(neighbors):\n",
    "    cant_insert = []\n",
    "    for songid in neighbors:\n",
    "        if s.find({'id':songid}).count()>0:\n",
    "            print \"song id \", songid, \" in Mongo already\"\n",
    "            continue\n",
    "        else:\n",
    "            try:\n",
    "                annotated = annotate_song(songid)\n",
    "                s.insert_one(annotated)\n",
    "                print \"inserted \", songid, \" to Mongo!!\"\n",
    "                to_insert = {'id':songid, 'title':annotated['title'], 'artist':annotated['artist']}\n",
    "                s.update({'references.song_unannotated':{'$elemMatch':{'id':str(songid)}}},\n",
    "                         {'$push': {'references.song': to_insert},\n",
    "                          '$unset': {'references.song_unannotated': {'$elemMatch':{'id':str(songid)}}}\n",
    "                         })\n",
    "                s.update({'description_refs.song_unannotated':{'$elemMatch':{'id':str(songid)}}},\n",
    "                 {'$push': {'description_refs.song': to_insert\n",
    "                            },\n",
    "                  '$unset': {'description_refs.song_unannotated': {'$elemMatch':{'id':str(songid)}}}\n",
    "                 })\n",
    "                time.sleep(7)\n",
    "            except:\n",
    "                cant_insert.append(songid)\n",
    "                continue"
   ]
  },
  {
   "cell_type": "code",
   "execution_count": 118,
   "metadata": {
    "collapsed": false
   },
   "outputs": [
    {
     "name": "stdout",
     "output_type": "stream",
     "text": [
      "calling artistid:  211094\n",
      "artist name:  Remy Boyz\n",
      "calling artistid:  216609\n",
      "artist name:  Fetty Wap\n",
      "calling artistid:  19635\n",
      "artist name:  Monty\n",
      "calling artistid:  324091\n",
      "artist name:  P-Dice\n",
      "inserted "
     ]
    },
    {
     "name": "stderr",
     "output_type": "stream",
     "text": [
      "/anaconda/lib/python2.7/site-packages/ipykernel/__main__.py:15: DeprecationWarning: update is deprecated. Use replace_one, update_one or update_many instead.\n",
      "/anaconda/lib/python2.7/site-packages/ipykernel/__main__.py:20: DeprecationWarning: update is deprecated. Use replace_one, update_one or update_many instead.\n"
     ]
    },
    {
     "name": "stdout",
     "output_type": "stream",
     "text": [
      " 496445  to Mongo!!\n",
      "calling albumid:  132506\n",
      "album name:  Views From The 6\n",
      "inserted  2413886  to Mongo!!\n",
      "calling other:  https://api.genius.com/songs/672\n",
      "inserted  1812  to Mongo!!\n",
      "inserted  58344  to Mongo!!\n",
      "inserted  525473  to Mongo!!\n",
      "calling artistid:  1630\n",
      "artist name:  Ciara\n",
      "inserted  2213836  to Mongo!!\n",
      "inserted  583542  to Mongo!!\n",
      "calling artistid:  338\n",
      "artist name:  Busta Rhymes\n",
      "calling artistid:  338\n",
      "artist name:  Busta Rhymes\n",
      "inserted  539654  to Mongo!!\n",
      "song id  539654  in Mongo already\n",
      "inserted  2274243  to Mongo!!\n",
      "calling albumid:  143267\n",
      "album name:  EVOL\n",
      "calling albumid:  120604\n",
      "album name:  The Life of Pablo\n",
      "calling artistid:  626678\n",
      "artist name:  Desiigner\n",
      "calling artistid:  19139\n",
      "artist name:  Shy Glizzy\n",
      "inserted  2422513  to Mongo!!\n",
      "calling albumid:  129455\n",
      "album name:  T R A P S O U L\n",
      "inserted  2315263  to Mongo!!\n",
      "calling artistid:  2197\n",
      "artist name:  Future\n",
      "inserted  2172126  to Mongo!!\n",
      "calling artistid:  59\n",
      "artist name:  2Pac\n",
      "inserted  2311370  to Mongo!!\n",
      "song id  2213836  in Mongo already\n",
      "calling albumid:  131405\n",
      "album name:  What a Time to Be Alive \n",
      "calling other:  https://api.genius.com/songs/261\n",
      "calling artistid:  2197\n",
      "artist name:  Future\n",
      "calling artistid:  2197\n",
      "artist name:  Future\n",
      "calling artistid:  27822\n",
      "artist name:  Zaytoven\n",
      "calling artistid:  29978\n",
      "artist name:  Mike WiLL Made It\n",
      "calling artistid:  130\n",
      "artist name:  Drake\n",
      "calling artistid:  2\n",
      "artist name:  Jay Z\n",
      "calling artistid:  2197\n",
      "artist name:  Future\n",
      "inserted  2311366  to Mongo!!\n",
      "calling albumid:  110261\n",
      "album name:  Aquarius \n",
      "calling albumid:  118695\n",
      "album name:  Rodeo\n",
      "calling artistid:  7161\n",
      "artist name:  Mike Dean\n",
      "calling artistid:  20185\n",
      "artist name:  Travis Scott\n",
      "calling artistid:  89\n",
      "artist name:  Rihanna\n",
      "calling artistid:  89\n",
      "artist name:  Rihanna\n",
      "calling artistid:  438\n",
      "artist name:  Chris Brown\n",
      "calling artistid:  20503\n",
      "artist name:  Young Thug\n",
      "calling artistid:  2358\n",
      "artist name:  The Weeknd\n",
      "calling albumid:  118695\n",
      "album name:  Rodeo\n",
      "inserted  2399227  to Mongo!!\n",
      "inserted  558257  to Mongo!!\n",
      "inserted  2368510  to Mongo!!\n",
      "song id  496445  in Mongo already\n",
      "inserted  66225  to Mongo!!\n",
      "song id  653082  in Mongo already\n",
      "inserted  2310122  to Mongo!!\n",
      "inserted  217266  to Mongo!!\n",
      "inserted  2396836  to Mongo!!\n",
      "inserted  73301  to Mongo!!\n",
      "calling artistid:  820\n",
      "artist name:  Mac Miller\n",
      "calling artistid:  27638\n",
      "artist name:  KeY Wane\n",
      "calling artistid:  27638\n",
      "artist name:  KeY Wane\n",
      "calling artistid:  936\n",
      "artist name:  Kardinal Offishall\n",
      "inserted  196551  to Mongo!!\n",
      "inserted  51360  to Mongo!!\n",
      "inserted  703742  to Mongo!!\n",
      "calling albumid:  97218\n",
      "album name:  The Pinkprint\n",
      "calling albumid:  2627\n",
      "album name:  So Far Gone\n",
      "calling other:  https://api.genius.com/songs/601816\n",
      "calling other:  https://api.genius.com/songs/486\n",
      "calling other:  https://api.genius.com/songs/2263716\n",
      "calling other:  https://api.genius.com/songs/2263716\n",
      "calling artistid:  177756\n",
      "artist name:  Rae Sremmurd\n",
      "calling artistid:  25561\n",
      "artist name:  Tinashe\n",
      "calling artistid:  222357\n",
      "artist name:  DeJ Loaf\n",
      "calling artistid:  643\n",
      "artist name:  Pusha T\n",
      "calling artistid:  223\n",
      "artist name:  Common\n",
      "calling artistid:  92\n",
      "artist name:  Nicki Minaj\n",
      "inserted  386316  to Mongo!!\n",
      "inserted  42966  to Mongo!!\n",
      "calling other:  https://api.genius.com/songs/217981\n",
      "calling artistid:  28480\n",
      "artist name:  Illangelo\n",
      "calling artistid:  12802\n",
      "artist name:  Mano\n",
      "calling artistid:  835\n",
      "artist name:  Michael Jackson\n",
      "calling artistid:  71193\n",
      "artist name:  Alphaville\n",
      "calling albumid:  11144\n",
      "album name:  House of Balloons\n",
      "calling albumid:  127525\n",
      "album name:  Beauty Behind the Madness\n",
      "calling artistid:  835\n",
      "artist name:  Michael Jackson\n",
      "calling artistid:  27835\n",
      "artist name:  Max Martin\n",
      "inserted  729458  to Mongo!!\n",
      "song id  729458  in Mongo already\n",
      "calling other:  https://api.genius.com/songs/2214150\n",
      "calling artistid:  2197\n",
      "artist name:  Future\n",
      "calling artistid:  130\n",
      "artist name:  Drake\n",
      "inserted  2311369  to Mongo!!\n",
      "inserted  2373  to Mongo!!\n",
      "calling artistid:  42\n",
      "artist name:  The Game\n",
      "inserted  599433  to Mongo!!\n",
      "inserted  648314  to Mongo!!\n",
      "calling albumid:  132506\n",
      "album name:  Views From The 6\n",
      "calling artistid:  438\n",
      "artist name:  Chris Brown\n",
      "calling artistid:  89\n",
      "artist name:  Rihanna\n",
      "calling albumid:  40475\n",
      "album name:  Nothing Was the Same\n",
      "calling artistid:  47131\n",
      "artist name:  PARTYNEXTDOOR\n",
      "inserted  240199  to Mongo!!\n",
      "calling artistid:  25005\n",
      "artist name:  Ty Dolla $ign\n",
      "calling artistid:  65109\n",
      "artist name:  Rich The Kid\n",
      "calling artistid:  14082\n",
      "artist name:  Toro Y Moi\n",
      "inserted  2322011  to Mongo!!\n",
      "calling artistid:  69\n",
      "artist name:  J. Cole\n",
      "inserted  1932  to Mongo!!\n",
      "calling albumid:  2630\n",
      "album name:  Thank Me Later\n",
      "calling artistid:  51628\n",
      "artist name:  Weekend\n",
      "calling artistid:  1557\n",
      "artist name:  Aaliyah\n",
      "inserted  55599  to Mongo!!\n",
      "inserted  15961  to Mongo!!\n",
      "calling artistid:  1421\n",
      "artist name:  Kendrick Lamar\n",
      "calling artistid:  15369\n",
      "artist name:  A$AP Ferg\n",
      "calling artistid:  47356\n",
      "artist name:  Danny Seth\n",
      "inserted  415574  to Mongo!!\n",
      "inserted  28749  to Mongo!!\n",
      "calling artistid:  50175\n",
      "artist name:  Hustle Gang\n",
      "inserted  149774  to Mongo!!\n",
      "calling albumid:  25090\n",
      "album name:  Wrath Of Caine\n",
      "inserted  108547  to Mongo!!\n",
      "calling artistid:  13568\n",
      "artist name:  Baby Bomb\n",
      "calling artistid:  506\n",
      "artist name:  Tech N9ne\n",
      "calling artistid:  974\n",
      "artist name:  N.W.A\n",
      "calling artistid:  1421\n",
      "artist name:  Kendrick Lamar\n",
      "inserted  55662  to Mongo!!\n",
      "calling artistid:  437\n",
      "artist name:  Bobby Brackins\n",
      "calling artistid:  72\n",
      "artist name:  Kanye West\n",
      "inserted  136893  to Mongo!!\n",
      "inserted  26798  to Mongo!!\n",
      "calling artistid:  130\n",
      "artist name:  Drake\n",
      "calling artistid:  4\n",
      "artist name:  Lil Wayne\n",
      "inserted  579968  to Mongo!!\n",
      "inserted  2440697  to Mongo!!\n",
      "inserted  4849  to Mongo!!\n",
      "calling artistid:  2438\n",
      "artist name:  Whodini\n",
      "inserted  454  to Mongo!!\n",
      "calling albumid:  1031\n",
      "album name:  Creepin On Ah Come Up\n",
      "calling artistid:  7250\n",
      "artist name:  Graveyard Shift\n",
      "calling artistid:  7321\n",
      "artist name:  Mo Thugs\n",
      "calling artistid:  496\n",
      "artist name:  Eazy-E\n",
      "inserted  66  to Mongo!!\n",
      "calling albumid:  3758\n",
      "album name:  Home Invasion\n",
      "calling artistid:  27794\n",
      "artist name:  Rick Rubin\n",
      "calling artistid:  1124\n",
      "artist name:  Run-D.M.C.\n",
      "calling artistid:  1393\n",
      "artist name:  Dizzee Rascal\n",
      "calling artistid:  1256\n",
      "artist name:  Ice-T\n",
      "calling artistid:  1255\n",
      "artist name:  Brother Marquis\n",
      "inserted  497  to Mongo!!\n",
      "song id  2315263  in Mongo already\n",
      "song id  579968  in Mongo already\n",
      "song id  579968  in Mongo already\n",
      "inserted  507478  to Mongo!!\n",
      "inserted  423398  to Mongo!!\n",
      "calling artistid:  177756\n",
      "artist name:  Rae Sremmurd\n",
      "calling artistid:  92\n",
      "artist name:  Nicki Minaj\n",
      "calling artistid:  20503\n",
      "artist name:  Young Thug\n",
      "inserted  602900  to Mongo!!\n",
      "calling artistid:  455\n",
      "artist name:  Lil B\n",
      "calling artistid:  455\n",
      "artist name:  Lil B\n",
      "calling artistid:  455\n",
      "artist name:  Lil B\n",
      "inserted  2273460  to Mongo!!\n",
      "inserted  2342995  to Mongo!!\n",
      "inserted  101184  to Mongo!!\n",
      "calling albumid:  38\n",
      "album name:  All Eyez on Me\n",
      "calling artistid:  148761\n",
      "artist name:  Takeoff\n",
      "calling artistid:  59\n",
      "artist name:  2Pac\n",
      "inserted  569389  to Mongo!!\n",
      "calling albumid:  132593\n",
      "album name:  Black Market\n",
      "calling albumid:  27316\n",
      "album name:  Mastermind\n",
      "calling artistid:  272\n",
      "artist name:  Plies\n",
      "calling artistid:  2286\n",
      "artist name:  Gunplay\n",
      "calling albumid:  132593\n",
      "album name:  Black Market\n",
      "inserted  2381771  to Mongo!!\n",
      "calling artistid:  2197\n",
      "artist name:  Future\n",
      "calling artistid:  2197\n",
      "artist name:  Future\n",
      "calling artistid:  2197\n",
      "artist name:  Future\n",
      "calling artistid:  2444\n",
      "artist name:  Pimp C\n",
      "calling artistid:  5367\n",
      "artist name:  DJ Screw\n",
      "calling artistid:  7472\n",
      "artist name:  Big Hawk\n",
      "calling artistid:  2197\n",
      "artist name:  Future\n",
      "inserted  67051  to Mongo!!\n",
      "calling albumid:  12192\n",
      "album name:  Dirty Sprite\n",
      "calling artistid:  2197\n",
      "artist name:  Future\n",
      "calling artistid:  12229\n",
      "artist name:  SpaceGhostPurrp\n",
      "inserted  728784  to Mongo!!\n",
      "calling artistid:  2197\n",
      "artist name:  Future\n",
      "calling artistid:  535\n",
      "artist name:  R. Kelly\n",
      "calling other:  https://api.genius.com/songs/85\n",
      "inserted  559442  to Mongo!!\n",
      "calling artistid:  554\n",
      "artist name:  Tyga\n",
      "inserted  2214983  to Mongo!!\n",
      "inserted  499870  to Mongo!!\n",
      "song id  2399227  in Mongo already\n",
      "inserted  360730  to Mongo!!\n",
      "calling artistid:  586\n",
      "artist name:  The Beatles\n",
      "calling albumid:  80251\n",
      "album name:  Stop The Clocks\n",
      "calling albumid:  122913\n",
      "album name:  Time Flies... 1994–2009\n",
      "calling artistid:  1601\n",
      "artist name:  Paul McCartney\n",
      "calling artistid:  33327\n",
      "artist name:  George Harrison\n",
      "inserted  76654  to Mongo!!\n",
      "calling albumid:  3516\n",
      "album name:  Hard to Kill\n",
      "calling artistid:  405\n",
      "artist name:  E-40\n",
      "calling artistid:  186\n",
      "artist name:  Ice Cube\n",
      "calling artistid:  72\n",
      "artist name:  Kanye West\n",
      "inserted  21902  to Mongo!!\n",
      "inserted  59024  to Mongo!!\n",
      "song id  2426159  in Mongo already\n"
     ]
    }
   ],
   "source": [
    "insert_neighbors(more_songs)"
   ]
  },
  {
   "cell_type": "code",
   "execution_count": 120,
   "metadata": {
    "collapsed": false
   },
   "outputs": [
    {
     "data": {
      "text/plain": [
       "{u'id': u'2426159'}"
      ]
     },
     "execution_count": 120,
     "metadata": {},
     "output_type": "execute_result"
    }
   ],
   "source": [
    "song"
   ]
  },
  {
   "cell_type": "code",
   "execution_count": 122,
   "metadata": {
    "collapsed": false
   },
   "outputs": [
    {
     "ename": "NameError",
     "evalue": "name 'cant_insert' is not defined",
     "output_type": "error",
     "traceback": [
      "\u001b[0;31m---------------------------------------------------------------------------\u001b[0m",
      "\u001b[0;31mNameError\u001b[0m                                 Traceback (most recent call last)",
      "\u001b[0;32m<ipython-input-122-ab3153ed3ac0>\u001b[0m in \u001b[0;36m<module>\u001b[0;34m()\u001b[0m\n\u001b[0;32m----> 1\u001b[0;31m \u001b[0mcant_insert\u001b[0m\u001b[0;34m\u001b[0m\u001b[0m\n\u001b[0m",
      "\u001b[0;31mNameError\u001b[0m: name 'cant_insert' is not defined"
     ]
    }
   ],
   "source": [
    "cant_insert"
   ]
  },
  {
   "cell_type": "code",
   "execution_count": 123,
   "metadata": {
    "collapsed": false
   },
   "outputs": [
    {
     "data": {
      "text/plain": [
       "False"
      ]
     },
     "execution_count": 123,
     "metadata": {},
     "output_type": "execute_result"
    }
   ],
   "source": [
    "len(more_songs) == len(set(more_songs))"
   ]
  },
  {
   "cell_type": "code",
   "execution_count": 124,
   "metadata": {
    "collapsed": true
   },
   "outputs": [],
   "source": [
    "more_inserted_songs = [496445, 2413886, 1812, 58344, 525473, 2213836, \\\n",
    "    583542, 539654, 539654, 2274243, 2422513, 2315263, 2172126, 2311370, \\\n",
    "    2213836, 2311366, 2399227, 558257, 2368510, 496445, 66225, 653082, \\\n",
    "    2310122, 217266, 2396836, 73301, 196551, 51360, 703742, 386316, \\\n",
    "    42966, 729458, 729458, 2311369, 2373, 599433, 648314, 240199, \\\n",
    "    2322011, 1932, 55599, 15961, 415574, 28749, 149774, 108547, 55662, \\\n",
    "    136893, 26798, 579968, 2440697, 4849, 454, 66, 497, 2315263, 579968, \\\n",
    "    579968, 507478, 423398, 602900, 2273460, 2342995, 101184, 569389, \\\n",
    "    2381771, 67051, 728784, 559442, 2214983, 499870, 2399227, 360730, \\\n",
    "    76654, 21902, 59024, 2426159]"
   ]
  },
  {
   "cell_type": "code",
   "execution_count": 361,
   "metadata": {
    "collapsed": true
   },
   "outputs": [],
   "source": [
    "updated_refs = [2396122, 2415289, 2369079, 2396302, 599451, 2398213, 2330692, 2392485, 2425602, 2165110, 2375319, 2312297, 2394578, 2305085, 2307164, 709256, 2401700, 2344225, 2413367, 2342860, 2439141, 2347598, 2399225, 2432858, 2312325, 507478]"
   ]
  },
  {
   "cell_type": "code",
   "execution_count": 360,
   "metadata": {
    "collapsed": true
   },
   "outputs": [],
   "source": [
    "updated_desc = [2415289, 2398213, 2392485, 2348651, 2295548, 2165110, 2422646, 709256, 2417517, 2399225, 2312325, 2426159, 507478]"
   ]
  },
  {
   "cell_type": "code",
   "execution_count": 127,
   "metadata": {
    "collapsed": false
   },
   "outputs": [
    {
     "data": {
      "text/plain": [
       "33"
      ]
     },
     "execution_count": 127,
     "metadata": {},
     "output_type": "execute_result"
    }
   ],
   "source": [
    "len(inserted)"
   ]
  },
  {
   "cell_type": "code",
   "execution_count": 363,
   "metadata": {
    "collapsed": false
   },
   "outputs": [],
   "source": [
    "refs_pickles = []\n",
    "desc_pickles = []\n",
    "for docid in updated_desc:\n",
    "    data = s.find({'id':docid}, {'title':1, 'artist':1, '_id':0}).next()\n",
    "    title = data['title']\n",
    "    artist = data['artist']\n",
    "    picklename = '_'.join(title.split())+\"_\"+'_'.join(artist.split())+\"_annotated.pkl\"\n",
    "    desc_pickles.append(picklename)\n",
    "for docid in updated_refs:\n",
    "    data = s.find({'id':docid}, {'title':1, 'artist':1, '_id':0}).next()\n",
    "    title = data['title']\n",
    "    artist = data['artist']\n",
    "    picklename = '_'.join(title.split())+\"_\"+'_'.join(artist.split())+\"_annotated.pkl\"\n",
    "    refs_pickles.append(picklename)"
   ]
  },
  {
   "cell_type": "code",
   "execution_count": 382,
   "metadata": {
    "collapsed": false
   },
   "outputs": [],
   "source": [
    "def fix_ref_annotations(picklesong):\n",
    "    try:\n",
    "        song_info = pickleLoad(picklesong)\n",
    "        ref_songs = []\n",
    "        failed_songs = []\n",
    "        for element in song_info['references']['song_unannotated']:\n",
    "            for k, v in element.iteritems():\n",
    "                if s.find({'id':int(v)}).count() > 0:\n",
    "                    vals = s.find({'id':int(v)}, {'artist':1, 'title':1, '_id':0}).next()\n",
    "                    to_insert = {'id':v, 'artist':vals['artist'], 'title':vals['title']}\n",
    "                    ref_songs.append(to_insert)\n",
    "                else:\n",
    "                    failed_songs.append({'id': v})     \n",
    "        songid = song_info['id']\n",
    "        if ref_songs and failed_songs:\n",
    "            s.update_one({'id':songid}, {'$unset': {'references.song': \"\"}})\n",
    "            s.update_one({'id':songid}, {'$unset': {'references.song_unannotated':\"\"}})\n",
    "            s.update_one({'id':songid}, {'$addToSet': {'references.song': {'$each': ref_songs}}}) \n",
    "            s.update_one({'id':songid}, {'$addToSet': {'references.song_unannotated': {'$each': failed_songs}}})\n",
    "            song_info['references']['song'] = ref_songs\n",
    "            song_info['references']['song_unannotated'] = failed_songs\n",
    "        elif ref_songs and not failed_songs:\n",
    "            s.update_one({'id':songid}, {'$unset': {'references.song': \"\"}})\n",
    "            s.update_one({'id':songid}, {'$unset': {'references.song_unannotated':\"\"}})\n",
    "            s.update_one({'id':songid}, {'$addToSet': {'references.song': {'$each': ref_songs}}})\n",
    "            song_info['references']['song'] = ref_songs\n",
    "            del song_info['references']['song_unannotated']\n",
    "        elif failed_songs and not ref_songs:\n",
    "            s.update_one({'id':songid}, {'$unset': {'references.song': \"\"}})\n",
    "            s.update_one({'id':songid}, {'$unset': {'references.song_unannotated':\"\"}})\n",
    "            s.update_one({'id':songid}, {'$addToSet': {'references.song_unannotated': {'$each': failed_songs}}})\n",
    "            del song_info['references']['song']\n",
    "            song_info['references']['song_unannotated'] = failed_songs\n",
    "        \n",
    "        pickleDump(song_info, picklesong)\n",
    "        return True\n",
    "    except:\n",
    "        print \"unable to update: \", picklesong\n",
    "        return False"
   ]
  },
  {
   "cell_type": "code",
   "execution_count": 354,
   "metadata": {
    "collapsed": false
   },
   "outputs": [],
   "source": [
    "def fix_desc_annotations(picklesong):\n",
    "    try: \n",
    "        song_info = pickleLoad(picklesong)\n",
    "        desc_songs = []\n",
    "        failed_songs = []\n",
    "        for element in song_info['description_refs']['song_unannotated']:\n",
    "            for k, v in element.iteritems():\n",
    "                if s.find({'id':int(v)}).count() > 0:\n",
    "                    vals = s.find({'id':int(v)}, {'artist':1, 'title':1, '_id':0}).next()\n",
    "                    to_insert = {'id':v, 'artist':vals['artist'], 'title':vals['title']}\n",
    "                    desc_songs.append(to_insert)\n",
    "                else:\n",
    "                    failed_songs.append({'id': v})\n",
    "        songid = song_info['id']\n",
    "        if desc_songs and failed_songs:\n",
    "            s.update_one({'id':songid}, {'$unset': {'description_refs.song': \"\"}})\n",
    "            s.update_one({'id':songid}, {'$unset': {'description_refs.song_unannotated':\"\"}})\n",
    "            s.update_one({'id':songid}, {'$addToSet': {'description_refs.song': {'$each': desc_songs}}})\n",
    "            s.update_one({'id':songid}, {'$addToSet': {'description_refs.song_unannotated': {'$each': failed_songs}}})\n",
    "            song_info['description_refs']['song'] = desc_songs\n",
    "            song_info['description_refs']['song_unannotated'] = failed_songs\n",
    "        elif desc_songs and not failed_songs:\n",
    "            s.update_one({'id':songid}, {'$unset': {'description_refs.song': \"\"}})\n",
    "            s.update_one({'id':songid}, {'$unset': {'description_refs.song_unannotated':\"\"}})\n",
    "            s.update_one({'id':songid}, {'$addToSet': {'description_refs.song': {'$each': desc_songs}}})\n",
    "            song_info['description_refs']['song'] = desc_songs\n",
    "            del song_info['description_refs']['song_unannotated']\n",
    "        elif failed_songs and not desc_songs:\n",
    "            s.update_one({'id':songid}, {'$unset': {'description_refs.song': \"\"}})\n",
    "            s.update_one({'id':songid}, {'$unset': {'description_refs.song_unannotated':\"\"}})\n",
    "            s.update_one({'id':songid}, {'$addToSet': {'description_refs.song_unannotated': {'$each': failed_songs}}})\n",
    "            del song_info['description_refs']['song']\n",
    "            song_info['description_refs']['song_unannotated'] = failed_songs\n",
    "        \n",
    "        pickleDump(song_info, picklesong)\n",
    "        return True\n",
    "    except:\n",
    "        print \"unable to update: \", picklesong\n",
    "        return False"
   ]
  },
  {
   "cell_type": "code",
   "execution_count": 374,
   "metadata": {
    "collapsed": false
   },
   "outputs": [
    {
     "data": {
      "text/plain": [
       "{u'_id': ObjectId('56ef38dd895742130ba296f9'),\n",
       " u'artist': u'Kid Ink',\n",
       " u'references': {u'album': [{u'id': u'10137',\n",
       "    u'name': u'The King of Crunk & BME Recordings Present Lil Scrappy & Trillville'}],\n",
       "  u'artist': [{u'id': u'17560', u'name': u'Ca$h Out'},\n",
       "   {u'id': u'29780', u'name': u'DJ Mustard'},\n",
       "   {u'id': u'134', u'name': u'Trillville'}],\n",
       "  u'other': [{u'id': u'583442', u'title': u'Kill Bill- Opening Scene'}],\n",
       "  u'song': [{u'artist': u'Ca$h Out', u'id': u'66225', u'title': u'Cashin Out'},\n",
       "   {u'artist': u'Fetty Wap', u'id': u'653082', u'title': u'My Way'}]},\n",
       " u'title': u'Promise'}"
      ]
     },
     "execution_count": 374,
     "metadata": {},
     "output_type": "execute_result"
    }
   ],
   "source": [
    "s.find({'id':2396122}, {'references':1, 'title':1, 'artist':1}).next()"
   ]
  },
  {
   "cell_type": "code",
   "execution_count": 367,
   "metadata": {
    "collapsed": false
   },
   "outputs": [
    {
     "data": {
      "text/plain": [
       "'promise_kid_ink_info.pkl'"
      ]
     },
     "execution_count": 367,
     "metadata": {},
     "output_type": "execute_result"
    }
   ],
   "source": [
    "refs_pickles[0]"
   ]
  },
  {
   "cell_type": "code",
   "execution_count": 377,
   "metadata": {
    "collapsed": true
   },
   "outputs": [],
   "source": [
    "promise_info = pickleLoad(refs_pickles[0])"
   ]
  },
  {
   "cell_type": "code",
   "execution_count": 378,
   "metadata": {
    "collapsed": false
   },
   "outputs": [
    {
     "data": {
      "text/plain": [
       "{'album': [{'id': '10137',\n",
       "   'name': u'The King of Crunk & BME Recordings Present Lil Scrappy & Trillville'}],\n",
       " 'artist': [{'id': '17560', 'name': u'Ca$h Out'},\n",
       "  {'id': '29780', 'name': u'DJ Mustard'},\n",
       "  {'id': '134', 'name': u'Trillville'}],\n",
       " 'other': [{'id': '583442', 'title': u'Kill Bill- Opening Scene'}],\n",
       " 'song': [{'artist': u'Ca$h Out', 'id': '66225', 'title': u'Cashin Out'},\n",
       "  {'artist': u'Fetty Wap', 'id': '653082', 'title': u'My Way'}]}"
      ]
     },
     "execution_count": 378,
     "metadata": {},
     "output_type": "execute_result"
    }
   ],
   "source": [
    "promise_info['references']"
   ]
  },
  {
   "cell_type": "code",
   "execution_count": 376,
   "metadata": {
    "collapsed": false
   },
   "outputs": [
    {
     "name": "stdout",
     "output_type": "stream",
     "text": [
      "unable to update:  promise_kid_ink_info.pkl\n"
     ]
    },
    {
     "data": {
      "text/plain": [
       "False"
      ]
     },
     "execution_count": 376,
     "metadata": {},
     "output_type": "execute_result"
    }
   ],
   "source": [
    "fix_ref_annotations(refs_pickles[0])"
   ]
  },
  {
   "cell_type": "code",
   "execution_count": 379,
   "metadata": {
    "collapsed": true
   },
   "outputs": [],
   "source": [
    "refs_pickles = refs_pickles[1:]"
   ]
  },
  {
   "cell_type": "code",
   "execution_count": 383,
   "metadata": {
    "collapsed": false
   },
   "outputs": [
    {
     "name": "stdout",
     "output_type": "stream",
     "text": [
      "True\n",
      "True\n",
      "True\n",
      "True\n",
      "True\n",
      "True\n",
      "True\n",
      "True\n",
      "True\n",
      "True\n",
      "True\n",
      "True\n",
      "True\n",
      "True\n",
      "True\n",
      "True\n",
      "True\n",
      "True\n",
      "True\n",
      "True\n",
      "True\n",
      "True\n",
      "True\n",
      "True\n",
      "True\n"
     ]
    }
   ],
   "source": [
    "for p in refs_pickles:\n",
    "    print fix_ref_annotations(p)"
   ]
  },
  {
   "cell_type": "code",
   "execution_count": 384,
   "metadata": {
    "collapsed": false
   },
   "outputs": [
    {
     "name": "stdout",
     "output_type": "stream",
     "text": [
      "True\n",
      "True\n",
      "True\n",
      "True\n",
      "True\n",
      "True\n",
      "True\n",
      "True\n",
      "True\n",
      "True\n",
      "True\n",
      "True\n",
      "True\n"
     ]
    }
   ],
   "source": [
    "for p in desc_pickles:\n",
    "    print fix_desc_annotations(p)"
   ]
  },
  {
   "cell_type": "code",
   "execution_count": 409,
   "metadata": {
    "collapsed": false
   },
   "outputs": [
    {
     "data": {
      "text/plain": [
       "[2339761,\n",
       " 2396309,\n",
       " 2417474,\n",
       " 599395,\n",
       " 2396309,\n",
       " 21929,\n",
       " 2415289,\n",
       " 1812,\n",
       " 437376,\n",
       " 2400811,\n",
       " 2291102,\n",
       " 2399225,\n",
       " 76103,\n",
       " 73198,\n",
       " 68615,\n",
       " 73850,\n",
       " 50025,\n",
       " 729457,\n",
       " 2273462,\n",
       " 1913178,\n",
       " 501510,\n",
       " 639914,\n",
       " 2322001,\n",
       " 2322003,\n",
       " 2322014,\n",
       " 2322004,\n",
       " 2322010,\n",
       " 2322009,\n",
       " 2322020,\n",
       " 106362,\n",
       " 949,\n",
       " 423398,\n",
       " 507478,\n",
       " 2159541,\n",
       " 2329765,\n",
       " 2293108,\n",
       " 2390938,\n",
       " 46329,\n",
       " 32795,\n",
       " 42265,\n",
       " 140752,\n",
       " 156640,\n",
       " 2266961,\n",
       " 499835,\n",
       " 460183,\n",
       " 164344,\n",
       " 2413931,\n",
       " 151327,\n",
       " 693724,\n",
       " 2711,\n",
       " 703732,\n",
       " 2426159,\n",
       " 168255,\n",
       " 1800164,\n",
       " 710897,\n",
       " 140800,\n",
       " 118141,\n",
       " 2149919,\n",
       " 57183,\n",
       " 69579,\n",
       " 555359,\n",
       " 622818,\n",
       " 517,\n",
       " 2045,\n",
       " 559003,\n",
       " 2213109,\n",
       " 2263723,\n",
       " 494038,\n",
       " 2290819,\n",
       " 217263,\n",
       " 217270,\n",
       " 140752,\n",
       " 1655,\n",
       " 203961,\n",
       " 50025,\n",
       " 156640,\n",
       " 703654,\n",
       " 386121,\n",
       " 42956,\n",
       " 78169,\n",
       " 542389,\n",
       " 727466,\n",
       " 542390,\n",
       " 58349,\n",
       " 118064,\n",
       " 75115,\n",
       " 2172126,\n",
       " 2024226,\n",
       " 703731,\n",
       " 486501,\n",
       " 69295,\n",
       " 505193,\n",
       " 2172126,\n",
       " 1741,\n",
       " 478469,\n",
       " 732419,\n",
       " 64,\n",
       " 1016,\n",
       " 58340,\n",
       " 89740,\n",
       " 2644,\n",
       " 58497,\n",
       " 79516,\n",
       " 82701,\n",
       " 17807,\n",
       " 2149919,\n",
       " 47702,\n",
       " 704,\n",
       " 68291,\n",
       " 40840,\n",
       " 3025,\n",
       " 2695,\n",
       " 698,\n",
       " 569516,\n",
       " 40221,\n",
       " 50025,\n",
       " 182976,\n",
       " 365947,\n",
       " 535442,\n",
       " 726052,\n",
       " 558143,\n",
       " 95546,\n",
       " 327470,\n",
       " 123451,\n",
       " 2269,\n",
       " 2269,\n",
       " 2468,\n",
       " 18506,\n",
       " 2159541,\n",
       " 88378,\n",
       " 88378,\n",
       " 2365,\n",
       " 696428,\n",
       " 696428,\n",
       " 496456,\n",
       " 576535,\n",
       " 70324,\n",
       " 517621,\n",
       " 113898]"
      ]
     },
     "execution_count": 409,
     "metadata": {},
     "output_type": "execute_result"
    }
   ],
   "source": [
    "supposedly_unannotated"
   ]
  },
  {
   "cell_type": "code",
   "execution_count": 411,
   "metadata": {
    "collapsed": false
   },
   "outputs": [
    {
     "data": {
      "text/plain": [
       "128"
      ]
     },
     "execution_count": 411,
     "metadata": {},
     "output_type": "execute_result"
    }
   ],
   "source": [
    "len(set(supposedly_unannotated))"
   ]
  },
  {
   "cell_type": "code",
   "execution_count": null,
   "metadata": {
    "collapsed": true
   },
   "outputs": [],
   "source": []
  }
 ],
 "metadata": {
  "kernelspec": {
   "display_name": "Python 2",
   "language": "python",
   "name": "python2"
  },
  "language_info": {
   "codemirror_mode": {
    "name": "ipython",
    "version": 2
   },
   "file_extension": ".py",
   "mimetype": "text/x-python",
   "name": "python",
   "nbconvert_exporter": "python",
   "pygments_lexer": "ipython2",
   "version": "2.7.11"
  }
 },
 "nbformat": 4,
 "nbformat_minor": 0
}
