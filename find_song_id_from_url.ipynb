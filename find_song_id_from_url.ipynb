{
 "cells": [
  {
   "cell_type": "code",
   "execution_count": 28,
   "metadata": {
    "collapsed": false
   },
   "outputs": [],
   "source": [
    "import requests\n",
    "from bs4 import BeautifulSoup\n",
    "from bs4.element import CharsetMetaAttributeValue, ContentMetaAttributeValue\n",
    "import re"
   ]
  },
  {
   "cell_type": "code",
   "execution_count": 46,
   "metadata": {
    "collapsed": true
   },
   "outputs": [],
   "source": [
    "import time"
   ]
  },
  {
   "cell_type": "code",
   "execution_count": 2,
   "metadata": {
    "collapsed": true
   },
   "outputs": [],
   "source": [
    "list_of_urls = []"
   ]
  },
  {
   "cell_type": "markdown",
   "metadata": {},
   "source": [
    "RapCaviar 3/20/2016:\n",
    "\n",
    "1. Panda, Desiigner\n",
    "2. Summer Sixteen, Drake\n",
    "3. Uber Everywhere, Madeintyo\n",
    "4. Hercules, Young Thug\n",
    "5. Solo, ILoveMakonnen\n",
    "6. Bake Sale (feat. Travis Scott), Wiz Khalifa\n",
    "7. Low Life, Future\n",
    "8. Love Yourz - Live, J. Cole\n",
    "9. Work, Rihanna\n",
    "10. Gotta Lotta, 2 Chainz\n",
    "11. Saved (feat. E-40), Ty Dolla \\$ign\n",
    "12. New Level, A\\$AP Ferg\n",
    "13. 2 Phones, Kevin Gates\n",
    "14. Cut It (feat. Young Dolph), O.T. Genesis\n",
    "15. Ran Off On Da Plug Twice, Plies\n",
    "16. Law, Yo Gotti\n",
    "17. All The Way Up, Fat Joe\n",
    "18. Best Friend, Young Thug\n",
    "19. Pass Dat, Jeremih\n",
    "20. Exchange, Bryson Tiller\n",
    "21. Order More, G-Eazy\n",
    "22. Ready, Chaz French\n",
    "23. Weekend (feat. Miguel), Mac Miller\n",
    "24. Ladies Hit Squad, Skepta\n",
    "25. Jimmy Choo, Fetty Wap\n",
    "26. Promise, Kid Ink\n",
    "27. Moolah, Young Greatness\n",
    "28. Or Nah (feat. Wiz Khalifa), Ty Dolla \\$ign\n",
    "29. Ball Like This (feat. Future, Wiz Khalifa, & Kid Ink), L.A. Leakers\n",
    "30. Walked In, Bankroll Fresh\n",
    "31. A-Team, Travi$ Scott\n",
    "32. Housewives, Bas\n",
    "33. untitled 03 | 05.28.2013., Kendrick Lamar\n",
    "34. Phantogram Freestyle, A\\$AP Rocky\n",
    "35. Sorry Not Sorry, Bryson Tiller\n",
    "36. Body, Dreezy\n",
    "37. Back Up, Def Loaf\n",
    "38. Photo Copied, Future\n",
    "39. By Chance, Rae Sremmurd\n",
    "40. The Most, Rich Homie Quan\n",
    "41. Might Be (Remix), DJ Luke Nasty\n",
    "42. LA Confidential, Tory Lanez\n",
    "43. Oh My, Tate Kobang\n",
    "44. Key to the Streets, YFN Lucci\n",
    "45. Money Talk, T.I.\n",
    "46. Top, Lil Uzi Vert\n",
    "47. Pushin', ILoveMakonnen\n",
    "48. Bounce, 2 Chainz\n",
    "49. Slappin, E-40\n",
    "50. Slugs, Trae Tha Truth"
   ]
  },
  {
   "cell_type": "code",
   "execution_count": 4,
   "metadata": {
    "collapsed": false
   },
   "outputs": [],
   "source": [
    "list_of_urls = ['http://genius.com/Desiigner-panda-lyrics',\n",
    "               'http://genius.com/Drake-summer-sixteen-lyrics',\n",
    "               'http://genius.com/Madeintyo-uber-everywhere-lyrics',\n",
    "               'http://genius.com/Young-thug-hercules-lyrics',\n",
    "               'http://genius.com/Ilovemakonnen-solo-lyrics',\n",
    "               'http://genius.com/Wiz-khalifa-bake-sale-lyrics',\n",
    "               'http://genius.com/Future-low-life-lyrics',\n",
    "               'http://genius.com/J-cole-love-yourz-lyrics',\n",
    "               'http://genius.com/Rihanna-work-lyrics',\n",
    "               'http://genius.com/2-chainz-gotta-lotta-lyrics',\n",
    "               'http://genius.com/Ty-dolla-sign-saved-lyrics',\n",
    "               'http://genius.com/A-ap-ferg-new-level-lyrics',\n",
    "               'http://genius.com/Kevin-gates-2-phones-lyrics',\n",
    "               'http://genius.com/Ot-genasis-cut-it-lyrics',\n",
    "               'http://genius.com/Rich-the-kid-plug-lyrics',\n",
    "               'http://genius.com/Yo-gotti-law-lyrics',\n",
    "               'http://genius.com/Fat-joe-and-remy-ma-all-the-way-up-lyrics',\n",
    "               'http://genius.com/Young-thug-best-friend-lyrics',\n",
    "               'http://genius.com/Jeremih-pass-dat-lyrics',\n",
    "               'http://genius.com/Bryson-tiller-exchange-lyrics',\n",
    "               'http://genius.com/G-eazy-order-more-lyrics',\n",
    "               'http://genius.com/Chaz-french-ready-lyrics',\n",
    "               'http://genius.com/Mac-miller-weekend-lyrics',\n",
    "               'http://genius.com/Skepta-ladies-hit-squad-lyrics',\n",
    "               'http://genius.com/Fetty-wap-jimmy-choo-lyrics',\n",
    "               'http://genius.com/Kid-ink-promise-lyrics',\n",
    "               'http://genius.com/Young-greatness-moolah-lyrics',\n",
    "               'http://genius.com/Ty-dolla-sign-or-nah-lyrics',\n",
    "               'http://genius.com/La-leakers-ball-like-this-lyrics',\n",
    "               'http://genius.com/Bankroll-fresh-walked-in-lyrics',\n",
    "               'http://genius.com/Travis-scott-a-team-lyrics',\n",
    "               'http://genius.com/Bas-housewives-lyrics',\n",
    "               'http://genius.com/Kendrick-lamar-untitled-03-05282013-lyrics',\n",
    "               'http://genius.com/A-ap-rocky-phantogram-freestyle-lyrics',\n",
    "               'http://genius.com/Bryson-tiller-sorry-not-sorry-lyrics',\n",
    "               'http://genius.com/Dreezy-body-lyrics',\n",
    "               'http://genius.com/Dej-loaf-back-up-lyrics',\n",
    "               'http://genius.com/Future-photo-copied-lyrics',\n",
    "               'http://genius.com/Rae-sremmurd-by-chance-lyrics',\n",
    "               'http://genius.com/Rich-homie-quan-the-most-lyrics',\n",
    "               'http://genius.com/Luke-nasty-might-be-lyrics',\n",
    "               'http://genius.com/Tory-lanez-la-confidential-lyrics',\n",
    "               'http://genius.com/Tate-kobang-oh-my-lyrics',\n",
    "               'http://genius.com/Yfn-lucci-key-to-the-streets-lyrics',\n",
    "               'http://genius.com/Ti-money-talk-lyrics',\n",
    "               'http://genius.com/Lil-uzi-vert-top-lyrics',\n",
    "               'http://genius.com/Ilovemakonnen-pushin-lyrics',\n",
    "               'http://genius.com/2-chainz-bounce-lyrics',\n",
    "               'http://genius.com/E-40-slappin-lyrics',\n",
    "               'http://genius.com/Trae-tha-truth-slugs-lyrics']"
   ]
  },
  {
   "cell_type": "code",
   "execution_count": 45,
   "metadata": {
    "collapsed": false
   },
   "outputs": [],
   "source": [
    "def get_songid(url):\n",
    "    r = requests.get(url)\n",
    "    soup = BeautifulSoup(r.text, \"lxml\")\n",
    "    meta = soup.find_all('meta')\n",
    "    for item in meta:\n",
    "        if str(ContentMetaAttributeValue(item['content']).encode('utf-8')).startswith('/songs'):\n",
    "            songid = int(str(ContentMetaAttributeValue(item['content']).encode('utf-8')).split('/')[-1])\n",
    "    return songid"
   ]
  },
  {
   "cell_type": "code",
   "execution_count": 43,
   "metadata": {
    "collapsed": true
   },
   "outputs": [],
   "source": [
    "song_id_list = []"
   ]
  },
  {
   "cell_type": "code",
   "execution_count": 59,
   "metadata": {
    "collapsed": false,
    "scrolled": true
   },
   "outputs": [],
   "source": [
    "for song in list_of_urls:\n",
    "    songid = get_songid(song)\n",
    "    print \"got songid: \", songid, \" for song: \", song.split('/')[-1][0:-7]\n",
    "    song_id_list.append(songid)\n",
    "    time.sleep(7)"
   ]
  },
  {
   "cell_type": "code",
   "execution_count": 58,
   "metadata": {
    "collapsed": false
   },
   "outputs": [
    {
     "data": {
      "text/plain": [
       "[2400811,\n",
       " 2415289,\n",
       " 2342860,\n",
       " 2369079,\n",
       " 2411389,\n",
       " 2304247,\n",
       " 2396302,\n",
       " 599451,\n",
       " 2398213,\n",
       " 2433137,\n",
       " 2330692,\n",
       " 2392485,\n",
       " 2348651,\n",
       " 2295548,\n",
       " 2372618,\n",
       " 2425602,\n",
       " 2439141,\n",
       " 2165110,\n",
       " 2375319,\n",
       " 2312297,\n",
       " 2339761,\n",
       " 2394578,\n",
       " 2305085,\n",
       " 2422646,\n",
       " 2347642,\n",
       " 2396122,\n",
       " 2307164,\n",
       " 332635,\n",
       " 2347598,\n",
       " 1783676,\n",
       " 2399225,\n",
       " 2386805,\n",
       " 639247,\n",
       " 2432858,\n",
       " 709256,\n",
       " 2403555,\n",
       " 2163216,\n",
       " 2417517,\n",
       " 2401700,\n",
       " 2213105,\n",
       " 2312325,\n",
       " 2414510,\n",
       " 2426159,\n",
       " 2426609,\n",
       " 2424059,\n",
       " 2344225,\n",
       " 2440578,\n",
       " 2433471,\n",
       " 2421937,\n",
       " 2413367]"
      ]
     },
     "execution_count": 58,
     "metadata": {},
     "output_type": "execute_result"
    }
   ],
   "source": [
    "song_id_list"
   ]
  },
  {
   "cell_type": "code",
   "execution_count": 60,
   "metadata": {
    "collapsed": false
   },
   "outputs": [
    {
     "data": {
      "text/plain": [
       "2347598"
      ]
     },
     "execution_count": 60,
     "metadata": {},
     "output_type": "execute_result"
    }
   ],
   "source": [
    "song_id_list[28]"
   ]
  },
  {
   "cell_type": "code",
   "execution_count": null,
   "metadata": {
    "collapsed": true
   },
   "outputs": [],
   "source": []
  }
 ],
 "metadata": {
  "kernelspec": {
   "display_name": "Python 2",
   "language": "python",
   "name": "python2"
  },
  "language_info": {
   "codemirror_mode": {
    "name": "ipython",
    "version": 2
   },
   "file_extension": ".py",
   "mimetype": "text/x-python",
   "name": "python",
   "nbconvert_exporter": "python",
   "pygments_lexer": "ipython2",
   "version": "2.7.11"
  }
 },
 "nbformat": 4,
 "nbformat_minor": 0
}
