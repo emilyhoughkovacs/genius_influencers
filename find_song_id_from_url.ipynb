{
 "cells": [
  {
   "cell_type": "markdown",
   "metadata": {},
   "source": [
    "### Getting Song URLs\n",
    "This notebook provides a heuristic for getting the Genius songid of a song based on title and artist, which are extracted from Spotify."
   ]
  },
  {
   "cell_type": "code",
   "execution_count": 12,
   "metadata": {
    "collapsed": false
   },
   "outputs": [],
   "source": [
    "import requests\n",
    "from bs4 import BeautifulSoup\n",
    "from bs4.element import CharsetMetaAttributeValue, ContentMetaAttributeValue\n",
    "import time\n",
    "import re"
   ]
  },
  {
   "cell_type": "markdown",
   "metadata": {},
   "source": [
    "### Small-scale by hand\n",
    "In the first iteration of this, I copied down the names of the tracks and artists on a Spotify playlist of my choosing by hand and searched on Genius for the songs to get the URLs of their annotated lyrics. This was time consuming and did not scale, but got the job done for a small batch."
   ]
  },
  {
   "cell_type": "markdown",
   "metadata": {},
   "source": [
    "RapCaviar 3/20/2016:\n",
    "\n",
    "1. Panda, Desiigner\n",
    "2. Summer Sixteen, Drake\n",
    "3. Uber Everywhere, Madeintyo\n",
    "4. Hercules, Young Thug\n",
    "5. Solo, ILoveMakonnen\n",
    "6. Bake Sale (feat. Travis Scott), Wiz Khalifa\n",
    "7. Low Life, Future\n",
    "8. Love Yourz - Live, J. Cole\n",
    "9. Work, Rihanna\n",
    "10. Gotta Lotta, 2 Chainz\n",
    "11. Saved (feat. E-40), Ty Dolla \\$ign\n",
    "12. New Level, A\\$AP Ferg\n",
    "13. 2 Phones, Kevin Gates\n",
    "14. Cut It (feat. Young Dolph), O.T. Genesis\n",
    "15. Ran Off On Da Plug Twice, Plies\n",
    "16. Law, Yo Gotti\n",
    "17. All The Way Up, Fat Joe\n",
    "18. Best Friend, Young Thug\n",
    "19. Pass Dat, Jeremih\n",
    "20. Exchange, Bryson Tiller\n",
    "21. Order More, G-Eazy\n",
    "22. Ready, Chaz French\n",
    "23. Weekend (feat. Miguel), Mac Miller\n",
    "24. Ladies Hit Squad, Skepta\n",
    "25. Jimmy Choo, Fetty Wap\n",
    "26. Promise, Kid Ink\n",
    "27. Moolah, Young Greatness\n",
    "28. Or Nah (feat. Wiz Khalifa), Ty Dolla \\$ign\n",
    "29. Ball Like This (feat. Future, Wiz Khalifa, & Kid Ink), L.A. Leakers\n",
    "30. Walked In, Bankroll Fresh\n",
    "31. A-Team, Travi$ Scott\n",
    "32. Housewives, Bas\n",
    "33. untitled 03 | 05.28.2013., Kendrick Lamar\n",
    "34. Phantogram Freestyle, A\\$AP Rocky\n",
    "35. Sorry Not Sorry, Bryson Tiller\n",
    "36. Body, Dreezy\n",
    "37. Back Up, Def Loaf\n",
    "38. Photo Copied, Future\n",
    "39. By Chance, Rae Sremmurd\n",
    "40. The Most, Rich Homie Quan\n",
    "41. Might Be (Remix), DJ Luke Nasty\n",
    "42. LA Confidential, Tory Lanez\n",
    "43. Oh My, Tate Kobang\n",
    "44. Key to the Streets, YFN Lucci\n",
    "45. Money Talk, T.I.\n",
    "46. Top, Lil Uzi Vert\n",
    "47. Pushin', ILoveMakonnen\n",
    "48. Bounce, 2 Chainz\n",
    "49. Slappin, E-40\n",
    "50. Slugs, Trae Tha Truth"
   ]
  },
  {
   "cell_type": "code",
   "execution_count": 4,
   "metadata": {
    "collapsed": false
   },
   "outputs": [],
   "source": [
    "list_of_urls = ['http://genius.com/Desiigner-panda-lyrics',\n",
    "               'http://genius.com/Drake-summer-sixteen-lyrics',\n",
    "               'http://genius.com/Madeintyo-uber-everywhere-lyrics',\n",
    "               'http://genius.com/Young-thug-hercules-lyrics',\n",
    "               'http://genius.com/Ilovemakonnen-solo-lyrics',\n",
    "               'http://genius.com/Wiz-khalifa-bake-sale-lyrics',\n",
    "               'http://genius.com/Future-low-life-lyrics',\n",
    "               'http://genius.com/J-cole-love-yourz-lyrics',\n",
    "               'http://genius.com/Rihanna-work-lyrics',\n",
    "               'http://genius.com/2-chainz-gotta-lotta-lyrics',\n",
    "               'http://genius.com/Ty-dolla-sign-saved-lyrics',\n",
    "               'http://genius.com/A-ap-ferg-new-level-lyrics',\n",
    "               'http://genius.com/Kevin-gates-2-phones-lyrics',\n",
    "               'http://genius.com/Ot-genasis-cut-it-lyrics',\n",
    "               'http://genius.com/Rich-the-kid-plug-lyrics',\n",
    "               'http://genius.com/Yo-gotti-law-lyrics',\n",
    "               'http://genius.com/Fat-joe-and-remy-ma-all-the-way-up-lyrics',\n",
    "               'http://genius.com/Young-thug-best-friend-lyrics',\n",
    "               'http://genius.com/Jeremih-pass-dat-lyrics',\n",
    "               'http://genius.com/Bryson-tiller-exchange-lyrics',\n",
    "               'http://genius.com/G-eazy-order-more-lyrics',\n",
    "               'http://genius.com/Chaz-french-ready-lyrics',\n",
    "               'http://genius.com/Mac-miller-weekend-lyrics',\n",
    "               'http://genius.com/Skepta-ladies-hit-squad-lyrics',\n",
    "               'http://genius.com/Fetty-wap-jimmy-choo-lyrics',\n",
    "               'http://genius.com/Kid-ink-promise-lyrics',\n",
    "               'http://genius.com/Young-greatness-moolah-lyrics',\n",
    "               'http://genius.com/Ty-dolla-sign-or-nah-lyrics',\n",
    "               'http://genius.com/La-leakers-ball-like-this-lyrics',\n",
    "               'http://genius.com/Bankroll-fresh-walked-in-lyrics',\n",
    "               'http://genius.com/Travis-scott-a-team-lyrics',\n",
    "               'http://genius.com/Bas-housewives-lyrics',\n",
    "               'http://genius.com/Kendrick-lamar-untitled-03-05282013-lyrics',\n",
    "               'http://genius.com/A-ap-rocky-phantogram-freestyle-lyrics',\n",
    "               'http://genius.com/Bryson-tiller-sorry-not-sorry-lyrics',\n",
    "               'http://genius.com/Dreezy-body-lyrics',\n",
    "               'http://genius.com/Dej-loaf-back-up-lyrics',\n",
    "               'http://genius.com/Future-photo-copied-lyrics',\n",
    "               'http://genius.com/Rae-sremmurd-by-chance-lyrics',\n",
    "               'http://genius.com/Rich-homie-quan-the-most-lyrics',\n",
    "               'http://genius.com/Luke-nasty-might-be-lyrics',\n",
    "               'http://genius.com/Tory-lanez-la-confidential-lyrics',\n",
    "               'http://genius.com/Tate-kobang-oh-my-lyrics',\n",
    "               'http://genius.com/Yfn-lucci-key-to-the-streets-lyrics',\n",
    "               'http://genius.com/Ti-money-talk-lyrics',\n",
    "               'http://genius.com/Lil-uzi-vert-top-lyrics',\n",
    "               'http://genius.com/Ilovemakonnen-pushin-lyrics',\n",
    "               'http://genius.com/2-chainz-bounce-lyrics',\n",
    "               'http://genius.com/E-40-slappin-lyrics',\n",
    "               'http://genius.com/Trae-tha-truth-slugs-lyrics']"
   ]
  },
  {
   "cell_type": "code",
   "execution_count": 1,
   "metadata": {
    "collapsed": false
   },
   "outputs": [],
   "source": [
    "\"\"\"\n",
    "Given a Rap Genius URL, \n",
    "this function uses BeautifulSoup \n",
    "and the python requests module to scrape the songid\n",
    "in order to call Genius' API to gather song information.\n",
    "\"\"\"\n",
    "def get_songid(url):\n",
    "    r = requests.get(url)\n",
    "    soup = BeautifulSoup(r.text, \"lxml\")\n",
    "    meta = soup.find_all('meta')\n",
    "    for item in meta:\n",
    "        if str(ContentMetaAttributeValue(item['content']).encode('utf-8')).startswith('/songs'):\n",
    "            songid = int(str(ContentMetaAttributeValue(item['content']).encode('utf-8')).split('/')[-1])\n",
    "    return songid"
   ]
  },
  {
   "cell_type": "code",
   "execution_count": 7,
   "metadata": {
    "collapsed": true
   },
   "outputs": [],
   "source": [
    "song_id_list = []"
   ]
  },
  {
   "cell_type": "code",
   "execution_count": 4,
   "metadata": {
    "collapsed": false,
    "scrolled": true
   },
   "outputs": [],
   "source": [
    "\"\"\"\n",
    "Iterates through the list of URLs and call the above function\n",
    "appending the songid to the list.\n",
    "\"\"\"\n",
    "for song in list_of_urls:\n",
    "    songid = get_songid(song)\n",
    "    print \"got songid: \", songid, \" for song: \", song.split('/')[-1][0:-7]\n",
    "    song_id_list.append(songid)\n",
    "    time.sleep(7)"
   ]
  },
  {
   "cell_type": "code",
   "execution_count": 4,
   "metadata": {
    "collapsed": false
   },
   "outputs": [],
   "source": [
    "# song_id_list"
   ]
  },
  {
   "cell_type": "code",
   "execution_count": 60,
   "metadata": {
    "collapsed": false
   },
   "outputs": [
    {
     "data": {
      "text/plain": [
       "2347598"
      ]
     },
     "execution_count": 60,
     "metadata": {},
     "output_type": "execute_result"
    }
   ],
   "source": [
    "song_id_list[28]"
   ]
  },
  {
   "cell_type": "markdown",
   "metadata": {},
   "source": [
    "The below list are the links to play Spotify tracks using their web application. Embedded in the HTML of these web pages are information regarding the track title and artist. I am going to use BeautifulSoup to scrape for this information and attempt to 'guess' the associated Genius song URL. If that URL fails, I will use the API to search for the song and make the best choice available."
   ]
  },
  {
   "cell_type": "code",
   "execution_count": 5,
   "metadata": {
    "collapsed": true
   },
   "outputs": [],
   "source": [
    "spotify = ['https://open.spotify.com/track/4hrae8atte6cRlSC9a7VCO', 'https://open.spotify.com/track/5mNV8Mz59bzyuQ53gTw0c0', 'https://open.spotify.com/track/1D70EbZoedMGzZWYZvfQIY', 'https://open.spotify.com/track/5rlHyx0qh8xnwCZlyTklKT', 'https://open.spotify.com/track/0ARK753YaiJbpLUk7z5yIM', 'https://open.spotify.com/track/6TWd9ansrzF9LUEynu42ba', 'https://open.spotify.com/track/5eyIfIp6IafrdAjRnZF6ql', 'https://open.spotify.com/track/2PfrWOPGSxVyp3lnQaw79G', 'https://open.spotify.com/track/1AWQoqb9bSvzTjaLralEkT', 'https://open.spotify.com/track/2T8hXV9LUZMDBKR5RALGEa', 'https://open.spotify.com/track/0r2Bul2NuCViraT2zX1l5j', 'https://open.spotify.com/track/14B2bUopOga5V3ypld7d6n', 'https://open.spotify.com/track/0OaunKfsxkgBvPv68jBbmm', 'https://open.spotify.com/track/0nmxH6IsSQVT1YEsCB9UMi', 'https://open.spotify.com/track/3fsghmcEnT7K9f30ohHDRn', 'https://open.spotify.com/track/4SVLlDIeY6w5axpMVhy0qH', 'https://open.spotify.com/track/3gx2PLHJfnXRvUwmLJyzbY', 'https://open.spotify.com/track/7iQY2alDQ2MVya5up2hDgq', 'https://open.spotify.com/track/2W31oMmNa2wHNyavreExkH', 'https://open.spotify.com/track/0Ss50OU9tCozI7JIywkv14', 'https://open.spotify.com/track/1KGi9sZVMeszgZOWivFpxs', 'https://open.spotify.com/track/7kAFSrTIOiVZ0gnHBuAH3l', 'https://open.spotify.com/track/47TqCCnEliDp8NRDyIQoQq', 'https://open.spotify.com/track/5rb9QrpfcKFHM1EUbSIurX', 'https://open.spotify.com/track/68vgtRHr7iZHpzGpon6Jlo', 'https://open.spotify.com/track/7wBThXx7BGZHJJ3aN3OPvv', 'https://open.spotify.com/track/6EtkH6EfTfNLjUHKDylEym', 'https://open.spotify.com/track/7lVNTXkI3cHFvcXiI8damb', 'https://open.spotify.com/track/5zdUc1JRCImBYcDWgvFNpE', 'https://open.spotify.com/track/1VRqTW1Uoyo4C9hMJOjIPG', 'https://open.spotify.com/track/31oGe1NhvbUNyyQd3m6ErP', 'https://open.spotify.com/track/4LwU4Vp6od3Sb08CsP99GC', 'https://open.spotify.com/track/1siDRjAa8MdxNoCHTiiQ7B', 'https://open.spotify.com/track/2HAVFycrhtbmLxyyxpm6JI', 'https://open.spotify.com/track/3hpUL1gDZWiz8k4DtYhZsS', 'https://open.spotify.com/track/4dPsNgPv3ne2A3map82xhK', 'https://open.spotify.com/track/3RmKpob8xzv1pzHEQrMJah', 'https://open.spotify.com/track/7C86DVl6REN8VPeGEMOf9q', 'https://open.spotify.com/track/5ojJNnX5ND2gMGojPd3NiO', 'https://open.spotify.com/track/5tKbrFMvQJlG1reK5aDmkc', 'https://open.spotify.com/track/0Uyh92tLyb9JawG8lmWCzJ', 'https://open.spotify.com/track/7z3N2W7Xz1t2G2sAO8wFVH', 'https://open.spotify.com/track/0Uhnzk5zI46IRlQ04LNOtc', 'https://open.spotify.com/track/2mKouqwAIdQnMP43zxR89r', 'https://open.spotify.com/track/2lVDc57IMK6nypg2iuEWVR', 'https://open.spotify.com/track/2a03afRiyAbNAleOByVju4', 'https://open.spotify.com/track/3AszgPDZd9q0DpDFt4HFBy', 'https://open.spotify.com/track/0I3q5fE6wg7LIfHGngUTnV', 'https://open.spotify.com/track/0RV1mhKlYIwvVrwR7uJYLW', 'https://open.spotify.com/track/0bRh7pc1nfIv2edfcIUlKh', 'https://open.spotify.com/track/2Gfr96HuhYqGcteLv9XUJP', 'https://open.spotify.com/track/1UdsBQTJOqpXXr13su0uI3', 'https://open.spotify.com/track/2D5QhvAWddOJTvk1XawrTU', 'https://open.spotify.com/track/6zMUIb4uce1CzpbjR3vMdN', 'https://open.spotify.com/track/5Bi7SC49g4neuXwzgXBeFy', 'https://open.spotify.com/track/61dtoWZ3daLyiwtPfhHPnd', 'https://open.spotify.com/track/6W2Ef5Ph6ILTUAedoQ3QIv', 'https://open.spotify.com/track/0aj2QKJvz6CePykmlTApiD', 'https://open.spotify.com/track/0YImOCkIJ2PWhCXaURCZnY', 'https://open.spotify.com/track/68IM0wOuxlrbwk0zgmi9dk', 'https://open.spotify.com/track/7J41dYQolQJEtj3UmKLu5r', 'https://open.spotify.com/track/6iajHa34cSiD5s42Cq9miJ', 'https://open.spotify.com/track/1PnizMfOtL59AVnX8fZqmq', 'https://open.spotify.com/track/0l3GEbH3CviUytD6iX4wzg', 'https://open.spotify.com/track/3ibKnFDaa3GhpPGlOUj7ff', 'https://open.spotify.com/track/7k6IzwMGpxnRghE7YosnXT', 'https://open.spotify.com/track/7uKcScNXuO3MWw6LowBjW1', 'https://open.spotify.com/track/6o3s08kk2fQI37vxGZDrJ1', 'https://open.spotify.com/track/3Zv7tbfSY0sIxl6ZRW4TJN', 'https://open.spotify.com/track/7I6DceMT3utDOHjcYCbrr4', 'https://open.spotify.com/track/6LiDErJMV0ZK3sHEAw92XC', 'https://open.spotify.com/track/6ihObRBTB8xdSH2mlERtOX', 'https://open.spotify.com/track/2OeSwSbwlmn9u8SsutfxPO', 'https://open.spotify.com/track/2CtCwQhY0ZLvr8L2l8Bo6e', 'https://open.spotify.com/track/7vfvZp6KZJpxiaW6rI9ieM', 'https://open.spotify.com/track/6mz1fBdKATx6qP4oP1I65G', 'https://open.spotify.com/track/5hF2LnbkpnXCkksMSeWcxZ', 'https://open.spotify.com/track/0HXuqEeHTr36DtCCx8G1ft', 'https://open.spotify.com/track/4R6OANdWnhMM9Asu3zjxK6', 'https://open.spotify.com/track/2mpFm3f7QmdsVtSAIICEB7', 'https://open.spotify.com/track/41bIQPBE1lFN0mmw6Lmssz', 'https://open.spotify.com/track/2D1hlMwWWXpkc3CZJ5U351', 'https://open.spotify.com/track/4LmzPJDil70LpiApWfOI6O', 'https://open.spotify.com/track/2H1l4JczUDbiWfQtQElB05', 'https://open.spotify.com/track/4Z69sHFf60gZbdgdd9sBBq', 'https://open.spotify.com/track/2nqVVwUI2MJ7MaphpCF1P3', 'https://open.spotify.com/track/3QHONiXGMGU3z68mQInncF', 'https://open.spotify.com/track/6Wt5QBzHp9vdSLAFlvdnDQ', 'https://open.spotify.com/track/3UP7dzy4ISy8S3HOReCd1q', 'https://open.spotify.com/track/0ho4ac5tM9CNcmeIElhadF', 'https://open.spotify.com/track/1H5tvpoApNDxvxDexoaAUo', 'https://open.spotify.com/track/2kQuhkFX7uSVepCD3h29g5', 'https://open.spotify.com/track/4PmMVdIFpJTB9WQbmILf4p', 'https://open.spotify.com/track/3u9fHuAtjMY1RW2mZfO4Cf', 'https://open.spotify.com/track/0uFDrZNvcd3Iaam3HKzLb7', 'https://open.spotify.com/track/4LGMSdeKOUoy5Wf75Je0Hl', 'https://open.spotify.com/track/5kxddRG1RZaZROadk7iC4D', 'https://open.spotify.com/track/2grJZhuW8wzL6ThDVy7Eqs', 'https://open.spotify.com/track/3fLJfEJuyfZVYJ01BB9vnV', 'https://open.spotify.com/track/1oLIBuedMjAbHlO4WTGJi3', 'https://open.spotify.com/track/31bf9SEOppLU6lQ85d8om6', 'https://open.spotify.com/track/7lCBWHObeAxKr2qPXwuUiw', 'https://open.spotify.com/track/6CWiDYxP6pZg2WwYuYg4Ol', 'https://open.spotify.com/track/2EBCVPNAG46nbgs6jXPGvv', 'https://open.spotify.com/track/1EM23A621Z0QyTlWKu7T1l', 'https://open.spotify.com/track/52FpkyImUt9LDI9mCWDryr', 'https://open.spotify.com/track/52MJZwo0UGqgFitqv8YFVK', 'https://open.spotify.com/track/7ySbfLwdCwl1EM0zNCJZ38', 'https://open.spotify.com/track/3bMNprrp2JDKZsGbiXpsJl', 'https://open.spotify.com/track/6jdOi5U5LBzQrc4c1VT983', 'https://open.spotify.com/track/1CmUZGtH29Kx36C1Hleqlz', 'https://open.spotify.com/track/6UaRii9AH6Zss9xNMEQ2M9', 'https://open.spotify.com/track/3tCwjWLicbjsMCvXhN0WOE', 'https://open.spotify.com/track/6chdRBWviHlm7JAtwgflBP', 'https://open.spotify.com/track/06EL94D0TA27Ik0Ke5usbj', 'https://open.spotify.com/track/5AnCLGg35ziFOloEnXK4uu', 'https://open.spotify.com/track/2rgqPSIRAfaO2MGo9smdSX', 'https://open.spotify.com/track/5fii2C2yImI0KvaAZZDKrC', 'https://open.spotify.com/track/1RKUoGiLEbcXN4GY4spQDx', 'https://open.spotify.com/track/7vqubB6rY1NpGVGpHYobbQ', 'https://open.spotify.com/track/355qbpf35myn397wClXTg8', 'https://open.spotify.com/track/5LyzPhFwF7MgUY3aQD9TAG', 'https://open.spotify.com/track/0L0T4tMAaGqLgIVj1MOj9t', 'https://open.spotify.com/track/5urnoPIZOF1pncHm5eUCbv', 'https://open.spotify.com/track/52craDKOQlZmoy8QjVxXPn', 'https://open.spotify.com/track/41on8RwRh22IHcChAN2gm8', 'https://open.spotify.com/track/49FYlytm3dAAraYgpoJZux', 'https://open.spotify.com/track/7IHOIqZUUInxjVkko181PB', 'https://open.spotify.com/track/5VHuGRvkB61pvdQjAgUazm', 'https://open.spotify.com/track/1cdmFiQECBgwJD1qIdD8xn', 'https://open.spotify.com/track/466s1BacUmiRdR3ISvNjyx', 'https://open.spotify.com/track/6L5ViZKQnnhI11uc2opNPO', 'https://open.spotify.com/track/33tJDgiiRw70543Zj0rBIb', 'https://open.spotify.com/track/6q7UqKOlh8hqwyexxDIqNf', 'https://open.spotify.com/track/4CY1vPIa7iILLAkvg2vWVe', 'https://open.spotify.com/track/4kvnIlstJWNDFgn35aYlj3', 'https://open.spotify.com/track/1Oi2zpmL81Q0yScF1zxaC0', 'https://open.spotify.com/track/4ZD6SiaJi75smnel0d7jl3', 'https://open.spotify.com/track/4uoM46LepmOhYjIvdluyUU', 'https://open.spotify.com/track/3WBmup4UQrVUgpFbRGnSls', 'https://open.spotify.com/track/4MoHPmjY1nnglkstrrAHk1', 'https://open.spotify.com/track/45Ia1U4KtIjAPPU7Wv1Sea', 'https://open.spotify.com/track/4QXhRjZacZ1gZUeL7Ukktw', 'https://open.spotify.com/track/2djCSx93RPaHV2gX0TQ4Yk', 'https://open.spotify.com/track/7EsjkelQuoUlJXEw7SeVV4', 'https://open.spotify.com/track/5EGLIjC0H4iy9emRN4M9W6', 'https://open.spotify.com/track/56ZPl9gFBZxPfRBOBqHfer', 'https://open.spotify.com/track/1yFTRoAbHkziFCd8WP3Fv4', 'https://open.spotify.com/track/1Ov4E4nE7E0yzeqpbhEE5g', 'https://open.spotify.com/track/5q4I6I0ytvTKuYe1Fquxnx', 'https://open.spotify.com/track/0OJsAK13ZodOQPVuc5D7AU', 'https://open.spotify.com/track/4B4zDmbHdkXZ1wUJv1yKFy', 'https://open.spotify.com/track/54b8qPFqYqIndfdxiLApea', 'https://open.spotify.com/track/41on8RwRh22IHcChAN2gm8', 'https://open.spotify.com/track/7dS5EaCoMnN7DzlpT6aRn2', 'https://open.spotify.com/track/34gCuhDGsG4bRPIf9bb02f', 'https://open.spotify.com/track/6eHTq3PI9z0vXbzcNFfm3r', 'https://open.spotify.com/track/5t54WbqXtMwT5yF1nQSuKz', 'https://open.spotify.com/track/2NEFFtD3i1rEiRxOrXqb8o', 'https://open.spotify.com/track/6qftHX0d4Cta2MIBXl78l9', 'https://open.spotify.com/track/7KKQIYiCOUQmcGjibsXR4J', 'https://open.spotify.com/track/4Ix6juf5qaoFYXwU5MIqE8', 'https://open.spotify.com/track/1EMzunyXfQHY2PDfFYAAvJ', 'https://open.spotify.com/track/3PBC860LAeS4utDAqlqIe2', 'https://open.spotify.com/track/3PaUL4qXxF1PBCakzyGUs1', 'https://open.spotify.com/track/53gcDgFyqqpvCzXWrnFZpH', 'https://open.spotify.com/track/7jOvEsDIjHRH0LwCkwZSHS', 'https://open.spotify.com/track/2PIvq1pGrUjY007X5y1UpM', 'https://open.spotify.com/track/4SdN0wtmnwUBGyBU8dnIKV', 'https://open.spotify.com/track/4SdN0wtmnwUBGyBU8dnIKV', 'https://open.spotify.com/track/2PIvq1pGrUjY007X5y1UpM', 'https://open.spotify.com/track/5eWgDlp3k6Tb5RD8690s6I', 'https://open.spotify.com/track/7uolkTLavH97itenLjNmx9', 'https://open.spotify.com/track/1huvTbEYtgltjQRXzrNKGi', 'https://open.spotify.com/track/18rF49Lgmn0z3JEEzmgQ9C', 'https://open.spotify.com/track/0ERtLLDn1sSl4hbA8VSGG7', 'https://open.spotify.com/track/3XwS9JKCCAi6aqVIZRyg55', 'https://open.spotify.com/track/2IMIbiJlbi0pIs3FBpKFhS', 'https://open.spotify.com/track/746InuKpJ6tyPac5qvHjW2', 'https://open.spotify.com/track/1atxtvAHagXDZYTuUWAoEC', 'https://open.spotify.com/track/2KsOotB3cHPTO4dB07dlJp', 'https://open.spotify.com/track/0HFx7PLqzGxSfN59j3UHmR', 'https://open.spotify.com/track/0HFx7PLqzGxSfN59j3UHmR', 'https://open.spotify.com/track/7vqubB6rY1NpGVGpHYobbQ', 'https://open.spotify.com/track/7r75c8engiRJHkihkwLjLr', 'https://open.spotify.com/track/1sn6iOK93jnp0Hn5BnNOXy', 'https://open.spotify.com/track/0H6fDB7YaMZe1rXCmATx9l', 'https://open.spotify.com/track/6txWz9UapYHVxEd7dDIHXT', 'https://open.spotify.com/track/6M9M8af0CQu379X4g7QJ4Y', 'https://open.spotify.com/track/0WVTQp3SOCuMr08jh1jweV', 'https://open.spotify.com/track/2mQ1RBK7s87mdPCzh97RSH', 'https://open.spotify.com/track/1c48FSKfpobDF3VzopU10V', 'https://open.spotify.com/track/5rADoZKFC5tooKFn0geeE2', 'https://open.spotify.com/track/5zn1hpm9N0ylKB7kOtpCw2', 'https://open.spotify.com/track/5WuVWOngcRkMOx9RRLCvui', 'https://open.spotify.com/track/2NNiZ5qwYIKAwjbHJsxtAO', 'https://open.spotify.com/track/4yHFxB8kzzeuNvoouR8N0N', 'https://open.spotify.com/track/2Mpj1Ul5OFPyyP4wB62Rvi', 'https://open.spotify.com/track/6WAhLCL1XchQzYjl15rnFp', 'https://open.spotify.com/track/2ozJmnjqCMJavEKoHqiou0', 'https://open.spotify.com/track/2vG1yrWSMiL6egg6w4e9ma', 'https://open.spotify.com/track/0bwTeIQ0rsuv7KQXZir6MT', 'https://open.spotify.com/track/1Je1IMUlBXcx1Fz0WE7oPT', 'https://open.spotify.com/track/5qGwqO0lkbBXw4xNfzT7SF', 'https://open.spotify.com/track/1gZ7i4qxXkHZb1r6eioaAP', 'https://open.spotify.com/track/4ECvB9frSDegHfKNRh9dwT', 'https://open.spotify.com/track/1KGi9sZVMeszgZOWivFpxs', 'https://open.spotify.com/track/63PIgPkDf3rswlU4ZWCYAM', 'https://open.spotify.com/track/0GugYsbXWlfLOgsmtsdxzg', 'https://open.spotify.com/track/3FFuQ5eoLNQU3IgbZP6F13', 'https://open.spotify.com/track/35zq0is9h4tI8N8FPNsUtn', 'https://open.spotify.com/track/2yvqcv7EF2Fpa11SDJGzrC', 'https://open.spotify.com/track/6r8VJdBtxiac6jiLSZ5khh', 'https://open.spotify.com/track/1JtQnM2ZizTSYzbFLoJLaJ', 'https://open.spotify.com/track/7xruFujlDyUk29Xq8mOCq7', 'https://open.spotify.com/track/0IPH8MWUkmxRsbgbmHG38V', 'https://open.spotify.com/track/40NUPJUv6geCSD9Tu7Kljo', 'https://open.spotify.com/track/1lvXxV1Q1R9cGK6GaR7puG', 'https://open.spotify.com/track/3GT6XHlMO5sZ83PUx6emd6', 'https://open.spotify.com/track/2hbvHt2Tg3WHkbbHxv1mXQ', 'https://open.spotify.com/track/5hNfDyyvKzJ8s57mBTHTxo', 'https://open.spotify.com/track/7xDCVsKvHGerLqHeBwBvsA', 'https://open.spotify.com/track/0saI6sZbPetHf7YcKahMn1', 'https://open.spotify.com/track/6yLFWIIIj6cLVnkk7SkVdH', 'https://open.spotify.com/track/6vwmviVBIBMGGIEmz88auB', 'https://open.spotify.com/track/0jOXmNowR2j1hVpZMqnz9P', 'https://open.spotify.com/track/7uAQky0ZC6SUxpEO21Y7X9', 'https://open.spotify.com/track/61Ox3v0nUOunBUJ1F95BEY', 'https://open.spotify.com/track/6ZYkvdj94XsGWoI89BI99l', 'https://open.spotify.com/track/2K7molxKiDh0wQCMwszaNT', 'https://open.spotify.com/track/5Iydlo7xEPsP9IhmfOhSPJ', 'https://open.spotify.com/track/7sTONJlC6HWLrOci1gNI3s', 'https://open.spotify.com/track/6bxsXIuyIeXKD4wu1O6srQ', 'https://open.spotify.com/track/5qTvkDrSfvwDv6RBjjcfQr', 'https://open.spotify.com/track/6KJQ2dUyRlevBfFwXyqecu', 'https://open.spotify.com/track/7lVNTXkI3cHFvcXiI8damb', 'https://open.spotify.com/track/4hrae8atte6cRlSC9a7VCO', 'https://open.spotify.com/track/7wBThXx7BGZHJJ3aN3OPvv', 'https://open.spotify.com/track/3RmKpob8xzv1pzHEQrMJah', 'https://open.spotify.com/track/4R6OANdWnhMM9Asu3zjxK6', 'https://open.spotify.com/track/41bIQPBE1lFN0mmw6Lmssz', 'https://open.spotify.com/track/4Z69sHFf60gZbdgdd9sBBq', 'https://open.spotify.com/track/0nmxH6IsSQVT1YEsCB9UMi', 'https://open.spotify.com/track/1KGi9sZVMeszgZOWivFpxs', 'https://open.spotify.com/track/1ak0S3NhwWrUgNlQhJ1412', 'https://open.spotify.com/track/0ho4ac5tM9CNcmeIElhadF', 'https://open.spotify.com/track/1Oi2zpmL81Q0yScF1zxaC0', 'https://open.spotify.com/track/4DXlMukYPm3OPFIiOgWKvh', 'https://open.spotify.com/track/4F5EmlraTjKnWkXg0hwv6W', 'https://open.spotify.com/track/1ea97AUSazu2QZw9BnHJqK', 'https://open.spotify.com/track/40NUPJUv6geCSD9Tu7Kljo', 'https://open.spotify.com/track/3Ct0bL2G2Ki3DvrJQef2vo', 'https://open.spotify.com/track/7uAQky0ZC6SUxpEO21Y7X9', 'https://open.spotify.com/track/7xruFujlDyUk29Xq8mOCq7', 'https://open.spotify.com/track/6vwmviVBIBMGGIEmz88auB', 'https://open.spotify.com/track/3jVtllWS5CFFWLQng8sKsr', 'https://open.spotify.com/track/1VyjPwXoNFlhr2ZIF4mb8F', 'https://open.spotify.com/track/08qitDXAw19kgFtZQRpYRY', 'https://open.spotify.com/track/6FbWbpNs9dRxyhXKW4DmPI', 'https://open.spotify.com/track/5XhM5Tym0THyceMZkzbSWV', 'https://open.spotify.com/track/7rdjfrTBMNt3KaaGvSv3YG', 'https://open.spotify.com/track/1jk9c0gZI0wbn5GvAj7PBV', 'https://open.spotify.com/track/1bzM1cd6oqFozdr4wK6HdR', 'https://open.spotify.com/track/3keUgTGEoZJt0QkzTB6kHg', 'https://open.spotify.com/track/3twQx3psUMJKj4wna5d1zU', 'https://open.spotify.com/track/7xSG5DK6nHWm9IxiBZ7nBq', 'https://open.spotify.com/track/66hayvUbTotekKU3H4ta1f', 'https://open.spotify.com/track/4KcVVhAaHxqtX2ANt4b3tc', 'https://open.spotify.com/track/1eN27pPLzE59zuFbY8SsiT', 'https://open.spotify.com/track/6p5abLu89ZSSpRQnbK9Wqs', 'https://open.spotify.com/track/1JtQnM2ZizTSYzbFLoJLaJ', 'https://open.spotify.com/track/5fyIGoaaKelzdyW8ELhYJZ', 'https://open.spotify.com/track/5NQbUaeTEOGdD6hHcre0dZ', 'https://open.spotify.com/track/1UfBAJfmofTffrae5ls6DA', 'https://open.spotify.com/track/75rDNLl8v6qVYHXGzfHv4c', 'https://open.spotify.com/track/5ihDGnhQgMA0F0tk9fNLlA', 'https://open.spotify.com/track/4T0ScSPdQKmGvruK7pavNP', 'https://open.spotify.com/track/3G7XYAwtxtoGK7fAm4IlD9', 'https://open.spotify.com/track/4DHmHECcCKVLRcGNrbRi7P', 'https://open.spotify.com/track/4gkXhhE4L0eLrtV0MatLtK', 'https://open.spotify.com/track/1Ser4X0TKttOvo8bgdytTP', 'https://open.spotify.com/track/7lxWzjZCSkXndL8eYKfFWU', 'https://open.spotify.com/track/5hNfDyyvKzJ8s57mBTHTxo', 'https://open.spotify.com/track/6jdOi5U5LBzQrc4c1VT983', 'https://open.spotify.com/track/50HXnxvxooE7ufE2MJJlHv', 'https://open.spotify.com/track/3vv9phIu6Y1vX3jcqaGz5Z', 'https://open.spotify.com/track/2HbKqm4o0w5wEeEFXm2sD4', 'https://open.spotify.com/track/5RIVoVdkDLEygELLCniZFr', 'https://open.spotify.com/track/16XNk3bVCSHXN1rlwbXtHb', 'https://open.spotify.com/track/6AoYWCzsDls6c61Zp5qTuU', 'https://open.spotify.com/track/1rEHQCkmLYY0CDrIborSoF', 'https://open.spotify.com/track/6nmz4imkDcmtwMjocAzFSx', 'https://open.spotify.com/track/0KaA33vmmUEY77YD6L3KFi', 'https://open.spotify.com/track/29gsi1zZrZxdStACmTQB0Z', 'https://open.spotify.com/track/0ARK753YaiJbpLUk7z5yIM', 'https://open.spotify.com/track/7KLB6Jptw9wyQXkSLiO8qh', 'https://open.spotify.com/track/4dfCW8ynuItQ9ABweWyl4C', 'https://open.spotify.com/track/3MAgQuClHcAV8E9CbeBS6f', 'https://open.spotify.com/track/0tPShxf8VJUH6RBDEP3tVB', 'https://open.spotify.com/track/71SDPonZOsIKNtqnaX8LXj', 'https://open.spotify.com/track/3ESSGgWzRf1xvP7G5hHMhB', 'https://open.spotify.com/track/32lmL4vQAAotg6MrJnhlQZ', 'https://open.spotify.com/track/2DHc2e5bBn4UzY0ENVFrUl', 'https://open.spotify.com/track/1lAgtcp1KQRQS10m2yCgvm', 'https://open.spotify.com/track/1Ser4X0TKttOvo8bgdytTP', 'https://open.spotify.com/track/27GmP9AWRs744SzKcpJsTZ', 'https://open.spotify.com/track/47TqCCnEliDp8NRDyIQoQq', 'https://open.spotify.com/track/7kqcudBGM74MXVoYMaoWkC', 'https://open.spotify.com/track/3keUgTGEoZJt0QkzTB6kHg', 'https://open.spotify.com/track/40YcuQysJ0KlGQTeGUosTC', 'https://open.spotify.com/track/37k7igIs7IrMVUadwWKHJ6', 'https://open.spotify.com/track/2N0NifjyXAdMOB4KBGvBJ6', 'https://open.spotify.com/track/1k2NovMHKHhgGsHxg0aYAS', 'https://open.spotify.com/track/2zsa7Z6gCA5eBg0p9pbyLs', 'https://open.spotify.com/track/78sMQ1qrkYbfL7yTYKwcCl', 'https://open.spotify.com/track/1LxKKYsJNPeBdOwdudsJzv', 'https://open.spotify.com/track/2NBQmPrOEEjA8VbeWOQGxO', 'https://open.spotify.com/track/0a8uknDuoiWLuACnaLPlgr', 'https://open.spotify.com/track/0fgZUSa7D7aVvv3GfO0A1n', 'https://open.spotify.com/track/4xKN8cxI9uRmWkK0wm5dVb', 'https://open.spotify.com/track/2gnP10XdjvCyshnV1qODWQ', 'https://open.spotify.com/track/2PpruBYCo4H7WOBJ7Q2EwM', 'https://open.spotify.com/track/0sr5LOMv4x0jmTYfe6oOvP', 'https://open.spotify.com/track/3IE6cmQ6doO4x1hfdv8E9O', 'https://open.spotify.com/track/6mXiTehcE4kEoyKAoWw2FN', 'https://open.spotify.com/track/610BVUQMZpmt3eROWX9ZC1', 'https://open.spotify.com/track/1bzM1cd6oqFozdr4wK6HdR', 'https://open.spotify.com/track/2P3SLxeQHPqh8qKB6gtJY2', 'https://open.spotify.com/track/19JoqD0UEmqnQ0ynmCAQwp', 'https://open.spotify.com/track/0hy1SOTEn9ifXTzOwnCwEr', 'https://open.spotify.com/track/3DZQ6mzUkAdHqZWzqxBKIK', 'https://open.spotify.com/track/7wqSzGeodspE3V6RBD5W8L', 'https://open.spotify.com/track/1OsjZeUg7cGuiCr4E8schs', 'https://open.spotify.com/track/2yJVeT8cP1zstJxRP7Nlv8', 'https://open.spotify.com/track/01oPNCtTniFT3YM4K3ksTf', 'https://open.spotify.com/track/4VulJCPS1i0wp374anLeot', 'https://open.spotify.com/track/3Z2sglqDj1rDRMF5x0Sz2R', 'https://open.spotify.com/track/6GnhWMhgJb7uyiiPEiEkDA', 'https://open.spotify.com/track/0r4SsYcwvd8URat6AS2m6f', 'https://open.spotify.com/track/37k7igIs7IrMVUadwWKHJ6', 'https://open.spotify.com/track/6YwLgicpvVuMt1eE2OldwQ', 'https://open.spotify.com/track/2aYzt5nE3tBUMahasMUoOl', 'https://open.spotify.com/track/02M6vucOvmRfMxTXDUwRXu', 'https://open.spotify.com/track/0WEVf4RhIrcr3S3ULBrt0T', 'https://open.spotify.com/track/20IZ0jYjnFO0NxyiaRsJwb', 'https://open.spotify.com/track/50S4mpD9sR0ITKEfC0O2cb', 'https://open.spotify.com/track/2CpH1L4CUR47RARB3PgY1l', 'https://open.spotify.com/track/1f3o6PC6D1ktibi8s8Gugx', 'https://open.spotify.com/track/6TaqooOXAEcijL6G1AWS2K', 'https://open.spotify.com/track/1uIjsJMh5wiWJ3K71eshdr', 'https://open.spotify.com/track/3oWkBnpg6cYYwUka7kmomo', 'https://open.spotify.com/track/78V3IWdq5QGnmZrI70qE5k', 'https://open.spotify.com/track/3ZxZJxYiRCcqQBi4kaWJGm', 'https://open.spotify.com/track/3jVtllWS5CFFWLQng8sKsr', 'https://open.spotify.com/track/17zIpOrDoEDcPvS34i5t3I', 'https://open.spotify.com/track/1sSNWjLtY4GwyhqAwAnPD9', 'https://open.spotify.com/track/3G7XYAwtxtoGK7fAm4IlD9', 'https://open.spotify.com/track/0k6DnZMLoEUH8NGD5zh2SE', 'https://open.spotify.com/track/5OMwQFBcte0aWFJFqrr5oj', 'https://open.spotify.com/track/5oUZpmQJjTDMGPAcBpOoVO', 'https://open.spotify.com/track/2JTaZjHNULImGUfECwTELE', 'https://open.spotify.com/track/3seHx466iTcUmWE9dOVB3v', 'https://open.spotify.com/track/7IAa7vUJ11STN7le8XaxsH', 'https://open.spotify.com/track/01gNiOqg8u7vT90uVgOVmz', 'https://open.spotify.com/track/6QicTxeiSaRkPnkGDUvYOs', 'https://open.spotify.com/track/1xQv4unOladJFtLUOy2eb7', 'https://open.spotify.com/track/6jmTHeoWvBaSrwWttr8Xvu', 'https://open.spotify.com/track/6vPIRcylcXttSYprNGsSPK', 'https://open.spotify.com/track/0NmeI6UpRE27dxxgosD5n9', 'https://open.spotify.com/track/5fyIGoaaKelzdyW8ELhYJZ', 'https://open.spotify.com/track/52WLxAX9O4wbPyj4Jxo4XV', 'https://open.spotify.com/track/16bHRxM89ue0TiCKARYbRp', 'https://open.spotify.com/track/3fmv1CYKMru9JY6c33frlU', 'https://open.spotify.com/track/6J5sxraPPZ4b0CVOGAgpXj', 'https://open.spotify.com/track/3F97NSex1rBX2ekPQsHAsT', 'https://open.spotify.com/track/7jslhIiELQkgW9IHeYNOWE', 'https://open.spotify.com/track/57kR5SniQIbsbVoIjjOUDa', 'https://open.spotify.com/track/79XrkTOfV1AqySNjVlygpW', 'https://open.spotify.com/track/26Izh06V7txOWIEaPGd080', 'https://open.spotify.com/track/3DG2hUPMLKcFptV1Gv32oI', 'https://open.spotify.com/track/08bn759cPYICtUPoYx29P0', 'https://open.spotify.com/track/5DGnlowf1fjT7VWsoeRDlb', 'https://open.spotify.com/track/6ibYIkocjAzJffVtDOLxbQ', 'https://open.spotify.com/track/7C51GjZkKPzBa6LKrNgYBv', 'https://open.spotify.com/track/71jzSTkT0F0w1v4moZIDyc', 'https://open.spotify.com/track/0IIdUQntNOcOsLb7Q6NCK3', 'https://open.spotify.com/track/2uCMts8MLE3GktieyAIeXu', 'https://open.spotify.com/track/2PRsh2LNPxoxC9OnErnelg', 'https://open.spotify.com/track/0sF3wNk9OBXu3ruyHDlvY7', 'https://open.spotify.com/track/4VZPYvMTByQytb6F3MKP4w', 'https://open.spotify.com/track/7tEoJKbYdIHBfn7tTIyjHW', 'https://open.spotify.com/track/2vfvGlqCB7oertO5VLE0sz', 'https://open.spotify.com/track/2rMnWEsnUSvAmGplYwNBZz', 'https://open.spotify.com/track/5xVZk4Vt12ViVyoircV9iP', 'https://open.spotify.com/track/1M7F8AGNVOfFvCELlCEkZG', 'https://open.spotify.com/track/2k80B1DEqJFUG4L5LUa6Mv', 'https://open.spotify.com/track/1LWgiHHnRSUnyhO1XhdhMd', 'https://open.spotify.com/track/2HIu8eI5RhODY9oJ3yuYSJ', 'https://open.spotify.com/track/3TmkViBJdzJS9XAEyawzh7', 'https://open.spotify.com/track/0XHW5160xXGQKGC9nfROku', 'https://open.spotify.com/track/6ITvw4wTuB08JOsCwHfjBu', 'https://open.spotify.com/track/74tsW4h0WDYRpfD19gc10W', 'https://open.spotify.com/track/4WcrDusnN0VqHycP3YzSwz', 'https://open.spotify.com/track/5o5SVIrVETWIQFMdgPFXPt', 'https://open.spotify.com/track/0qImpiFeovSF3tDfl3jiFG', 'https://open.spotify.com/track/6cRah20C9qZ6e6atKhagQz', 'https://open.spotify.com/track/7INevjHlQkXyBEJSLFOB58', 'https://open.spotify.com/track/6HaA6tCGwWJBdMkDFqfHsH', 'https://open.spotify.com/track/0BJTbkmrB2Y4E9M8qVzbYZ', 'https://open.spotify.com/track/7oaEjLP2dTJLJsITbAxTOz', 'https://open.spotify.com/track/6iSa34DdTIpRlfpzbZYEsF', 'https://open.spotify.com/track/7GUhAHoQDjjnf0eCWMgnmC', 'https://open.spotify.com/track/3COIPRXrrZoS6ADCuhh1Te', 'https://open.spotify.com/track/6CJI4zpW77MHwmRo5DCsGk', 'https://open.spotify.com/track/5IulP32i4U48bGaEanEF19', 'https://open.spotify.com/track/1egVLpTrGvaWtUcR2xDoaN', 'https://open.spotify.com/track/69G0QZNlNb0kjt3sS70un0', 'https://open.spotify.com/track/6MY7uJHMCFL89iJqvm6AoH', 'https://open.spotify.com/track/5H39b80WRuNFDFGDX0058o', 'https://open.spotify.com/track/5TmgLf3eXrAAfNIk5bURJL', 'https://open.spotify.com/track/2fa6SJosRytOmG8bXFJzuL', 'https://open.spotify.com/track/6d6JiSto1oMh5zLipzUypy', 'https://open.spotify.com/track/7bk4L5IsOEQwKlGoXwhdjT', 'https://open.spotify.com/track/5eUbSBj04NfX3vuK8EaW08', 'https://open.spotify.com/track/0hy1SOTEn9ifXTzOwnCwEr', 'https://open.spotify.com/track/2k0tvOBFW6whTJucM19mTV', 'https://open.spotify.com/track/7xQU088imd7XrX6y0pSmdI', 'https://open.spotify.com/track/5zBqPjh3vfttJScml99szD', 'https://open.spotify.com/track/7goY423nJLTzYTnGFiAC5Z', 'https://open.spotify.com/track/6cWxcxxZSugazHAU57z0Lj', 'https://open.spotify.com/track/0NTMtAO2BV4tnGvw9EgBVq', 'https://open.spotify.com/track/7Fk0zNC7vGdoDwePPgByKh', 'https://open.spotify.com/track/3ODXRUPL44f04cCacwiCLC', 'https://open.spotify.com/track/1PxTFIjG0IjuQDILHr4bXJ', 'https://open.spotify.com/track/0LTeRenZwVsyxFWe7rP2rT', 'https://open.spotify.com/track/3eqEq53sUsaukd560hw7Dh', 'https://open.spotify.com/track/5RdBWGqjot8xchoB4fiV2g', 'https://open.spotify.com/track/6M7TmL8CZ52NJTfT8duiDA', 'https://open.spotify.com/track/0RvfjQm8uIoHYuB3U4rCu4', 'https://open.spotify.com/track/3cBUv0RIoEyAm2b7qimEY6', 'https://open.spotify.com/track/1N35OBiBfjjLuBMOIiIg2N', 'https://open.spotify.com/track/051VzpEn17dLinnypLAUNG', 'https://open.spotify.com/track/2MaDN1zq0vftSQ21bGBSHq', 'https://open.spotify.com/track/45JxylFwaThjLsRBuzcfoL', 'https://open.spotify.com/track/5tZmLjU4vhPlJb12IweZuB', 'https://open.spotify.com/track/3tuoGlPsvRp1GyrcXkop63', 'https://open.spotify.com/track/3FFcZZq3Z3EJrhUecwcMdG', 'https://open.spotify.com/track/4xKp0mZ2hY6eS0ii55KgKR', 'https://open.spotify.com/track/3mePeLKszLpXgHg3DmkfEd', 'https://open.spotify.com/track/0gpldhkM6R39FI8vxfrgBn', 'https://open.spotify.com/track/5I6YA7oHtraxwWQzzCugDt', 'https://open.spotify.com/track/62HF0bESSXJe8OWOFE1xe3', 'https://open.spotify.com/track/24XPxbzGwOlPKf1pdf1ZtW', 'https://open.spotify.com/track/608a1wIsSd5KzMEqm1O7w3', 'https://open.spotify.com/track/3oTUE6eypKjfLS6bR7J8GU', 'https://open.spotify.com/track/3wklLgZSOSi1kEFmO13zph', 'https://open.spotify.com/track/3tvWMBIblzT5FSjKtIeRR1', 'https://open.spotify.com/track/1s16lVXTAFSS4Nm3Ygd1Qu', 'https://open.spotify.com/track/1wcWdMlLjzp7Rx25JJN7c4', 'https://open.spotify.com/track/5bUwUQKGNnTE20kb3MTqHD', 'https://open.spotify.com/track/6mavtNxMc35XwKg9POUemZ', 'https://open.spotify.com/track/7ptxlO1s34uXTPnm2S0Tno', 'https://open.spotify.com/track/1iP5UMdOsGz6EdltGbbcb7', 'https://open.spotify.com/track/1UWhx0pFZccP4jdCIZsj7U', 'https://open.spotify.com/track/606HVBE1aPA81oGg5JMa4M', 'https://open.spotify.com/track/2Bcu8cmU7qYu3qXLowHQie', 'https://open.spotify.com/track/3xgK660fsZH7ZDcOMfIdfB', 'https://open.spotify.com/track/2wTLYI57xwJMRjLW2FHQwR', 'https://open.spotify.com/track/3kb72STxc2959ZqsTwu52i', 'https://open.spotify.com/track/7hN5TKSdRb56uytwIpcUES', 'https://open.spotify.com/track/466LASOuTbWDkrwZ3Ylxvv', 'https://open.spotify.com/track/5Xx8krVxg1pRy6CXieB7FS', 'https://open.spotify.com/track/3pUcZ8QeYKlf9f2viDDcDs', 'https://open.spotify.com/track/3loLDTxBVsHus9RAERxSH1', 'https://open.spotify.com/track/75bNIPy58AL7MYYp8cnj4A', 'https://open.spotify.com/track/0eImrDDpQTEuHF0NBqmrei', 'https://open.spotify.com/track/5gLr6cmDqa1FI4qhb7sUsw', 'https://open.spotify.com/track/04wrnpT0QumuU3GPWbf0VV', 'https://open.spotify.com/track/59o2b2BGgziNyPx9f3xnhA', 'https://open.spotify.com/track/54d6U1U3Y74mDmJJECZNNQ', 'https://open.spotify.com/track/7CJHue95J5KJGc6t0jatb5', 'https://open.spotify.com/track/5EEa9SITrIRlpj5yFn72iO', 'https://open.spotify.com/track/3NHyQ388Ac1VieCVVBFJOU', 'https://open.spotify.com/track/2YCHXHF12UigCNtXsRUoLg', 'https://open.spotify.com/track/0ytikc2Iq4n8DMKhPC0wta', 'https://open.spotify.com/track/6OZr3Bg0KoN15FVedQNr1v', 'https://open.spotify.com/track/1BQkVDlEOtYKOaotnJuNzz', 'https://open.spotify.com/track/0KoTXlFfcIjcGRfGtx1k7F', 'https://open.spotify.com/track/3twEx52dboO1CqWu5x1i2h', 'https://open.spotify.com/track/41qHerpo9DI6LHo13MIIy4', 'https://open.spotify.com/track/0BB7n43s5Wx7DiGWwMDT1t', 'https://open.spotify.com/track/6yqt6ZIeWAaxU6hguDi5HY', 'https://open.spotify.com/track/7uXwbnpGfGRwlB7CWeC6Aw', 'https://open.spotify.com/track/4njLEd40fsHHYdOOeO28ME', 'https://open.spotify.com/track/0gpYWXSS8TzFyhnnjVjFHt', 'https://open.spotify.com/track/5qX4r5vT9bY8xMsiKuZhQn', 'https://open.spotify.com/track/4uJXqYEqdNF4DijLy7NdgP', 'https://open.spotify.com/track/2kWowW0k4oFymhkr7LmvzO', 'https://open.spotify.com/track/6N0ZWc63tHRHjoCcJMgzcm', 'https://open.spotify.com/track/5rMNQfYhBMlyitrMAiwQfc', 'https://open.spotify.com/track/7z8dxDUJs8G4xRZaVMrz9B', 'https://open.spotify.com/track/0grFc6klR3hxoHLcgCYsF4', 'https://open.spotify.com/track/0fXMFBprRtdpOhA8fIcxPs', 'https://open.spotify.com/track/7FVTNovDkiTUeqqYZDc7Mq', 'https://open.spotify.com/track/6KmSpuVSuYBvut7zb1e0ys', 'https://open.spotify.com/track/2epsOuB1aYQ7NJcIExslZf', 'https://open.spotify.com/track/6ATkdQDvgPt8W06XPjcB8Z', 'https://open.spotify.com/track/4YmSnlzkU5sF4X7aAiXAuY', 'https://open.spotify.com/track/14wY5SJ4WoyMi5GLVeew4c', 'https://open.spotify.com/track/2TKwDXgLQdfPT3mXUbaOF7', 'https://open.spotify.com/track/4JByhUI0u6owmKBOX9zYom', 'https://open.spotify.com/track/27GmP9AWRs744SzKcpJsTZ', 'https://open.spotify.com/track/32lmL4vQAAotg6MrJnhlQZ', 'https://open.spotify.com/track/2znzyzlAUc8Z1Ikq9aFOcx', 'https://open.spotify.com/track/0KaA33vmmUEY77YD6L3KFi', 'https://open.spotify.com/track/1gpSrGUfU3F9TOzPlEyLxH', 'https://open.spotify.com/track/5u5VZaUmYMZiFed9jFWebf', 'https://open.spotify.com/track/0wdKiSBUT7aZkXUIdJWcwC', 'https://open.spotify.com/track/11BIoKDpTJHX5mZt6p566h', 'https://open.spotify.com/track/275a9yzwGB6ncAW4SxY7q3', 'https://open.spotify.com/track/7zBPzAjKAqQpcv8F8GCq5s', 'https://open.spotify.com/track/7DTlsMOQjGysXHpwwpHuPl', 'https://open.spotify.com/track/4T0ScSPdQKmGvruK7pavNP', 'https://open.spotify.com/track/5lFDtgWsjRJu8fPOAyJIAK', 'https://open.spotify.com/track/1LxKKYsJNPeBdOwdudsJzv', 'https://open.spotify.com/track/7p54iuWHqvdeN224OglZ9t', 'https://open.spotify.com/track/61QSuw5VlC0LTS8WMO356g', 'https://open.spotify.com/track/5NQbUaeTEOGdD6hHcre0dZ', 'https://open.spotify.com/track/4fUh9VvKW4shhWN5LfN1Ba', 'https://open.spotify.com/track/7kqcudBGM74MXVoYMaoWkC', 'https://open.spotify.com/track/3fpTMuD1u3gJlVI4FadVHs', 'https://open.spotify.com/track/1lAgtcp1KQRQS10m2yCgvm', 'https://open.spotify.com/track/3keUgTGEoZJt0QkzTB6kHg', 'https://open.spotify.com/track/1hzJQIkgXwZevaKsc7iA6D', 'https://open.spotify.com/track/5MD2QLnFM2ChpKAh33z0zr', 'https://open.spotify.com/track/6GgPsuz0HEO0nrO2T0QhDv', 'https://open.spotify.com/track/61zTSexBvC42Db8jxMHuKx', 'https://open.spotify.com/track/6hVGw7yVUd2bpdHMPCWrtN', 'https://open.spotify.com/track/0I6wh8pETh9PS7dVTzykQd', 'https://open.spotify.com/track/1hzJQIkgXwZevaKsc7iA6D', 'https://open.spotify.com/track/0NTMtAO2BV4tnGvw9EgBVq', 'https://open.spotify.com/track/746PsZ5jTdqIJ6LgJAHcEZ', 'https://open.spotify.com/track/5uqphUYsR45kPYplrYSAQh', 'https://open.spotify.com/track/0Omd24Cc3Cmn6LcnkRSpN3', 'https://open.spotify.com/track/2CY92qejUrhyPUASawNVRr', 'https://open.spotify.com/track/1NM1XuictEIvPuscutKMZV', 'https://open.spotify.com/track/5nN8BwAQDJDguq7Dpd3JQQ', 'https://open.spotify.com/track/19gEmPjfqSZT0ulDRfjl0m', 'https://open.spotify.com/track/6sUTGZ7OuabFggXBP62tJK', 'https://open.spotify.com/track/7s49Um7G06hq2rulrHPsIy', 'https://open.spotify.com/track/252gJUec2oDsGBPcxZs4nX', 'https://open.spotify.com/track/22DKsoYFV5npPXmnPpXL7i', 'https://open.spotify.com/track/33JcUj9qQDayKswunZP9ar', 'https://open.spotify.com/track/5suEtW2DUAfvroohjzgatb', 'https://open.spotify.com/track/49zD0wr2S3d0lZPib0K4e1', 'https://open.spotify.com/track/4immekPm8Har57BB9DcDSj', 'https://open.spotify.com/track/4BgDSeNh8sdEH0R3J24rT1', 'https://open.spotify.com/track/1rLl5GAkjPXVbG2B8MrZAi', 'https://open.spotify.com/track/2g5TgTjDM64RjrPL5eC0Q1', 'https://open.spotify.com/track/7qgYYgpOjye4itvWrl4Oyt', 'https://open.spotify.com/track/2okC0OWtgS86P2LC18IzHy']"
   ]
  },
  {
   "cell_type": "code",
   "execution_count": 6,
   "metadata": {
    "collapsed": false
   },
   "outputs": [
    {
     "data": {
      "text/plain": [
       "561"
      ]
     },
     "execution_count": 6,
     "metadata": {},
     "output_type": "execute_result"
    }
   ],
   "source": [
    "len(spotify)"
   ]
  },
  {
   "cell_type": "code",
   "execution_count": 80,
   "metadata": {
    "collapsed": true
   },
   "outputs": [],
   "source": [
    "spotify = list(set(spotify))"
   ]
  },
  {
   "cell_type": "code",
   "execution_count": 81,
   "metadata": {
    "collapsed": true
   },
   "outputs": [],
   "source": [
    "for s in spotify:\n",
    "    if s in girls:\n",
    "        spotify.remove(s)"
   ]
  },
  {
   "cell_type": "code",
   "execution_count": 82,
   "metadata": {
    "collapsed": false
   },
   "outputs": [
    {
     "data": {
      "text/plain": [
       "513"
      ]
     },
     "execution_count": 82,
     "metadata": {},
     "output_type": "execute_result"
    }
   ],
   "source": [
    "len(spotify)"
   ]
  },
  {
   "cell_type": "code",
   "execution_count": 4,
   "metadata": {
    "collapsed": true
   },
   "outputs": [],
   "source": [
    "girls = ['https://open.spotify.com/track/2Uu8IiLkLY0UXhCHka4Dlr', 'https://open.spotify.com/track/6zsk6uF3MxfIeHPlubKBvR', 'https://open.spotify.com/track/3keUgTGEoZJt0QkzTB6kHg', 'https://open.spotify.com/track/2CY92qejUrhyPUASawNVRr', 'https://open.spotify.com/track/5kVSEpbyuLIVuPM1i2KivC', 'https://open.spotify.com/track/1bb6bROP3OXMHcPw84MtmN', 'https://open.spotify.com/track/29VrHhpC5AS9b7XJYDPhqb', 'https://open.spotify.com/track/5vVRJ7YpG8uELQHQw2sVgZ', 'https://open.spotify.com/track/6KdxFxUt2gwOVS0v5mAScR', 'https://open.spotify.com/track/3G3lahQSMk4BHnap1i853u', 'https://open.spotify.com/track/1giZzxMTWeFnwKZHigoowU', 'https://open.spotify.com/track/2Ekh9SKca7PiCLQIcF4yqJ', 'https://open.spotify.com/track/6b3CWHNAKiJRqmgz6ZcWaB', 'https://open.spotify.com/track/6aLVv2NbwkBGxcaVTlMXXC', 'https://open.spotify.com/track/7oDHUYPFEh4Pr0Gh5LG3sH', 'https://open.spotify.com/track/2NUcXeWIVFKcKrjgfUHDRG', 'https://open.spotify.com/track/1OthLEsS1Qc4zwEjJ2E2Xx', 'https://open.spotify.com/track/34ETCpCwn6w3hVCtt2jjh1', 'https://open.spotify.com/track/4DXlMukYPm3OPFIiOgWKvh', 'https://open.spotify.com/track/4uNisev7PGUAixBOagpgyY', 'https://open.spotify.com/track/5r29mFrurlVBbqJzjr2XW6', 'https://open.spotify.com/track/3NkDj8DpKMUdvdLrS5Mpb6', 'https://open.spotify.com/track/7yFVwzeawvaoysd2fyCR8t', 'https://open.spotify.com/track/287tdUcso07UAu5jxXB2BQ', 'https://open.spotify.com/track/6YNjG5wgbZqFRmAjQHRPRC', 'https://open.spotify.com/track/1iVdwLsbPsKnqUoZOWlEqv', 'https://open.spotify.com/track/3plNsz0KQaJjtW75gYTMEn', 'https://open.spotify.com/track/3mmbJnh1L94Zl8QZcUTq39', 'https://open.spotify.com/track/1Ktsil4bC4hYRWlqMG4qK3', 'https://open.spotify.com/track/0bMEC7rKM7UFIwpKWeFlO7', 'https://open.spotify.com/track/5KapB9KJnRsZrprzIAXycW', 'https://open.spotify.com/track/1yt8XozlLxkA5cRNsBi6SG', 'https://open.spotify.com/track/4q3qBqIxBmgcEiUhIXpbI3', 'https://open.spotify.com/track/1GoTvQP3JEeA8oh5I9b2xc', 'https://open.spotify.com/track/37GKEiiplYAIVdeN5fTc02', 'https://open.spotify.com/track/67ChP2tyLa1NABp3fifvBc', 'https://open.spotify.com/track/5Ex3bgVczf0dWpsxUAq00q', 'https://open.spotify.com/track/0ySoJyAbKGLI5yShGBOIQ8', 'https://open.spotify.com/track/679RG1vQ3m1liChyglObX9', 'https://open.spotify.com/track/0xhUxpbYsC4YBagqGtxv39', 'https://open.spotify.com/track/3oUSdLtRYOSvXcLMrHctv7', 'https://open.spotify.com/track/53PudKxizp3bANoN7MqPC3', 'https://open.spotify.com/track/5Ij7P3ltsYRahLH8Lxoo0G', 'https://open.spotify.com/track/5itYDzVwgVEfa3f7av1B8p', 'https://open.spotify.com/track/623M2eiRUKVIDJGTuKsvut', 'https://open.spotify.com/track/38utHz7gbQo2IL4c8lvkIt', 'https://open.spotify.com/track/03lwX8uYBd4QHKM9aKftUI', 'https://open.spotify.com/track/4MsSXv9FoXQ1ow5jOtpABc', 'https://open.spotify.com/track/4JQsmhlN9qYuZ7PA6vzTCm', 'https://open.spotify.com/track/1ANuOyT5TESTeN3OO2Y6vc', 'https://open.spotify.com/track/6o51FfrewhAsdZgsqa8OfY', 'https://open.spotify.com/track/1Hk0QRlUFCHYG6zIvUh0Xd', 'https://open.spotify.com/track/7iDe9QsNdmB2KHV65TkgQg', 'https://open.spotify.com/track/3jVOB0YwkvVYo8jHmwupsR', 'https://open.spotify.com/track/5upfHGn7Vhe49G07hKz1SR', 'https://open.spotify.com/track/6RXdg3NwyLU5pHUwkZq6VA', 'https://open.spotify.com/track/3Umf6TtIacGOjOn5MFWs1N', 'https://open.spotify.com/track/2APDhs1KxcfythNgqq97OE', 'https://open.spotify.com/track/50cSs6d03KV85oKytBmin9', 'https://open.spotify.com/track/6Y5OSQXuIXd5kddWoqGptB', 'https://open.spotify.com/track/4iZ3YEN89TU8Uwan4NwkB8', 'https://open.spotify.com/track/4IRKYO7hd7aMTv3qXKtvb7', 'https://open.spotify.com/track/3N74XFs9JWUMOzqQIHnLgX', 'https://open.spotify.com/track/0glRdbmOO7z3sl4SEkW2Cz', 'https://open.spotify.com/track/4ZfrNsBOo1cdl9rJMTZ2TN', 'https://open.spotify.com/track/02hAUjeZHXJSIIJdX4Esmb', 'https://open.spotify.com/track/7bnqNC0CBeaD09RGUG3FBm', 'https://open.spotify.com/track/4yRuPrh3Zf5NFJjbC6NvKp', 'https://open.spotify.com/track/5RIpcFzWNwx41PEu1ZDoUz', 'https://open.spotify.com/track/7KCXA4Y1gIGDSm388m9bW1', 'https://open.spotify.com/track/7xLA7JuahNmSTYqPbL3A42', 'https://open.spotify.com/track/6SAg69oB22punlgWMtfCtV', 'https://open.spotify.com/track/1ToVEMXEqUKg8dTURvVZy8', 'https://open.spotify.com/track/7vfWgVGiLgnGbInU5lvSQg', 'https://open.spotify.com/track/2qJLp4SATqV1OP5IDN7SMl', 'https://open.spotify.com/track/2lfPecqFbH8X4lHSpTxt8l', 'https://open.spotify.com/track/2YiAIb849EFhMkXZIaITMn', 'https://open.spotify.com/track/03RwdIvdmGXNxaqoT4iopD', 'https://open.spotify.com/track/2Oc1wWGAIkU5wPzL5yyBvN', 'https://open.spotify.com/track/6mNMp0g3zkg1K7uBpn07zl', 'https://open.spotify.com/track/1R2rmmUufa1tdiD9j9Qs3x', 'https://open.spotify.com/track/2vUcevVdMWPS0AO7jB7oaL', 'https://open.spotify.com/track/6Jao8qdCB3VYG4PhPzCEIm', 'https://open.spotify.com/track/4f13AaRyukUTWleyKXaRDh', 'https://open.spotify.com/track/0QVyk0TL9lAnlfrT7R4X5M', 'https://open.spotify.com/track/3k3w5UoN0CzQqF20HJU8RR', 'https://open.spotify.com/track/3BWto5OqCXq9yKO1cZGnNn', 'https://open.spotify.com/track/5xBw4KxEiFQwJ27U1Woy9l', 'https://open.spotify.com/track/14SXCAysoUVTSkhkk8UAAL', 'https://open.spotify.com/track/2dE5PeX0GBLTRyrDVnFnS3', 'https://open.spotify.com/track/6AnE2JxQ6yZRySaINdMPL8', 'https://open.spotify.com/track/04tpozNTvYulQIdkL4bOrI', 'https://open.spotify.com/track/1bYuKo7Ph4qS5Klw9zzD74', 'https://open.spotify.com/track/1xf4hOzWEss0OQHFpVLq8H', 'https://open.spotify.com/track/1Hul4c3LQsbAhIFF45LrHT', 'https://open.spotify.com/track/0Eqz5qsjKnQWX24ky3y2XF', 'https://open.spotify.com/track/59A6lBd9QmcD8rQTZPj1xD', 'https://open.spotify.com/track/2v6mMH3y4r9rOjJkZ8MXl8', 'https://open.spotify.com/track/7149PzASMowluOarCWzZcv', 'https://open.spotify.com/track/2pd6hufi7ZJZxKeNyARivR', 'https://open.spotify.com/track/0SJPThTy7ynySPF4euczx7', 'https://open.spotify.com/track/6WLS56xiRrXjSm9RSdL3zD', 'https://open.spotify.com/track/0IKK48xF4eEdfofyaeKWWO', 'https://open.spotify.com/track/0zVMzJ37VQNFUNvdxxat2E', 'https://open.spotify.com/track/2fsULZDbmjjZPtr1PfeBRz', 'https://open.spotify.com/track/6b3b7lILUJqXcp6w9wNQSm', 'https://open.spotify.com/track/5LrnUYhDOn6eNoVE3TPZj0', 'https://open.spotify.com/track/4m6D70k5xMmCDCB19u7Bi0', 'https://open.spotify.com/track/0KMYgSe9JWHloFeEVBU6qq']"
   ]
  },
  {
   "cell_type": "code",
   "execution_count": 5,
   "metadata": {
    "collapsed": false
   },
   "outputs": [],
   "source": [
    "spotify = list(set(spotify))"
   ]
  },
  {
   "cell_type": "code",
   "execution_count": 42,
   "metadata": {
    "collapsed": true
   },
   "outputs": [],
   "source": [
    "geniusurls = []"
   ]
  },
  {
   "cell_type": "code",
   "execution_count": 40,
   "metadata": {
    "collapsed": false
   },
   "outputs": [],
   "source": [
    "def get_genius_url(url):\n",
    "    r = requests.get(url)\n",
    "    soup = BeautifulSoup(r.text, \"lxml\")\n",
    "    text = soup.find(\"title\").text\n",
    "    text = text.partition(\", a song by \")\n",
    "    title = text[0].encode('ascii', errors='ignore').strip()\n",
    "    title = re.sub(r'\\s', '-', title)\n",
    "    title = re.sub(r'[^A-Za-z0-9-]', '', title)\n",
    "    artist = text[2].partition(\" on Spotify\")[0].encode('ascii', errors='ignore').strip()\n",
    "    artist = re.sub(r'\\s', '-', artist)\n",
    "    artist = re.sub(r'[^A-Za-z0-9-]', '', artist)\n",
    "    geniusurl = 'http://genius.com/'+artist+'-'+title+'-lyrics'\n",
    "    geniusurls.append(geniusurl)"
   ]
  },
  {
   "cell_type": "code",
   "execution_count": 43,
   "metadata": {
    "collapsed": false
   },
   "outputs": [],
   "source": [
    "for girl in girls:\n",
    "    try:\n",
    "        get_genius_url(girl)\n",
    "    except:\n",
    "        print girl"
   ]
  },
  {
   "cell_type": "code",
   "execution_count": 36,
   "metadata": {
    "collapsed": false
   },
   "outputs": [],
   "source": [
    "for url in geniusurls:\n",
    "    url = re.sub(r'-+', '-', url)\n",
    "    urls_to_get.append(urls_to_get)"
   ]
  },
  {
   "cell_type": "code",
   "execution_count": 44,
   "metadata": {
    "collapsed": false
   },
   "outputs": [
    {
     "data": {
      "text/plain": [
       "109"
      ]
     },
     "execution_count": 44,
     "metadata": {},
     "output_type": "execute_result"
    }
   ],
   "source": [
    "len(geniusurls)"
   ]
  },
  {
   "cell_type": "code",
   "execution_count": 48,
   "metadata": {
    "collapsed": true
   },
   "outputs": [],
   "source": [
    "urls_to_get = []"
   ]
  },
  {
   "cell_type": "code",
   "execution_count": 49,
   "metadata": {
    "collapsed": false
   },
   "outputs": [],
   "source": [
    "c = re.compile(r'--+')\n",
    "for url in geniusurls:\n",
    "    if c.search(url):\n",
    "        urls_to_get.append(re.sub(c, '-', url))\n",
    "    else:\n",
    "        urls_to_get.append(url)"
   ]
  },
  {
   "cell_type": "code",
   "execution_count": 51,
   "metadata": {
    "collapsed": false
   },
   "outputs": [
    {
     "data": {
      "text/plain": [
       "404"
      ]
     },
     "execution_count": 51,
     "metadata": {},
     "output_type": "execute_result"
    }
   ],
   "source": [
    "r = requests.get(urls_to_get[0])\n",
    "r.status_code\n",
    "# soup = BeautifulSoup(r.text, \"lxml\")"
   ]
  },
  {
   "cell_type": "code",
   "execution_count": 105,
   "metadata": {
    "collapsed": true
   },
   "outputs": [],
   "source": [
    "searches = []"
   ]
  },
  {
   "cell_type": "code",
   "execution_count": 106,
   "metadata": {
    "collapsed": true
   },
   "outputs": [],
   "source": [
    "songids = []"
   ]
  },
  {
   "cell_type": "code",
   "execution_count": 109,
   "metadata": {
    "collapsed": true
   },
   "outputs": [],
   "source": [
    "def get_songid(url):\n",
    "    r = requests.get(url)\n",
    "    if r.status_code == 200:\n",
    "        soup = BeautifulSoup(r.text, \"lxml\")\n",
    "        meta = soup.find_all('meta')\n",
    "        for item in meta:\n",
    "            if str(ContentMetaAttributeValue(item['content']).encode('utf-8')).startswith('/songs'):\n",
    "                songid = int(str(ContentMetaAttributeValue(item['content']).encode('utf-8')).split('/')[-1])\n",
    "        songids.append(songid)\n",
    "#         print songid\n",
    "    else:\n",
    "        searches.append(re.sub(r'-', ' ', url.split('/')[-1])[:-7])\n",
    "#         print re.sub(r'-', ' ', url.split('/')[-1])[:-7]"
   ]
  },
  {
   "cell_type": "code",
   "execution_count": 108,
   "metadata": {
    "collapsed": false,
    "scrolled": true
   },
   "outputs": [
    {
     "name": "stdout",
     "output_type": "stream",
     "text": [
      "Ms Lauryn Hill Doo Wop That Thing\n",
      "4640\n",
      "Nicki Minaj Drake Lil Wayne Truffle Butter\n",
      "506641\n",
      "45634\n",
      "2286\n",
      "15479\n",
      "Various Artists Kari Faux on Erykah Badu\n",
      "41376\n",
      "914961\n",
      "Sweet Tee Jazzy Joyce Its My Beat\n",
      "Roxanne Shante Feelin Kinda Horny\n",
      "Trina Here We Go feat Kelly Rowland\n",
      "2609\n",
      "Foxy Brown Holy Matrimony Letter To The Firm\n",
      "Amil Beanie Sigel Memphis Bleek JAY Z 4 Da Fam Explicit Album Version\n",
      "Charli Baltimore Ghostface Killah Stand Up Featuring Ghostface Killah\n",
      "Rah Digga Party Clean Edit\n",
      "Azealia Banks Lazy Jay 212\n",
      "16914\n",
      "1317005\n",
      "Jacki O Featuring Rodney Pussy Explicit Version aka Dirty Pussy\n",
      "Yo Yo You Cant Play With My Yo Yo feat Ice Cube\n",
      "27472\n",
      "Boss Papa Juggy Deeper\n",
      "30941\n",
      "38340\n",
      "38270\n",
      "729410\n",
      "1778090\n",
      "9723\n",
      "Rapsody Merna Dont Need It\n",
      "Kari Faux Supplier\n",
      "Erykah Badu Roy Ayers Cleva\n",
      "2270213\n",
      "2284049\n",
      "Monie Love Adeva Ring My Bell Upper Cut Mix\n",
      "35414\n",
      "The Conscious Daughters We Roll Deep\n",
      "Kamaiyah Hows Does It Feel\n",
      "206760\n",
      "556538\n",
      "DJ Carisma Cadence Want This\n",
      "DJ Diamond Kuts Jabar Carters feat Jabar\n",
      "Angie Martinez If I Could Go feat Sacario Lil Mo\n",
      "Rasheeda Diamond Kandi Toya Bed Rock\n",
      "Remy Ma Rick Ross Yo Gotti Hands Down feat Rick Ross Yo Gotti\n",
      "Dreezy Dej Loaf Serena\n",
      "Audra the Rapper Abir Haronni What If feat Abir Haronni\n",
      "51388\n",
      "Swanky Tunes Going Deeper Far From Home Radio Edit\n",
      "2423497\n",
      "Project 46 Shantee Signs feat Shantee\n",
      "CLMD Astrid S Adrian Lux Savage Skulls Dust Adrian Lux Savage Skulls Remix\n",
      "Axel Boy Raw to the Floor\n",
      "Kaskade CID Us\n",
      "Armin van Buuren Kensington Years Heading Up High Years Radio Edit\n",
      "Brooks If Only I Could Radio Edit\n",
      "League of Legends Mako Piercing Light feat Mako\n",
      "Above Beyond Zoe Johnston Good For Me Above Beyond Club Mix ABGT Mix\n",
      "Gryffin Josef Salvat Heading Home\n",
      "Tisto Don Diablo Thomas Troelsen Chemicals Radio Edit\n",
      "Various Artists electroNOW\n",
      "Above Beyond AI\n",
      "Cash Cash Jacquie Lee Aftershock feat Jacquie Lee\n",
      "Hellberg Slumber Party\n",
      "Madison Mars Milky Way\n",
      "Boehm We Come Radio Edit\n",
      "Dyro Loopers Set Me Free\n",
      "Birdy Don Diablo Keeping Your Head Up Don Diablo Remix Radio Edit\n",
      "League of Legends Marshmello Flash Funk feat Marshmello\n",
      "Autoerotique Streets\n",
      "Tritonal Chris Ramos Shanahan This Is Love Radio Edit\n",
      "2435615\n",
      "Tritonal Steph Jones Blackout\n",
      "Alan Walker Fade\n",
      "Zonderling BISHP Crazy For You\n",
      "LVNDSCAPE Holland Park Nico Santos Waterfalls\n",
      "Louis Futon ROZES Wasted On You feat ROZES\n",
      "GTA Sam Bruno Skrillex Red Lips feat Sam Bruno Skrillex Remix\n",
      "Jaeger Until Dawn\n",
      "Cut Snake Echo\n",
      "Tisto Oliver Heldens Natalie La Rose The Right Song\n",
      "2286821\n",
      "twoloud Qulinez Perfection\n",
      "Echos Pierce Fulton All I Want Pierce Fulton Remix\n",
      "Sonny Alven Emmi Our Youth\n",
      "Illenium King Deco Reverie feat King Deco\n",
      "Thomas Hayes Joni Fatora Neon Rodrigo Deem Radio Mix\n",
      "The Chainsmokers New York City Dash Berlin Remix\n",
      "MORTEN Frida Sundemo Beautiful Heartbeat\n",
      "Nora En Pure Better off That Way Radio Mix\n",
      "Manse Niclas Lundin Last Night Of Our Lives Radio Edit\n",
      "Breathe Carolina Shanahan HALIENE Stars Moon\n",
      "Hardwell Jake Reese Run Wild\n",
      "John De Sohn Sigrid Bernson Happy Hours\n",
      "Otto Knows Lindsey Stirling Alex Aris Dying for You feat Alex Aris\n",
      "Cubicolor Tim Digby Bell Falling\n",
      "Mat Zo Synapse Dynamics\n",
      "Marcus Schssow The Royalties STHLM Lionheart Jenaux Radio Edit\n",
      "Fifth Harmony Ty Dolla ign Work from Home\n",
      "Zara Larsson MNEK Never Forget You\n",
      "2414425\n",
      "Beyonc Nicki Minaj Flawless Remix\n",
      "2397096\n",
      "Sia Sean Paul Cheap Thrills\n",
      "2295400\n",
      "Rihanna Drake Work\n",
      "G Eazy Bebe Rexha Me Myself I\n"
     ]
    }
   ],
   "source": [
    "for song in urls_to_get:\n",
    "    get_songid(song)"
   ]
  },
  {
   "cell_type": "code",
   "execution_count": 110,
   "metadata": {
    "collapsed": false
   },
   "outputs": [
    {
     "data": {
      "text/plain": [
       "29"
      ]
     },
     "execution_count": 110,
     "metadata": {},
     "output_type": "execute_result"
    }
   ],
   "source": [
    "len(songids)"
   ]
  },
  {
   "cell_type": "code",
   "execution_count": 111,
   "metadata": {
    "collapsed": false
   },
   "outputs": [
    {
     "data": {
      "text/plain": [
       "80"
      ]
     },
     "execution_count": 111,
     "metadata": {},
     "output_type": "execute_result"
    }
   ],
   "source": [
    "len(searches)"
   ]
  },
  {
   "cell_type": "code",
   "execution_count": 68,
   "metadata": {
    "collapsed": false
   },
   "outputs": [
    {
     "data": {
      "text/plain": [
       "'Ms%20Lauryn%20Hill%20Doo%20Wop%20That%20Thing'"
      ]
     },
     "execution_count": 68,
     "metadata": {},
     "output_type": "execute_result"
    }
   ],
   "source": [
    "searches[0].replace(' ', '%20')"
   ]
  },
  {
   "cell_type": "code",
   "execution_count": 65,
   "metadata": {
    "collapsed": true
   },
   "outputs": [],
   "source": [
    "import requests\n",
    "import cnfg\n",
    "import json\n",
    "import pickle\n",
    "from datetime import datetime\n",
    "from collections import defaultdict\n",
    "from urlparse import urlparse"
   ]
  },
  {
   "cell_type": "code",
   "execution_count": 67,
   "metadata": {
    "collapsed": false
   },
   "outputs": [],
   "source": [
    "config = cnfg.load(\".genius_config\")\n",
    "client_key = config[\"client_key\"]\n",
    "client_secret = config[\"client_secret\"]\n",
    "access_token = 'uK247ank6jF7DY_E7TEMIdbuhT2IBVsVeFXh6AluxswFUfrlFNfXNu2pUFPrGv2c'\n",
    "auth = 'Bearer '+access_token\n",
    "req_start = 'https://api.genius.com/search?q='"
   ]
  },
  {
   "cell_type": "markdown",
   "metadata": {},
   "source": [
    "The following two functions employ Genius' API to make a call to their search function. For every song that I did not get a webpage above, I will make a request to the Genius search and return the webpage of the first result."
   ]
  },
  {
   "cell_type": "code",
   "execution_count": 114,
   "metadata": {
    "collapsed": true
   },
   "outputs": [],
   "source": [
    "def api_call(validurl):\n",
    "    call = validurl\n",
    "    r = requests.get(call, headers={'Authorization':auth})\n",
    "    if r.status_code==200:\n",
    "        return json.loads(r.content)\n",
    "    else:\n",
    "        print r.content\n",
    "        return r.content"
   ]
  },
  {
   "cell_type": "code",
   "execution_count": 115,
   "metadata": {
    "collapsed": true
   },
   "outputs": [],
   "source": [
    "def get_top_search(query):\n",
    "    term = req_start+query.replace(' ', '%20')\n",
    "    r = api_call(term)\n",
    "    if r['response']['hits'][0]['type'] == 'song':\n",
    "        return r['response']['hits'][0]['result']['id']"
   ]
  },
  {
   "cell_type": "code",
   "execution_count": 117,
   "metadata": {
    "collapsed": false
   },
   "outputs": [],
   "source": [
    "for x in range(len(searches)):\n",
    "#     print searches[x]\n",
    "    try:\n",
    "        songids.append(get_top_search(searches[x]))\n",
    "    except:\n",
    "        continue"
   ]
  },
  {
   "cell_type": "code",
   "execution_count": 118,
   "metadata": {
    "collapsed": false
   },
   "outputs": [
    {
     "data": {
      "text/plain": [
       "71"
      ]
     },
     "execution_count": 118,
     "metadata": {},
     "output_type": "execute_result"
    }
   ],
   "source": [
    "len(songids)"
   ]
  },
  {
   "cell_type": "code",
   "execution_count": 83,
   "metadata": {
    "collapsed": true
   },
   "outputs": [],
   "source": [
    "spot1 = spotify[0:100]\n",
    "spot2 = spotify[100:200]\n",
    "spot3 = spotify[200:300]\n",
    "spot4 = spotify[300:400]\n",
    "spot5 = spotify[400:]"
   ]
  },
  {
   "cell_type": "code",
   "execution_count": 121,
   "metadata": {
    "collapsed": false
   },
   "outputs": [],
   "source": [
    "geniusurls = []\n",
    "for url in spot1:\n",
    "    try:\n",
    "        get_genius_url(url)\n",
    "    except:\n",
    "        print url"
   ]
  },
  {
   "cell_type": "code",
   "execution_count": 128,
   "metadata": {
    "collapsed": false
   },
   "outputs": [
    {
     "name": "stdout",
     "output_type": "stream",
     "text": [
      "150\n",
      "231\n"
     ]
    }
   ],
   "source": [
    "print len(songids)\n",
    "geniusurls = []\n",
    "for url in spot2:\n",
    "    try:\n",
    "        get_genius_url(url)\n",
    "    except:\n",
    "        print url\n",
    "spot1urls = []\n",
    "searches = []\n",
    "c = re.compile(r'--+')\n",
    "for url in geniusurls:\n",
    "    if c.search(url):\n",
    "        spot1urls.append(re.sub(c, '-', url))\n",
    "    else:\n",
    "        spot1urls.append(url)\n",
    "for song in spot1urls:\n",
    "    get_songid(song)\n",
    "for x in range(len(searches)):\n",
    "    try:\n",
    "        songids.append(get_top_search(searches[x]))\n",
    "    except:\n",
    "        continue\n",
    "print len(songids)"
   ]
  },
  {
   "cell_type": "code",
   "execution_count": 129,
   "metadata": {
    "collapsed": false
   },
   "outputs": [
    {
     "name": "stdout",
     "output_type": "stream",
     "text": [
      "231\n",
      "318\n"
     ]
    }
   ],
   "source": [
    "print len(songids)\n",
    "geniusurls = []\n",
    "for url in spot3:\n",
    "    try:\n",
    "        get_genius_url(url)\n",
    "    except:\n",
    "        print url\n",
    "spot1urls = []\n",
    "searches = []\n",
    "c = re.compile(r'--+')\n",
    "for url in geniusurls:\n",
    "    if c.search(url):\n",
    "        spot1urls.append(re.sub(c, '-', url))\n",
    "    else:\n",
    "        spot1urls.append(url)\n",
    "for song in spot1urls:\n",
    "    get_songid(song)\n",
    "for x in range(len(searches)):\n",
    "    try:\n",
    "        songids.append(get_top_search(searches[x]))\n",
    "    except:\n",
    "        continue\n",
    "print len(songids)"
   ]
  },
  {
   "cell_type": "code",
   "execution_count": 130,
   "metadata": {
    "collapsed": false
   },
   "outputs": [
    {
     "name": "stdout",
     "output_type": "stream",
     "text": [
      "318\n",
      "401\n"
     ]
    }
   ],
   "source": [
    "print len(songids)\n",
    "geniusurls = []\n",
    "for url in spot4:\n",
    "    try:\n",
    "        get_genius_url(url)\n",
    "    except:\n",
    "        print url\n",
    "spot1urls = []\n",
    "searches = []\n",
    "c = re.compile(r'--+')\n",
    "for url in geniusurls:\n",
    "    if c.search(url):\n",
    "        spot1urls.append(re.sub(c, '-', url))\n",
    "    else:\n",
    "        spot1urls.append(url)\n",
    "for song in spot1urls:\n",
    "    get_songid(song)\n",
    "for x in range(len(searches)):\n",
    "    try:\n",
    "        songids.append(get_top_search(searches[x]))\n",
    "    except:\n",
    "        continue\n",
    "print len(songids)"
   ]
  },
  {
   "cell_type": "code",
   "execution_count": 131,
   "metadata": {
    "collapsed": false
   },
   "outputs": [
    {
     "name": "stdout",
     "output_type": "stream",
     "text": [
      "401\n",
      "498\n"
     ]
    }
   ],
   "source": [
    "print len(songids)\n",
    "geniusurls = []\n",
    "for url in spot5:\n",
    "    try:\n",
    "        get_genius_url(url)\n",
    "    except:\n",
    "        print url\n",
    "spot1urls = []\n",
    "searches = []\n",
    "c = re.compile(r'--+')\n",
    "for url in geniusurls:\n",
    "    if c.search(url):\n",
    "        spot1urls.append(re.sub(c, '-', url))\n",
    "    else:\n",
    "        spot1urls.append(url)\n",
    "for song in spot1urls:\n",
    "    get_songid(song)\n",
    "for x in range(len(searches)):\n",
    "    try:\n",
    "        songids.append(get_top_search(searches[x]))\n",
    "    except:\n",
    "        continue\n",
    "print len(songids)"
   ]
  },
  {
   "cell_type": "code",
   "execution_count": 132,
   "metadata": {
    "collapsed": true
   },
   "outputs": [],
   "source": [
    "hotsongs = ['https://open.spotify.com/track/5HECcy1xFIH8RbCG813DgD', 'https://open.spotify.com/track/0P6RjFd2HgG2AXJadQuGfE', 'https://open.spotify.com/track/7HzCxalzzYQOFb9a7Xs3j6', 'https://open.spotify.com/track/0SJPThTy7ynySPF4euczx7', 'https://open.spotify.com/track/7xq3uN2toVZ8IbNzfTucyJ', 'https://open.spotify.com/track/0IKK48xF4eEdfofyaeKWWO', 'https://open.spotify.com/track/1i1fxkWeaMmKEB4T7zqbzK', 'https://open.spotify.com/track/6WLS56xiRrXjSm9RSdL3zD', 'https://open.spotify.com/track/32lmL4vQAAotg6MrJnhlQZ', 'https://open.spotify.com/track/6WhzFzROw3aq3rPWjgYlxr', 'https://open.spotify.com/track/6lDo13SSgTv0WbyUQKgnjk', 'https://open.spotify.com/track/5UPNBWFU2TEf9kauIITfBs', 'https://open.spotify.com/track/0KMYgSe9JWHloFeEVBU6qq', 'https://open.spotify.com/track/2bKhIGdMdcqCqQ2ZhSv5nE', 'https://open.spotify.com/track/4z8c9qkpiYghn6DCQ6yA0u', 'https://open.spotify.com/track/0PJIbOdMs3bd5AT8liULMQ', 'https://open.spotify.com/track/1xQv4unOladJFtLUOy2eb7', 'https://open.spotify.com/track/5IZc3KIVFhjzJ0L2kiXzUl', 'https://open.spotify.com/track/4tRLfSHpbjlIjV97RPWr9Y', 'https://open.spotify.com/track/71SDPonZOsIKNtqnaX8LXj', 'https://open.spotify.com/track/1lAgtcp1KQRQS10m2yCgvm', 'https://open.spotify.com/track/43PuMrRfbyyuz4QpZ3oAwN', 'https://open.spotify.com/track/27SdWb2rFzO6GWiYDBTD9j', 'https://open.spotify.com/track/0WEVf4RhIrcr3S3ULBrt0T', 'https://open.spotify.com/track/6ArlDORkzYlMetmkhEuMSk', 'https://open.spotify.com/track/6TaqooOXAEcijL6G1AWS2K', 'https://open.spotify.com/track/2mCF8L0brIs88eH6Kf2h9p', 'https://open.spotify.com/track/2pWZZZGURB0k1R38CP8ouq', 'https://open.spotify.com/track/2ZyuwVvV6Z3XJaXIFbspeE', 'https://open.spotify.com/track/4cBGOdNeyGhu8ROeIC6H9Q', 'https://open.spotify.com/track/01gNiOqg8u7vT90uVgOVmz', 'https://open.spotify.com/track/306DlsO3OgFYsFZCfZzlBW', 'https://open.spotify.com/track/3pXF1nA74528Edde4of9CC', 'https://open.spotify.com/track/17Q87zeXgsAi9iQQbMu9v0', 'https://open.spotify.com/track/7uJH0YdSZL6psjxI6Xy08b', 'https://open.spotify.com/track/6fuNd8MimQhGbxxXhCkiEi', 'https://open.spotify.com/track/1IgaGlsCjkNOL3jG8LBLOz', 'https://open.spotify.com/track/38HANNejGF4N8V4tLKf6J7', 'https://open.spotify.com/track/6AYwClZvzz3HTw4ghP4FgO', 'https://open.spotify.com/track/6Q97WUFu7QrLr85Nct7iOT', 'https://open.spotify.com/track/3ESSGgWzRf1xvP7G5hHMhB', 'https://open.spotify.com/track/61uyGDPJ06MkxJtHgPmuyO', 'https://open.spotify.com/track/4mv5scFstr5JbVpB2jG3IS', 'https://open.spotify.com/track/3vv9phIu6Y1vX3jcqaGz5Z', 'https://open.spotify.com/track/57rOXabUKgkrwHPSqzo4s5', 'https://open.spotify.com/track/4wM4c5ly3GR4YYgWSePlSG', 'https://open.spotify.com/track/1z15fhSgN6U2k4gqA1Zu4j', 'https://open.spotify.com/track/4iZ3YEN89TU8Uwan4NwkB8', 'https://open.spotify.com/track/50S4mpD9sR0ITKEfC0O2cb', 'https://open.spotify.com/track/5w1vhNA2OEWUQ371QzyMmM', 'https://open.spotify.com/track/0NmeI6UpRE27dxxgosD5n9']"
   ]
  },
  {
   "cell_type": "code",
   "execution_count": 133,
   "metadata": {
    "collapsed": false
   },
   "outputs": [
    {
     "name": "stdout",
     "output_type": "stream",
     "text": [
      "51\n",
      "38\n"
     ]
    }
   ],
   "source": [
    "print len(hotsongs)\n",
    "for hr in hotsongs:\n",
    "    if hr in girls or hr in spotify:\n",
    "        hotsongs.remove(hr)\n",
    "print len(hotsongs)"
   ]
  },
  {
   "cell_type": "code",
   "execution_count": 134,
   "metadata": {
    "collapsed": true
   },
   "outputs": [],
   "source": [
    "runtheworld = ['https://open.spotify.com/track/1uXbwHHfgsXcUKfSZw5ZJ0', 'https://open.spotify.com/track/0Mn3amMRMoabaoTf1Publ4', 'https://open.spotify.com/track/0SJPThTy7ynySPF4euczx7', 'https://open.spotify.com/track/0puf9yIluy9W0vpMEUoAnN', 'https://open.spotify.com/track/5jrdCoLpJSvHHorevXBATy', 'https://open.spotify.com/track/2y4lAQpi5VTNLu2ldeTdUH', 'https://open.spotify.com/track/5fyIGoaaKelzdyW8ELhYJZ', 'https://open.spotify.com/track/4VrWlk8IQxevMvERoX08iC', 'https://open.spotify.com/track/2pWZZZGURB0k1R38CP8ouq', 'https://open.spotify.com/track/2dLLR6qlu5UJ5gk0dKz0h3', 'https://open.spotify.com/track/3ZCDG0nujwGfxrEmZlZoEt', 'https://open.spotify.com/track/36phXHOKx8rO7CMp2vNX4x', 'https://open.spotify.com/track/6Xs7OKt6i0Ddq8B4M5Dgvr', 'https://open.spotify.com/track/7FC9Lng8iXU081lbigu8m8', 'https://open.spotify.com/track/0ENSn4fwAbCGeFGVUbXEU3', 'https://open.spotify.com/track/6jG2YzhxptolDzLHTGLt7S', 'https://open.spotify.com/track/4nS1sut0R2mgmFitKIShVe', 'https://open.spotify.com/track/3556vNt6SuQPqt15VFfRWv', 'https://open.spotify.com/track/1kusepF3AacIEtUTYrw4GV', 'https://open.spotify.com/track/32lmL4vQAAotg6MrJnhlQZ', 'https://open.spotify.com/track/3kSXn1osC89W8JcPLozTzs', 'https://open.spotify.com/track/70eDxAyAraNTiD6lx2ZEnH', 'https://open.spotify.com/track/0r4SsYcwvd8URat6AS2m6f', 'https://open.spotify.com/track/5puD5DykxLKhlNy3GckU6Z', 'https://open.spotify.com/track/1LoriJC05IrHIDwj3q0KC1', 'https://open.spotify.com/track/1wYZZtamWTQAoj8B812uKQ', 'https://open.spotify.com/track/4CLPNURPcKztF9RRdcWLGP', 'https://open.spotify.com/track/69guyOwpeKji5OY8wMdsDI', 'https://open.spotify.com/track/0qfLIhQD4W82zzq9vzyDqI', 'https://open.spotify.com/track/2NELtMgQ8HSdrGrYQPLnC3', 'https://open.spotify.com/track/1cdzfFjEbUbgTm5nv3FgXR', 'https://open.spotify.com/track/2l8w0zZVn4AZNuzrht7MRT', 'https://open.spotify.com/track/7e2lRhdJQ6vH4EwOrIMb4g', 'https://open.spotify.com/track/1i1rNVtxbE7rdFfpHuNq2j', 'https://open.spotify.com/track/3aUfWeMesfVs2niopKjNxV', 'https://open.spotify.com/track/5e0vgBWfwToyphURwynSXa', 'https://open.spotify.com/track/5QTYcAzj8gwSBDhin7P8X0', 'https://open.spotify.com/track/0K6eUb8fOPOyJdGVWNjRwi', 'https://open.spotify.com/track/0sr5LOMv4x0jmTYfe6oOvP', 'https://open.spotify.com/track/7jdBp6gDHrCK0YVKuqrU8d', 'https://open.spotify.com/track/5EmCpD8tUj78VW3kgaEjME', 'https://open.spotify.com/track/3sNVsP50132BTNlImLx70i', 'https://open.spotify.com/track/3JsA2sWDNR9oQogGAzqqtH', 'https://open.spotify.com/track/4q0LoVlpbnEKjciXc9Ho39', 'https://open.spotify.com/track/5AnCLGg35ziFOloEnXK4uu', 'https://open.spotify.com/track/4Yb6G9OWgGBmfOpxcFxp6P', 'https://open.spotify.com/track/6rjtB7KSIiJ6v9vrACMlqF', 'https://open.spotify.com/track/4tVEJTR4VgBvvb2R6phA2v', 'https://open.spotify.com/track/5dzV75f9qVXVvdXLTqIG4L', 'https://open.spotify.com/track/14Rcq31SafFBHNEwXrtR2B', 'https://open.spotify.com/track/1jhrjM26NnMt9iSD7pllmP', 'https://open.spotify.com/track/0nJW01T7XtvILxQgC5J7Wh', 'https://open.spotify.com/track/7lJUnNQC5IX4f2OwH23cBF', 'https://open.spotify.com/track/4dTVgHZFPlaq9nPbLVVLSG', 'https://open.spotify.com/track/5VGlqQANWDKJFl0MBG3sg2', 'https://open.spotify.com/track/1dEy9Pl81QopSxNsPxXQxv', 'https://open.spotify.com/track/2JHBMVs8E7bJJBLkXpKgHn', 'https://open.spotify.com/track/0p1BcEcYVO3uk4KDf3gzkY', 'https://open.spotify.com/track/27jdUE1EYDSXZqhjuNxLem', 'https://open.spotify.com/track/5wlbrXx1qY5WM5HAwCSgto']"
   ]
  },
  {
   "cell_type": "code",
   "execution_count": 135,
   "metadata": {
    "collapsed": false
   },
   "outputs": [
    {
     "name": "stdout",
     "output_type": "stream",
     "text": [
      "60\n",
      "53\n"
     ]
    }
   ],
   "source": [
    "print len(runtheworld)\n",
    "for rtw in runtheworld:\n",
    "    if rtw in girls or rtw in spotify or rtw in hotsongs:\n",
    "        runtheworld.remove(rtw)\n",
    "print len(runtheworld)"
   ]
  },
  {
   "cell_type": "code",
   "execution_count": 136,
   "metadata": {
    "collapsed": true
   },
   "outputs": [],
   "source": [
    "hotsongs = hotsongs+runtheworld"
   ]
  },
  {
   "cell_type": "code",
   "execution_count": 137,
   "metadata": {
    "collapsed": false
   },
   "outputs": [
    {
     "name": "stdout",
     "output_type": "stream",
     "text": [
      "498\n",
      "550\n"
     ]
    }
   ],
   "source": [
    "print len(songids)\n",
    "geniusurls = []\n",
    "for url in runtheworld:\n",
    "    try:\n",
    "        get_genius_url(url)\n",
    "    except:\n",
    "        print url\n",
    "spot1urls = []\n",
    "searches = []\n",
    "c = re.compile(r'--+')\n",
    "for url in geniusurls:\n",
    "    if c.search(url):\n",
    "        spot1urls.append(re.sub(c, '-', url))\n",
    "    else:\n",
    "        spot1urls.append(url)\n",
    "for song in spot1urls:\n",
    "    get_songid(song)\n",
    "for x in range(len(searches)):\n",
    "    try:\n",
    "        songids.append(get_top_search(searches[x]))\n",
    "    except:\n",
    "        continue\n",
    "print len(songids)"
   ]
  },
  {
   "cell_type": "code",
   "execution_count": 138,
   "metadata": {
    "collapsed": false
   },
   "outputs": [
    {
     "name": "stdout",
     "output_type": "stream",
     "text": [
      "550\n",
      "531\n"
     ]
    }
   ],
   "source": [
    "print len(songids)\n",
    "songids = list(set(songids))\n",
    "print len(songids)"
   ]
  },
  {
   "cell_type": "code",
   "execution_count": 141,
   "metadata": {
    "collapsed": false
   },
   "outputs": [],
   "source": [
    "from pymongo import MongoClient\n",
    "client = MongoClient()\n",
    "db = client.music\n",
    "s = db.songs\n",
    "# counter\n",
    "c = s.find()"
   ]
  },
  {
   "cell_type": "code",
   "execution_count": 142,
   "metadata": {
    "collapsed": false
   },
   "outputs": [
    {
     "name": "stdout",
     "output_type": "stream",
     "text": [
      "531\n",
      "503\n"
     ]
    }
   ],
   "source": [
    "print len(songids)\n",
    "for song in songids:\n",
    "    if s.find({'id':song}).count()>0:\n",
    "        songids.remove(song)\n",
    "print len(songids)"
   ]
  },
  {
   "cell_type": "code",
   "execution_count": 143,
   "metadata": {
    "collapsed": false
   },
   "outputs": [
    {
     "data": {
      "text/plain": [
       "[1531904,\n",
       " 550920,\n",
       " 620555,\n",
       " 2396178,\n",
       " 2284206,\n",
       " 1839127,\n",
       " 51227,\n",
       " 526365,\n",
       " 508933,\n",
       " 2218017,\n",
       " 2082,\n",
       " 2310181,\n",
       " 245798,\n",
       " 520237,\n",
       " 2416699,\n",
       " 1953852,\n",
       " 61,\n",
       " 38978,\n",
       " 730057,\n",
       " 68,\n",
       " 2283589,\n",
       " 414018,\n",
       " 1966157,\n",
       " 1378382,\n",
       " 92856,\n",
       " 4186,\n",
       " 2214586,\n",
       " 2263139,\n",
       " 69732,\n",
       " 51301,\n",
       " 835688,\n",
       " 108,\n",
       " 206963,\n",
       " 215157,\n",
       " 690295,\n",
       " 2171,\n",
       " 118483,\n",
       " 1200259,\n",
       " 897159,\n",
       " 436363,\n",
       " 1317005,\n",
       " 446608,\n",
       " 1824913,\n",
       " 2196,\n",
       " 1978519,\n",
       " 2204,\n",
       " 2437280,\n",
       " 88225,\n",
       " 65701,\n",
       " 2275494,\n",
       " 168,\n",
       " 4270,\n",
       " 1742877,\n",
       " 102576,\n",
       " 181,\n",
       " 1128630,\n",
       " 2368201,\n",
       " 51388,\n",
       " 2339009,\n",
       " 192545,\n",
       " 235725,\n",
       " 911574,\n",
       " 2001112,\n",
       " 30941,\n",
       " 2177246,\n",
       " 32995,\n",
       " 233,\n",
       " 2286,\n",
       " 2308338,\n",
       " 156373,\n",
       " 592901,\n",
       " 72405,\n",
       " 20525,\n",
       " 1478928,\n",
       " 405779,\n",
       " 2414874,\n",
       " 2255131,\n",
       " 4381,\n",
       " 1548580,\n",
       " 1394985,\n",
       " 440618,\n",
       " 33067,\n",
       " 379183,\n",
       " 2423091,\n",
       " 2138429,\n",
       " 4417,\n",
       " 1820994,\n",
       " 28995,\n",
       " 2435401,\n",
       " 2390346,\n",
       " 829090,\n",
       " 737615,\n",
       " 518484,\n",
       " 387414,\n",
       " 176475,\n",
       " 2277244,\n",
       " 958524,\n",
       " 672108,\n",
       " 192879,\n",
       " 375,\n",
       " 70012,\n",
       " 1935742,\n",
       " 2275721,\n",
       " 29066,\n",
       " 2443,\n",
       " 396,\n",
       " 622989,\n",
       " 414099,\n",
       " 47508,\n",
       " 65947,\n",
       " 35229,\n",
       " 2275742,\n",
       " 29087,\n",
       " 41376,\n",
       " 2177091,\n",
       " 672155,\n",
       " 1778090,\n",
       " 399792,\n",
       " 1778100,\n",
       " 436662,\n",
       " 444,\n",
       " 2431426,\n",
       " 688579,\n",
       " 452,\n",
       " 170443,\n",
       " 2374092,\n",
       " 82339,\n",
       " 35293,\n",
       " 680415,\n",
       " 57824,\n",
       " 733666,\n",
       " 35301,\n",
       " 1847784,\n",
       " 2402796,\n",
       " 207343,\n",
       " 725500,\n",
       " 4609,\n",
       " 518,\n",
       " 713548,\n",
       " 78347,\n",
       " 526,\n",
       " 395791,\n",
       " 2284049,\n",
       " 16914,\n",
       " 4636,\n",
       " 2433565,\n",
       " 1114654,\n",
       " 2435615,\n",
       " 4640,\n",
       " 2400811,\n",
       " 2609,\n",
       " 2620,\n",
       " 2433598,\n",
       " 2302528,\n",
       " 45634,\n",
       " 2302535,\n",
       " 45643,\n",
       " 2430733,\n",
       " 35414,\n",
       " 2042461,\n",
       " 210364,\n",
       " 1790573,\n",
       " 2275954,\n",
       " 709240,\n",
       " 634,\n",
       " 515519,\n",
       " 2112517,\n",
       " 2421373,\n",
       " 2329215,\n",
       " 131712,\n",
       " 731783,\n",
       " 696428,\n",
       " 51652,\n",
       " 2210470,\n",
       " 393899,\n",
       " 131758,\n",
       " 690,\n",
       " 2124472,\n",
       " 416444,\n",
       " 92862,\n",
       " 2142915,\n",
       " 2396871,\n",
       " 2423497,\n",
       " 2409162,\n",
       " 32546,\n",
       " 718,\n",
       " 694992,\n",
       " 2057145,\n",
       " 101077,\n",
       " 58072,\n",
       " 2388703,\n",
       " 2155243,\n",
       " 115451,\n",
       " 725757,\n",
       " 361214,\n",
       " 2433799,\n",
       " 338701,\n",
       " 506641,\n",
       " 1415961,\n",
       " 66330,\n",
       " 121627,\n",
       " 117534,\n",
       " 1891103,\n",
       " 33573,\n",
       " 1995564,\n",
       " 33581,\n",
       " 2423601,\n",
       " 912179,\n",
       " 822,\n",
       " 826,\n",
       " 1696577,\n",
       " 174916,\n",
       " 2892,\n",
       " 446605,\n",
       " 27472,\n",
       " 160600,\n",
       " 29529,\n",
       " 47967,\n",
       " 185191,\n",
       " 47982,\n",
       " 437103,\n",
       " 880,\n",
       " 2327412,\n",
       " 2171992,\n",
       " 1989637,\n",
       " 246656,\n",
       " 123873,\n",
       " 2325382,\n",
       " 2028423,\n",
       " 279437,\n",
       " 1850256,\n",
       " 1702804,\n",
       " 158615,\n",
       " 1465241,\n",
       " 2275787,\n",
       " 66467,\n",
       " 2397096,\n",
       " 1392455,\n",
       " 82860,\n",
       " 1172403,\n",
       " 27574,\n",
       " 1782713,\n",
       " 76731,\n",
       " 2328394,\n",
       " 209861,\n",
       " 2413513,\n",
       " 433098,\n",
       " 293841,\n",
       " 667130,\n",
       " 2325471,\n",
       " 848,\n",
       " 2311139,\n",
       " 1182694,\n",
       " 115688,\n",
       " 58346,\n",
       " 2163879,\n",
       " 50156,\n",
       " 431093,\n",
       " 49680,\n",
       " 60408,\n",
       " 2270213,\n",
       " 610479,\n",
       " 6320,\n",
       " 1060,\n",
       " 2081829,\n",
       " 637994,\n",
       " 349229,\n",
       " 1629231,\n",
       " 502834,\n",
       " 230455,\n",
       " 578626,\n",
       " 1420355,\n",
       " 1971271,\n",
       " 302157,\n",
       " 547918,\n",
       " 2296914,\n",
       " 1674324,\n",
       " 1555542,\n",
       " 494680,\n",
       " 1113,\n",
       " 668175,\n",
       " 2292829,\n",
       " 746593,\n",
       " 390244,\n",
       " 720401,\n",
       " 2417511,\n",
       " 466028,\n",
       " 709741,\n",
       " 279669,\n",
       " 15479,\n",
       " 312444,\n",
       " 2413699,\n",
       " 93317,\n",
       " 1940620,\n",
       " 56477,\n",
       " 1954979,\n",
       " 3239,\n",
       " 2329769,\n",
       " 11435,\n",
       " 459948,\n",
       " 1799343,\n",
       " 23070,\n",
       " 640182,\n",
       " 1973431,\n",
       " 361656,\n",
       " 31934,\n",
       " 2311363,\n",
       " 2311373,\n",
       " 373966,\n",
       " 1240,\n",
       " 2307291,\n",
       " 1559777,\n",
       " 2286821,\n",
       " 38118,\n",
       " 468201,\n",
       " 13556,\n",
       " 1942775,\n",
       " 1277,\n",
       " 2426112,\n",
       " 380162,\n",
       " 19715,\n",
       " 410884,\n",
       " 722193,\n",
       " 2295060,\n",
       " 44311,\n",
       " 376091,\n",
       " 1860893,\n",
       " 707870,\n",
       " 2153759,\n",
       " 658724,\n",
       " 1318,\n",
       " 30258,\n",
       " 521525,\n",
       " 2297738,\n",
       " 392510,\n",
       " 357695,\n",
       " 48453,\n",
       " 2315590,\n",
       " 699959,\n",
       " 94434,\n",
       " 13648,\n",
       " 378195,\n",
       " 13656,\n",
       " 2409818,\n",
       " 1779037,\n",
       " 1944935,\n",
       " 533873,\n",
       " 389694,\n",
       " 451958,\n",
       " 722296,\n",
       " 19348,\n",
       " 38270,\n",
       " 720259,\n",
       " 433542,\n",
       " 62862,\n",
       " 2332048,\n",
       " 23955,\n",
       " 583,\n",
       " 310705,\n",
       " 290230,\n",
       " 110010,\n",
       " 2119099,\n",
       " 2262460,\n",
       " 329151,\n",
       " 38340,\n",
       " 476615,\n",
       " 56776,\n",
       " 112079,\n",
       " 417235,\n",
       " 1791444,\n",
       " 1493,\n",
       " 591,\n",
       " 2086372,\n",
       " 114153,\n",
       " 1517,\n",
       " 703741,\n",
       " 1620904,\n",
       " 372211,\n",
       " 2018804,\n",
       " 556538,\n",
       " 9723,\n",
       " 245249,\n",
       " 403031,\n",
       " 2262544,\n",
       " 914961,\n",
       " 1283,\n",
       " 2117152,\n",
       " 513574,\n",
       " 7722,\n",
       " 3627,\n",
       " 226866,\n",
       " 130616,\n",
       " 1637950,\n",
       " 56902,\n",
       " 2055751,\n",
       " 1931490,\n",
       " 1612,\n",
       " 52814,\n",
       " 8120,\n",
       " 156955,\n",
       " 742999,\n",
       " 720473,\n",
       " 1869407,\n",
       " 1980001,\n",
       " 394854,\n",
       " 2295400,\n",
       " 1574514,\n",
       " 2145913,\n",
       " 118395,\n",
       " 210558,\n",
       " 491142,\n",
       " 89736,\n",
       " 2434697,\n",
       " 693900,\n",
       " 2024045,\n",
       " 2416274,\n",
       " 2100885,\n",
       " 2176665,\n",
       " 2123421,\n",
       " 607906,\n",
       " 1365667,\n",
       " 1242795,\n",
       " 122542,\n",
       " 54967,\n",
       " 523961,\n",
       " 2408122,\n",
       " 2176703,\n",
       " 124611,\n",
       " 2178762,\n",
       " 5835,\n",
       " 700112,\n",
       " 20179,\n",
       " 218837,\n",
       " 601817,\n",
       " 607964,\n",
       " 743136,\n",
       " 1666786,\n",
       " 124643,\n",
       " 2373349,\n",
       " 428668,\n",
       " 2178795,\n",
       " 2275965,\n",
       " 319225,\n",
       " 114429,\n",
       " 2228864,\n",
       " 1560323,\n",
       " 452357,\n",
       " 716553,\n",
       " 1805,\n",
       " 1820438,\n",
       " 983001,\n",
       " 2342690,\n",
       " 2332455,\n",
       " 2420521,\n",
       " 1541932,\n",
       " 2324269,\n",
       " 698675,\n",
       " 2268248,\n",
       " 51003,\n",
       " 734517,\n",
       " 1943366,\n",
       " 2414561,\n",
       " 118602,\n",
       " 87884,\n",
       " 2287448,\n",
       " 2414425,\n",
       " 2408283,\n",
       " 200546,\n",
       " 61287,\n",
       " 282475,\n",
       " 409461,\n",
       " 24440,\n",
       " 741241,\n",
       " 186250,\n",
       " 729410,\n",
       " 3984,\n",
       " 2254750,\n",
       " 307105,\n",
       " 427939,\n",
       " 206760,\n",
       " 2068393,\n",
       " 1996715,\n",
       " 2334638,\n",
       " 530356,\n",
       " 2308425,\n",
       " 51128,\n",
       " 1800122,\n",
       " 92490,\n",
       " 2181057,\n",
       " 2379715,\n",
       " 33782,\n",
       " 1993,\n",
       " 1698,\n",
       " 73037,\n",
       " 1935314,\n",
       " 2205656,\n",
       " 2424793,\n",
       " 1978332,\n",
       " 71649,\n",
       " 1986530,\n",
       " 57315,\n",
       " 1402857,\n",
       " 2215917]"
      ]
     },
     "execution_count": 143,
     "metadata": {},
     "output_type": "execute_result"
    }
   ],
   "source": [
    "songids"
   ]
  },
  {
   "cell_type": "code",
   "execution_count": null,
   "metadata": {
    "collapsed": true
   },
   "outputs": [],
   "source": []
  }
 ],
 "metadata": {
  "kernelspec": {
   "display_name": "Python 2",
   "language": "python",
   "name": "python2"
  },
  "language_info": {
   "codemirror_mode": {
    "name": "ipython",
    "version": 2
   },
   "file_extension": ".py",
   "mimetype": "text/x-python",
   "name": "python",
   "nbconvert_exporter": "python",
   "pygments_lexer": "ipython2",
   "version": "2.7.11"
  }
 },
 "nbformat": 4,
 "nbformat_minor": 0
}
