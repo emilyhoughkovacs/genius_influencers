{
 "cells": [
  {
   "cell_type": "code",
   "execution_count": 1,
   "metadata": {
    "collapsed": false
   },
   "outputs": [],
   "source": [
    "import requests\n",
    "from bs4 import BeautifulSoup\n",
    "from bs4.element import CharsetMetaAttributeValue, ContentMetaAttributeValue\n",
    "import re"
   ]
  },
  {
   "cell_type": "code",
   "execution_count": 2,
   "metadata": {
    "collapsed": true
   },
   "outputs": [],
   "source": [
    "import time"
   ]
  },
  {
   "cell_type": "code",
   "execution_count": 3,
   "metadata": {
    "collapsed": true
   },
   "outputs": [],
   "source": [
    "list_of_urls = []"
   ]
  },
  {
   "cell_type": "markdown",
   "metadata": {},
   "source": [
    "RapCaviar 3/20/2016:\n",
    "\n",
    "1. Panda, Desiigner\n",
    "2. Summer Sixteen, Drake\n",
    "3. Uber Everywhere, Madeintyo\n",
    "4. Hercules, Young Thug\n",
    "5. Solo, ILoveMakonnen\n",
    "6. Bake Sale (feat. Travis Scott), Wiz Khalifa\n",
    "7. Low Life, Future\n",
    "8. Love Yourz - Live, J. Cole\n",
    "9. Work, Rihanna\n",
    "10. Gotta Lotta, 2 Chainz\n",
    "11. Saved (feat. E-40), Ty Dolla \\$ign\n",
    "12. New Level, A\\$AP Ferg\n",
    "13. 2 Phones, Kevin Gates\n",
    "14. Cut It (feat. Young Dolph), O.T. Genesis\n",
    "15. Ran Off On Da Plug Twice, Plies\n",
    "16. Law, Yo Gotti\n",
    "17. All The Way Up, Fat Joe\n",
    "18. Best Friend, Young Thug\n",
    "19. Pass Dat, Jeremih\n",
    "20. Exchange, Bryson Tiller\n",
    "21. Order More, G-Eazy\n",
    "22. Ready, Chaz French\n",
    "23. Weekend (feat. Miguel), Mac Miller\n",
    "24. Ladies Hit Squad, Skepta\n",
    "25. Jimmy Choo, Fetty Wap\n",
    "26. Promise, Kid Ink\n",
    "27. Moolah, Young Greatness\n",
    "28. Or Nah (feat. Wiz Khalifa), Ty Dolla \\$ign\n",
    "29. Ball Like This (feat. Future, Wiz Khalifa, & Kid Ink), L.A. Leakers\n",
    "30. Walked In, Bankroll Fresh\n",
    "31. A-Team, Travi$ Scott\n",
    "32. Housewives, Bas\n",
    "33. untitled 03 | 05.28.2013., Kendrick Lamar\n",
    "34. Phantogram Freestyle, A\\$AP Rocky\n",
    "35. Sorry Not Sorry, Bryson Tiller\n",
    "36. Body, Dreezy\n",
    "37. Back Up, Def Loaf\n",
    "38. Photo Copied, Future\n",
    "39. By Chance, Rae Sremmurd\n",
    "40. The Most, Rich Homie Quan\n",
    "41. Might Be (Remix), DJ Luke Nasty\n",
    "42. LA Confidential, Tory Lanez\n",
    "43. Oh My, Tate Kobang\n",
    "44. Key to the Streets, YFN Lucci\n",
    "45. Money Talk, T.I.\n",
    "46. Top, Lil Uzi Vert\n",
    "47. Pushin', ILoveMakonnen\n",
    "48. Bounce, 2 Chainz\n",
    "49. Slappin, E-40\n",
    "50. Slugs, Trae Tha Truth"
   ]
  },
  {
   "cell_type": "code",
   "execution_count": 4,
   "metadata": {
    "collapsed": false
   },
   "outputs": [],
   "source": [
    "list_of_urls = ['http://genius.com/Desiigner-panda-lyrics',\n",
    "               'http://genius.com/Drake-summer-sixteen-lyrics',\n",
    "               'http://genius.com/Madeintyo-uber-everywhere-lyrics',\n",
    "               'http://genius.com/Young-thug-hercules-lyrics',\n",
    "               'http://genius.com/Ilovemakonnen-solo-lyrics',\n",
    "               'http://genius.com/Wiz-khalifa-bake-sale-lyrics',\n",
    "               'http://genius.com/Future-low-life-lyrics',\n",
    "               'http://genius.com/J-cole-love-yourz-lyrics',\n",
    "               'http://genius.com/Rihanna-work-lyrics',\n",
    "               'http://genius.com/2-chainz-gotta-lotta-lyrics',\n",
    "               'http://genius.com/Ty-dolla-sign-saved-lyrics',\n",
    "               'http://genius.com/A-ap-ferg-new-level-lyrics',\n",
    "               'http://genius.com/Kevin-gates-2-phones-lyrics',\n",
    "               'http://genius.com/Ot-genasis-cut-it-lyrics',\n",
    "               'http://genius.com/Rich-the-kid-plug-lyrics',\n",
    "               'http://genius.com/Yo-gotti-law-lyrics',\n",
    "               'http://genius.com/Fat-joe-and-remy-ma-all-the-way-up-lyrics',\n",
    "               'http://genius.com/Young-thug-best-friend-lyrics',\n",
    "               'http://genius.com/Jeremih-pass-dat-lyrics',\n",
    "               'http://genius.com/Bryson-tiller-exchange-lyrics',\n",
    "               'http://genius.com/G-eazy-order-more-lyrics',\n",
    "               'http://genius.com/Chaz-french-ready-lyrics',\n",
    "               'http://genius.com/Mac-miller-weekend-lyrics',\n",
    "               'http://genius.com/Skepta-ladies-hit-squad-lyrics',\n",
    "               'http://genius.com/Fetty-wap-jimmy-choo-lyrics',\n",
    "               'http://genius.com/Kid-ink-promise-lyrics',\n",
    "               'http://genius.com/Young-greatness-moolah-lyrics',\n",
    "               'http://genius.com/Ty-dolla-sign-or-nah-lyrics',\n",
    "               'http://genius.com/La-leakers-ball-like-this-lyrics',\n",
    "               'http://genius.com/Bankroll-fresh-walked-in-lyrics',\n",
    "               'http://genius.com/Travis-scott-a-team-lyrics',\n",
    "               'http://genius.com/Bas-housewives-lyrics',\n",
    "               'http://genius.com/Kendrick-lamar-untitled-03-05282013-lyrics',\n",
    "               'http://genius.com/A-ap-rocky-phantogram-freestyle-lyrics',\n",
    "               'http://genius.com/Bryson-tiller-sorry-not-sorry-lyrics',\n",
    "               'http://genius.com/Dreezy-body-lyrics',\n",
    "               'http://genius.com/Dej-loaf-back-up-lyrics',\n",
    "               'http://genius.com/Future-photo-copied-lyrics',\n",
    "               'http://genius.com/Rae-sremmurd-by-chance-lyrics',\n",
    "               'http://genius.com/Rich-homie-quan-the-most-lyrics',\n",
    "               'http://genius.com/Luke-nasty-might-be-lyrics',\n",
    "               'http://genius.com/Tory-lanez-la-confidential-lyrics',\n",
    "               'http://genius.com/Tate-kobang-oh-my-lyrics',\n",
    "               'http://genius.com/Yfn-lucci-key-to-the-streets-lyrics',\n",
    "               'http://genius.com/Ti-money-talk-lyrics',\n",
    "               'http://genius.com/Lil-uzi-vert-top-lyrics',\n",
    "               'http://genius.com/Ilovemakonnen-pushin-lyrics',\n",
    "               'http://genius.com/2-chainz-bounce-lyrics',\n",
    "               'http://genius.com/E-40-slappin-lyrics',\n",
    "               'http://genius.com/Trae-tha-truth-slugs-lyrics']"
   ]
  },
  {
   "cell_type": "code",
   "execution_count": 6,
   "metadata": {
    "collapsed": false
   },
   "outputs": [],
   "source": [
    "def get_songid(url):\n",
    "    r = requests.get(url)\n",
    "    soup = BeautifulSoup(r.text, \"lxml\")\n",
    "    meta = soup.find_all('meta')\n",
    "    for item in meta:\n",
    "        if str(ContentMetaAttributeValue(item['content']).encode('utf-8')).startswith('/songs'):\n",
    "            songid = int(str(ContentMetaAttributeValue(item['content']).encode('utf-8')).split('/')[-1])\n",
    "    return songid"
   ]
  },
  {
   "cell_type": "code",
   "execution_count": 7,
   "metadata": {
    "collapsed": true
   },
   "outputs": [],
   "source": [
    "song_id_list = []"
   ]
  },
  {
   "cell_type": "code",
   "execution_count": 5,
   "metadata": {
    "collapsed": false,
    "scrolled": true
   },
   "outputs": [],
   "source": [
    "for song in list_of_urls:\n",
    "    songid = get_songid(song)\n",
    "    print \"got songid: \", songid, \" for song: \", song.split('/')[-1][0:-7]\n",
    "    song_id_list.append(songid)\n",
    "    time.sleep(7)"
   ]
  },
  {
   "cell_type": "code",
   "execution_count": 4,
   "metadata": {
    "collapsed": false
   },
   "outputs": [],
   "source": [
    "# song_id_list"
   ]
  },
  {
   "cell_type": "code",
   "execution_count": 60,
   "metadata": {
    "collapsed": false
   },
   "outputs": [
    {
     "data": {
      "text/plain": [
       "2347598"
      ]
     },
     "execution_count": 60,
     "metadata": {},
     "output_type": "execute_result"
    }
   ],
   "source": [
    "song_id_list[28]"
   ]
  },
  {
   "cell_type": "code",
   "execution_count": 8,
   "metadata": {
    "collapsed": true
   },
   "outputs": [],
   "source": [
    "spotify = ['https://open.spotify.com/track/2Uu8IiLkLY0UXhCHka4Dlr', 'https://open.spotify.com/track/6zsk6uF3MxfIeHPlubKBvR', 'https://open.spotify.com/track/3keUgTGEoZJt0QkzTB6kHg', 'https://open.spotify.com/track/2CY92qejUrhyPUASawNVRr', 'https://open.spotify.com/track/5kVSEpbyuLIVuPM1i2KivC', 'https://open.spotify.com/track/1bb6bROP3OXMHcPw84MtmN', 'https://open.spotify.com/track/29VrHhpC5AS9b7XJYDPhqb', 'https://open.spotify.com/track/5vVRJ7YpG8uELQHQw2sVgZ', 'https://open.spotify.com/track/6KdxFxUt2gwOVS0v5mAScR', 'https://open.spotify.com/track/3G3lahQSMk4BHnap1i853u', 'https://open.spotify.com/track/1giZzxMTWeFnwKZHigoowU', 'https://open.spotify.com/track/2Ekh9SKca7PiCLQIcF4yqJ', 'https://open.spotify.com/track/6b3CWHNAKiJRqmgz6ZcWaB', 'https://open.spotify.com/track/6aLVv2NbwkBGxcaVTlMXXC', 'https://open.spotify.com/track/7oDHUYPFEh4Pr0Gh5LG3sH', 'https://open.spotify.com/track/2NUcXeWIVFKcKrjgfUHDRG', 'https://open.spotify.com/track/1OthLEsS1Qc4zwEjJ2E2Xx', 'https://open.spotify.com/track/34ETCpCwn6w3hVCtt2jjh1', 'https://open.spotify.com/track/4DXlMukYPm3OPFIiOgWKvh', 'https://open.spotify.com/track/4uNisev7PGUAixBOagpgyY', 'https://open.spotify.com/track/5r29mFrurlVBbqJzjr2XW6', 'https://open.spotify.com/track/3NkDj8DpKMUdvdLrS5Mpb6', 'https://open.spotify.com/track/7yFVwzeawvaoysd2fyCR8t', 'https://open.spotify.com/track/287tdUcso07UAu5jxXB2BQ', 'https://open.spotify.com/track/6YNjG5wgbZqFRmAjQHRPRC', 'https://open.spotify.com/track/1iVdwLsbPsKnqUoZOWlEqv', 'https://open.spotify.com/track/3plNsz0KQaJjtW75gYTMEn', 'https://open.spotify.com/track/3mmbJnh1L94Zl8QZcUTq39', 'https://open.spotify.com/track/1Ktsil4bC4hYRWlqMG4qK3', 'https://open.spotify.com/track/0bMEC7rKM7UFIwpKWeFlO7', 'https://open.spotify.com/track/5KapB9KJnRsZrprzIAXycW', 'https://open.spotify.com/track/1yt8XozlLxkA5cRNsBi6SG', 'https://open.spotify.com/track/4q3qBqIxBmgcEiUhIXpbI3', 'https://open.spotify.com/track/1GoTvQP3JEeA8oh5I9b2xc', 'https://open.spotify.com/track/37GKEiiplYAIVdeN5fTc02', 'https://open.spotify.com/track/67ChP2tyLa1NABp3fifvBc', 'https://open.spotify.com/track/5Ex3bgVczf0dWpsxUAq00q', 'https://open.spotify.com/track/0ySoJyAbKGLI5yShGBOIQ8', 'https://open.spotify.com/track/679RG1vQ3m1liChyglObX9', 'https://open.spotify.com/track/0xhUxpbYsC4YBagqGtxv39', 'https://open.spotify.com/track/3oUSdLtRYOSvXcLMrHctv7', 'https://open.spotify.com/track/53PudKxizp3bANoN7MqPC3', 'https://open.spotify.com/track/5Ij7P3ltsYRahLH8Lxoo0G', 'https://open.spotify.com/track/5itYDzVwgVEfa3f7av1B8p', 'https://open.spotify.com/track/623M2eiRUKVIDJGTuKsvut', 'https://open.spotify.com/track/38utHz7gbQo2IL4c8lvkIt', 'https://open.spotify.com/track/03lwX8uYBd4QHKM9aKftUI', 'https://open.spotify.com/track/4MsSXv9FoXQ1ow5jOtpABc', 'https://open.spotify.com/track/4JQsmhlN9qYuZ7PA6vzTCm', 'https://open.spotify.com/track/1ANuOyT5TESTeN3OO2Y6vc', 'https://open.spotify.com/track/6o51FfrewhAsdZgsqa8OfY', 'https://open.spotify.com/track/1Hk0QRlUFCHYG6zIvUh0Xd', 'https://open.spotify.com/track/7iDe9QsNdmB2KHV65TkgQg', 'https://open.spotify.com/track/3jVOB0YwkvVYo8jHmwupsR', 'https://open.spotify.com/track/5upfHGn7Vhe49G07hKz1SR', 'https://open.spotify.com/track/6RXdg3NwyLU5pHUwkZq6VA', 'https://open.spotify.com/track/3Umf6TtIacGOjOn5MFWs1N', 'https://open.spotify.com/track/2APDhs1KxcfythNgqq97OE', 'https://open.spotify.com/track/50cSs6d03KV85oKytBmin9', 'https://open.spotify.com/track/6Y5OSQXuIXd5kddWoqGptB', 'https://open.spotify.com/track/4iZ3YEN89TU8Uwan4NwkB8', 'https://open.spotify.com/track/4IRKYO7hd7aMTv3qXKtvb7', 'https://open.spotify.com/track/3N74XFs9JWUMOzqQIHnLgX', 'https://open.spotify.com/track/0glRdbmOO7z3sl4SEkW2Cz', 'https://open.spotify.com/track/4ZfrNsBOo1cdl9rJMTZ2TN', 'https://open.spotify.com/track/02hAUjeZHXJSIIJdX4Esmb', 'https://open.spotify.com/track/7bnqNC0CBeaD09RGUG3FBm', 'https://open.spotify.com/track/4yRuPrh3Zf5NFJjbC6NvKp', 'https://open.spotify.com/track/5RIpcFzWNwx41PEu1ZDoUz', 'https://open.spotify.com/track/7KCXA4Y1gIGDSm388m9bW1', 'https://open.spotify.com/track/7xLA7JuahNmSTYqPbL3A42', 'https://open.spotify.com/track/6SAg69oB22punlgWMtfCtV', 'https://open.spotify.com/track/1ToVEMXEqUKg8dTURvVZy8', 'https://open.spotify.com/track/7vfWgVGiLgnGbInU5lvSQg', 'https://open.spotify.com/track/2qJLp4SATqV1OP5IDN7SMl', 'https://open.spotify.com/track/2lfPecqFbH8X4lHSpTxt8l', 'https://open.spotify.com/track/2YiAIb849EFhMkXZIaITMn', 'https://open.spotify.com/track/03RwdIvdmGXNxaqoT4iopD', 'https://open.spotify.com/track/2Oc1wWGAIkU5wPzL5yyBvN', 'https://open.spotify.com/track/6mNMp0g3zkg1K7uBpn07zl', 'https://open.spotify.com/track/1R2rmmUufa1tdiD9j9Qs3x', 'https://open.spotify.com/track/2vUcevVdMWPS0AO7jB7oaL', 'https://open.spotify.com/track/6Jao8qdCB3VYG4PhPzCEIm', 'https://open.spotify.com/track/4f13AaRyukUTWleyKXaRDh', 'https://open.spotify.com/track/0QVyk0TL9lAnlfrT7R4X5M', 'https://open.spotify.com/track/3k3w5UoN0CzQqF20HJU8RR', 'https://open.spotify.com/track/3BWto5OqCXq9yKO1cZGnNn', 'https://open.spotify.com/track/5xBw4KxEiFQwJ27U1Woy9l', 'https://open.spotify.com/track/14SXCAysoUVTSkhkk8UAAL', 'https://open.spotify.com/track/2dE5PeX0GBLTRyrDVnFnS3', 'https://open.spotify.com/track/6AnE2JxQ6yZRySaINdMPL8', 'https://open.spotify.com/track/04tpozNTvYulQIdkL4bOrI', 'https://open.spotify.com/track/1bYuKo7Ph4qS5Klw9zzD74', 'https://open.spotify.com/track/1xf4hOzWEss0OQHFpVLq8H', 'https://open.spotify.com/track/1Hul4c3LQsbAhIFF45LrHT', 'https://open.spotify.com/track/0Eqz5qsjKnQWX24ky3y2XF', 'https://open.spotify.com/track/59A6lBd9QmcD8rQTZPj1xD', 'https://open.spotify.com/track/2v6mMH3y4r9rOjJkZ8MXl8', 'https://open.spotify.com/track/7149PzASMowluOarCWzZcv', 'https://open.spotify.com/track/2pd6hufi7ZJZxKeNyARivR', 'https://open.spotify.com/track/0SJPThTy7ynySPF4euczx7', 'https://open.spotify.com/track/6WLS56xiRrXjSm9RSdL3zD', 'https://open.spotify.com/track/0IKK48xF4eEdfofyaeKWWO', 'https://open.spotify.com/track/0zVMzJ37VQNFUNvdxxat2E', 'https://open.spotify.com/track/2fsULZDbmjjZPtr1PfeBRz', 'https://open.spotify.com/track/6b3b7lILUJqXcp6w9wNQSm', 'https://open.spotify.com/track/5LrnUYhDOn6eNoVE3TPZj0', 'https://open.spotify.com/track/4m6D70k5xMmCDCB19u7Bi0', 'https://open.spotify.com/track/0KMYgSe9JWHloFeEVBU6qq', 'https://open.spotify.com/track/4hrae8atte6cRlSC9a7VCO', 'https://open.spotify.com/track/5mNV8Mz59bzyuQ53gTw0c0', 'https://open.spotify.com/track/1D70EbZoedMGzZWYZvfQIY', 'https://open.spotify.com/track/5rlHyx0qh8xnwCZlyTklKT', 'https://open.spotify.com/track/0ARK753YaiJbpLUk7z5yIM', 'https://open.spotify.com/track/6TWd9ansrzF9LUEynu42ba', 'https://open.spotify.com/track/5eyIfIp6IafrdAjRnZF6ql', 'https://open.spotify.com/track/2PfrWOPGSxVyp3lnQaw79G', 'https://open.spotify.com/track/1AWQoqb9bSvzTjaLralEkT', 'https://open.spotify.com/track/2T8hXV9LUZMDBKR5RALGEa', 'https://open.spotify.com/track/0r2Bul2NuCViraT2zX1l5j', 'https://open.spotify.com/track/14B2bUopOga5V3ypld7d6n', 'https://open.spotify.com/track/0OaunKfsxkgBvPv68jBbmm', 'https://open.spotify.com/track/0nmxH6IsSQVT1YEsCB9UMi', 'https://open.spotify.com/track/3fsghmcEnT7K9f30ohHDRn', 'https://open.spotify.com/track/4SVLlDIeY6w5axpMVhy0qH', 'https://open.spotify.com/track/3gx2PLHJfnXRvUwmLJyzbY', 'https://open.spotify.com/track/7iQY2alDQ2MVya5up2hDgq', 'https://open.spotify.com/track/2W31oMmNa2wHNyavreExkH', 'https://open.spotify.com/track/0Ss50OU9tCozI7JIywkv14', 'https://open.spotify.com/track/1KGi9sZVMeszgZOWivFpxs', 'https://open.spotify.com/track/7kAFSrTIOiVZ0gnHBuAH3l', 'https://open.spotify.com/track/47TqCCnEliDp8NRDyIQoQq', 'https://open.spotify.com/track/5rb9QrpfcKFHM1EUbSIurX', 'https://open.spotify.com/track/68vgtRHr7iZHpzGpon6Jlo', 'https://open.spotify.com/track/7wBThXx7BGZHJJ3aN3OPvv', 'https://open.spotify.com/track/6EtkH6EfTfNLjUHKDylEym', 'https://open.spotify.com/track/7lVNTXkI3cHFvcXiI8damb', 'https://open.spotify.com/track/5zdUc1JRCImBYcDWgvFNpE', 'https://open.spotify.com/track/1VRqTW1Uoyo4C9hMJOjIPG', 'https://open.spotify.com/track/31oGe1NhvbUNyyQd3m6ErP', 'https://open.spotify.com/track/4LwU4Vp6od3Sb08CsP99GC', 'https://open.spotify.com/track/1siDRjAa8MdxNoCHTiiQ7B', 'https://open.spotify.com/track/2HAVFycrhtbmLxyyxpm6JI', 'https://open.spotify.com/track/3hpUL1gDZWiz8k4DtYhZsS', 'https://open.spotify.com/track/4dPsNgPv3ne2A3map82xhK', 'https://open.spotify.com/track/3RmKpob8xzv1pzHEQrMJah', 'https://open.spotify.com/track/7C86DVl6REN8VPeGEMOf9q', 'https://open.spotify.com/track/5ojJNnX5ND2gMGojPd3NiO', 'https://open.spotify.com/track/5tKbrFMvQJlG1reK5aDmkc', 'https://open.spotify.com/track/0Uyh92tLyb9JawG8lmWCzJ', 'https://open.spotify.com/track/7z3N2W7Xz1t2G2sAO8wFVH', 'https://open.spotify.com/track/0Uhnzk5zI46IRlQ04LNOtc', 'https://open.spotify.com/track/2mKouqwAIdQnMP43zxR89r', 'https://open.spotify.com/track/2lVDc57IMK6nypg2iuEWVR', 'https://open.spotify.com/track/2a03afRiyAbNAleOByVju4', 'https://open.spotify.com/track/3AszgPDZd9q0DpDFt4HFBy', 'https://open.spotify.com/track/0I3q5fE6wg7LIfHGngUTnV', 'https://open.spotify.com/track/0RV1mhKlYIwvVrwR7uJYLW', 'https://open.spotify.com/track/0bRh7pc1nfIv2edfcIUlKh', 'https://open.spotify.com/track/2Gfr96HuhYqGcteLv9XUJP', 'https://open.spotify.com/track/1UdsBQTJOqpXXr13su0uI3', 'https://open.spotify.com/track/2D5QhvAWddOJTvk1XawrTU', 'https://open.spotify.com/track/6zMUIb4uce1CzpbjR3vMdN', 'https://open.spotify.com/track/5Bi7SC49g4neuXwzgXBeFy', 'https://open.spotify.com/track/61dtoWZ3daLyiwtPfhHPnd', 'https://open.spotify.com/track/6W2Ef5Ph6ILTUAedoQ3QIv', 'https://open.spotify.com/track/0aj2QKJvz6CePykmlTApiD', 'https://open.spotify.com/track/0YImOCkIJ2PWhCXaURCZnY', 'https://open.spotify.com/track/68IM0wOuxlrbwk0zgmi9dk', 'https://open.spotify.com/track/7J41dYQolQJEtj3UmKLu5r', 'https://open.spotify.com/track/6iajHa34cSiD5s42Cq9miJ', 'https://open.spotify.com/track/1PnizMfOtL59AVnX8fZqmq', 'https://open.spotify.com/track/0l3GEbH3CviUytD6iX4wzg', 'https://open.spotify.com/track/3ibKnFDaa3GhpPGlOUj7ff', 'https://open.spotify.com/track/7k6IzwMGpxnRghE7YosnXT', 'https://open.spotify.com/track/7uKcScNXuO3MWw6LowBjW1', 'https://open.spotify.com/track/6o3s08kk2fQI37vxGZDrJ1', 'https://open.spotify.com/track/3Zv7tbfSY0sIxl6ZRW4TJN', 'https://open.spotify.com/track/7I6DceMT3utDOHjcYCbrr4', 'https://open.spotify.com/track/6LiDErJMV0ZK3sHEAw92XC', 'https://open.spotify.com/track/6ihObRBTB8xdSH2mlERtOX', 'https://open.spotify.com/track/2OeSwSbwlmn9u8SsutfxPO', 'https://open.spotify.com/track/2CtCwQhY0ZLvr8L2l8Bo6e', 'https://open.spotify.com/track/7vfvZp6KZJpxiaW6rI9ieM', 'https://open.spotify.com/track/6mz1fBdKATx6qP4oP1I65G', 'https://open.spotify.com/track/5hF2LnbkpnXCkksMSeWcxZ', 'https://open.spotify.com/track/0HXuqEeHTr36DtCCx8G1ft', 'https://open.spotify.com/track/4R6OANdWnhMM9Asu3zjxK6', 'https://open.spotify.com/track/2mpFm3f7QmdsVtSAIICEB7', 'https://open.spotify.com/track/41bIQPBE1lFN0mmw6Lmssz', 'https://open.spotify.com/track/2D1hlMwWWXpkc3CZJ5U351', 'https://open.spotify.com/track/4LmzPJDil70LpiApWfOI6O', 'https://open.spotify.com/track/2H1l4JczUDbiWfQtQElB05', 'https://open.spotify.com/track/4Z69sHFf60gZbdgdd9sBBq', 'https://open.spotify.com/track/2nqVVwUI2MJ7MaphpCF1P3', 'https://open.spotify.com/track/3QHONiXGMGU3z68mQInncF', 'https://open.spotify.com/track/6Wt5QBzHp9vdSLAFlvdnDQ', 'https://open.spotify.com/track/3UP7dzy4ISy8S3HOReCd1q', 'https://open.spotify.com/track/0ho4ac5tM9CNcmeIElhadF', 'https://open.spotify.com/track/1H5tvpoApNDxvxDexoaAUo', 'https://open.spotify.com/track/2kQuhkFX7uSVepCD3h29g5', 'https://open.spotify.com/track/4PmMVdIFpJTB9WQbmILf4p', 'https://open.spotify.com/track/3u9fHuAtjMY1RW2mZfO4Cf', 'https://open.spotify.com/track/0uFDrZNvcd3Iaam3HKzLb7', 'https://open.spotify.com/track/4LGMSdeKOUoy5Wf75Je0Hl', 'https://open.spotify.com/track/5kxddRG1RZaZROadk7iC4D', 'https://open.spotify.com/track/2grJZhuW8wzL6ThDVy7Eqs', 'https://open.spotify.com/track/3fLJfEJuyfZVYJ01BB9vnV', 'https://open.spotify.com/track/1oLIBuedMjAbHlO4WTGJi3', 'https://open.spotify.com/track/31bf9SEOppLU6lQ85d8om6', 'https://open.spotify.com/track/7lCBWHObeAxKr2qPXwuUiw', 'https://open.spotify.com/track/6CWiDYxP6pZg2WwYuYg4Ol', 'https://open.spotify.com/track/2EBCVPNAG46nbgs6jXPGvv', 'https://open.spotify.com/track/1EM23A621Z0QyTlWKu7T1l', 'https://open.spotify.com/track/52FpkyImUt9LDI9mCWDryr', 'https://open.spotify.com/track/52MJZwo0UGqgFitqv8YFVK', 'https://open.spotify.com/track/7ySbfLwdCwl1EM0zNCJZ38', 'https://open.spotify.com/track/3bMNprrp2JDKZsGbiXpsJl', 'https://open.spotify.com/track/6jdOi5U5LBzQrc4c1VT983', 'https://open.spotify.com/track/1CmUZGtH29Kx36C1Hleqlz', 'https://open.spotify.com/track/6UaRii9AH6Zss9xNMEQ2M9', 'https://open.spotify.com/track/3tCwjWLicbjsMCvXhN0WOE', 'https://open.spotify.com/track/6chdRBWviHlm7JAtwgflBP', 'https://open.spotify.com/track/06EL94D0TA27Ik0Ke5usbj', 'https://open.spotify.com/track/5AnCLGg35ziFOloEnXK4uu', 'https://open.spotify.com/track/2rgqPSIRAfaO2MGo9smdSX', 'https://open.spotify.com/track/5fii2C2yImI0KvaAZZDKrC', 'https://open.spotify.com/track/1RKUoGiLEbcXN4GY4spQDx', 'https://open.spotify.com/track/7vqubB6rY1NpGVGpHYobbQ', 'https://open.spotify.com/track/355qbpf35myn397wClXTg8', 'https://open.spotify.com/track/5LyzPhFwF7MgUY3aQD9TAG', 'https://open.spotify.com/track/0L0T4tMAaGqLgIVj1MOj9t', 'https://open.spotify.com/track/5urnoPIZOF1pncHm5eUCbv', 'https://open.spotify.com/track/52craDKOQlZmoy8QjVxXPn', 'https://open.spotify.com/track/41on8RwRh22IHcChAN2gm8', 'https://open.spotify.com/track/49FYlytm3dAAraYgpoJZux', 'https://open.spotify.com/track/7IHOIqZUUInxjVkko181PB', 'https://open.spotify.com/track/5VHuGRvkB61pvdQjAgUazm', 'https://open.spotify.com/track/1cdmFiQECBgwJD1qIdD8xn', 'https://open.spotify.com/track/466s1BacUmiRdR3ISvNjyx', 'https://open.spotify.com/track/6L5ViZKQnnhI11uc2opNPO', 'https://open.spotify.com/track/33tJDgiiRw70543Zj0rBIb', 'https://open.spotify.com/track/6q7UqKOlh8hqwyexxDIqNf', 'https://open.spotify.com/track/4CY1vPIa7iILLAkvg2vWVe', 'https://open.spotify.com/track/4kvnIlstJWNDFgn35aYlj3', 'https://open.spotify.com/track/1Oi2zpmL81Q0yScF1zxaC0', 'https://open.spotify.com/track/4ZD6SiaJi75smnel0d7jl3', 'https://open.spotify.com/track/4uoM46LepmOhYjIvdluyUU', 'https://open.spotify.com/track/3WBmup4UQrVUgpFbRGnSls', 'https://open.spotify.com/track/4MoHPmjY1nnglkstrrAHk1', 'https://open.spotify.com/track/45Ia1U4KtIjAPPU7Wv1Sea', 'https://open.spotify.com/track/4QXhRjZacZ1gZUeL7Ukktw', 'https://open.spotify.com/track/2djCSx93RPaHV2gX0TQ4Yk', 'https://open.spotify.com/track/7EsjkelQuoUlJXEw7SeVV4', 'https://open.spotify.com/track/5EGLIjC0H4iy9emRN4M9W6', 'https://open.spotify.com/track/56ZPl9gFBZxPfRBOBqHfer', 'https://open.spotify.com/track/1yFTRoAbHkziFCd8WP3Fv4', 'https://open.spotify.com/track/1Ov4E4nE7E0yzeqpbhEE5g', 'https://open.spotify.com/track/5q4I6I0ytvTKuYe1Fquxnx', 'https://open.spotify.com/track/0OJsAK13ZodOQPVuc5D7AU', 'https://open.spotify.com/track/4B4zDmbHdkXZ1wUJv1yKFy', 'https://open.spotify.com/track/54b8qPFqYqIndfdxiLApea', 'https://open.spotify.com/track/41on8RwRh22IHcChAN2gm8', 'https://open.spotify.com/track/7dS5EaCoMnN7DzlpT6aRn2', 'https://open.spotify.com/track/34gCuhDGsG4bRPIf9bb02f', 'https://open.spotify.com/track/6eHTq3PI9z0vXbzcNFfm3r', 'https://open.spotify.com/track/5t54WbqXtMwT5yF1nQSuKz', 'https://open.spotify.com/track/2NEFFtD3i1rEiRxOrXqb8o', 'https://open.spotify.com/track/6qftHX0d4Cta2MIBXl78l9', 'https://open.spotify.com/track/7KKQIYiCOUQmcGjibsXR4J', 'https://open.spotify.com/track/4Ix6juf5qaoFYXwU5MIqE8', 'https://open.spotify.com/track/1EMzunyXfQHY2PDfFYAAvJ', 'https://open.spotify.com/track/3PBC860LAeS4utDAqlqIe2', 'https://open.spotify.com/track/3PaUL4qXxF1PBCakzyGUs1', 'https://open.spotify.com/track/53gcDgFyqqpvCzXWrnFZpH', 'https://open.spotify.com/track/7jOvEsDIjHRH0LwCkwZSHS', 'https://open.spotify.com/track/2PIvq1pGrUjY007X5y1UpM', 'https://open.spotify.com/track/4SdN0wtmnwUBGyBU8dnIKV', 'https://open.spotify.com/track/4SdN0wtmnwUBGyBU8dnIKV', 'https://open.spotify.com/track/2PIvq1pGrUjY007X5y1UpM', 'https://open.spotify.com/track/5eWgDlp3k6Tb5RD8690s6I', 'https://open.spotify.com/track/7uolkTLavH97itenLjNmx9', 'https://open.spotify.com/track/1huvTbEYtgltjQRXzrNKGi', 'https://open.spotify.com/track/18rF49Lgmn0z3JEEzmgQ9C', 'https://open.spotify.com/track/0ERtLLDn1sSl4hbA8VSGG7', 'https://open.spotify.com/track/3XwS9JKCCAi6aqVIZRyg55', 'https://open.spotify.com/track/2IMIbiJlbi0pIs3FBpKFhS', 'https://open.spotify.com/track/746InuKpJ6tyPac5qvHjW2', 'https://open.spotify.com/track/1atxtvAHagXDZYTuUWAoEC', 'https://open.spotify.com/track/2KsOotB3cHPTO4dB07dlJp', 'https://open.spotify.com/track/0HFx7PLqzGxSfN59j3UHmR', 'https://open.spotify.com/track/0HFx7PLqzGxSfN59j3UHmR', 'https://open.spotify.com/track/7vqubB6rY1NpGVGpHYobbQ', 'https://open.spotify.com/track/7r75c8engiRJHkihkwLjLr', 'https://open.spotify.com/track/1sn6iOK93jnp0Hn5BnNOXy', 'https://open.spotify.com/track/0H6fDB7YaMZe1rXCmATx9l', 'https://open.spotify.com/track/6txWz9UapYHVxEd7dDIHXT', 'https://open.spotify.com/track/6M9M8af0CQu379X4g7QJ4Y', 'https://open.spotify.com/track/0WVTQp3SOCuMr08jh1jweV', 'https://open.spotify.com/track/2mQ1RBK7s87mdPCzh97RSH', 'https://open.spotify.com/track/1c48FSKfpobDF3VzopU10V', 'https://open.spotify.com/track/5rADoZKFC5tooKFn0geeE2', 'https://open.spotify.com/track/5zn1hpm9N0ylKB7kOtpCw2', 'https://open.spotify.com/track/5WuVWOngcRkMOx9RRLCvui', 'https://open.spotify.com/track/2NNiZ5qwYIKAwjbHJsxtAO', 'https://open.spotify.com/track/4yHFxB8kzzeuNvoouR8N0N', 'https://open.spotify.com/track/2Mpj1Ul5OFPyyP4wB62Rvi', 'https://open.spotify.com/track/6WAhLCL1XchQzYjl15rnFp', 'https://open.spotify.com/track/2ozJmnjqCMJavEKoHqiou0', 'https://open.spotify.com/track/2vG1yrWSMiL6egg6w4e9ma', 'https://open.spotify.com/track/0bwTeIQ0rsuv7KQXZir6MT', 'https://open.spotify.com/track/1Je1IMUlBXcx1Fz0WE7oPT', 'https://open.spotify.com/track/5qGwqO0lkbBXw4xNfzT7SF', 'https://open.spotify.com/track/1gZ7i4qxXkHZb1r6eioaAP', 'https://open.spotify.com/track/4ECvB9frSDegHfKNRh9dwT', 'https://open.spotify.com/track/1KGi9sZVMeszgZOWivFpxs', 'https://open.spotify.com/track/63PIgPkDf3rswlU4ZWCYAM', 'https://open.spotify.com/track/0GugYsbXWlfLOgsmtsdxzg', 'https://open.spotify.com/track/0SfF2sA67muVwqlKnalqW6', 'https://open.spotify.com/track/746KIplyoOQt0AOc4eRsyy', 'https://open.spotify.com/track/0Lfg26QGWq4xZ7Jc8ebQpa', 'https://open.spotify.com/track/27Uv5NFBz9UWlt8AGzZhxv', 'https://open.spotify.com/track/2E9WGQ8JcVF3FMHlqCuzLa', 'https://open.spotify.com/track/22AbXxQbMdVqEz7xJjhccG', 'https://open.spotify.com/track/4Iay50EkoOlpdvqXRGBsoG', 'https://open.spotify.com/track/0Yak8WqpeT3wdJ8f6uC1mE', 'https://open.spotify.com/track/7xDCVsKvHGerLqHeBwBvsA', 'https://open.spotify.com/track/6nGwWIh0ATJqK9cXbLqDw8', 'https://open.spotify.com/track/0voXUA3M7d3bdsw6BV5ImM', 'https://open.spotify.com/track/2CWUhgcLw67iHuIzzSX7Kb', 'https://open.spotify.com/track/4MfOIakexlZ7kIvMQOlCwm', 'https://open.spotify.com/track/3ZzGVQUqnuAZotvLl5tRqH', 'https://open.spotify.com/track/6gCUUcIK2uQB7dJpQ9Mbdp', 'https://open.spotify.com/track/1b8dZ28ofSZaPeRGfEtW2J', 'https://open.spotify.com/track/3MhdH8PxqH1FuQp3HBptUI', 'https://open.spotify.com/track/0INtJm8gCJKtNaAYQNVlpZ', 'https://open.spotify.com/track/7cKLOenzViwzoHJWciMIrj', 'https://open.spotify.com/track/2thQ8Zi2V8z6XJuCvxHm7V', 'https://open.spotify.com/track/3j8EEMm9kbPLqByuaHmUmQ', 'https://open.spotify.com/track/5DSDuLyZ2NKG5Ep5THHwTX', 'https://open.spotify.com/track/2aRnHWdrhWMXTCOVPiYOdi', 'https://open.spotify.com/track/6Y7Eth6daKj80p4Ofmp6sx', 'https://open.spotify.com/track/1z2U4qNsw0JDou1jnxYdYH', 'https://open.spotify.com/track/1a64u7QtJ9yDwpNyfDrZTj', 'https://open.spotify.com/track/2zsa7Z6gCA5eBg0p9pbyLs', 'https://open.spotify.com/track/1dhrBVOBJVRAomxv0sqfmK', 'https://open.spotify.com/track/3T0fERNeuVTsVa9Gu6fX0q', 'https://open.spotify.com/track/0ZKycriGkcOk1llMVWIAVA', 'https://open.spotify.com/track/1XNJzoAMuqxLToKKpJ4iId', 'https://open.spotify.com/track/10XACAOuWRarxaG5aWvH3z', 'https://open.spotify.com/track/42F0eI7tFI8Xez4iqXObBt', 'https://open.spotify.com/track/1jqLJBQwo7yBCqYQWukLkq', 'https://open.spotify.com/track/4NzZftBCbGpXhca5OcfFwF', 'https://open.spotify.com/track/1HGyhNaRUFEDBiVLbvtbL6', 'https://open.spotify.com/track/1UFOUQ1Szs3fJWWWQDOreB', 'https://open.spotify.com/track/4KlnHq8kW2k1RisegiOg0I', 'https://open.spotify.com/track/63wLiumfOneHVGFxsDSlcV', 'https://open.spotify.com/track/4dNsrRrfgz1zZsQe7pxWel', 'https://open.spotify.com/track/3sbGvLqXXTMMNIIVaIFOOj', 'https://open.spotify.com/track/46k30e2S78nAF1OJgXCBd2', 'https://open.spotify.com/track/4tOeiJqj6vhXjkckN6T3X5', 'https://open.spotify.com/track/1a8oAkssmc1Q99rQiUntc2', 'https://open.spotify.com/track/7xs4fKAsL2Ll4W5oqQ3dXK', 'https://open.spotify.com/track/6735XqVNhuy9f1wp3oBarv', 'https://open.spotify.com/track/7MZT7NCijZVObYxTtytrM0', 'https://open.spotify.com/track/0Lfg26QGWq4xZ7Jc8ebQpa', 'https://open.spotify.com/track/0k2GOhqsrxDTAbFFSdNJjT', 'https://open.spotify.com/track/6pbCkvCENw0suVGr4Ckkae', 'https://open.spotify.com/track/4MfOIakexlZ7kIvMQOlCwm', 'https://open.spotify.com/track/41mvBmLnv4YHDuz9lLOX2Z', 'https://open.spotify.com/track/0p4uJwIIGfN3tfTFvwALwB', 'https://open.spotify.com/track/3tnCrP8UtF8wnsTx2qorND', 'https://open.spotify.com/track/1Q29dre9FCspRSarHziizl', 'https://open.spotify.com/track/1b8dZ28ofSZaPeRGfEtW2J', 'https://open.spotify.com/track/32VNxhqDAWxyPolSjcJzeq', 'https://open.spotify.com/track/5dWfl2PBpKHpBVdz95wxK1', 'https://open.spotify.com/track/3ZzGVQUqnuAZotvLl5tRqH', 'https://open.spotify.com/track/7khLgMuA7m4SA6aaDv1QSv', 'https://open.spotify.com/track/0pDYeia7ZXB8kbCuSc5hKp', 'https://open.spotify.com/track/5nLmO6pp71pmiVZwyTPfq9', 'https://open.spotify.com/track/6IFDy0imCdhDpHj98GczEX', 'https://open.spotify.com/track/5cpKuwqUdWlvu1euDQNGP2', 'https://open.spotify.com/track/3SCVtAJq8li6HlKfM4M08u', 'https://open.spotify.com/track/3ghPeGA7IkGIZsrIKw9wbi', 'https://open.spotify.com/track/7pNjRiLE1pGmPyZGsWmC6A', 'https://open.spotify.com/track/6Py2oR9vHDDiAiBvezZuta', 'https://open.spotify.com/track/1dhrBVOBJVRAomxv0sqfmK', 'https://open.spotify.com/track/6hDdz3s6TMHF6ohnCIa1z6', 'https://open.spotify.com/track/1g323zkGA2tgTx9IYu5v1j', 'https://open.spotify.com/track/2t42wAZWVmtzX22lK6crPU', 'https://open.spotify.com/track/1zIRQEzmzN2rbImzWsdNqS', 'https://open.spotify.com/track/30GJo7ighcKI529FMd0rXy', 'https://open.spotify.com/track/5DSDuLyZ2NKG5Ep5THHwTX', 'https://open.spotify.com/track/1NsiLS856GMDKXpEMnAhk4', 'https://open.spotify.com/track/2Br7QGrggaXtaTzbmoAgs7', 'https://open.spotify.com/track/2eZTfDGcXYoCQ7v55aQozW', 'https://open.spotify.com/track/72zqJByWcTbXFLAsB6tsSz', 'https://open.spotify.com/track/3TcyqAY0Fs7Z4A2Lhmpgfp', 'https://open.spotify.com/track/3oeicU1vhOHoySeNBhSUFv', 'https://open.spotify.com/track/4sYjub31yWSj7eqaNNVtmA', 'https://open.spotify.com/track/0wseQMIqlE383yquG6hW03', 'https://open.spotify.com/track/6tzcAGwMffZBe8KOmGNg3o', 'https://open.spotify.com/track/0fK94okKMedhvENdcO6kYx', 'https://open.spotify.com/track/6Y7Eth6daKj80p4Ofmp6sx', 'https://open.spotify.com/track/22AbXxQbMdVqEz7xJjhccG', 'https://open.spotify.com/track/6iDsVm1jiN7dQe20LdNRqn', 'https://open.spotify.com/track/66Ds6pBAZE0BxsjfxVbD4z', 'https://open.spotify.com/track/1foZJCYmGGR0e8hGtWyQp5', 'https://open.spotify.com/track/1JopC4d5uwa7zU98fi4oaT', 'https://open.spotify.com/track/4u63rBIcBRmEXArgnwMoaa', 'https://open.spotify.com/track/3iUVSvuZ5LDJNztVjsOKiV', 'https://open.spotify.com/track/74Xdx4ezYQQlg8wKswq25T', 'https://open.spotify.com/track/16NOHRm0OEjmg55OZAxVmV', 'https://open.spotify.com/track/7hezVPTsmm6yW3algVMmVr', 'https://open.spotify.com/track/6J4LaUyNqxJtnTxKMKmTdd', 'https://open.spotify.com/track/4hhvXCFdYId6nsotqdGWUm', 'https://open.spotify.com/track/18S6XY5P6iAz1742euvzIQ', 'https://open.spotify.com/track/2rTHhensCMGloDpmRyz4gW', 'https://open.spotify.com/track/6S0nwCOEAftiihy73YVDnl', 'https://open.spotify.com/track/0HBEM5CMp4Yg3Ne7orJzBX', 'https://open.spotify.com/track/72TqQXoW4eUfiJHNZ3MMpr', 'https://open.spotify.com/track/194IClMWTMrYQ58IuY6SHS', 'https://open.spotify.com/track/0N9ORUWaw9wIKKwj0evYmm', 'https://open.spotify.com/track/4KrmlVCzBFWYRHAOKYSKG5', 'https://open.spotify.com/track/4zCLz7LPlY5CsRbcivMuA7', 'https://open.spotify.com/track/2mQNgBixzWFyYVplkQKZ31', 'https://open.spotify.com/track/6bpM5eshfckRhe1NlRWLve', 'https://open.spotify.com/track/59mA71ttclTLrO5Nsa7QUd', 'https://open.spotify.com/track/5oKkI4aQUcbU0wqliwqUVT', 'https://open.spotify.com/track/75RIOEXPWf9fB7lp92c9uy', 'https://open.spotify.com/track/718Xsam7yNr4jwAdJUtdAt', 'https://open.spotify.com/track/0r4SsYcwvd8URat6AS2m6f', 'https://open.spotify.com/track/37k7igIs7IrMVUadwWKHJ6', 'https://open.spotify.com/track/6YwLgicpvVuMt1eE2OldwQ', 'https://open.spotify.com/track/2aYzt5nE3tBUMahasMUoOl', 'https://open.spotify.com/track/02M6vucOvmRfMxTXDUwRXu', 'https://open.spotify.com/track/0WEVf4RhIrcr3S3ULBrt0T', 'https://open.spotify.com/track/20IZ0jYjnFO0NxyiaRsJwb', 'https://open.spotify.com/track/50S4mpD9sR0ITKEfC0O2cb', 'https://open.spotify.com/track/2CpH1L4CUR47RARB3PgY1l', 'https://open.spotify.com/track/1f3o6PC6D1ktibi8s8Gugx', 'https://open.spotify.com/track/6TaqooOXAEcijL6G1AWS2K', 'https://open.spotify.com/track/1uIjsJMh5wiWJ3K71eshdr', 'https://open.spotify.com/track/3oWkBnpg6cYYwUka7kmomo', 'https://open.spotify.com/track/78V3IWdq5QGnmZrI70qE5k', 'https://open.spotify.com/track/3ZxZJxYiRCcqQBi4kaWJGm', 'https://open.spotify.com/track/3jVtllWS5CFFWLQng8sKsr', 'https://open.spotify.com/track/17zIpOrDoEDcPvS34i5t3I', 'https://open.spotify.com/track/1sSNWjLtY4GwyhqAwAnPD9', 'https://open.spotify.com/track/3G7XYAwtxtoGK7fAm4IlD9', 'https://open.spotify.com/track/0k6DnZMLoEUH8NGD5zh2SE', 'https://open.spotify.com/track/5OMwQFBcte0aWFJFqrr5oj', 'https://open.spotify.com/track/5oUZpmQJjTDMGPAcBpOoVO', 'https://open.spotify.com/track/2JTaZjHNULImGUfECwTELE', 'https://open.spotify.com/track/3seHx466iTcUmWE9dOVB3v', 'https://open.spotify.com/track/7IAa7vUJ11STN7le8XaxsH', 'https://open.spotify.com/track/01gNiOqg8u7vT90uVgOVmz', 'https://open.spotify.com/track/6QicTxeiSaRkPnkGDUvYOs', 'https://open.spotify.com/track/1xQv4unOladJFtLUOy2eb7', 'https://open.spotify.com/track/6jmTHeoWvBaSrwWttr8Xvu', 'https://open.spotify.com/track/6vPIRcylcXttSYprNGsSPK', 'https://open.spotify.com/track/0NmeI6UpRE27dxxgosD5n9', 'https://open.spotify.com/track/5fyIGoaaKelzdyW8ELhYJZ', 'https://open.spotify.com/track/52WLxAX9O4wbPyj4Jxo4XV', 'https://open.spotify.com/track/16bHRxM89ue0TiCKARYbRp', 'https://open.spotify.com/track/3fmv1CYKMru9JY6c33frlU', 'https://open.spotify.com/track/6J5sxraPPZ4b0CVOGAgpXj', 'https://open.spotify.com/track/3F97NSex1rBX2ekPQsHAsT', 'https://open.spotify.com/track/7jslhIiELQkgW9IHeYNOWE', 'https://open.spotify.com/track/57kR5SniQIbsbVoIjjOUDa', 'https://open.spotify.com/track/79XrkTOfV1AqySNjVlygpW', 'https://open.spotify.com/track/26Izh06V7txOWIEaPGd080', 'https://open.spotify.com/track/3DG2hUPMLKcFptV1Gv32oI', 'https://open.spotify.com/track/08bn759cPYICtUPoYx29P0', 'https://open.spotify.com/track/5DGnlowf1fjT7VWsoeRDlb', 'https://open.spotify.com/track/6ibYIkocjAzJffVtDOLxbQ', 'https://open.spotify.com/track/7C51GjZkKPzBa6LKrNgYBv', 'https://open.spotify.com/track/71jzSTkT0F0w1v4moZIDyc', 'https://open.spotify.com/track/0IIdUQntNOcOsLb7Q6NCK3', 'https://open.spotify.com/track/2uCMts8MLE3GktieyAIeXu', 'https://open.spotify.com/track/2PRsh2LNPxoxC9OnErnelg', 'https://open.spotify.com/track/0sF3wNk9OBXu3ruyHDlvY7', 'https://open.spotify.com/track/4VZPYvMTByQytb6F3MKP4w', 'https://open.spotify.com/track/7tEoJKbYdIHBfn7tTIyjHW', 'https://open.spotify.com/track/2vfvGlqCB7oertO5VLE0sz', 'https://open.spotify.com/track/2rMnWEsnUSvAmGplYwNBZz', 'https://open.spotify.com/track/5xVZk4Vt12ViVyoircV9iP', 'https://open.spotify.com/track/1M7F8AGNVOfFvCELlCEkZG', 'https://open.spotify.com/track/2k80B1DEqJFUG4L5LUa6Mv', 'https://open.spotify.com/track/1LWgiHHnRSUnyhO1XhdhMd', 'https://open.spotify.com/track/2HIu8eI5RhODY9oJ3yuYSJ', 'https://open.spotify.com/track/3TmkViBJdzJS9XAEyawzh7', 'https://open.spotify.com/track/0XHW5160xXGQKGC9nfROku', 'https://open.spotify.com/track/6ITvw4wTuB08JOsCwHfjBu', 'https://open.spotify.com/track/74tsW4h0WDYRpfD19gc10W', 'https://open.spotify.com/track/4WcrDusnN0VqHycP3YzSwz', 'https://open.spotify.com/track/5o5SVIrVETWIQFMdgPFXPt', 'https://open.spotify.com/track/0qImpiFeovSF3tDfl3jiFG', 'https://open.spotify.com/track/6cRah20C9qZ6e6atKhagQz', 'https://open.spotify.com/track/7INevjHlQkXyBEJSLFOB58', 'https://open.spotify.com/track/6HaA6tCGwWJBdMkDFqfHsH', 'https://open.spotify.com/track/0BJTbkmrB2Y4E9M8qVzbYZ', 'https://open.spotify.com/track/7oaEjLP2dTJLJsITbAxTOz', 'https://open.spotify.com/track/6iSa34DdTIpRlfpzbZYEsF', 'https://open.spotify.com/track/7GUhAHoQDjjnf0eCWMgnmC', 'https://open.spotify.com/track/3COIPRXrrZoS6ADCuhh1Te', 'https://open.spotify.com/track/6CJI4zpW77MHwmRo5DCsGk', 'https://open.spotify.com/track/5IulP32i4U48bGaEanEF19', 'https://open.spotify.com/track/1egVLpTrGvaWtUcR2xDoaN', 'https://open.spotify.com/track/69G0QZNlNb0kjt3sS70un0', 'https://open.spotify.com/track/6MY7uJHMCFL89iJqvm6AoH', 'https://open.spotify.com/track/5H39b80WRuNFDFGDX0058o', 'https://open.spotify.com/track/5TmgLf3eXrAAfNIk5bURJL', 'https://open.spotify.com/track/2fa6SJosRytOmG8bXFJzuL', 'https://open.spotify.com/track/6d6JiSto1oMh5zLipzUypy', 'https://open.spotify.com/track/7bk4L5IsOEQwKlGoXwhdjT', 'https://open.spotify.com/track/5eUbSBj04NfX3vuK8EaW08', 'https://open.spotify.com/track/0hy1SOTEn9ifXTzOwnCwEr', 'https://open.spotify.com/track/2k0tvOBFW6whTJucM19mTV', 'https://open.spotify.com/track/7xQU088imd7XrX6y0pSmdI', 'https://open.spotify.com/track/5zBqPjh3vfttJScml99szD', 'https://open.spotify.com/track/7goY423nJLTzYTnGFiAC5Z', 'https://open.spotify.com/track/6cWxcxxZSugazHAU57z0Lj', 'https://open.spotify.com/track/0NTMtAO2BV4tnGvw9EgBVq', 'https://open.spotify.com/track/7Fk0zNC7vGdoDwePPgByKh', 'https://open.spotify.com/track/3ODXRUPL44f04cCacwiCLC', 'https://open.spotify.com/track/1PxTFIjG0IjuQDILHr4bXJ', 'https://open.spotify.com/track/0LTeRenZwVsyxFWe7rP2rT', 'https://open.spotify.com/track/3eqEq53sUsaukd560hw7Dh', 'https://open.spotify.com/track/5RdBWGqjot8xchoB4fiV2g', 'https://open.spotify.com/track/6M7TmL8CZ52NJTfT8duiDA', 'https://open.spotify.com/track/0RvfjQm8uIoHYuB3U4rCu4', 'https://open.spotify.com/track/3cBUv0RIoEyAm2b7qimEY6', 'https://open.spotify.com/track/1N35OBiBfjjLuBMOIiIg2N', 'https://open.spotify.com/track/051VzpEn17dLinnypLAUNG', 'https://open.spotify.com/track/2MaDN1zq0vftSQ21bGBSHq', 'https://open.spotify.com/track/45JxylFwaThjLsRBuzcfoL', 'https://open.spotify.com/track/5tZmLjU4vhPlJb12IweZuB', 'https://open.spotify.com/track/3tuoGlPsvRp1GyrcXkop63', 'https://open.spotify.com/track/3FFcZZq3Z3EJrhUecwcMdG', 'https://open.spotify.com/track/4xKp0mZ2hY6eS0ii55KgKR', 'https://open.spotify.com/track/3mePeLKszLpXgHg3DmkfEd', 'https://open.spotify.com/track/0gpldhkM6R39FI8vxfrgBn', 'https://open.spotify.com/track/5I6YA7oHtraxwWQzzCugDt', 'https://open.spotify.com/track/62HF0bESSXJe8OWOFE1xe3', 'https://open.spotify.com/track/24XPxbzGwOlPKf1pdf1ZtW', 'https://open.spotify.com/track/608a1wIsSd5KzMEqm1O7w3', 'https://open.spotify.com/track/3oTUE6eypKjfLS6bR7J8GU', 'https://open.spotify.com/track/3wklLgZSOSi1kEFmO13zph', 'https://open.spotify.com/track/3tvWMBIblzT5FSjKtIeRR1', 'https://open.spotify.com/track/1s16lVXTAFSS4Nm3Ygd1Qu', 'https://open.spotify.com/track/1wcWdMlLjzp7Rx25JJN7c4', 'https://open.spotify.com/track/5bUwUQKGNnTE20kb3MTqHD', 'https://open.spotify.com/track/6mavtNxMc35XwKg9POUemZ', 'https://open.spotify.com/track/7ptxlO1s34uXTPnm2S0Tno', 'https://open.spotify.com/track/1iP5UMdOsGz6EdltGbbcb7', 'https://open.spotify.com/track/1UWhx0pFZccP4jdCIZsj7U', 'https://open.spotify.com/track/606HVBE1aPA81oGg5JMa4M', 'https://open.spotify.com/track/2Bcu8cmU7qYu3qXLowHQie', 'https://open.spotify.com/track/3xgK660fsZH7ZDcOMfIdfB', 'https://open.spotify.com/track/2wTLYI57xwJMRjLW2FHQwR', 'https://open.spotify.com/track/3kb72STxc2959ZqsTwu52i', 'https://open.spotify.com/track/7hN5TKSdRb56uytwIpcUES', 'https://open.spotify.com/track/466LASOuTbWDkrwZ3Ylxvv', 'https://open.spotify.com/track/5Xx8krVxg1pRy6CXieB7FS', 'https://open.spotify.com/track/3pUcZ8QeYKlf9f2viDDcDs', 'https://open.spotify.com/track/3loLDTxBVsHus9RAERxSH1', 'https://open.spotify.com/track/75bNIPy58AL7MYYp8cnj4A', 'https://open.spotify.com/track/0eImrDDpQTEuHF0NBqmrei', 'https://open.spotify.com/track/5gLr6cmDqa1FI4qhb7sUsw', 'https://open.spotify.com/track/04wrnpT0QumuU3GPWbf0VV', 'https://open.spotify.com/track/59o2b2BGgziNyPx9f3xnhA', 'https://open.spotify.com/track/54d6U1U3Y74mDmJJECZNNQ', 'https://open.spotify.com/track/7CJHue95J5KJGc6t0jatb5', 'https://open.spotify.com/track/5EEa9SITrIRlpj5yFn72iO', 'https://open.spotify.com/track/3NHyQ388Ac1VieCVVBFJOU', 'https://open.spotify.com/track/2YCHXHF12UigCNtXsRUoLg', 'https://open.spotify.com/track/0ytikc2Iq4n8DMKhPC0wta', 'https://open.spotify.com/track/6OZr3Bg0KoN15FVedQNr1v', 'https://open.spotify.com/track/1BQkVDlEOtYKOaotnJuNzz', 'https://open.spotify.com/track/0KoTXlFfcIjcGRfGtx1k7F', 'https://open.spotify.com/track/3twEx52dboO1CqWu5x1i2h', 'https://open.spotify.com/track/41qHerpo9DI6LHo13MIIy4', 'https://open.spotify.com/track/0BB7n43s5Wx7DiGWwMDT1t', 'https://open.spotify.com/track/6yqt6ZIeWAaxU6hguDi5HY', 'https://open.spotify.com/track/7uXwbnpGfGRwlB7CWeC6Aw', 'https://open.spotify.com/track/4njLEd40fsHHYdOOeO28ME', 'https://open.spotify.com/track/0gpYWXSS8TzFyhnnjVjFHt', 'https://open.spotify.com/track/5qX4r5vT9bY8xMsiKuZhQn', 'https://open.spotify.com/track/4uJXqYEqdNF4DijLy7NdgP', 'https://open.spotify.com/track/2kWowW0k4oFymhkr7LmvzO', 'https://open.spotify.com/track/6N0ZWc63tHRHjoCcJMgzcm', 'https://open.spotify.com/track/5rMNQfYhBMlyitrMAiwQfc', 'https://open.spotify.com/track/7z8dxDUJs8G4xRZaVMrz9B', 'https://open.spotify.com/track/0grFc6klR3hxoHLcgCYsF4', 'https://open.spotify.com/track/0fXMFBprRtdpOhA8fIcxPs', 'https://open.spotify.com/track/7FVTNovDkiTUeqqYZDc7Mq', 'https://open.spotify.com/track/6KmSpuVSuYBvut7zb1e0ys', 'https://open.spotify.com/track/2epsOuB1aYQ7NJcIExslZf', 'https://open.spotify.com/track/6ATkdQDvgPt8W06XPjcB8Z', 'https://open.spotify.com/track/4YmSnlzkU5sF4X7aAiXAuY', 'https://open.spotify.com/track/14wY5SJ4WoyMi5GLVeew4c', 'https://open.spotify.com/track/2TKwDXgLQdfPT3mXUbaOF7', 'https://open.spotify.com/track/4JByhUI0u6owmKBOX9zYom', 'https://open.spotify.com/track/27GmP9AWRs744SzKcpJsTZ', 'https://open.spotify.com/track/32lmL4vQAAotg6MrJnhlQZ', 'https://open.spotify.com/track/2znzyzlAUc8Z1Ikq9aFOcx', 'https://open.spotify.com/track/0KaA33vmmUEY77YD6L3KFi', 'https://open.spotify.com/track/1gpSrGUfU3F9TOzPlEyLxH', 'https://open.spotify.com/track/5u5VZaUmYMZiFed9jFWebf', 'https://open.spotify.com/track/0wdKiSBUT7aZkXUIdJWcwC', 'https://open.spotify.com/track/11BIoKDpTJHX5mZt6p566h', 'https://open.spotify.com/track/275a9yzwGB6ncAW4SxY7q3', 'https://open.spotify.com/track/7zBPzAjKAqQpcv8F8GCq5s', 'https://open.spotify.com/track/7DTlsMOQjGysXHpwwpHuPl', 'https://open.spotify.com/track/4T0ScSPdQKmGvruK7pavNP', 'https://open.spotify.com/track/5lFDtgWsjRJu8fPOAyJIAK', 'https://open.spotify.com/track/1LxKKYsJNPeBdOwdudsJzv', 'https://open.spotify.com/track/7p54iuWHqvdeN224OglZ9t', 'https://open.spotify.com/track/61QSuw5VlC0LTS8WMO356g', 'https://open.spotify.com/track/5NQbUaeTEOGdD6hHcre0dZ', 'https://open.spotify.com/track/4fUh9VvKW4shhWN5LfN1Ba', 'https://open.spotify.com/track/7kqcudBGM74MXVoYMaoWkC', 'https://open.spotify.com/track/3fpTMuD1u3gJlVI4FadVHs', 'https://open.spotify.com/track/1lAgtcp1KQRQS10m2yCgvm', 'https://open.spotify.com/track/3keUgTGEoZJt0QkzTB6kHg', 'https://open.spotify.com/track/1hzJQIkgXwZevaKsc7iA6D', 'https://open.spotify.com/track/5MD2QLnFM2ChpKAh33z0zr', 'https://open.spotify.com/track/6GgPsuz0HEO0nrO2T0QhDv', 'https://open.spotify.com/track/61zTSexBvC42Db8jxMHuKx', 'https://open.spotify.com/track/6hVGw7yVUd2bpdHMPCWrtN', 'https://open.spotify.com/track/0I6wh8pETh9PS7dVTzykQd', 'https://open.spotify.com/track/1hzJQIkgXwZevaKsc7iA6D', 'https://open.spotify.com/track/0NTMtAO2BV4tnGvw9EgBVq', 'https://open.spotify.com/track/746PsZ5jTdqIJ6LgJAHcEZ', 'https://open.spotify.com/track/5uqphUYsR45kPYplrYSAQh', 'https://open.spotify.com/track/0Omd24Cc3Cmn6LcnkRSpN3', 'https://open.spotify.com/track/2CY92qejUrhyPUASawNVRr', 'https://open.spotify.com/track/1NM1XuictEIvPuscutKMZV', 'https://open.spotify.com/track/5nN8BwAQDJDguq7Dpd3JQQ', 'https://open.spotify.com/track/19gEmPjfqSZT0ulDRfjl0m', 'https://open.spotify.com/track/6sUTGZ7OuabFggXBP62tJK', 'https://open.spotify.com/track/7s49Um7G06hq2rulrHPsIy', 'https://open.spotify.com/track/252gJUec2oDsGBPcxZs4nX', 'https://open.spotify.com/track/22DKsoYFV5npPXmnPpXL7i', 'https://open.spotify.com/track/33JcUj9qQDayKswunZP9ar', 'https://open.spotify.com/track/5suEtW2DUAfvroohjzgatb', 'https://open.spotify.com/track/49zD0wr2S3d0lZPib0K4e1', 'https://open.spotify.com/track/4immekPm8Har57BB9DcDSj', 'https://open.spotify.com/track/4BgDSeNh8sdEH0R3J24rT1', 'https://open.spotify.com/track/1rLl5GAkjPXVbG2B8MrZAi', 'https://open.spotify.com/track/2g5TgTjDM64RjrPL5eC0Q1', 'https://open.spotify.com/track/7qgYYgpOjye4itvWrl4Oyt', 'https://open.spotify.com/track/2okC0OWtgS86P2LC18IzHy']"
   ]
  },
  {
   "cell_type": "code",
   "execution_count": 22,
   "metadata": {
    "collapsed": true
   },
   "outputs": [],
   "source": [
    "girls = ['https://open.spotify.com/track/2Uu8IiLkLY0UXhCHka4Dlr', 'https://open.spotify.com/track/6zsk6uF3MxfIeHPlubKBvR', 'https://open.spotify.com/track/3keUgTGEoZJt0QkzTB6kHg', 'https://open.spotify.com/track/2CY92qejUrhyPUASawNVRr', 'https://open.spotify.com/track/5kVSEpbyuLIVuPM1i2KivC', 'https://open.spotify.com/track/1bb6bROP3OXMHcPw84MtmN', 'https://open.spotify.com/track/29VrHhpC5AS9b7XJYDPhqb', 'https://open.spotify.com/track/5vVRJ7YpG8uELQHQw2sVgZ', 'https://open.spotify.com/track/6KdxFxUt2gwOVS0v5mAScR', 'https://open.spotify.com/track/3G3lahQSMk4BHnap1i853u', 'https://open.spotify.com/track/1giZzxMTWeFnwKZHigoowU', 'https://open.spotify.com/track/2Ekh9SKca7PiCLQIcF4yqJ', 'https://open.spotify.com/track/6b3CWHNAKiJRqmgz6ZcWaB', 'https://open.spotify.com/track/6aLVv2NbwkBGxcaVTlMXXC', 'https://open.spotify.com/track/7oDHUYPFEh4Pr0Gh5LG3sH', 'https://open.spotify.com/track/2NUcXeWIVFKcKrjgfUHDRG', 'https://open.spotify.com/track/1OthLEsS1Qc4zwEjJ2E2Xx', 'https://open.spotify.com/track/34ETCpCwn6w3hVCtt2jjh1', 'https://open.spotify.com/track/4DXlMukYPm3OPFIiOgWKvh', 'https://open.spotify.com/track/4uNisev7PGUAixBOagpgyY', 'https://open.spotify.com/track/5r29mFrurlVBbqJzjr2XW6', 'https://open.spotify.com/track/3NkDj8DpKMUdvdLrS5Mpb6', 'https://open.spotify.com/track/7yFVwzeawvaoysd2fyCR8t', 'https://open.spotify.com/track/287tdUcso07UAu5jxXB2BQ', 'https://open.spotify.com/track/6YNjG5wgbZqFRmAjQHRPRC', 'https://open.spotify.com/track/1iVdwLsbPsKnqUoZOWlEqv', 'https://open.spotify.com/track/3plNsz0KQaJjtW75gYTMEn', 'https://open.spotify.com/track/3mmbJnh1L94Zl8QZcUTq39', 'https://open.spotify.com/track/1Ktsil4bC4hYRWlqMG4qK3', 'https://open.spotify.com/track/0bMEC7rKM7UFIwpKWeFlO7', 'https://open.spotify.com/track/5KapB9KJnRsZrprzIAXycW', 'https://open.spotify.com/track/1yt8XozlLxkA5cRNsBi6SG', 'https://open.spotify.com/track/4q3qBqIxBmgcEiUhIXpbI3', 'https://open.spotify.com/track/1GoTvQP3JEeA8oh5I9b2xc', 'https://open.spotify.com/track/37GKEiiplYAIVdeN5fTc02', 'https://open.spotify.com/track/67ChP2tyLa1NABp3fifvBc', 'https://open.spotify.com/track/5Ex3bgVczf0dWpsxUAq00q', 'https://open.spotify.com/track/0ySoJyAbKGLI5yShGBOIQ8', 'https://open.spotify.com/track/679RG1vQ3m1liChyglObX9', 'https://open.spotify.com/track/0xhUxpbYsC4YBagqGtxv39', 'https://open.spotify.com/track/3oUSdLtRYOSvXcLMrHctv7', 'https://open.spotify.com/track/53PudKxizp3bANoN7MqPC3', 'https://open.spotify.com/track/5Ij7P3ltsYRahLH8Lxoo0G', 'https://open.spotify.com/track/5itYDzVwgVEfa3f7av1B8p', 'https://open.spotify.com/track/623M2eiRUKVIDJGTuKsvut', 'https://open.spotify.com/track/38utHz7gbQo2IL4c8lvkIt', 'https://open.spotify.com/track/03lwX8uYBd4QHKM9aKftUI', 'https://open.spotify.com/track/4MsSXv9FoXQ1ow5jOtpABc', 'https://open.spotify.com/track/4JQsmhlN9qYuZ7PA6vzTCm', 'https://open.spotify.com/track/1ANuOyT5TESTeN3OO2Y6vc', 'https://open.spotify.com/track/6o51FfrewhAsdZgsqa8OfY', 'https://open.spotify.com/track/1Hk0QRlUFCHYG6zIvUh0Xd', 'https://open.spotify.com/track/7iDe9QsNdmB2KHV65TkgQg', 'https://open.spotify.com/track/3jVOB0YwkvVYo8jHmwupsR', 'https://open.spotify.com/track/5upfHGn7Vhe49G07hKz1SR', 'https://open.spotify.com/track/6RXdg3NwyLU5pHUwkZq6VA', 'https://open.spotify.com/track/3Umf6TtIacGOjOn5MFWs1N', 'https://open.spotify.com/track/2APDhs1KxcfythNgqq97OE', 'https://open.spotify.com/track/50cSs6d03KV85oKytBmin9', 'https://open.spotify.com/track/6Y5OSQXuIXd5kddWoqGptB', 'https://open.spotify.com/track/4iZ3YEN89TU8Uwan4NwkB8', 'https://open.spotify.com/track/4IRKYO7hd7aMTv3qXKtvb7', 'https://open.spotify.com/track/3N74XFs9JWUMOzqQIHnLgX', 'https://open.spotify.com/track/0glRdbmOO7z3sl4SEkW2Cz', 'https://open.spotify.com/track/4ZfrNsBOo1cdl9rJMTZ2TN', 'https://open.spotify.com/track/02hAUjeZHXJSIIJdX4Esmb', 'https://open.spotify.com/track/7bnqNC0CBeaD09RGUG3FBm', 'https://open.spotify.com/track/4yRuPrh3Zf5NFJjbC6NvKp', 'https://open.spotify.com/track/5RIpcFzWNwx41PEu1ZDoUz', 'https://open.spotify.com/track/7KCXA4Y1gIGDSm388m9bW1', 'https://open.spotify.com/track/7xLA7JuahNmSTYqPbL3A42', 'https://open.spotify.com/track/6SAg69oB22punlgWMtfCtV', 'https://open.spotify.com/track/1ToVEMXEqUKg8dTURvVZy8', 'https://open.spotify.com/track/7vfWgVGiLgnGbInU5lvSQg', 'https://open.spotify.com/track/2qJLp4SATqV1OP5IDN7SMl', 'https://open.spotify.com/track/2lfPecqFbH8X4lHSpTxt8l', 'https://open.spotify.com/track/2YiAIb849EFhMkXZIaITMn', 'https://open.spotify.com/track/03RwdIvdmGXNxaqoT4iopD', 'https://open.spotify.com/track/2Oc1wWGAIkU5wPzL5yyBvN', 'https://open.spotify.com/track/6mNMp0g3zkg1K7uBpn07zl', 'https://open.spotify.com/track/1R2rmmUufa1tdiD9j9Qs3x', 'https://open.spotify.com/track/2vUcevVdMWPS0AO7jB7oaL', 'https://open.spotify.com/track/6Jao8qdCB3VYG4PhPzCEIm', 'https://open.spotify.com/track/4f13AaRyukUTWleyKXaRDh', 'https://open.spotify.com/track/0QVyk0TL9lAnlfrT7R4X5M', 'https://open.spotify.com/track/3k3w5UoN0CzQqF20HJU8RR', 'https://open.spotify.com/track/3BWto5OqCXq9yKO1cZGnNn', 'https://open.spotify.com/track/5xBw4KxEiFQwJ27U1Woy9l', 'https://open.spotify.com/track/14SXCAysoUVTSkhkk8UAAL', 'https://open.spotify.com/track/2dE5PeX0GBLTRyrDVnFnS3', 'https://open.spotify.com/track/6AnE2JxQ6yZRySaINdMPL8', 'https://open.spotify.com/track/04tpozNTvYulQIdkL4bOrI', 'https://open.spotify.com/track/1bYuKo7Ph4qS5Klw9zzD74', 'https://open.spotify.com/track/1xf4hOzWEss0OQHFpVLq8H', 'https://open.spotify.com/track/1Hul4c3LQsbAhIFF45LrHT', 'https://open.spotify.com/track/0Eqz5qsjKnQWX24ky3y2XF', 'https://open.spotify.com/track/59A6lBd9QmcD8rQTZPj1xD', 'https://open.spotify.com/track/2v6mMH3y4r9rOjJkZ8MXl8', 'https://open.spotify.com/track/7149PzASMowluOarCWzZcv', 'https://open.spotify.com/track/2pd6hufi7ZJZxKeNyARivR', 'https://open.spotify.com/track/0SJPThTy7ynySPF4euczx7', 'https://open.spotify.com/track/6WLS56xiRrXjSm9RSdL3zD', 'https://open.spotify.com/track/0IKK48xF4eEdfofyaeKWWO', 'https://open.spotify.com/track/0zVMzJ37VQNFUNvdxxat2E', 'https://open.spotify.com/track/2fsULZDbmjjZPtr1PfeBRz', 'https://open.spotify.com/track/6b3b7lILUJqXcp6w9wNQSm', 'https://open.spotify.com/track/5LrnUYhDOn6eNoVE3TPZj0', 'https://open.spotify.com/track/4m6D70k5xMmCDCB19u7Bi0', 'https://open.spotify.com/track/0KMYgSe9JWHloFeEVBU6qq']"
   ]
  },
  {
   "cell_type": "code",
   "execution_count": 30,
   "metadata": {
    "collapsed": false
   },
   "outputs": [
    {
     "data": {
      "text/plain": [
       "['https://open.spotify.com/track/6AnE2JxQ6yZRySaINdMPL8',\n",
       " 'https://open.spotify.com/track/2pd6hufi7ZJZxKeNyARivR',\n",
       " 'https://open.spotify.com/track/0xhUxpbYsC4YBagqGtxv39',\n",
       " 'https://open.spotify.com/track/1yt8XozlLxkA5cRNsBi6SG',\n",
       " 'https://open.spotify.com/track/67ChP2tyLa1NABp3fifvBc',\n",
       " 'https://open.spotify.com/track/4ZfrNsBOo1cdl9rJMTZ2TN',\n",
       " 'https://open.spotify.com/track/287tdUcso07UAu5jxXB2BQ',\n",
       " 'https://open.spotify.com/track/4JQsmhlN9qYuZ7PA6vzTCm',\n",
       " 'https://open.spotify.com/track/5xBw4KxEiFQwJ27U1Woy9l',\n",
       " 'https://open.spotify.com/track/4DXlMukYPm3OPFIiOgWKvh',\n",
       " 'https://open.spotify.com/track/623M2eiRUKVIDJGTuKsvut',\n",
       " 'https://open.spotify.com/track/2qJLp4SATqV1OP5IDN7SMl',\n",
       " 'https://open.spotify.com/track/4MsSXv9FoXQ1ow5jOtpABc',\n",
       " 'https://open.spotify.com/track/2YiAIb849EFhMkXZIaITMn',\n",
       " 'https://open.spotify.com/track/6b3b7lILUJqXcp6w9wNQSm',\n",
       " 'https://open.spotify.com/track/2CY92qejUrhyPUASawNVRr',\n",
       " 'https://open.spotify.com/track/53PudKxizp3bANoN7MqPC3',\n",
       " 'https://open.spotify.com/track/4q3qBqIxBmgcEiUhIXpbI3',\n",
       " 'https://open.spotify.com/track/0zVMzJ37VQNFUNvdxxat2E',\n",
       " 'https://open.spotify.com/track/1ANuOyT5TESTeN3OO2Y6vc',\n",
       " 'https://open.spotify.com/track/7iDe9QsNdmB2KHV65TkgQg',\n",
       " 'https://open.spotify.com/track/3BWto5OqCXq9yKO1cZGnNn',\n",
       " 'https://open.spotify.com/track/6KdxFxUt2gwOVS0v5mAScR',\n",
       " 'https://open.spotify.com/track/0glRdbmOO7z3sl4SEkW2Cz',\n",
       " 'https://open.spotify.com/track/6o51FfrewhAsdZgsqa8OfY',\n",
       " 'https://open.spotify.com/track/5KapB9KJnRsZrprzIAXycW',\n",
       " 'https://open.spotify.com/track/3k3w5UoN0CzQqF20HJU8RR',\n",
       " 'https://open.spotify.com/track/0Eqz5qsjKnQWX24ky3y2XF',\n",
       " 'https://open.spotify.com/track/6zsk6uF3MxfIeHPlubKBvR',\n",
       " 'https://open.spotify.com/track/5kVSEpbyuLIVuPM1i2KivC',\n",
       " 'https://open.spotify.com/track/5LrnUYhDOn6eNoVE3TPZj0',\n",
       " 'https://open.spotify.com/track/1iVdwLsbPsKnqUoZOWlEqv',\n",
       " 'https://open.spotify.com/track/4f13AaRyukUTWleyKXaRDh',\n",
       " 'https://open.spotify.com/track/4yRuPrh3Zf5NFJjbC6NvKp',\n",
       " 'https://open.spotify.com/track/7xLA7JuahNmSTYqPbL3A42',\n",
       " 'https://open.spotify.com/track/3jVOB0YwkvVYo8jHmwupsR',\n",
       " 'https://open.spotify.com/track/679RG1vQ3m1liChyglObX9',\n",
       " 'https://open.spotify.com/track/6Jao8qdCB3VYG4PhPzCEIm',\n",
       " 'https://open.spotify.com/track/0KMYgSe9JWHloFeEVBU6qq',\n",
       " 'https://open.spotify.com/track/5Ij7P3ltsYRahLH8Lxoo0G',\n",
       " 'https://open.spotify.com/track/4iZ3YEN89TU8Uwan4NwkB8',\n",
       " 'https://open.spotify.com/track/3Umf6TtIacGOjOn5MFWs1N',\n",
       " 'https://open.spotify.com/track/6WLS56xiRrXjSm9RSdL3zD',\n",
       " 'https://open.spotify.com/track/2Oc1wWGAIkU5wPzL5yyBvN',\n",
       " 'https://open.spotify.com/track/3keUgTGEoZJt0QkzTB6kHg',\n",
       " 'https://open.spotify.com/track/6YNjG5wgbZqFRmAjQHRPRC',\n",
       " 'https://open.spotify.com/track/2v6mMH3y4r9rOjJkZ8MXl8',\n",
       " 'https://open.spotify.com/track/5r29mFrurlVBbqJzjr2XW6',\n",
       " 'https://open.spotify.com/track/7KCXA4Y1gIGDSm388m9bW1',\n",
       " 'https://open.spotify.com/track/5upfHGn7Vhe49G07hKz1SR',\n",
       " 'https://open.spotify.com/track/6Y5OSQXuIXd5kddWoqGptB',\n",
       " 'https://open.spotify.com/track/1GoTvQP3JEeA8oh5I9b2xc',\n",
       " 'https://open.spotify.com/track/03lwX8uYBd4QHKM9aKftUI',\n",
       " 'https://open.spotify.com/track/2Ekh9SKca7PiCLQIcF4yqJ',\n",
       " 'https://open.spotify.com/track/3mmbJnh1L94Zl8QZcUTq39',\n",
       " 'https://open.spotify.com/track/2Uu8IiLkLY0UXhCHka4Dlr',\n",
       " 'https://open.spotify.com/track/1R2rmmUufa1tdiD9j9Qs3x',\n",
       " 'https://open.spotify.com/track/6aLVv2NbwkBGxcaVTlMXXC',\n",
       " 'https://open.spotify.com/track/7oDHUYPFEh4Pr0Gh5LG3sH',\n",
       " 'https://open.spotify.com/track/3NkDj8DpKMUdvdLrS5Mpb6',\n",
       " 'https://open.spotify.com/track/5vVRJ7YpG8uELQHQw2sVgZ',\n",
       " 'https://open.spotify.com/track/7bnqNC0CBeaD09RGUG3FBm',\n",
       " 'https://open.spotify.com/track/2APDhs1KxcfythNgqq97OE',\n",
       " 'https://open.spotify.com/track/1bb6bROP3OXMHcPw84MtmN',\n",
       " 'https://open.spotify.com/track/3plNsz0KQaJjtW75gYTMEn',\n",
       " 'https://open.spotify.com/track/3G3lahQSMk4BHnap1i853u',\n",
       " 'https://open.spotify.com/track/50cSs6d03KV85oKytBmin9',\n",
       " 'https://open.spotify.com/track/7vfWgVGiLgnGbInU5lvSQg',\n",
       " 'https://open.spotify.com/track/6RXdg3NwyLU5pHUwkZq6VA',\n",
       " 'https://open.spotify.com/track/7149PzASMowluOarCWzZcv',\n",
       " 'https://open.spotify.com/track/02hAUjeZHXJSIIJdX4Esmb',\n",
       " 'https://open.spotify.com/track/0IKK48xF4eEdfofyaeKWWO',\n",
       " 'https://open.spotify.com/track/4IRKYO7hd7aMTv3qXKtvb7',\n",
       " 'https://open.spotify.com/track/59A6lBd9QmcD8rQTZPj1xD',\n",
       " 'https://open.spotify.com/track/2NUcXeWIVFKcKrjgfUHDRG',\n",
       " 'https://open.spotify.com/track/14SXCAysoUVTSkhkk8UAAL',\n",
       " 'https://open.spotify.com/track/6b3CWHNAKiJRqmgz6ZcWaB',\n",
       " 'https://open.spotify.com/track/37GKEiiplYAIVdeN5fTc02',\n",
       " 'https://open.spotify.com/track/34ETCpCwn6w3hVCtt2jjh1',\n",
       " 'https://open.spotify.com/track/0bMEC7rKM7UFIwpKWeFlO7',\n",
       " 'https://open.spotify.com/track/5RIpcFzWNwx41PEu1ZDoUz',\n",
       " 'https://open.spotify.com/track/5Ex3bgVczf0dWpsxUAq00q',\n",
       " 'https://open.spotify.com/track/3oUSdLtRYOSvXcLMrHctv7',\n",
       " 'https://open.spotify.com/track/2lfPecqFbH8X4lHSpTxt8l',\n",
       " 'https://open.spotify.com/track/4m6D70k5xMmCDCB19u7Bi0',\n",
       " 'https://open.spotify.com/track/0ySoJyAbKGLI5yShGBOIQ8',\n",
       " 'https://open.spotify.com/track/1giZzxMTWeFnwKZHigoowU',\n",
       " 'https://open.spotify.com/track/1bYuKo7Ph4qS5Klw9zzD74',\n",
       " 'https://open.spotify.com/track/1Hul4c3LQsbAhIFF45LrHT',\n",
       " 'https://open.spotify.com/track/1OthLEsS1Qc4zwEjJ2E2Xx',\n",
       " 'https://open.spotify.com/track/04tpozNTvYulQIdkL4bOrI',\n",
       " 'https://open.spotify.com/track/1Ktsil4bC4hYRWlqMG4qK3',\n",
       " 'https://open.spotify.com/track/0SJPThTy7ynySPF4euczx7',\n",
       " 'https://open.spotify.com/track/6mNMp0g3zkg1K7uBpn07zl',\n",
       " 'https://open.spotify.com/track/1ToVEMXEqUKg8dTURvVZy8',\n",
       " 'https://open.spotify.com/track/2vUcevVdMWPS0AO7jB7oaL',\n",
       " 'https://open.spotify.com/track/7yFVwzeawvaoysd2fyCR8t',\n",
       " 'https://open.spotify.com/track/4uNisev7PGUAixBOagpgyY',\n",
       " 'https://open.spotify.com/track/29VrHhpC5AS9b7XJYDPhqb',\n",
       " 'https://open.spotify.com/track/38utHz7gbQo2IL4c8lvkIt',\n",
       " 'https://open.spotify.com/track/2fsULZDbmjjZPtr1PfeBRz',\n",
       " 'https://open.spotify.com/track/1xf4hOzWEss0OQHFpVLq8H',\n",
       " 'https://open.spotify.com/track/03RwdIvdmGXNxaqoT4iopD',\n",
       " 'https://open.spotify.com/track/2dE5PeX0GBLTRyrDVnFnS3',\n",
       " 'https://open.spotify.com/track/5itYDzVwgVEfa3f7av1B8p',\n",
       " 'https://open.spotify.com/track/3N74XFs9JWUMOzqQIHnLgX',\n",
       " 'https://open.spotify.com/track/6SAg69oB22punlgWMtfCtV',\n",
       " 'https://open.spotify.com/track/1Hk0QRlUFCHYG6zIvUh0Xd',\n",
       " 'https://open.spotify.com/track/0QVyk0TL9lAnlfrT7R4X5M']"
      ]
     },
     "execution_count": 30,
     "metadata": {},
     "output_type": "execute_result"
    }
   ],
   "source": [
    "girls"
   ]
  },
  {
   "cell_type": "code",
   "execution_count": 23,
   "metadata": {
    "collapsed": false
   },
   "outputs": [
    {
     "data": {
      "text/plain": [
       "109"
      ]
     },
     "execution_count": 23,
     "metadata": {},
     "output_type": "execute_result"
    }
   ],
   "source": [
    "len(girls)"
   ]
  },
  {
   "cell_type": "code",
   "execution_count": 25,
   "metadata": {
    "collapsed": false
   },
   "outputs": [
    {
     "data": {
      "text/plain": [
       "109"
      ]
     },
     "execution_count": 25,
     "metadata": {},
     "output_type": "execute_result"
    }
   ],
   "source": [
    "girls = list(set(girls))\n",
    "len(girls)"
   ]
  },
  {
   "cell_type": "code",
   "execution_count": 24,
   "metadata": {
    "collapsed": false
   },
   "outputs": [],
   "source": [
    "spotify = list(set(spotify))"
   ]
  },
  {
   "cell_type": "code",
   "execution_count": 13,
   "metadata": {
    "collapsed": false
   },
   "outputs": [
    {
     "data": {
      "text/plain": [
       "636"
      ]
     },
     "execution_count": 13,
     "metadata": {},
     "output_type": "execute_result"
    }
   ],
   "source": [
    "len(spotify)"
   ]
  },
  {
   "cell_type": "code",
   "execution_count": 26,
   "metadata": {
    "collapsed": true
   },
   "outputs": [],
   "source": [
    "first = girls[0]"
   ]
  },
  {
   "cell_type": "code",
   "execution_count": 29,
   "metadata": {
    "collapsed": false
   },
   "outputs": [
    {
     "data": {
      "text/plain": [
       "'https://open.spotify.com/track/6AnE2JxQ6yZRySaINdMPL8'"
      ]
     },
     "execution_count": 29,
     "metadata": {},
     "output_type": "execute_result"
    }
   ],
   "source": [
    "first"
   ]
  },
  {
   "cell_type": "code",
   "execution_count": 27,
   "metadata": {
    "collapsed": false
   },
   "outputs": [],
   "source": [
    "r = requests.get(first)\n",
    "soup = BeautifulSoup(r.text, \"html\")"
   ]
  },
  {
   "cell_type": "code",
   "execution_count": 28,
   "metadata": {
    "collapsed": false
   },
   "outputs": [
    {
     "data": {
      "text/plain": [
       "<title>Beautiful Heartbeat, a song by MORTEN, Frida Sundemo on Spotify</title>"
      ]
     },
     "execution_count": 28,
     "metadata": {},
     "output_type": "execute_result"
    }
   ],
   "source": [
    "soup.find(\"title\")"
   ]
  },
  {
   "cell_type": "code",
   "execution_count": 31,
   "metadata": {
    "collapsed": false
   },
   "outputs": [
    {
     "data": {
      "text/plain": [
       "<title>Doo Wop (That Thing), a song by Ms. Lauryn Hill on Spotify</title>"
      ]
     },
     "execution_count": 31,
     "metadata": {},
     "output_type": "execute_result"
    }
   ],
   "source": [
    "lauryn = 'https://open.spotify.com/track/2Uu8IiLkLY0UXhCHka4Dlr'\n",
    "r = requests.get(lauryn)\n",
    "soup = BeautifulSoup(r.text, \"html\")\n",
    "soup.find(\"title\")"
   ]
  },
  {
   "cell_type": "code",
   "execution_count": 37,
   "metadata": {
    "collapsed": true
   },
   "outputs": [],
   "source": [
    "title = soup.find(\"title\").text"
   ]
  },
  {
   "cell_type": "code",
   "execution_count": 38,
   "metadata": {
    "collapsed": false
   },
   "outputs": [],
   "source": [
    "title = title.partition(\", a song by \")"
   ]
  },
  {
   "cell_type": "code",
   "execution_count": 41,
   "metadata": {
    "collapsed": false
   },
   "outputs": [
    {
     "data": {
      "text/plain": [
       "u'Doo Wop (That Thing)'"
      ]
     },
     "execution_count": 41,
     "metadata": {},
     "output_type": "execute_result"
    }
   ],
   "source": [
    "title[0]"
   ]
  },
  {
   "cell_type": "code",
   "execution_count": 42,
   "metadata": {
    "collapsed": true
   },
   "outputs": [],
   "source": [
    "import re"
   ]
  },
  {
   "cell_type": "code",
   "execution_count": 47,
   "metadata": {
    "collapsed": false
   },
   "outputs": [
    {
     "name": "stdout",
     "output_type": "stream",
     "text": [
      "Doo-Wop-(That-Thing)\n"
     ]
    }
   ],
   "source": [
    "songtitle = str(title[0])\n",
    "songtitle = re.sub(r'\\s', '-', songtitle)\n",
    "print songtitle"
   ]
  },
  {
   "cell_type": "code",
   "execution_count": 50,
   "metadata": {
    "collapsed": false
   },
   "outputs": [
    {
     "data": {
      "text/plain": [
       "(u'Ms. Lauryn Hill', u' on Spotify', u'')"
      ]
     },
     "execution_count": 50,
     "metadata": {},
     "output_type": "execute_result"
    }
   ],
   "source": [
    "title[2].partition(\" on Spotify\")"
   ]
  },
  {
   "cell_type": "code",
   "execution_count": 48,
   "metadata": {
    "collapsed": false
   },
   "outputs": [
    {
     "name": "stdout",
     "output_type": "stream",
     "text": [
      "Doo-Wop-That-Thing\n"
     ]
    }
   ],
   "source": [
    "songtitle = re.sub(r'[^A-Za-z0-9-]', '', songtitle)\n",
    "print songtitle"
   ]
  },
  {
   "cell_type": "code",
   "execution_count": null,
   "metadata": {
    "collapsed": true
   },
   "outputs": [],
   "source": [
    "text = soup.find(\"title\").text\n",
    "text = text.partition(\", a song by \")\n",
    "title = str(text[0])\n",
    "title = re.sub(r'\\s', '-', title)\n",
    "title = re.sub(r'[^A-Za-z0-9-]', '', title)\n",
    "artist = str(text[2].partition(\" on Spotify\")[0])\n",
    "artist = re.sub(r'\\s', '-', artist)\n",
    "artist = re.sub(r'[^A-Za-z0-9-]', '', artist)\n",
    "geniusurl = 'http://genius.com/'+artist"
   ]
  }
 ],
 "metadata": {
  "kernelspec": {
   "display_name": "Python 2",
   "language": "python",
   "name": "python2"
  },
  "language_info": {
   "codemirror_mode": {
    "name": "ipython",
    "version": 2
   },
   "file_extension": ".py",
   "mimetype": "text/x-python",
   "name": "python",
   "nbconvert_exporter": "python",
   "pygments_lexer": "ipython2",
   "version": "2.7.11"
  }
 },
 "nbformat": 4,
 "nbformat_minor": 0
}
